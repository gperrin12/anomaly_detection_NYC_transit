{
 "cells": [
  {
   "cell_type": "markdown",
   "metadata": {},
   "source": [
    "## Anomaly Detection for NYC Taxi & Limousine Data"
   ]
  },
  {
   "cell_type": "code",
   "execution_count": 406,
   "metadata": {
    "collapsed": false
   },
   "outputs": [
    {
     "name": "stdout",
     "output_type": "stream",
     "text": [
      "Populating the interactive namespace from numpy and matplotlib\n"
     ]
    },
    {
     "name": "stderr",
     "output_type": "stream",
     "text": [
      "/home/cusp/gtp232/.conda/envs/GTP/lib/python2.7/site-packages/IPython/core/magics/pylab.py:161: UserWarning: pylab import has clobbered these variables: ['f', 'datetime', 'clf', 'test']\n",
      "`%matplotlib` prevents importing * from pylab and numpy\n",
      "  \"\\n`%matplotlib` prevents importing * from pylab and numpy\"\n"
     ]
    }
   ],
   "source": [
    "import numpy as np\n",
    "import pandas as pd\n",
    "import geopandas as gp\n",
    "from geopandas import GeoDataFrame\n",
    "import os\n",
    "from shapely.geometry import Point\n",
    "from datetime import datetime\n",
    "import matplotlib\n",
    "#matplotlib.use('TkAgg')\n",
    "import matplotlib.pyplot as plt\n",
    "from datetime import datetime\n",
    "import matplotlib.pyplot as plt\n",
    "import sklearn\n",
    "from sklearn import datasets\n",
    "from sklearn.decomposition import PCA\n",
    "from sklearn.linear_model import LogisticRegression\n",
    "from sklearn.ensemble import RandomForestClassifier as RFC\n",
    "from sklearn.ensemble import RandomForestRegressor as RFR\n",
    "from sklearn.metrics import roc_auc_score as rs\n",
    "from sklearn import svm, datasets\n",
    "from sklearn import metrics\n",
    "from sklearn.metrics import roc_curve\n",
    "from sklearn.metrics import auc\n",
    "from sklearn.metrics import silhouette_samples, silhouette_score\n",
    "from sklearn.cluster import KMeans\n",
    "from sklearn.mixture import GaussianMixture\n",
    "from sklearn.cross_validation import train_test_split\n",
    "from sklearn.ensemble import IsolationForest\n",
    "from pandas.tseries.holiday import USFederalHolidayCalendar\n",
    "from mpl_toolkits.mplot3d import Axes3D\n",
    "#import pickle\n",
    "\n",
    "np.random.seed(222)\n",
    "\n",
    "%matplotlib inline\n",
    "%pylab inline\n",
    "pd.options.display.max_columns = 120\n",
    "pd.options.display.max_rows = 120"
   ]
  },
  {
   "cell_type": "code",
   "execution_count": 3,
   "metadata": {
    "collapsed": false
   },
   "outputs": [
    {
     "data": {
      "text/plain": [
       "'/wingrdp/homedirs/gtp232/machine_learning/anomaly_detection_NYC_transit/data'"
      ]
     },
     "execution_count": 3,
     "metadata": {},
     "output_type": "execute_result"
    }
   ],
   "source": [
    "proj_folder = os.getcwd()\n",
    "data_folder_external = proj_folder + '/data'\n",
    "data_folder_external"
   ]
  },
  {
   "cell_type": "markdown",
   "metadata": {},
   "source": [
    "## TLC anomaly detection"
   ]
  },
  {
   "cell_type": "markdown",
   "metadata": {},
   "source": [
    "## Notes 4-22-17\n",
    "Next steps:\n",
    "1. would love to look at different areas of the city and see where the anomalies relative to those places\n",
    "i.e. taxi trips to/from coney island would be interesting / or around MSG - \"concert superstorm?\"\n",
    "\n",
    "## Notes 4-26-17\n",
    "Next steps:\n",
    "1. add day of week analysis \n",
    "2. add more months of data\n",
    "\n",
    "## Notes 4-28-17\n",
    "Next steps:\n",
    "1. account for holidays \n",
    "http://jakevdp.github.io/blog/2015/07/23/learning-seattles-work-habits-from-bicycle-counts/\n",
    "2. account for day of the week\n",
    "3. add another anomaly detection model?"
   ]
  },
  {
   "cell_type": "code",
   "execution_count": 4,
   "metadata": {
    "collapsed": false
   },
   "outputs": [
    {
     "name": "stdout",
     "output_type": "stream",
     "text": [
      "1\n",
      "2\n",
      "3\n",
      "4\n",
      "5\n",
      "6\n",
      "7\n",
      "8\n",
      "9\n",
      "10\n",
      "11\n",
      "12\n"
     ]
    }
   ],
   "source": [
    "### read in data for 2015\n",
    "'''\n",
    "taken from\n",
    "http://www.nyc.gov/html/tlc/html/about/trip_record_data.shtml\n",
    "NOTE: after june 2016, the data no longer has lat / lons, only has neighborhoods\n",
    "'''\n",
    "\n",
    "columns = ['passenger_count', 'trip_distance', 'fare_amount', \\\n",
    "                     'extra', 'mta_tax', 'tip_amount', 'total_amount', \\\n",
    "                     'tpep_pickup_datetime', 'tpep_dropoff_datetime', 'pickup_longitude',\\\n",
    "                     'pickup_latitude']\n",
    "tlc_df_raw_total = pd.DataFrame(columns = columns)\n",
    "for i in range(1,10):\n",
    "    print i\n",
    "    tlc_df_raw = pd.read_csv(data_folder_external + '/tlc_yellow_2015_0' + str(i) + '.csv', usecols=['passenger_count', \\\n",
    "                    'trip_distance', 'fare_amount', 'extra', 'mta_tax', 'tip_amount', 'total_amount', \\\n",
    "                     'tpep_pickup_datetime', 'tpep_dropoff_datetime', 'pickup_longitude', 'pickup_latitude'])\n",
    "    tlc_df_raw['tpep_pickup_datetime'] = pd.to_datetime(tlc_df_raw['tpep_pickup_datetime'])\n",
    "    tlc_df_raw['tpep_dropoff_datetime'] = pd.to_datetime(tlc_df_raw['tpep_dropoff_datetime'])\n",
    "    tlc_df_raw_total = tlc_df_raw_total.append(tlc_df_raw, ignore_index=True)\n",
    "\n",
    "for i in range(10,13):\n",
    "    print i\n",
    "    tlc_df_raw = pd.read_csv(data_folder_external + '/tlc_yellow_2015_' + str(i) + '.csv', usecols=['passenger_count', \\\n",
    "                    'trip_distance', 'fare_amount', 'extra', 'mta_tax', 'tip_amount', 'total_amount', \\\n",
    "                     'tpep_pickup_datetime', 'tpep_dropoff_datetime', 'pickup_longitude', 'pickup_latitude'])\n",
    "    tlc_df_raw['tpep_pickup_datetime'] = pd.to_datetime(tlc_df_raw['tpep_pickup_datetime'])\n",
    "    tlc_df_raw['tpep_dropoff_datetime'] = pd.to_datetime(tlc_df_raw['tpep_dropoff_datetime'])\n",
    "    tlc_df_raw_total = tlc_df_raw_total.append(tlc_df_raw, ignore_index=True)\n"
   ]
  },
  {
   "cell_type": "code",
   "execution_count": 5,
   "metadata": {
    "collapsed": false
   },
   "outputs": [
    {
     "data": {
      "text/plain": [
       "146112989"
      ]
     },
     "execution_count": 5,
     "metadata": {},
     "output_type": "execute_result"
    }
   ],
   "source": [
    "len(tlc_df_raw_total)"
   ]
  },
  {
   "cell_type": "code",
   "execution_count": 6,
   "metadata": {
    "collapsed": false
   },
   "outputs": [
    {
     "data": {
      "text/html": [
       "<div>\n",
       "<table border=\"1\" class=\"dataframe\">\n",
       "  <thead>\n",
       "    <tr style=\"text-align: right;\">\n",
       "      <th></th>\n",
       "      <th>extra</th>\n",
       "      <th>fare_amount</th>\n",
       "      <th>mta_tax</th>\n",
       "      <th>passenger_count</th>\n",
       "      <th>pickup_latitude</th>\n",
       "      <th>pickup_longitude</th>\n",
       "      <th>tip_amount</th>\n",
       "      <th>total_amount</th>\n",
       "      <th>tpep_dropoff_datetime</th>\n",
       "      <th>tpep_pickup_datetime</th>\n",
       "      <th>trip_distance</th>\n",
       "    </tr>\n",
       "  </thead>\n",
       "  <tbody>\n",
       "    <tr>\n",
       "      <th>0</th>\n",
       "      <td>1.0</td>\n",
       "      <td>12.0</td>\n",
       "      <td>0.5</td>\n",
       "      <td>1.0</td>\n",
       "      <td>40.750111</td>\n",
       "      <td>-73.993896</td>\n",
       "      <td>3.25</td>\n",
       "      <td>17.05</td>\n",
       "      <td>2015-01-15 19:23:42</td>\n",
       "      <td>2015-01-15 19:05:39</td>\n",
       "      <td>1.59</td>\n",
       "    </tr>\n",
       "    <tr>\n",
       "      <th>1</th>\n",
       "      <td>0.5</td>\n",
       "      <td>14.5</td>\n",
       "      <td>0.5</td>\n",
       "      <td>1.0</td>\n",
       "      <td>40.724243</td>\n",
       "      <td>-74.001648</td>\n",
       "      <td>2.00</td>\n",
       "      <td>17.80</td>\n",
       "      <td>2015-01-10 20:53:28</td>\n",
       "      <td>2015-01-10 20:33:38</td>\n",
       "      <td>3.30</td>\n",
       "    </tr>\n",
       "    <tr>\n",
       "      <th>2</th>\n",
       "      <td>0.5</td>\n",
       "      <td>9.5</td>\n",
       "      <td>0.5</td>\n",
       "      <td>1.0</td>\n",
       "      <td>40.802788</td>\n",
       "      <td>-73.963341</td>\n",
       "      <td>0.00</td>\n",
       "      <td>10.80</td>\n",
       "      <td>2015-01-10 20:43:41</td>\n",
       "      <td>2015-01-10 20:33:38</td>\n",
       "      <td>1.80</td>\n",
       "    </tr>\n",
       "    <tr>\n",
       "      <th>3</th>\n",
       "      <td>0.5</td>\n",
       "      <td>3.5</td>\n",
       "      <td>0.5</td>\n",
       "      <td>1.0</td>\n",
       "      <td>40.713818</td>\n",
       "      <td>-74.009087</td>\n",
       "      <td>0.00</td>\n",
       "      <td>4.80</td>\n",
       "      <td>2015-01-10 20:35:31</td>\n",
       "      <td>2015-01-10 20:33:39</td>\n",
       "      <td>0.50</td>\n",
       "    </tr>\n",
       "    <tr>\n",
       "      <th>4</th>\n",
       "      <td>0.5</td>\n",
       "      <td>15.0</td>\n",
       "      <td>0.5</td>\n",
       "      <td>1.0</td>\n",
       "      <td>40.762428</td>\n",
       "      <td>-73.971176</td>\n",
       "      <td>0.00</td>\n",
       "      <td>16.30</td>\n",
       "      <td>2015-01-10 20:52:58</td>\n",
       "      <td>2015-01-10 20:33:39</td>\n",
       "      <td>3.00</td>\n",
       "    </tr>\n",
       "  </tbody>\n",
       "</table>\n",
       "</div>"
      ],
      "text/plain": [
       "   extra  fare_amount  mta_tax  passenger_count  pickup_latitude  \\\n",
       "0    1.0         12.0      0.5              1.0        40.750111   \n",
       "1    0.5         14.5      0.5              1.0        40.724243   \n",
       "2    0.5          9.5      0.5              1.0        40.802788   \n",
       "3    0.5          3.5      0.5              1.0        40.713818   \n",
       "4    0.5         15.0      0.5              1.0        40.762428   \n",
       "\n",
       "   pickup_longitude  tip_amount  total_amount tpep_dropoff_datetime  \\\n",
       "0        -73.993896        3.25         17.05   2015-01-15 19:23:42   \n",
       "1        -74.001648        2.00         17.80   2015-01-10 20:53:28   \n",
       "2        -73.963341        0.00         10.80   2015-01-10 20:43:41   \n",
       "3        -74.009087        0.00          4.80   2015-01-10 20:35:31   \n",
       "4        -73.971176        0.00         16.30   2015-01-10 20:52:58   \n",
       "\n",
       "  tpep_pickup_datetime  trip_distance  \n",
       "0  2015-01-15 19:05:39           1.59  \n",
       "1  2015-01-10 20:33:38           3.30  \n",
       "2  2015-01-10 20:33:38           1.80  \n",
       "3  2015-01-10 20:33:39           0.50  \n",
       "4  2015-01-10 20:33:39           3.00  "
      ]
     },
     "execution_count": 6,
     "metadata": {},
     "output_type": "execute_result"
    }
   ],
   "source": [
    "tlc_df_raw_total.head()"
   ]
  },
  {
   "cell_type": "code",
   "execution_count": 6,
   "metadata": {
    "collapsed": false
   },
   "outputs": [],
   "source": [
    "#CANNOT GET THIS TRIP DURATION TO WORK - MOVING ON FOR NOW\n",
    "#tlc_df['trip_duration'] = pd.Timedelta(tlc_df['tpep_dropoff_datetime_2'] - tlc_df['tpep_pickup_datetime']).seconds / 3600.0\n",
    "#tlc_df['trip_speed'] = tlc_df.trip_distance / tlc_df.trip_duration"
   ]
  },
  {
   "cell_type": "markdown",
   "metadata": {},
   "source": [
    "## Clean the data - \n",
    "drop all the unreasonable trip entries, such as those that have trip distance in the millions of miles"
   ]
  },
  {
   "cell_type": "code",
   "execution_count": 7,
   "metadata": {
    "collapsed": false
   },
   "outputs": [],
   "source": [
    "#only keep trips that have a positive distance less than 100 miles\n",
    "tlc_df_total = tlc_df_raw_total[(tlc_df_raw_total.trip_distance > 0) & (tlc_df_raw_total.trip_distance < 100)]\n",
    "\n",
    "#only keep trips that have a positive fare amount less than $500\n",
    "tlc_df_total = tlc_df_total[(tlc_df_total.fare_amount > 0) & (tlc_df_total.fare_amount < 500)]\n",
    "\n",
    "#only keep trips that have a positive tip amount less than $1000\n",
    "tlc_df_total = tlc_df_total[(tlc_df_total.tip_amount >= 0) & (tlc_df_total.tip_amount < 1000)]"
   ]
  },
  {
   "cell_type": "code",
   "execution_count": 346,
   "metadata": {
    "collapsed": false
   },
   "outputs": [
    {
     "data": {
      "text/plain": [
       "0.9931872175991143"
      ]
     },
     "execution_count": 346,
     "metadata": {},
     "output_type": "execute_result"
    }
   ],
   "source": [
    "len(tlc_df_total) * 1.0 / len(tlc_df_raw_total)"
   ]
  },
  {
   "cell_type": "code",
   "execution_count": 343,
   "metadata": {
    "collapsed": false
   },
   "outputs": [],
   "source": [
    "#count the number of taxi trips each day\n",
    "tlc_df_total['taxi_date'] = tlc_df_total['tpep_pickup_datetime'].dt.date\n",
    "tlc_df_day_count = tlc_df_total.groupby(['taxi_date'], as_index=False)['extra'].count()\n",
    "tlc_df_day_count.columns = ['taxi_date', 'taxi_trip_count']"
   ]
  },
  {
   "cell_type": "code",
   "execution_count": 344,
   "metadata": {
    "collapsed": false
   },
   "outputs": [
    {
     "data": {
      "text/html": [
       "<div>\n",
       "<table border=\"1\" class=\"dataframe\">\n",
       "  <thead>\n",
       "    <tr style=\"text-align: right;\">\n",
       "      <th></th>\n",
       "      <th>taxi_date</th>\n",
       "      <th>extra</th>\n",
       "      <th>fare_amount</th>\n",
       "      <th>mta_tax</th>\n",
       "      <th>passenger_count</th>\n",
       "      <th>pickup_latitude</th>\n",
       "      <th>pickup_longitude</th>\n",
       "      <th>tip_amount</th>\n",
       "      <th>total_amount</th>\n",
       "      <th>trip_distance</th>\n",
       "    </tr>\n",
       "  </thead>\n",
       "  <tbody>\n",
       "    <tr>\n",
       "      <th>0</th>\n",
       "      <td>2015-01-01</td>\n",
       "      <td>0.270273</td>\n",
       "      <td>12.657806</td>\n",
       "      <td>0.497992</td>\n",
       "      <td>1.809730</td>\n",
       "      <td>39.943048</td>\n",
       "      <td>-72.508607</td>\n",
       "      <td>1.282963</td>\n",
       "      <td>15.247579</td>\n",
       "      <td>3.255304</td>\n",
       "    </tr>\n",
       "    <tr>\n",
       "      <th>1</th>\n",
       "      <td>2015-01-02</td>\n",
       "      <td>0.397660</td>\n",
       "      <td>12.064885</td>\n",
       "      <td>0.498283</td>\n",
       "      <td>1.758867</td>\n",
       "      <td>39.959375</td>\n",
       "      <td>-72.536360</td>\n",
       "      <td>1.262980</td>\n",
       "      <td>14.796527</td>\n",
       "      <td>2.963635</td>\n",
       "    </tr>\n",
       "    <tr>\n",
       "      <th>2</th>\n",
       "      <td>2015-01-03</td>\n",
       "      <td>0.194821</td>\n",
       "      <td>11.577505</td>\n",
       "      <td>0.498651</td>\n",
       "      <td>1.777010</td>\n",
       "      <td>40.090698</td>\n",
       "      <td>-72.778421</td>\n",
       "      <td>1.273699</td>\n",
       "      <td>14.058896</td>\n",
       "      <td>2.846575</td>\n",
       "    </tr>\n",
       "    <tr>\n",
       "      <th>3</th>\n",
       "      <td>2015-01-04</td>\n",
       "      <td>0.189877</td>\n",
       "      <td>12.634198</td>\n",
       "      <td>0.498123</td>\n",
       "      <td>1.722101</td>\n",
       "      <td>40.200017</td>\n",
       "      <td>-72.973559</td>\n",
       "      <td>1.492329</td>\n",
       "      <td>15.445016</td>\n",
       "      <td>3.332494</td>\n",
       "    </tr>\n",
       "    <tr>\n",
       "      <th>4</th>\n",
       "      <td>2015-01-05</td>\n",
       "      <td>0.371148</td>\n",
       "      <td>12.149376</td>\n",
       "      <td>0.498688</td>\n",
       "      <td>1.655208</td>\n",
       "      <td>40.032467</td>\n",
       "      <td>-72.664518</td>\n",
       "      <td>1.511471</td>\n",
       "      <td>15.148335</td>\n",
       "      <td>3.033297</td>\n",
       "    </tr>\n",
       "  </tbody>\n",
       "</table>\n",
       "</div>"
      ],
      "text/plain": [
       "    taxi_date     extra  fare_amount   mta_tax  passenger_count  \\\n",
       "0  2015-01-01  0.270273    12.657806  0.497992         1.809730   \n",
       "1  2015-01-02  0.397660    12.064885  0.498283         1.758867   \n",
       "2  2015-01-03  0.194821    11.577505  0.498651         1.777010   \n",
       "3  2015-01-04  0.189877    12.634198  0.498123         1.722101   \n",
       "4  2015-01-05  0.371148    12.149376  0.498688         1.655208   \n",
       "\n",
       "   pickup_latitude  pickup_longitude  tip_amount  total_amount  trip_distance  \n",
       "0        39.943048        -72.508607    1.282963     15.247579       3.255304  \n",
       "1        39.959375        -72.536360    1.262980     14.796527       2.963635  \n",
       "2        40.090698        -72.778421    1.273699     14.058896       2.846575  \n",
       "3        40.200017        -72.973559    1.492329     15.445016       3.332494  \n",
       "4        40.032467        -72.664518    1.511471     15.148335       3.033297  "
      ]
     },
     "execution_count": 344,
     "metadata": {},
     "output_type": "execute_result"
    }
   ],
   "source": [
    "#take the mean of the taxi stats each day\n",
    "tlc_df_stat_agg = tlc_df_total.groupby(['taxi_date'], as_index=False).mean()\n",
    "tlc_df_stat_agg.head()"
   ]
  },
  {
   "cell_type": "code",
   "execution_count": 345,
   "metadata": {
    "collapsed": false
   },
   "outputs": [
    {
     "data": {
      "text/html": [
       "<div>\n",
       "<table border=\"1\" class=\"dataframe\">\n",
       "  <thead>\n",
       "    <tr style=\"text-align: right;\">\n",
       "      <th></th>\n",
       "      <th>taxi_date</th>\n",
       "      <th>extra</th>\n",
       "      <th>fare_amount</th>\n",
       "      <th>mta_tax</th>\n",
       "      <th>passenger_count</th>\n",
       "      <th>pickup_latitude</th>\n",
       "      <th>pickup_longitude</th>\n",
       "      <th>tip_amount</th>\n",
       "      <th>total_amount</th>\n",
       "      <th>trip_distance</th>\n",
       "      <th>taxi_trip_count</th>\n",
       "    </tr>\n",
       "  </thead>\n",
       "  <tbody>\n",
       "    <tr>\n",
       "      <th>0</th>\n",
       "      <td>2015-01-01</td>\n",
       "      <td>0.270273</td>\n",
       "      <td>12.657806</td>\n",
       "      <td>0.497992</td>\n",
       "      <td>1.809730</td>\n",
       "      <td>39.943048</td>\n",
       "      <td>-72.508607</td>\n",
       "      <td>1.282963</td>\n",
       "      <td>15.247579</td>\n",
       "      <td>3.255304</td>\n",
       "      <td>378940</td>\n",
       "    </tr>\n",
       "    <tr>\n",
       "      <th>1</th>\n",
       "      <td>2015-01-02</td>\n",
       "      <td>0.397660</td>\n",
       "      <td>12.064885</td>\n",
       "      <td>0.498283</td>\n",
       "      <td>1.758867</td>\n",
       "      <td>39.959375</td>\n",
       "      <td>-72.536360</td>\n",
       "      <td>1.262980</td>\n",
       "      <td>14.796527</td>\n",
       "      <td>2.963635</td>\n",
       "      <td>343093</td>\n",
       "    </tr>\n",
       "    <tr>\n",
       "      <th>2</th>\n",
       "      <td>2015-01-03</td>\n",
       "      <td>0.194821</td>\n",
       "      <td>11.577505</td>\n",
       "      <td>0.498651</td>\n",
       "      <td>1.777010</td>\n",
       "      <td>40.090698</td>\n",
       "      <td>-72.778421</td>\n",
       "      <td>1.273699</td>\n",
       "      <td>14.058896</td>\n",
       "      <td>2.846575</td>\n",
       "      <td>404372</td>\n",
       "    </tr>\n",
       "    <tr>\n",
       "      <th>3</th>\n",
       "      <td>2015-01-04</td>\n",
       "      <td>0.189877</td>\n",
       "      <td>12.634198</td>\n",
       "      <td>0.498123</td>\n",
       "      <td>1.722101</td>\n",
       "      <td>40.200017</td>\n",
       "      <td>-72.973559</td>\n",
       "      <td>1.492329</td>\n",
       "      <td>15.445016</td>\n",
       "      <td>3.332494</td>\n",
       "      <td>326536</td>\n",
       "    </tr>\n",
       "    <tr>\n",
       "      <th>4</th>\n",
       "      <td>2015-01-05</td>\n",
       "      <td>0.371148</td>\n",
       "      <td>12.149376</td>\n",
       "      <td>0.498688</td>\n",
       "      <td>1.655208</td>\n",
       "      <td>40.032467</td>\n",
       "      <td>-72.664518</td>\n",
       "      <td>1.511471</td>\n",
       "      <td>15.148335</td>\n",
       "      <td>3.033297</td>\n",
       "      <td>360646</td>\n",
       "    </tr>\n",
       "  </tbody>\n",
       "</table>\n",
       "</div>"
      ],
      "text/plain": [
       "    taxi_date     extra  fare_amount   mta_tax  passenger_count  \\\n",
       "0  2015-01-01  0.270273    12.657806  0.497992         1.809730   \n",
       "1  2015-01-02  0.397660    12.064885  0.498283         1.758867   \n",
       "2  2015-01-03  0.194821    11.577505  0.498651         1.777010   \n",
       "3  2015-01-04  0.189877    12.634198  0.498123         1.722101   \n",
       "4  2015-01-05  0.371148    12.149376  0.498688         1.655208   \n",
       "\n",
       "   pickup_latitude  pickup_longitude  tip_amount  total_amount  trip_distance  \\\n",
       "0        39.943048        -72.508607    1.282963     15.247579       3.255304   \n",
       "1        39.959375        -72.536360    1.262980     14.796527       2.963635   \n",
       "2        40.090698        -72.778421    1.273699     14.058896       2.846575   \n",
       "3        40.200017        -72.973559    1.492329     15.445016       3.332494   \n",
       "4        40.032467        -72.664518    1.511471     15.148335       3.033297   \n",
       "\n",
       "   taxi_trip_count  \n",
       "0           378940  \n",
       "1           343093  \n",
       "2           404372  \n",
       "3           326536  \n",
       "4           360646  "
      ]
     },
     "execution_count": 345,
     "metadata": {},
     "output_type": "execute_result"
    }
   ],
   "source": [
    "tlc_df_by_day = tlc_df_stat_agg.merge(tlc_df_day_count, on='taxi_date')\n",
    "tlc_df_by_day.head()"
   ]
  },
  {
   "cell_type": "code",
   "execution_count": 14,
   "metadata": {
    "collapsed": false
   },
   "outputs": [],
   "source": [
    "tlc_df_by_day['day_of_week'] = tlc_df_by_day.taxi_date.apply(lambda x: x.weekday())"
   ]
  },
  {
   "cell_type": "code",
   "execution_count": 15,
   "metadata": {
    "collapsed": false
   },
   "outputs": [
    {
     "name": "stderr",
     "output_type": "stream",
     "text": [
      "/gpfs1/cusp/gtp232/.conda/envs/GTP/lib/python2.7/site-packages/ipykernel_launcher.py:3: SettingWithCopyWarning: \n",
      "A value is trying to be set on a copy of a slice from a DataFrame\n",
      "\n",
      "See the caveats in the documentation: http://pandas.pydata.org/pandas-docs/stable/indexing.html#indexing-view-versus-copy\n",
      "  This is separate from the ipykernel package so we can avoid doing imports until\n"
     ]
    }
   ],
   "source": [
    "#control for Friday / Saturday nights\n",
    "tlc_df_by_day['weekend'] = 0\n",
    "tlc_df_by_day['weekend'][(tlc_df_by_day['day_of_week'] == 4) | (tlc_df_by_day['day_of_week'] == 5)] = 1"
   ]
  },
  {
   "cell_type": "markdown",
   "metadata": {},
   "source": [
    "### Add Feature for Holidays"
   ]
  },
  {
   "cell_type": "code",
   "execution_count": 16,
   "metadata": {
    "collapsed": false
   },
   "outputs": [
    {
     "data": {
      "text/plain": [
       "2012-01-02                 New Years Day\n",
       "2012-01-16    Dr. Martin Luther King Jr.\n",
       "2012-02-20                Presidents Day\n",
       "2012-05-28                   MemorialDay\n",
       "2012-07-04                      July 4th\n",
       "Name: name, dtype: object"
      ]
     },
     "execution_count": 16,
     "metadata": {},
     "output_type": "execute_result"
    }
   ],
   "source": [
    "cal = USFederalHolidayCalendar()\n",
    "holidays = cal.holidays('2012', '2016', return_name=True)\n",
    "holidays.name = 'name'\n",
    "holidays.head()"
   ]
  },
  {
   "cell_type": "code",
   "execution_count": 17,
   "metadata": {
    "collapsed": false
   },
   "outputs": [],
   "source": [
    "holidays_all = pd.concat([holidays,\n",
    "                         \"Day Before \" + holidays.shift(-1, 'D'),\n",
    "                         \"Day After \" + holidays.shift(1, 'D')])\n",
    "holidays_all = holidays_all.sort_index()"
   ]
  },
  {
   "cell_type": "code",
   "execution_count": 18,
   "metadata": {
    "collapsed": false
   },
   "outputs": [
    {
     "name": "stderr",
     "output_type": "stream",
     "text": [
      "/gpfs1/cusp/gtp232/.conda/envs/GTP/lib/python2.7/site-packages/ipykernel_launcher.py:3: SettingWithCopyWarning: \n",
      "A value is trying to be set on a copy of a slice from a DataFrame\n",
      "\n",
      "See the caveats in the documentation: http://pandas.pydata.org/pandas-docs/stable/indexing.html#indexing-view-versus-copy\n",
      "  This is separate from the ipykernel package so we can avoid doing imports until\n"
     ]
    }
   ],
   "source": [
    "#add holiday dummy variable\n",
    "tlc_df_by_day['holiday'] = 0\n",
    "tlc_df_by_day['holiday'][tlc_df_by_day['taxi_date'].isin(holidays_all.index.date)] = 1"
   ]
  },
  {
   "cell_type": "code",
   "execution_count": 407,
   "metadata": {
    "collapsed": false
   },
   "outputs": [
    {
     "data": {
      "text/html": [
       "<div>\n",
       "<table border=\"1\" class=\"dataframe\">\n",
       "  <thead>\n",
       "    <tr style=\"text-align: right;\">\n",
       "      <th></th>\n",
       "      <th>taxi_date</th>\n",
       "      <th>extra</th>\n",
       "      <th>fare_amount</th>\n",
       "      <th>mta_tax</th>\n",
       "      <th>passenger_count</th>\n",
       "      <th>pickup_latitude</th>\n",
       "      <th>pickup_longitude</th>\n",
       "      <th>tip_amount</th>\n",
       "      <th>total_amount</th>\n",
       "      <th>trip_distance</th>\n",
       "      <th>taxi_trip_count</th>\n",
       "      <th>cluster</th>\n",
       "      <th>km_score</th>\n",
       "      <th>outlier</th>\n",
       "      <th>color</th>\n",
       "    </tr>\n",
       "  </thead>\n",
       "  <tbody>\n",
       "    <tr>\n",
       "      <th>26</th>\n",
       "      <td>2015-01-27</td>\n",
       "      <td>0.534315</td>\n",
       "      <td>9.281400</td>\n",
       "      <td>0.499611</td>\n",
       "      <td>1.714553</td>\n",
       "      <td>40.134412</td>\n",
       "      <td>-72.851410</td>\n",
       "      <td>1.241452</td>\n",
       "      <td>11.932300</td>\n",
       "      <td>2.231997</td>\n",
       "      <td>134820</td>\n",
       "      <td>2</td>\n",
       "      <td>5.946016</td>\n",
       "      <td>1</td>\n",
       "      <td>red</td>\n",
       "    </tr>\n",
       "    <tr>\n",
       "      <th>358</th>\n",
       "      <td>2015-12-25</td>\n",
       "      <td>0.187647</td>\n",
       "      <td>12.892594</td>\n",
       "      <td>0.498300</td>\n",
       "      <td>1.787423</td>\n",
       "      <td>40.295980</td>\n",
       "      <td>-73.140749</td>\n",
       "      <td>1.317086</td>\n",
       "      <td>15.520742</td>\n",
       "      <td>3.366423</td>\n",
       "      <td>187033</td>\n",
       "      <td>2</td>\n",
       "      <td>2.804393</td>\n",
       "      <td>1</td>\n",
       "      <td>red</td>\n",
       "    </tr>\n",
       "    <tr>\n",
       "      <th>270</th>\n",
       "      <td>2015-09-28</td>\n",
       "      <td>0.369048</td>\n",
       "      <td>14.525026</td>\n",
       "      <td>0.498052</td>\n",
       "      <td>1.654874</td>\n",
       "      <td>40.269218</td>\n",
       "      <td>-73.097246</td>\n",
       "      <td>1.975186</td>\n",
       "      <td>18.102169</td>\n",
       "      <td>3.325909</td>\n",
       "      <td>320770</td>\n",
       "      <td>0</td>\n",
       "      <td>2.454395</td>\n",
       "      <td>1</td>\n",
       "      <td>red</td>\n",
       "    </tr>\n",
       "    <tr>\n",
       "      <th>25</th>\n",
       "      <td>2015-01-26</td>\n",
       "      <td>0.181358</td>\n",
       "      <td>11.852456</td>\n",
       "      <td>0.498361</td>\n",
       "      <td>1.633555</td>\n",
       "      <td>40.019998</td>\n",
       "      <td>-72.641121</td>\n",
       "      <td>1.551247</td>\n",
       "      <td>14.640396</td>\n",
       "      <td>2.650079</td>\n",
       "      <td>228457</td>\n",
       "      <td>2</td>\n",
       "      <td>2.336159</td>\n",
       "      <td>1</td>\n",
       "      <td>red</td>\n",
       "    </tr>\n",
       "    <tr>\n",
       "      <th>9</th>\n",
       "      <td>2015-01-10</td>\n",
       "      <td>0.204225</td>\n",
       "      <td>11.310585</td>\n",
       "      <td>0.499108</td>\n",
       "      <td>1.734337</td>\n",
       "      <td>39.912979</td>\n",
       "      <td>-72.457707</td>\n",
       "      <td>1.405497</td>\n",
       "      <td>13.884081</td>\n",
       "      <td>2.643237</td>\n",
       "      <td>512258</td>\n",
       "      <td>1</td>\n",
       "      <td>2.034055</td>\n",
       "      <td>1</td>\n",
       "      <td>red</td>\n",
       "    </tr>\n",
       "  </tbody>\n",
       "</table>\n",
       "</div>"
      ],
      "text/plain": [
       "      taxi_date     extra  fare_amount   mta_tax  passenger_count  \\\n",
       "26   2015-01-27  0.534315     9.281400  0.499611         1.714553   \n",
       "358  2015-12-25  0.187647    12.892594  0.498300         1.787423   \n",
       "270  2015-09-28  0.369048    14.525026  0.498052         1.654874   \n",
       "25   2015-01-26  0.181358    11.852456  0.498361         1.633555   \n",
       "9    2015-01-10  0.204225    11.310585  0.499108         1.734337   \n",
       "\n",
       "     pickup_latitude  pickup_longitude  tip_amount  total_amount  \\\n",
       "26         40.134412        -72.851410    1.241452     11.932300   \n",
       "358        40.295980        -73.140749    1.317086     15.520742   \n",
       "270        40.269218        -73.097246    1.975186     18.102169   \n",
       "25         40.019998        -72.641121    1.551247     14.640396   \n",
       "9          39.912979        -72.457707    1.405497     13.884081   \n",
       "\n",
       "     trip_distance  taxi_trip_count  cluster  km_score  outlier color  \n",
       "26        2.231997           134820        2  5.946016        1   red  \n",
       "358       3.366423           187033        2  2.804393        1   red  \n",
       "270       3.325909           320770        0  2.454395        1   red  \n",
       "25        2.650079           228457        2  2.336159        1   red  \n",
       "9         2.643237           512258        1  2.034055        1   red  "
      ]
     },
     "execution_count": 407,
     "metadata": {},
     "output_type": "execute_result"
    }
   ],
   "source": [
    "tlc_df_by_day.head()"
   ]
  },
  {
   "cell_type": "code",
   "execution_count": 20,
   "metadata": {
    "collapsed": false
   },
   "outputs": [
    {
     "data": {
      "text/plain": [
       "<matplotlib.axes._subplots.AxesSubplot at 0x7ef6956267d0>"
      ]
     },
     "execution_count": 20,
     "metadata": {},
     "output_type": "execute_result"
    },
    {
     "data": {
      "image/png": "[encoded data removed]",
      "text/plain": [
       "<matplotlib.figure.Figure at 0x7f02bdb38f90>"
      ]
     },
     "metadata": {},
     "output_type": "display_data"
    }
   ],
   "source": [
    "tlc_df_by_day[['taxi_date', 'taxi_trip_count']].plot()"
   ]
  },
  {
   "cell_type": "code",
   "execution_count": 21,
   "metadata": {
    "collapsed": false
   },
   "outputs": [
    {
     "data": {
      "text/plain": [
       "<matplotlib.axes._subplots.AxesSubplot at 0x7f01e8478710>"
      ]
     },
     "execution_count": 21,
     "metadata": {},
     "output_type": "execute_result"
    },
    {
     "data": {
      "image/png": "[encoded data removed]",
      "text/plain": [
       "<matplotlib.figure.Figure at 0x7f02bdb44110>"
      ]
     },
     "metadata": {},
     "output_type": "display_data"
    }
   ],
   "source": [
    "'''\n",
    "0 is a Monday\n",
    "1 is tuesday etc etc\n",
    "'''\n",
    "tlc_df_by_day_agg = tlc_df_by_day.groupby(['day_of_week'], as_index=False).sum()\n",
    "tlc_df_by_day_agg[['taxi_trip_count']].plot()"
   ]
  },
  {
   "cell_type": "code",
   "execution_count": 22,
   "metadata": {
    "collapsed": false
   },
   "outputs": [
    {
     "data": {
      "text/plain": [
       "<matplotlib.axes._subplots.AxesSubplot at 0x7f01d3816e50>"
      ]
     },
     "execution_count": 22,
     "metadata": {},
     "output_type": "execute_result"
    },
    {
     "data": {
      "image/png": "[encoded data removed]",
      "text/plain": [
       "<matplotlib.figure.Figure at 0x7f0208534550>"
      ]
     },
     "metadata": {},
     "output_type": "display_data"
    }
   ],
   "source": [
    "tlc_df_by_day_avg = tlc_df_by_day.groupby(['day_of_week'], as_index=False).mean()\n",
    "tlc_df_by_day_avg[['passenger_count']].plot()"
   ]
  },
  {
   "cell_type": "code",
   "execution_count": 23,
   "metadata": {
    "collapsed": false
   },
   "outputs": [
    {
     "data": {
      "text/plain": [
       "<matplotlib.axes._subplots.AxesSubplot at 0x7f01cf964450>"
      ]
     },
     "execution_count": 23,
     "metadata": {},
     "output_type": "execute_result"
    },
    {
     "data": {
      "image/png": "[encoded data removed]",
      "text/plain": [
       "<matplotlib.figure.Figure at 0x7f01cf9607d0>"
      ]
     },
     "metadata": {},
     "output_type": "display_data"
    }
   ],
   "source": [
    "tlc_df_by_day[['taxi_date', 'passenger_count']].plot()"
   ]
  },
  {
   "cell_type": "code",
   "execution_count": 24,
   "metadata": {
    "collapsed": false
   },
   "outputs": [
    {
     "data": {
      "text/plain": [
       "<matplotlib.axes._subplots.AxesSubplot at 0x7f0207a01a10>"
      ]
     },
     "execution_count": 24,
     "metadata": {},
     "output_type": "execute_result"
    },
    {
     "data": {
      "image/png": "[encoded data removed]",
      "text/plain": [
       "<matplotlib.figure.Figure at 0x7f01bb621cd0>"
      ]
     },
     "metadata": {},
     "output_type": "display_data"
    }
   ],
   "source": [
    "tlc_df_by_day[['taxi_date', 'trip_distance']].plot()"
   ]
  },
  {
   "cell_type": "code",
   "execution_count": 25,
   "metadata": {
    "collapsed": false
   },
   "outputs": [
    {
     "data": {
      "text/plain": [
       "<matplotlib.axes._subplots.AxesSubplot at 0x7f01c04ce450>"
      ]
     },
     "execution_count": 25,
     "metadata": {},
     "output_type": "execute_result"
    },
    {
     "data": {
      "image/png": "[encoded data removed]",
      "text/plain": [
       "<matplotlib.figure.Figure at 0x7f01c04d3510>"
      ]
     },
     "metadata": {},
     "output_type": "display_data"
    }
   ],
   "source": [
    "tlc_df_by_day_avg[['trip_distance']].plot()"
   ]
  },
  {
   "cell_type": "code",
   "execution_count": 26,
   "metadata": {
    "collapsed": false
   },
   "outputs": [
    {
     "data": {
      "text/plain": [
       "<matplotlib.axes._subplots.AxesSubplot at 0x7f0213ddcb90>"
      ]
     },
     "execution_count": 26,
     "metadata": {},
     "output_type": "execute_result"
    },
    {
     "data": {
      "image/png": "[encoded data removed]",
      "text/plain": [
       "<matplotlib.figure.Figure at 0x7f0213dc9d50>"
      ]
     },
     "metadata": {},
     "output_type": "display_data"
    }
   ],
   "source": [
    "tlc_df_by_day[['taxi_date', 'total_amount']].plot()"
   ]
  },
  {
   "cell_type": "markdown",
   "metadata": {},
   "source": [
    "## Pickle Main Pandas DFs for easy recovery in the future"
   ]
  },
  {
   "cell_type": "code",
   "execution_count": 27,
   "metadata": {
    "collapsed": true
   },
   "outputs": [],
   "source": [
    "# tlc_df_by_day.to_pickle('tlc_df_by_day.pkl')  # where to save it, usually as a .pkl"
   ]
  },
  {
   "cell_type": "code",
   "execution_count": 28,
   "metadata": {
    "collapsed": false
   },
   "outputs": [],
   "source": [
    "# tlc_df_total.shape"
   ]
  },
  {
   "cell_type": "code",
   "execution_count": 29,
   "metadata": {
    "collapsed": false
   },
   "outputs": [],
   "source": [
    "# n_partitions = 500\n",
    "# partition_size = len(tlc_df_total) / n_partitions\n",
    "# for i in range(0,n_partitions+1):\n",
    "#     print i\n",
    "#     tlc_df_total_subset = tlc_df_total.iloc[(i*partition_size):((i+1)*partition_size), :]\n",
    "#     tlc_df_total_subset.to_pickle('tlc_df_total_' + str(i) + '.pkl')  # where to save it, usually as a .pkl"
   ]
  },
  {
   "cell_type": "markdown",
   "metadata": {},
   "source": [
    "## Clustering Anomaly Detection"
   ]
  },
  {
   "cell_type": "code",
   "execution_count": 30,
   "metadata": {
    "collapsed": true
   },
   "outputs": [],
   "source": [
    "# file = open('tlc_df_by_day.pkl','rb')\n",
    "# tlc_df_by_day = pickle.load(file)\n",
    "# file.close()"
   ]
  },
  {
   "cell_type": "code",
   "execution_count": 31,
   "metadata": {
    "collapsed": false
   },
   "outputs": [],
   "source": [
    "# tlc_df_by_day.head()"
   ]
  },
  {
   "cell_type": "code",
   "execution_count": 349,
   "metadata": {
    "collapsed": true
   },
   "outputs": [],
   "source": [
    "cluster_features = ['total_amount', 'taxi_trip_count']"
   ]
  },
  {
   "cell_type": "code",
   "execution_count": 350,
   "metadata": {
    "collapsed": false
   },
   "outputs": [
    {
     "data": {
      "text/html": [
       "<div>\n",
       "<table border=\"1\" class=\"dataframe\">\n",
       "  <thead>\n",
       "    <tr style=\"text-align: right;\">\n",
       "      <th></th>\n",
       "      <th>total_amount</th>\n",
       "      <th>taxi_trip_count</th>\n",
       "    </tr>\n",
       "  </thead>\n",
       "  <tbody>\n",
       "    <tr>\n",
       "      <th>0</th>\n",
       "      <td>15.247579</td>\n",
       "      <td>378940</td>\n",
       "    </tr>\n",
       "    <tr>\n",
       "      <th>1</th>\n",
       "      <td>14.796527</td>\n",
       "      <td>343093</td>\n",
       "    </tr>\n",
       "  </tbody>\n",
       "</table>\n",
       "</div>"
      ],
      "text/plain": [
       "   total_amount  taxi_trip_count\n",
       "0     15.247579           378940\n",
       "1     14.796527           343093"
      ]
     },
     "execution_count": 350,
     "metadata": {},
     "output_type": "execute_result"
    }
   ],
   "source": [
    "X = tlc_df_by_day[cluster_features]\n",
    "X.head(2)"
   ]
  },
  {
   "cell_type": "markdown",
   "metadata": {},
   "source": [
    "### K-Means Cluster Model Anomaly Detection"
   ]
  },
  {
   "cell_type": "code",
   "execution_count": 351,
   "metadata": {
    "collapsed": false
   },
   "outputs": [
    {
     "name": "stderr",
     "output_type": "stream",
     "text": [
      "/gpfs1/cusp/gtp232/.conda/envs/GTP/lib/python2.7/site-packages/ipykernel_launcher.py:3: SettingWithCopyWarning: \n",
      "A value is trying to be set on a copy of a slice from a DataFrame.\n",
      "Try using .loc[row_indexer,col_indexer] = value instead\n",
      "\n",
      "See the caveats in the documentation: http://pandas.pydata.org/pandas-docs/stable/indexing.html#indexing-view-versus-copy\n",
      "  This is separate from the ipykernel package so we can avoid doing imports until\n"
     ]
    },
    {
     "data": {
      "text/html": [
       "<div>\n",
       "<table border=\"1\" class=\"dataframe\">\n",
       "  <thead>\n",
       "    <tr style=\"text-align: right;\">\n",
       "      <th></th>\n",
       "      <th>total_amount</th>\n",
       "      <th>taxi_trip_count</th>\n",
       "    </tr>\n",
       "  </thead>\n",
       "  <tbody>\n",
       "    <tr>\n",
       "      <th>0</th>\n",
       "      <td>-0.926054</td>\n",
       "      <td>-0.362853</td>\n",
       "    </tr>\n",
       "    <tr>\n",
       "      <th>1</th>\n",
       "      <td>-1.482893</td>\n",
       "      <td>-1.060577</td>\n",
       "    </tr>\n",
       "    <tr>\n",
       "      <th>2</th>\n",
       "      <td>-2.393524</td>\n",
       "      <td>0.132154</td>\n",
       "    </tr>\n",
       "    <tr>\n",
       "      <th>3</th>\n",
       "      <td>-0.682311</td>\n",
       "      <td>-1.382841</td>\n",
       "    </tr>\n",
       "    <tr>\n",
       "      <th>4</th>\n",
       "      <td>-1.048574</td>\n",
       "      <td>-0.718927</td>\n",
       "    </tr>\n",
       "  </tbody>\n",
       "</table>\n",
       "</div>"
      ],
      "text/plain": [
       "   total_amount  taxi_trip_count\n",
       "0     -0.926054        -0.362853\n",
       "1     -1.482893        -1.060577\n",
       "2     -2.393524         0.132154\n",
       "3     -0.682311        -1.382841\n",
       "4     -1.048574        -0.718927"
      ]
     },
     "execution_count": 351,
     "metadata": {},
     "output_type": "execute_result"
    }
   ],
   "source": [
    "#normalize columns\n",
    "for i in X.columns:\n",
    "    X[i] = (X[i] - X[i].mean()) / X[i].std()\n",
    "    \n",
    "X.head()"
   ]
  },
  {
   "cell_type": "code",
   "execution_count": 352,
   "metadata": {
    "collapsed": false
   },
   "outputs": [
    {
     "name": "stdout",
     "output_type": "stream",
     "text": [
      "For n_clusters =2, the average silhouette_score is :0.389747416886\n",
      "For n_clusters =3, the average silhouette_score is :0.402972010955\n",
      "For n_clusters =4, the average silhouette_score is :0.369100098474\n",
      "For n_clusters =5, the average silhouette_score is :0.328938356873\n",
      "For n_clusters =6, the average silhouette_score is :0.338600459735\n",
      "For n_clusters =7, the average silhouette_score is :0.352476091095\n",
      "For n_clusters =8, the average silhouette_score is :0.365728403493\n"
     ]
    }
   ],
   "source": [
    "range_n_clusters = [2, 3, 4, 5, 6, 7, 8]\n",
    "for n_clusters in range_n_clusters:\n",
    "    km = KMeans(n_clusters=n_clusters, random_state=324)\n",
    "    cluster_labels = km.fit_predict(X)\n",
    "    silhouette_avg = silhouette_score(X, cluster_labels)\n",
    "    print(\"For n_clusters ={},\".format(n_clusters)+\" the average silhouette_score is :{}\".format(silhouette_avg))"
   ]
  },
  {
   "cell_type": "code",
   "execution_count": 353,
   "metadata": {
    "collapsed": false
   },
   "outputs": [],
   "source": [
    "n=3\n",
    "KM=KMeans(n_clusters=n,random_state=999)\n",
    "scor=KM.fit_predict(X)\n",
    "\n",
    "res=pd.DataFrame(KM.transform(X))\n",
    "res=pd.concat((res,pd.DataFrame(KM.fit_predict(X))),axis=1)\n",
    "res.columns=list(range(n))+[\"cluster\"]\n",
    "res.loc[:,\"score\"]=res.apply(lambda x: x[int(x[\"cluster\"])],axis=1)"
   ]
  },
  {
   "cell_type": "code",
   "execution_count": 354,
   "metadata": {
    "collapsed": false
   },
   "outputs": [],
   "source": [
    "tlc_df_by_day['cluster'] = res.cluster\n",
    "tlc_df_by_day['km_score'] = res.score\n",
    "tlc_df_by_day['outlier'] = 0\n",
    "tlc_df_by_day.sort_values(\"km_score\",ascending=False, inplace=True)"
   ]
  },
  {
   "cell_type": "code",
   "execution_count": 355,
   "metadata": {
    "collapsed": false
   },
   "outputs": [
    {
     "name": "stderr",
     "output_type": "stream",
     "text": [
      "/gpfs1/cusp/gtp232/.conda/envs/GTP/lib/python2.7/site-packages/ipykernel_launcher.py:1: SettingWithCopyWarning: \n",
      "A value is trying to be set on a copy of a slice from a DataFrame\n",
      "\n",
      "See the caveats in the documentation: http://pandas.pydata.org/pandas-docs/stable/indexing.html#indexing-view-versus-copy\n",
      "  \"\"\"Entry point for launching an IPython kernel.\n"
     ]
    }
   ],
   "source": [
    "tlc_df_by_day['outlier'][:10] = 1 "
   ]
  },
  {
   "cell_type": "code",
   "execution_count": 356,
   "metadata": {
    "collapsed": true
   },
   "outputs": [],
   "source": [
    "def set_color(Data1):\n",
    "    if (Data1.outlier == 1):\n",
    "        return \"red\"\n",
    "    elif (Data1.cluster == 0):\n",
    "        return \"blue\"\n",
    "    elif (Data1.cluster == 1):\n",
    "        return \"cyan\"\n",
    "    else:\n",
    "        return \"green\"\n",
    "\n",
    "tlc_df_by_day = tlc_df_by_day.assign(color=tlc_df_by_day.apply(set_color, axis=1))"
   ]
  },
  {
   "cell_type": "code",
   "execution_count": 357,
   "metadata": {
    "collapsed": false
   },
   "outputs": [
    {
     "data": {
      "text/html": [
       "<div>\n",
       "<table border=\"1\" class=\"dataframe\">\n",
       "  <thead>\n",
       "    <tr style=\"text-align: right;\">\n",
       "      <th></th>\n",
       "      <th>total_amount</th>\n",
       "      <th>taxi_trip_count</th>\n",
       "    </tr>\n",
       "  </thead>\n",
       "  <tbody>\n",
       "    <tr>\n",
       "      <th>0</th>\n",
       "      <td>-0.926054</td>\n",
       "      <td>-0.362853</td>\n",
       "    </tr>\n",
       "    <tr>\n",
       "      <th>1</th>\n",
       "      <td>-1.482893</td>\n",
       "      <td>-1.060577</td>\n",
       "    </tr>\n",
       "    <tr>\n",
       "      <th>2</th>\n",
       "      <td>-2.393524</td>\n",
       "      <td>0.132154</td>\n",
       "    </tr>\n",
       "    <tr>\n",
       "      <th>3</th>\n",
       "      <td>-0.682311</td>\n",
       "      <td>-1.382841</td>\n",
       "    </tr>\n",
       "    <tr>\n",
       "      <th>4</th>\n",
       "      <td>-1.048574</td>\n",
       "      <td>-0.718927</td>\n",
       "    </tr>\n",
       "  </tbody>\n",
       "</table>\n",
       "</div>"
      ],
      "text/plain": [
       "   total_amount  taxi_trip_count\n",
       "0     -0.926054        -0.362853\n",
       "1     -1.482893        -1.060577\n",
       "2     -2.393524         0.132154\n",
       "3     -0.682311        -1.382841\n",
       "4     -1.048574        -0.718927"
      ]
     },
     "execution_count": 357,
     "metadata": {},
     "output_type": "execute_result"
    }
   ],
   "source": [
    "X.head()"
   ]
  },
  {
   "cell_type": "code",
   "execution_count": 358,
   "metadata": {
    "collapsed": false
   },
   "outputs": [
    {
     "data": {
      "text/html": [
       "<div>\n",
       "<table border=\"1\" class=\"dataframe\">\n",
       "  <thead>\n",
       "    <tr style=\"text-align: right;\">\n",
       "      <th></th>\n",
       "      <th>taxi_date</th>\n",
       "      <th>extra</th>\n",
       "      <th>fare_amount</th>\n",
       "      <th>mta_tax</th>\n",
       "      <th>passenger_count</th>\n",
       "      <th>pickup_latitude</th>\n",
       "      <th>pickup_longitude</th>\n",
       "      <th>tip_amount</th>\n",
       "      <th>total_amount</th>\n",
       "      <th>trip_distance</th>\n",
       "      <th>taxi_trip_count</th>\n",
       "      <th>cluster</th>\n",
       "      <th>km_score</th>\n",
       "      <th>outlier</th>\n",
       "      <th>color</th>\n",
       "    </tr>\n",
       "  </thead>\n",
       "  <tbody>\n",
       "    <tr>\n",
       "      <th>26</th>\n",
       "      <td>2015-01-27</td>\n",
       "      <td>0.534315</td>\n",
       "      <td>9.281400</td>\n",
       "      <td>0.499611</td>\n",
       "      <td>1.714553</td>\n",
       "      <td>40.134412</td>\n",
       "      <td>-72.851410</td>\n",
       "      <td>1.241452</td>\n",
       "      <td>11.932300</td>\n",
       "      <td>2.231997</td>\n",
       "      <td>134820</td>\n",
       "      <td>2</td>\n",
       "      <td>5.946016</td>\n",
       "      <td>1</td>\n",
       "      <td>red</td>\n",
       "    </tr>\n",
       "    <tr>\n",
       "      <th>358</th>\n",
       "      <td>2015-12-25</td>\n",
       "      <td>0.187647</td>\n",
       "      <td>12.892594</td>\n",
       "      <td>0.498300</td>\n",
       "      <td>1.787423</td>\n",
       "      <td>40.295980</td>\n",
       "      <td>-73.140749</td>\n",
       "      <td>1.317086</td>\n",
       "      <td>15.520742</td>\n",
       "      <td>3.366423</td>\n",
       "      <td>187033</td>\n",
       "      <td>2</td>\n",
       "      <td>2.804393</td>\n",
       "      <td>1</td>\n",
       "      <td>red</td>\n",
       "    </tr>\n",
       "    <tr>\n",
       "      <th>270</th>\n",
       "      <td>2015-09-28</td>\n",
       "      <td>0.369048</td>\n",
       "      <td>14.525026</td>\n",
       "      <td>0.498052</td>\n",
       "      <td>1.654874</td>\n",
       "      <td>40.269218</td>\n",
       "      <td>-73.097246</td>\n",
       "      <td>1.975186</td>\n",
       "      <td>18.102169</td>\n",
       "      <td>3.325909</td>\n",
       "      <td>320770</td>\n",
       "      <td>0</td>\n",
       "      <td>2.454395</td>\n",
       "      <td>1</td>\n",
       "      <td>red</td>\n",
       "    </tr>\n",
       "    <tr>\n",
       "      <th>25</th>\n",
       "      <td>2015-01-26</td>\n",
       "      <td>0.181358</td>\n",
       "      <td>11.852456</td>\n",
       "      <td>0.498361</td>\n",
       "      <td>1.633555</td>\n",
       "      <td>40.019998</td>\n",
       "      <td>-72.641121</td>\n",
       "      <td>1.551247</td>\n",
       "      <td>14.640396</td>\n",
       "      <td>2.650079</td>\n",
       "      <td>228457</td>\n",
       "      <td>2</td>\n",
       "      <td>2.336159</td>\n",
       "      <td>1</td>\n",
       "      <td>red</td>\n",
       "    </tr>\n",
       "    <tr>\n",
       "      <th>9</th>\n",
       "      <td>2015-01-10</td>\n",
       "      <td>0.204225</td>\n",
       "      <td>11.310585</td>\n",
       "      <td>0.499108</td>\n",
       "      <td>1.734337</td>\n",
       "      <td>39.912979</td>\n",
       "      <td>-72.457707</td>\n",
       "      <td>1.405497</td>\n",
       "      <td>13.884081</td>\n",
       "      <td>2.643237</td>\n",
       "      <td>512258</td>\n",
       "      <td>1</td>\n",
       "      <td>2.034055</td>\n",
       "      <td>1</td>\n",
       "      <td>red</td>\n",
       "    </tr>\n",
       "  </tbody>\n",
       "</table>\n",
       "</div>"
      ],
      "text/plain": [
       "      taxi_date     extra  fare_amount   mta_tax  passenger_count  \\\n",
       "26   2015-01-27  0.534315     9.281400  0.499611         1.714553   \n",
       "358  2015-12-25  0.187647    12.892594  0.498300         1.787423   \n",
       "270  2015-09-28  0.369048    14.525026  0.498052         1.654874   \n",
       "25   2015-01-26  0.181358    11.852456  0.498361         1.633555   \n",
       "9    2015-01-10  0.204225    11.310585  0.499108         1.734337   \n",
       "\n",
       "     pickup_latitude  pickup_longitude  tip_amount  total_amount  \\\n",
       "26         40.134412        -72.851410    1.241452     11.932300   \n",
       "358        40.295980        -73.140749    1.317086     15.520742   \n",
       "270        40.269218        -73.097246    1.975186     18.102169   \n",
       "25         40.019998        -72.641121    1.551247     14.640396   \n",
       "9          39.912979        -72.457707    1.405497     13.884081   \n",
       "\n",
       "     trip_distance  taxi_trip_count  cluster  km_score  outlier color  \n",
       "26        2.231997           134820        2  5.946016        1   red  \n",
       "358       3.366423           187033        2  2.804393        1   red  \n",
       "270       3.325909           320770        0  2.454395        1   red  \n",
       "25        2.650079           228457        2  2.336159        1   red  \n",
       "9         2.643237           512258        1  2.034055        1   red  "
      ]
     },
     "execution_count": 358,
     "metadata": {},
     "output_type": "execute_result"
    }
   ],
   "source": [
    "tlc_df_by_day.head()"
   ]
  },
  {
   "cell_type": "code",
   "execution_count": 359,
   "metadata": {
    "collapsed": false,
    "scrolled": false
   },
   "outputs": [],
   "source": [
    "tlc_df_by_day_w_z_scores = tlc_df_by_day.merge(X, left_index=True, right_index=True)"
   ]
  },
  {
   "cell_type": "code",
   "execution_count": 360,
   "metadata": {
    "collapsed": false
   },
   "outputs": [
    {
     "data": {
      "text/html": [
       "<div>\n",
       "<table border=\"1\" class=\"dataframe\">\n",
       "  <thead>\n",
       "    <tr style=\"text-align: right;\">\n",
       "      <th></th>\n",
       "      <th>taxi_date</th>\n",
       "      <th>km_score</th>\n",
       "      <th>total_amount_x</th>\n",
       "      <th>taxi_trip_count_x</th>\n",
       "      <th>total_amount_y</th>\n",
       "      <th>taxi_trip_count_y</th>\n",
       "    </tr>\n",
       "  </thead>\n",
       "  <tbody>\n",
       "    <tr>\n",
       "      <th>26</th>\n",
       "      <td>2015-01-27</td>\n",
       "      <td>5.946016</td>\n",
       "      <td>11.932300</td>\n",
       "      <td>134820</td>\n",
       "      <td>-5.018880</td>\n",
       "      <td>-5.114389</td>\n",
       "    </tr>\n",
       "    <tr>\n",
       "      <th>358</th>\n",
       "      <td>2015-12-25</td>\n",
       "      <td>2.804393</td>\n",
       "      <td>15.520742</td>\n",
       "      <td>187033</td>\n",
       "      <td>-0.588825</td>\n",
       "      <td>-4.098119</td>\n",
       "    </tr>\n",
       "    <tr>\n",
       "      <th>270</th>\n",
       "      <td>2015-09-28</td>\n",
       "      <td>2.454395</td>\n",
       "      <td>18.102169</td>\n",
       "      <td>320770</td>\n",
       "      <td>2.598035</td>\n",
       "      <td>-1.495070</td>\n",
       "    </tr>\n",
       "    <tr>\n",
       "      <th>25</th>\n",
       "      <td>2015-01-26</td>\n",
       "      <td>2.336159</td>\n",
       "      <td>14.640396</td>\n",
       "      <td>228457</td>\n",
       "      <td>-1.675642</td>\n",
       "      <td>-3.291845</td>\n",
       "    </tr>\n",
       "    <tr>\n",
       "      <th>9</th>\n",
       "      <td>2015-01-10</td>\n",
       "      <td>2.034055</td>\n",
       "      <td>13.884081</td>\n",
       "      <td>512258</td>\n",
       "      <td>-2.609339</td>\n",
       "      <td>2.232040</td>\n",
       "    </tr>\n",
       "    <tr>\n",
       "      <th>30</th>\n",
       "      <td>2015-01-31</td>\n",
       "      <td>2.025240</td>\n",
       "      <td>13.955886</td>\n",
       "      <td>516806</td>\n",
       "      <td>-2.520694</td>\n",
       "      <td>2.320562</td>\n",
       "    </tr>\n",
       "    <tr>\n",
       "      <th>330</th>\n",
       "      <td>2015-11-27</td>\n",
       "      <td>1.997068</td>\n",
       "      <td>14.284729</td>\n",
       "      <td>273491</td>\n",
       "      <td>-2.114726</td>\n",
       "      <td>-2.415306</td>\n",
       "    </tr>\n",
       "    <tr>\n",
       "      <th>23</th>\n",
       "      <td>2015-01-24</td>\n",
       "      <td>1.888217</td>\n",
       "      <td>13.641632</td>\n",
       "      <td>457763</td>\n",
       "      <td>-2.908650</td>\n",
       "      <td>1.171353</td>\n",
       "    </tr>\n",
       "    <tr>\n",
       "      <th>359</th>\n",
       "      <td>2015-12-26</td>\n",
       "      <td>1.874640</td>\n",
       "      <td>15.284123</td>\n",
       "      <td>237105</td>\n",
       "      <td>-0.880939</td>\n",
       "      <td>-3.123521</td>\n",
       "    </tr>\n",
       "    <tr>\n",
       "      <th>184</th>\n",
       "      <td>2015-07-04</td>\n",
       "      <td>1.868617</td>\n",
       "      <td>14.749383</td>\n",
       "      <td>252645</td>\n",
       "      <td>-1.541094</td>\n",
       "      <td>-2.821051</td>\n",
       "    </tr>\n",
       "    <tr>\n",
       "      <th>329</th>\n",
       "      <td>2015-11-26</td>\n",
       "      <td>1.815567</td>\n",
       "      <td>15.253119</td>\n",
       "      <td>240713</td>\n",
       "      <td>-0.919215</td>\n",
       "      <td>-3.053295</td>\n",
       "    </tr>\n",
       "    <tr>\n",
       "      <th>249</th>\n",
       "      <td>2015-09-07</td>\n",
       "      <td>1.648500</td>\n",
       "      <td>16.716639</td>\n",
       "      <td>282204</td>\n",
       "      <td>0.887552</td>\n",
       "      <td>-2.245717</td>\n",
       "    </tr>\n",
       "    <tr>\n",
       "      <th>16</th>\n",
       "      <td>2015-01-17</td>\n",
       "      <td>1.639186</td>\n",
       "      <td>13.905548</td>\n",
       "      <td>473724</td>\n",
       "      <td>-2.582838</td>\n",
       "      <td>1.482016</td>\n",
       "    </tr>\n",
       "    <tr>\n",
       "      <th>360</th>\n",
       "      <td>2015-12-27</td>\n",
       "      <td>1.626026</td>\n",
       "      <td>16.470215</td>\n",
       "      <td>266903</td>\n",
       "      <td>0.583332</td>\n",
       "      <td>-2.543534</td>\n",
       "    </tr>\n",
       "    <tr>\n",
       "      <th>43</th>\n",
       "      <td>2015-02-13</td>\n",
       "      <td>1.619290</td>\n",
       "      <td>16.734110</td>\n",
       "      <td>482703</td>\n",
       "      <td>0.909120</td>\n",
       "      <td>1.656783</td>\n",
       "    </tr>\n",
       "  </tbody>\n",
       "</table>\n",
       "</div>"
      ],
      "text/plain": [
       "      taxi_date  km_score  total_amount_x  taxi_trip_count_x  total_amount_y  \\\n",
       "26   2015-01-27  5.946016       11.932300             134820       -5.018880   \n",
       "358  2015-12-25  2.804393       15.520742             187033       -0.588825   \n",
       "270  2015-09-28  2.454395       18.102169             320770        2.598035   \n",
       "25   2015-01-26  2.336159       14.640396             228457       -1.675642   \n",
       "9    2015-01-10  2.034055       13.884081             512258       -2.609339   \n",
       "30   2015-01-31  2.025240       13.955886             516806       -2.520694   \n",
       "330  2015-11-27  1.997068       14.284729             273491       -2.114726   \n",
       "23   2015-01-24  1.888217       13.641632             457763       -2.908650   \n",
       "359  2015-12-26  1.874640       15.284123             237105       -0.880939   \n",
       "184  2015-07-04  1.868617       14.749383             252645       -1.541094   \n",
       "329  2015-11-26  1.815567       15.253119             240713       -0.919215   \n",
       "249  2015-09-07  1.648500       16.716639             282204        0.887552   \n",
       "16   2015-01-17  1.639186       13.905548             473724       -2.582838   \n",
       "360  2015-12-27  1.626026       16.470215             266903        0.583332   \n",
       "43   2015-02-13  1.619290       16.734110             482703        0.909120   \n",
       "\n",
       "     taxi_trip_count_y  \n",
       "26           -5.114389  \n",
       "358          -4.098119  \n",
       "270          -1.495070  \n",
       "25           -3.291845  \n",
       "9             2.232040  \n",
       "30            2.320562  \n",
       "330          -2.415306  \n",
       "23            1.171353  \n",
       "359          -3.123521  \n",
       "184          -2.821051  \n",
       "329          -3.053295  \n",
       "249          -2.245717  \n",
       "16            1.482016  \n",
       "360          -2.543534  \n",
       "43            1.656783  "
      ]
     },
     "execution_count": 360,
     "metadata": {},
     "output_type": "execute_result"
    }
   ],
   "source": [
    "tlc_df_by_day_w_z_scores.sort_values(\"km_score\",ascending=False, inplace=True)\n",
    "tlc_df_by_day_w_z_scores[['taxi_date', 'km_score',  'total_amount_x',\\\n",
    "                          'taxi_trip_count_x',\\\n",
    "                                    'total_amount_y', 'taxi_trip_count_y']].head(15)"
   ]
  },
  {
   "cell_type": "code",
   "execution_count": 361,
   "metadata": {
    "collapsed": false
   },
   "outputs": [
    {
     "data": {
      "text/html": [
       "<div>\n",
       "<table border=\"1\" class=\"dataframe\">\n",
       "  <thead>\n",
       "    <tr style=\"text-align: right;\">\n",
       "      <th></th>\n",
       "      <th>taxi_date</th>\n",
       "      <th>extra</th>\n",
       "      <th>fare_amount</th>\n",
       "      <th>mta_tax</th>\n",
       "      <th>passenger_count</th>\n",
       "      <th>pickup_latitude</th>\n",
       "      <th>pickup_longitude</th>\n",
       "      <th>tip_amount</th>\n",
       "      <th>total_amount_x</th>\n",
       "      <th>trip_distance</th>\n",
       "      <th>taxi_trip_count_x</th>\n",
       "      <th>cluster</th>\n",
       "      <th>km_score</th>\n",
       "      <th>outlier</th>\n",
       "      <th>color</th>\n",
       "      <th>total_amount_y</th>\n",
       "      <th>taxi_trip_count_y</th>\n",
       "    </tr>\n",
       "  </thead>\n",
       "  <tbody>\n",
       "    <tr>\n",
       "      <th>26</th>\n",
       "      <td>2015-01-27</td>\n",
       "      <td>0.534315</td>\n",
       "      <td>9.281400</td>\n",
       "      <td>0.499611</td>\n",
       "      <td>1.714553</td>\n",
       "      <td>40.134412</td>\n",
       "      <td>-72.851410</td>\n",
       "      <td>1.241452</td>\n",
       "      <td>11.932300</td>\n",
       "      <td>2.231997</td>\n",
       "      <td>134820</td>\n",
       "      <td>2</td>\n",
       "      <td>5.946016</td>\n",
       "      <td>1</td>\n",
       "      <td>red</td>\n",
       "      <td>-5.018880</td>\n",
       "      <td>-5.114389</td>\n",
       "    </tr>\n",
       "    <tr>\n",
       "      <th>358</th>\n",
       "      <td>2015-12-25</td>\n",
       "      <td>0.187647</td>\n",
       "      <td>12.892594</td>\n",
       "      <td>0.498300</td>\n",
       "      <td>1.787423</td>\n",
       "      <td>40.295980</td>\n",
       "      <td>-73.140749</td>\n",
       "      <td>1.317086</td>\n",
       "      <td>15.520742</td>\n",
       "      <td>3.366423</td>\n",
       "      <td>187033</td>\n",
       "      <td>2</td>\n",
       "      <td>2.804393</td>\n",
       "      <td>1</td>\n",
       "      <td>red</td>\n",
       "      <td>-0.588825</td>\n",
       "      <td>-4.098119</td>\n",
       "    </tr>\n",
       "    <tr>\n",
       "      <th>270</th>\n",
       "      <td>2015-09-28</td>\n",
       "      <td>0.369048</td>\n",
       "      <td>14.525026</td>\n",
       "      <td>0.498052</td>\n",
       "      <td>1.654874</td>\n",
       "      <td>40.269218</td>\n",
       "      <td>-73.097246</td>\n",
       "      <td>1.975186</td>\n",
       "      <td>18.102169</td>\n",
       "      <td>3.325909</td>\n",
       "      <td>320770</td>\n",
       "      <td>0</td>\n",
       "      <td>2.454395</td>\n",
       "      <td>1</td>\n",
       "      <td>red</td>\n",
       "      <td>2.598035</td>\n",
       "      <td>-1.495070</td>\n",
       "    </tr>\n",
       "    <tr>\n",
       "      <th>25</th>\n",
       "      <td>2015-01-26</td>\n",
       "      <td>0.181358</td>\n",
       "      <td>11.852456</td>\n",
       "      <td>0.498361</td>\n",
       "      <td>1.633555</td>\n",
       "      <td>40.019998</td>\n",
       "      <td>-72.641121</td>\n",
       "      <td>1.551247</td>\n",
       "      <td>14.640396</td>\n",
       "      <td>2.650079</td>\n",
       "      <td>228457</td>\n",
       "      <td>2</td>\n",
       "      <td>2.336159</td>\n",
       "      <td>1</td>\n",
       "      <td>red</td>\n",
       "      <td>-1.675642</td>\n",
       "      <td>-3.291845</td>\n",
       "    </tr>\n",
       "    <tr>\n",
       "      <th>9</th>\n",
       "      <td>2015-01-10</td>\n",
       "      <td>0.204225</td>\n",
       "      <td>11.310585</td>\n",
       "      <td>0.499108</td>\n",
       "      <td>1.734337</td>\n",
       "      <td>39.912979</td>\n",
       "      <td>-72.457707</td>\n",
       "      <td>1.405497</td>\n",
       "      <td>13.884081</td>\n",
       "      <td>2.643237</td>\n",
       "      <td>512258</td>\n",
       "      <td>1</td>\n",
       "      <td>2.034055</td>\n",
       "      <td>1</td>\n",
       "      <td>red</td>\n",
       "      <td>-2.609339</td>\n",
       "      <td>2.232040</td>\n",
       "    </tr>\n",
       "  </tbody>\n",
       "</table>\n",
       "</div>"
      ],
      "text/plain": [
       "      taxi_date     extra  fare_amount   mta_tax  passenger_count  \\\n",
       "26   2015-01-27  0.534315     9.281400  0.499611         1.714553   \n",
       "358  2015-12-25  0.187647    12.892594  0.498300         1.787423   \n",
       "270  2015-09-28  0.369048    14.525026  0.498052         1.654874   \n",
       "25   2015-01-26  0.181358    11.852456  0.498361         1.633555   \n",
       "9    2015-01-10  0.204225    11.310585  0.499108         1.734337   \n",
       "\n",
       "     pickup_latitude  pickup_longitude  tip_amount  total_amount_x  \\\n",
       "26         40.134412        -72.851410    1.241452       11.932300   \n",
       "358        40.295980        -73.140749    1.317086       15.520742   \n",
       "270        40.269218        -73.097246    1.975186       18.102169   \n",
       "25         40.019998        -72.641121    1.551247       14.640396   \n",
       "9          39.912979        -72.457707    1.405497       13.884081   \n",
       "\n",
       "     trip_distance  taxi_trip_count_x  cluster  km_score  outlier color  \\\n",
       "26        2.231997             134820        2  5.946016        1   red   \n",
       "358       3.366423             187033        2  2.804393        1   red   \n",
       "270       3.325909             320770        0  2.454395        1   red   \n",
       "25        2.650079             228457        2  2.336159        1   red   \n",
       "9         2.643237             512258        1  2.034055        1   red   \n",
       "\n",
       "     total_amount_y  taxi_trip_count_y  \n",
       "26        -5.018880          -5.114389  \n",
       "358       -0.588825          -4.098119  \n",
       "270        2.598035          -1.495070  \n",
       "25        -1.675642          -3.291845  \n",
       "9         -2.609339           2.232040  "
      ]
     },
     "execution_count": 361,
     "metadata": {},
     "output_type": "execute_result"
    }
   ],
   "source": [
    "tlc_df_by_day_w_z_scores.head()"
   ]
  },
  {
   "cell_type": "code",
   "execution_count": 363,
   "metadata": {
    "collapsed": false
   },
   "outputs": [
    {
     "name": "stderr",
     "output_type": "stream",
     "text": [
      "/gpfs1/cusp/gtp232/.conda/envs/GTP/lib/python2.7/site-packages/ipykernel_launcher.py:2: SettingWithCopyWarning: \n",
      "A value is trying to be set on a copy of a slice from a DataFrame\n",
      "\n",
      "See the caveats in the documentation: http://pandas.pydata.org/pandas-docs/stable/indexing.html#indexing-view-versus-copy\n",
      "  \n"
     ]
    }
   ],
   "source": [
    "z_score = tlc_df_by_day_w_z_scores[['taxi_date', 'km_score',  'total_amount_x',\\\n",
    "                          'taxi_trip_count_x', 'total_amount_y', 'taxi_trip_count_y']]\n",
    "z_score.sort_values(\"km_score\",ascending=False, inplace=True)\n",
    "z_score.to_csv('tlc_clustered_by_day_w_z_scores.csv')"
   ]
  },
  {
   "cell_type": "code",
   "execution_count": 364,
   "metadata": {
    "collapsed": false
   },
   "outputs": [
    {
     "data": {
      "text/plain": [
       "['total_amount', 'taxi_trip_count']"
      ]
     },
     "execution_count": 364,
     "metadata": {},
     "output_type": "execute_result"
    }
   ],
   "source": [
    "cluster_features"
   ]
  },
  {
   "cell_type": "code",
   "execution_count": 365,
   "metadata": {
    "collapsed": false
   },
   "outputs": [
    {
     "data": {
      "text/plain": [
       "array([[ 0.69263768,  0.05202861],\n",
       "       [-1.03401574,  0.9452845 ],\n",
       "       [-0.46035814, -1.29666947]])"
      ]
     },
     "execution_count": 365,
     "metadata": {},
     "output_type": "execute_result"
    }
   ],
   "source": [
    "KM.cluster_centers_"
   ]
  },
  {
   "cell_type": "code",
   "execution_count": 408,
   "metadata": {
    "collapsed": false
   },
   "outputs": [
    {
     "data": {
      "image/png": "[encoded data removed]",
      "text/plain": [
       "<matplotlib.figure.Figure at 0x7efac6b0d310>"
      ]
     },
     "metadata": {},
     "output_type": "display_data"
    }
   ],
   "source": [
    "fig = plt.figure(figsize=(12,10))\n",
    "#ax = Axes2D(fig)\n",
    "\n",
    "plt.scatter(tlc_df_by_day.taxi_trip_count, tlc_df_by_day.total_amount, c=tlc_df_by_day.color)\n",
    "plt.xlabel('Taxi Trip Count')\n",
    "plt.ylabel('Total $ Amount (Per Trip)')\n",
    "# set x ticks and labels\n",
    "#plt.set_xticks(range(-2, 3, 1))\n",
    "# change fontsize\n",
    "#for t in ax.zaxis.get_major_ticks(): t.label.set_fontsize(10)\n",
    "plt.show()"
   ]
  },
  {
   "cell_type": "markdown",
   "metadata": {},
   "source": [
    "## Isolation Anomaly Detection"
   ]
  },
  {
   "cell_type": "markdown",
   "metadata": {},
   "source": [
    "### Isolation Forest Anomaly Detection"
   ]
  },
  {
   "cell_type": "code",
   "execution_count": 368,
   "metadata": {
    "collapsed": false
   },
   "outputs": [],
   "source": [
    "train,test=train_test_split(X, random_state=999, test_size=0.3)\n",
    "# fit the model\n",
    "clf = IsolationForest(max_samples=100, random_state=999)\n",
    "clf.fit(train)\n",
    "y_pred = clf.predict(X)"
   ]
  },
  {
   "cell_type": "code",
   "execution_count": 369,
   "metadata": {
    "collapsed": false
   },
   "outputs": [
    {
     "name": "stderr",
     "output_type": "stream",
     "text": [
      "/gpfs1/cusp/gtp232/.conda/envs/GTP/lib/python2.7/site-packages/ipykernel_launcher.py:1: SettingWithCopyWarning: \n",
      "A value is trying to be set on a copy of a slice from a DataFrame.\n",
      "Try using .loc[row_indexer,col_indexer] = value instead\n",
      "\n",
      "See the caveats in the documentation: http://pandas.pydata.org/pandas-docs/stable/indexing.html#indexing-view-versus-copy\n",
      "  \"\"\"Entry point for launching an IPython kernel.\n"
     ]
    }
   ],
   "source": [
    "z_score['decision_function'] = clf.decision_function(X)"
   ]
  },
  {
   "cell_type": "code",
   "execution_count": 370,
   "metadata": {
    "collapsed": false
   },
   "outputs": [
    {
     "name": "stderr",
     "output_type": "stream",
     "text": [
      "/gpfs1/cusp/gtp232/.conda/envs/GTP/lib/python2.7/site-packages/ipykernel_launcher.py:1: SettingWithCopyWarning: \n",
      "A value is trying to be set on a copy of a slice from a DataFrame\n",
      "\n",
      "See the caveats in the documentation: http://pandas.pydata.org/pandas-docs/stable/indexing.html#indexing-view-versus-copy\n",
      "  \"\"\"Entry point for launching an IPython kernel.\n"
     ]
    }
   ],
   "source": [
    "z_score.sort_values(\"km_score\",ascending=False, inplace=True)\n",
    "z_score.to_csv('tlc_clustered_by_day_w_z_scores.csv')"
   ]
  },
  {
   "cell_type": "markdown",
   "metadata": {},
   "source": [
    "## January 18 has high payments for some reason... investigate"
   ]
  },
  {
   "cell_type": "code",
   "execution_count": 371,
   "metadata": {
    "collapsed": true
   },
   "outputs": [],
   "source": [
    "df_1_18 = tlc_df_total[tlc_df_total.taxi_date == datetime.date(2015,1,18)]"
   ]
  },
  {
   "cell_type": "code",
   "execution_count": 372,
   "metadata": {
    "collapsed": false
   },
   "outputs": [
    {
     "data": {
      "text/html": [
       "<div>\n",
       "<table border=\"1\" class=\"dataframe\">\n",
       "  <thead>\n",
       "    <tr style=\"text-align: right;\">\n",
       "      <th></th>\n",
       "      <th>extra</th>\n",
       "      <th>fare_amount</th>\n",
       "      <th>mta_tax</th>\n",
       "      <th>passenger_count</th>\n",
       "      <th>pickup_latitude</th>\n",
       "      <th>pickup_longitude</th>\n",
       "      <th>tip_amount</th>\n",
       "      <th>total_amount</th>\n",
       "      <th>tpep_dropoff_datetime</th>\n",
       "      <th>tpep_pickup_datetime</th>\n",
       "      <th>trip_distance</th>\n",
       "      <th>taxi_date</th>\n",
       "    </tr>\n",
       "  </thead>\n",
       "  <tbody>\n",
       "    <tr>\n",
       "      <th>5900871</th>\n",
       "      <td>606.12</td>\n",
       "      <td>82.0</td>\n",
       "      <td>0.5</td>\n",
       "      <td>1.0</td>\n",
       "      <td>40.758495</td>\n",
       "      <td>-73.982208</td>\n",
       "      <td>0.00</td>\n",
       "      <td>688.92</td>\n",
       "      <td>2015-01-18 02:56:05</td>\n",
       "      <td>2015-01-18 02:39:09</td>\n",
       "      <td>10.00</td>\n",
       "      <td>2015-01-18</td>\n",
       "    </tr>\n",
       "    <tr>\n",
       "      <th>5802097</th>\n",
       "      <td>0.00</td>\n",
       "      <td>350.0</td>\n",
       "      <td>0.5</td>\n",
       "      <td>1.0</td>\n",
       "      <td>40.644112</td>\n",
       "      <td>-73.790398</td>\n",
       "      <td>75.13</td>\n",
       "      <td>451.59</td>\n",
       "      <td>2015-01-18 18:30:54</td>\n",
       "      <td>2015-01-18 16:41:09</td>\n",
       "      <td>65.45</td>\n",
       "      <td>2015-01-18</td>\n",
       "    </tr>\n",
       "    <tr>\n",
       "      <th>5348432</th>\n",
       "      <td>0.00</td>\n",
       "      <td>325.0</td>\n",
       "      <td>0.0</td>\n",
       "      <td>1.0</td>\n",
       "      <td>40.660809</td>\n",
       "      <td>-73.805481</td>\n",
       "      <td>25.00</td>\n",
       "      <td>360.96</td>\n",
       "      <td>2015-01-18 16:45:23</td>\n",
       "      <td>2015-01-18 14:55:34</td>\n",
       "      <td>75.63</td>\n",
       "      <td>2015-01-18</td>\n",
       "    </tr>\n",
       "    <tr>\n",
       "      <th>961472</th>\n",
       "      <td>0.00</td>\n",
       "      <td>9.5</td>\n",
       "      <td>0.5</td>\n",
       "      <td>2.0</td>\n",
       "      <td>40.757351</td>\n",
       "      <td>-73.972145</td>\n",
       "      <td>350.00</td>\n",
       "      <td>360.30</td>\n",
       "      <td>2015-01-18 13:55:38</td>\n",
       "      <td>2015-01-18 13:42:14</td>\n",
       "      <td>1.20</td>\n",
       "      <td>2015-01-18</td>\n",
       "    </tr>\n",
       "    <tr>\n",
       "      <th>3392622</th>\n",
       "      <td>0.00</td>\n",
       "      <td>297.0</td>\n",
       "      <td>0.0</td>\n",
       "      <td>2.0</td>\n",
       "      <td>40.642254</td>\n",
       "      <td>-73.789291</td>\n",
       "      <td>0.00</td>\n",
       "      <td>314.38</td>\n",
       "      <td>2015-01-18 13:30:23</td>\n",
       "      <td>2015-01-18 11:16:31</td>\n",
       "      <td>77.70</td>\n",
       "      <td>2015-01-18</td>\n",
       "    </tr>\n",
       "  </tbody>\n",
       "</table>\n",
       "</div>"
      ],
      "text/plain": [
       "          extra  fare_amount  mta_tax  passenger_count  pickup_latitude  \\\n",
       "5900871  606.12         82.0      0.5              1.0        40.758495   \n",
       "5802097    0.00        350.0      0.5              1.0        40.644112   \n",
       "5348432    0.00        325.0      0.0              1.0        40.660809   \n",
       "961472     0.00          9.5      0.5              2.0        40.757351   \n",
       "3392622    0.00        297.0      0.0              2.0        40.642254   \n",
       "\n",
       "         pickup_longitude  tip_amount  total_amount tpep_dropoff_datetime  \\\n",
       "5900871        -73.982208        0.00        688.92   2015-01-18 02:56:05   \n",
       "5802097        -73.790398       75.13        451.59   2015-01-18 18:30:54   \n",
       "5348432        -73.805481       25.00        360.96   2015-01-18 16:45:23   \n",
       "961472         -73.972145      350.00        360.30   2015-01-18 13:55:38   \n",
       "3392622        -73.789291        0.00        314.38   2015-01-18 13:30:23   \n",
       "\n",
       "        tpep_pickup_datetime  trip_distance   taxi_date  \n",
       "5900871  2015-01-18 02:39:09          10.00  2015-01-18  \n",
       "5802097  2015-01-18 16:41:09          65.45  2015-01-18  \n",
       "5348432  2015-01-18 14:55:34          75.63  2015-01-18  \n",
       "961472   2015-01-18 13:42:14           1.20  2015-01-18  \n",
       "3392622  2015-01-18 11:16:31          77.70  2015-01-18  "
      ]
     },
     "execution_count": 372,
     "metadata": {},
     "output_type": "execute_result"
    }
   ],
   "source": [
    "df_1_18.sort_values(by='total_amount', ascending=False).head()"
   ]
  },
  {
   "cell_type": "markdown",
   "metadata": {},
   "source": [
    "## Look at specific areas and see what times / dates around there are anomalies\n",
    "### Madison Square Gardens (40.750556, -73.993611)"
   ]
  },
  {
   "cell_type": "code",
   "execution_count": 373,
   "metadata": {
    "collapsed": false
   },
   "outputs": [],
   "source": [
    "latlon_list = [40.750556, -73.993611]\n",
    "#only keep trips within a reasonable pickup lat / lon (without converting geometries)\n",
    "tlc_df_total_subset = tlc_df_total[(tlc_df_total.pickup_latitude > (latlon_list[0] - 0.005)) & (tlc_df_total.pickup_latitude < (latlon_list[0] + 0.005))]\n",
    "tlc_df_total_subset = tlc_df_total_subset[(tlc_df_total_subset.pickup_longitude > (latlon_list[1] - 0.005)) & (tlc_df_total_subset.pickup_longitude < (latlon_list[1] + 0.005))]"
   ]
  },
  {
   "cell_type": "code",
   "execution_count": 374,
   "metadata": {
    "collapsed": false
   },
   "outputs": [],
   "source": [
    "# convert to geopandas df\n",
    "geometry = [Point(xy) for xy in zip(tlc_df_total_subset.pickup_longitude, tlc_df_total_subset.pickup_latitude)]"
   ]
  },
  {
   "cell_type": "code",
   "execution_count": 375,
   "metadata": {
    "collapsed": true
   },
   "outputs": [],
   "source": [
    "crs = {'init': 'epsg:4326'}\n",
    "tlc_df_total_gp = GeoDataFrame(tlc_df_total_subset, crs=crs, geometry=geometry)"
   ]
  },
  {
   "cell_type": "code",
   "execution_count": 376,
   "metadata": {
    "collapsed": false
   },
   "outputs": [],
   "source": [
    "# create MSG buffer \n",
    "d = {'latitude': latlon_list[0], 'longitude': latlon_list[1]}\n",
    "MSG = pd.DataFrame(data=d, index=[0])\n",
    "geometry_MSG = [Point(xy) for xy in zip(MSG.longitude, MSG.latitude)]\n",
    "crs = {'init': 'epsg:4326'}\n",
    "MSG_gp = GeoDataFrame(crs=crs, geometry=geometry_MSG)"
   ]
  },
  {
   "cell_type": "code",
   "execution_count": 377,
   "metadata": {
    "collapsed": false
   },
   "outputs": [
    {
     "data": {
      "text/html": [
       "<div>\n",
       "<table border=\"1\" class=\"dataframe\">\n",
       "  <thead>\n",
       "    <tr style=\"text-align: right;\">\n",
       "      <th></th>\n",
       "      <th>geometry</th>\n",
       "    </tr>\n",
       "  </thead>\n",
       "  <tbody>\n",
       "    <tr>\n",
       "      <th>0</th>\n",
       "      <td>POLYGON ((-73.98861100000001 40.750556, -73.98...</td>\n",
       "    </tr>\n",
       "  </tbody>\n",
       "</table>\n",
       "</div>"
      ],
      "text/plain": [
       "                                            geometry\n",
       "0  POLYGON ((-73.98861100000001 40.750556, -73.98..."
      ]
     },
     "execution_count": 377,
     "metadata": {},
     "output_type": "execute_result"
    }
   ],
   "source": [
    "#create buffer\n",
    "MSG_gp['geometry'] = MSG_gp.geometry.buffer(.005)\n",
    "MSG_gp.head()"
   ]
  },
  {
   "cell_type": "code",
   "execution_count": 378,
   "metadata": {
    "collapsed": false
   },
   "outputs": [],
   "source": [
    "# only keep points within MSG buffer\n",
    "tlc_df_total_gp_subset = tlc_df_total_gp[tlc_df_total_gp.geometry.intersects(MSG_gp.geometry[0])]"
   ]
  },
  {
   "cell_type": "code",
   "execution_count": 379,
   "metadata": {
    "collapsed": false
   },
   "outputs": [
    {
     "data": {
      "text/html": [
       "<div>\n",
       "<table border=\"1\" class=\"dataframe\">\n",
       "  <thead>\n",
       "    <tr style=\"text-align: right;\">\n",
       "      <th></th>\n",
       "      <th>extra</th>\n",
       "      <th>fare_amount</th>\n",
       "      <th>mta_tax</th>\n",
       "      <th>passenger_count</th>\n",
       "      <th>pickup_latitude</th>\n",
       "      <th>pickup_longitude</th>\n",
       "      <th>tip_amount</th>\n",
       "      <th>total_amount</th>\n",
       "      <th>tpep_dropoff_datetime</th>\n",
       "      <th>tpep_pickup_datetime</th>\n",
       "      <th>trip_distance</th>\n",
       "      <th>taxi_date</th>\n",
       "      <th>geometry</th>\n",
       "    </tr>\n",
       "  </thead>\n",
       "  <tbody>\n",
       "    <tr>\n",
       "      <th>0</th>\n",
       "      <td>1.0</td>\n",
       "      <td>12.0</td>\n",
       "      <td>0.5</td>\n",
       "      <td>1.0</td>\n",
       "      <td>40.750111</td>\n",
       "      <td>-73.993896</td>\n",
       "      <td>3.25</td>\n",
       "      <td>17.05</td>\n",
       "      <td>2015-01-15 19:23:42</td>\n",
       "      <td>2015-01-15 19:05:39</td>\n",
       "      <td>1.59</td>\n",
       "      <td>2015-01-15</td>\n",
       "      <td>POINT (-73.993896484375 40.7501106262207)</td>\n",
       "    </tr>\n",
       "    <tr>\n",
       "      <th>11</th>\n",
       "      <td>0.5</td>\n",
       "      <td>7.5</td>\n",
       "      <td>0.5</td>\n",
       "      <td>1.0</td>\n",
       "      <td>40.751419</td>\n",
       "      <td>-73.993782</td>\n",
       "      <td>1.00</td>\n",
       "      <td>9.80</td>\n",
       "      <td>2015-01-10 20:43:26</td>\n",
       "      <td>2015-01-10 20:33:41</td>\n",
       "      <td>1.10</td>\n",
       "      <td>2015-01-10</td>\n",
       "      <td>POINT (-73.99378204345702 40.75141906738281)</td>\n",
       "    </tr>\n",
       "    <tr>\n",
       "      <th>26</th>\n",
       "      <td>1.0</td>\n",
       "      <td>9.0</td>\n",
       "      <td>0.5</td>\n",
       "      <td>1.0</td>\n",
       "      <td>40.750080</td>\n",
       "      <td>-73.991127</td>\n",
       "      <td>0.00</td>\n",
       "      <td>10.80</td>\n",
       "      <td>2015-01-15 19:16:18</td>\n",
       "      <td>2015-01-15 19:05:42</td>\n",
       "      <td>1.53</td>\n",
       "      <td>2015-01-15</td>\n",
       "      <td>POINT (-73.99112701416014 40.75008010864258)</td>\n",
       "    </tr>\n",
       "    <tr>\n",
       "      <th>64</th>\n",
       "      <td>0.0</td>\n",
       "      <td>7.0</td>\n",
       "      <td>0.5</td>\n",
       "      <td>1.0</td>\n",
       "      <td>40.750809</td>\n",
       "      <td>-73.990952</td>\n",
       "      <td>1.40</td>\n",
       "      <td>9.20</td>\n",
       "      <td>2015-01-04 13:53:17</td>\n",
       "      <td>2015-01-04 13:44:52</td>\n",
       "      <td>1.14</td>\n",
       "      <td>2015-01-04</td>\n",
       "      <td>POINT (-73.99095153808595 40.75080871582031)</td>\n",
       "    </tr>\n",
       "    <tr>\n",
       "      <th>89</th>\n",
       "      <td>0.0</td>\n",
       "      <td>8.5</td>\n",
       "      <td>0.5</td>\n",
       "      <td>1.0</td>\n",
       "      <td>40.751350</td>\n",
       "      <td>-73.994003</td>\n",
       "      <td>0.00</td>\n",
       "      <td>9.30</td>\n",
       "      <td>2015-01-15 14:10:24</td>\n",
       "      <td>2015-01-15 14:00:45</td>\n",
       "      <td>1.20</td>\n",
       "      <td>2015-01-15</td>\n",
       "      <td>POINT (-73.99400329589844 40.75135040283203)</td>\n",
       "    </tr>\n",
       "  </tbody>\n",
       "</table>\n",
       "</div>"
      ],
      "text/plain": [
       "    extra  fare_amount  mta_tax  passenger_count  pickup_latitude  \\\n",
       "0     1.0         12.0      0.5              1.0        40.750111   \n",
       "11    0.5          7.5      0.5              1.0        40.751419   \n",
       "26    1.0          9.0      0.5              1.0        40.750080   \n",
       "64    0.0          7.0      0.5              1.0        40.750809   \n",
       "89    0.0          8.5      0.5              1.0        40.751350   \n",
       "\n",
       "    pickup_longitude  tip_amount  total_amount tpep_dropoff_datetime  \\\n",
       "0         -73.993896        3.25         17.05   2015-01-15 19:23:42   \n",
       "11        -73.993782        1.00          9.80   2015-01-10 20:43:26   \n",
       "26        -73.991127        0.00         10.80   2015-01-15 19:16:18   \n",
       "64        -73.990952        1.40          9.20   2015-01-04 13:53:17   \n",
       "89        -73.994003        0.00          9.30   2015-01-15 14:10:24   \n",
       "\n",
       "   tpep_pickup_datetime  trip_distance   taxi_date  \\\n",
       "0   2015-01-15 19:05:39           1.59  2015-01-15   \n",
       "11  2015-01-10 20:33:41           1.10  2015-01-10   \n",
       "26  2015-01-15 19:05:42           1.53  2015-01-15   \n",
       "64  2015-01-04 13:44:52           1.14  2015-01-04   \n",
       "89  2015-01-15 14:00:45           1.20  2015-01-15   \n",
       "\n",
       "                                        geometry  \n",
       "0      POINT (-73.993896484375 40.7501106262207)  \n",
       "11  POINT (-73.99378204345702 40.75141906738281)  \n",
       "26  POINT (-73.99112701416014 40.75008010864258)  \n",
       "64  POINT (-73.99095153808595 40.75080871582031)  \n",
       "89  POINT (-73.99400329589844 40.75135040283203)  "
      ]
     },
     "execution_count": 379,
     "metadata": {},
     "output_type": "execute_result"
    }
   ],
   "source": [
    "tlc_df_total_gp_subset.head()"
   ]
  },
  {
   "cell_type": "code",
   "execution_count": 380,
   "metadata": {
    "collapsed": false
   },
   "outputs": [
    {
     "name": "stderr",
     "output_type": "stream",
     "text": [
      "/gpfs1/cusp/gtp232/.conda/envs/GTP/lib/python2.7/site-packages/ipykernel_launcher.py:1: SettingWithCopyWarning: \n",
      "A value is trying to be set on a copy of a slice from a DataFrame.\n",
      "Try using .loc[row_indexer,col_indexer] = value instead\n",
      "\n",
      "See the caveats in the documentation: http://pandas.pydata.org/pandas-docs/stable/indexing.html#indexing-view-versus-copy\n",
      "  \"\"\"Entry point for launching an IPython kernel.\n"
     ]
    }
   ],
   "source": [
    "tlc_df_total_gp_subset['hour'] = tlc_df_total_gp_subset.tpep_pickup_datetime.apply(lambda x: x.hour)"
   ]
  },
  {
   "cell_type": "code",
   "execution_count": 381,
   "metadata": {
    "collapsed": true
   },
   "outputs": [],
   "source": [
    "#subset to 3pm - midnight hours (to only capture relevant hours)\n",
    "#tlc_df_total_gp_subset = tlc_df_total_gp_subset[(tlc_df_total_gp_subset.hour >= 15) & (tlc_df_total_gp_subset.hour <= 23)]"
   ]
  },
  {
   "cell_type": "code",
   "execution_count": 382,
   "metadata": {
    "collapsed": false
   },
   "outputs": [
    {
     "data": {
      "text/html": [
       "<div>\n",
       "<table border=\"1\" class=\"dataframe\">\n",
       "  <thead>\n",
       "    <tr style=\"text-align: right;\">\n",
       "      <th></th>\n",
       "      <th>taxi_date</th>\n",
       "      <th>taxi_trip_count</th>\n",
       "    </tr>\n",
       "  </thead>\n",
       "  <tbody>\n",
       "    <tr>\n",
       "      <th>0</th>\n",
       "      <td>2015-01-01</td>\n",
       "      <td>12623</td>\n",
       "    </tr>\n",
       "    <tr>\n",
       "      <th>1</th>\n",
       "      <td>2015-01-02</td>\n",
       "      <td>15700</td>\n",
       "    </tr>\n",
       "    <tr>\n",
       "      <th>2</th>\n",
       "      <td>2015-01-03</td>\n",
       "      <td>16950</td>\n",
       "    </tr>\n",
       "    <tr>\n",
       "      <th>3</th>\n",
       "      <td>2015-01-04</td>\n",
       "      <td>15292</td>\n",
       "    </tr>\n",
       "    <tr>\n",
       "      <th>4</th>\n",
       "      <td>2015-01-05</td>\n",
       "      <td>15399</td>\n",
       "    </tr>\n",
       "  </tbody>\n",
       "</table>\n",
       "</div>"
      ],
      "text/plain": [
       "    taxi_date  taxi_trip_count\n",
       "0  2015-01-01            12623\n",
       "1  2015-01-02            15700\n",
       "2  2015-01-03            16950\n",
       "3  2015-01-04            15292\n",
       "4  2015-01-05            15399"
      ]
     },
     "execution_count": 382,
     "metadata": {},
     "output_type": "execute_result"
    }
   ],
   "source": [
    "#take the mean of the taxi stats each day / hour\n",
    "tlc_df_MSG_count = tlc_df_total_gp_subset.groupby(['taxi_date'], as_index=False)['extra'].count()\n",
    "tlc_df_MSG_count.columns = ['taxi_date', 'taxi_trip_count']\n",
    "tlc_df_MSG_count.head()"
   ]
  },
  {
   "cell_type": "code",
   "execution_count": 383,
   "metadata": {
    "collapsed": false
   },
   "outputs": [
    {
     "data": {
      "text/html": [
       "<div>\n",
       "<table border=\"1\" class=\"dataframe\">\n",
       "  <thead>\n",
       "    <tr style=\"text-align: right;\">\n",
       "      <th></th>\n",
       "      <th>taxi_date</th>\n",
       "      <th>extra</th>\n",
       "      <th>fare_amount</th>\n",
       "      <th>mta_tax</th>\n",
       "      <th>passenger_count</th>\n",
       "      <th>pickup_latitude</th>\n",
       "      <th>pickup_longitude</th>\n",
       "      <th>tip_amount</th>\n",
       "      <th>total_amount</th>\n",
       "      <th>trip_distance</th>\n",
       "      <th>hour</th>\n",
       "    </tr>\n",
       "  </thead>\n",
       "  <tbody>\n",
       "    <tr>\n",
       "      <th>0</th>\n",
       "      <td>2015-01-01</td>\n",
       "      <td>0.234057</td>\n",
       "      <td>11.652141</td>\n",
       "      <td>0.496633</td>\n",
       "      <td>1.798146</td>\n",
       "      <td>40.750435</td>\n",
       "      <td>-73.992884</td>\n",
       "      <td>1.118746</td>\n",
       "      <td>14.025259</td>\n",
       "      <td>2.789937</td>\n",
       "      <td>12.066466</td>\n",
       "    </tr>\n",
       "    <tr>\n",
       "      <th>1</th>\n",
       "      <td>2015-01-02</td>\n",
       "      <td>0.370924</td>\n",
       "      <td>10.948408</td>\n",
       "      <td>0.498726</td>\n",
       "      <td>1.741401</td>\n",
       "      <td>40.750415</td>\n",
       "      <td>-73.992797</td>\n",
       "      <td>0.978538</td>\n",
       "      <td>13.242994</td>\n",
       "      <td>2.319040</td>\n",
       "      <td>14.653822</td>\n",
       "    </tr>\n",
       "    <tr>\n",
       "      <th>2</th>\n",
       "      <td>2015-01-03</td>\n",
       "      <td>0.161622</td>\n",
       "      <td>11.135653</td>\n",
       "      <td>0.497788</td>\n",
       "      <td>1.758230</td>\n",
       "      <td>40.750432</td>\n",
       "      <td>-73.992702</td>\n",
       "      <td>1.026978</td>\n",
       "      <td>13.281011</td>\n",
       "      <td>2.356577</td>\n",
       "      <td>14.863658</td>\n",
       "    </tr>\n",
       "    <tr>\n",
       "      <th>3</th>\n",
       "      <td>2015-01-04</td>\n",
       "      <td>0.178165</td>\n",
       "      <td>11.247973</td>\n",
       "      <td>0.497580</td>\n",
       "      <td>1.668716</td>\n",
       "      <td>40.750435</td>\n",
       "      <td>-73.992910</td>\n",
       "      <td>1.237116</td>\n",
       "      <td>13.637166</td>\n",
       "      <td>2.627132</td>\n",
       "      <td>14.569252</td>\n",
       "    </tr>\n",
       "    <tr>\n",
       "      <th>4</th>\n",
       "      <td>2015-01-05</td>\n",
       "      <td>0.320281</td>\n",
       "      <td>10.328430</td>\n",
       "      <td>0.498831</td>\n",
       "      <td>1.600104</td>\n",
       "      <td>40.750485</td>\n",
       "      <td>-73.992823</td>\n",
       "      <td>1.159662</td>\n",
       "      <td>12.749002</td>\n",
       "      <td>2.253935</td>\n",
       "      <td>12.898175</td>\n",
       "    </tr>\n",
       "  </tbody>\n",
       "</table>\n",
       "</div>"
      ],
      "text/plain": [
       "    taxi_date     extra  fare_amount   mta_tax  passenger_count  \\\n",
       "0  2015-01-01  0.234057    11.652141  0.496633         1.798146   \n",
       "1  2015-01-02  0.370924    10.948408  0.498726         1.741401   \n",
       "2  2015-01-03  0.161622    11.135653  0.497788         1.758230   \n",
       "3  2015-01-04  0.178165    11.247973  0.497580         1.668716   \n",
       "4  2015-01-05  0.320281    10.328430  0.498831         1.600104   \n",
       "\n",
       "   pickup_latitude  pickup_longitude  tip_amount  total_amount  trip_distance  \\\n",
       "0        40.750435        -73.992884    1.118746     14.025259       2.789937   \n",
       "1        40.750415        -73.992797    0.978538     13.242994       2.319040   \n",
       "2        40.750432        -73.992702    1.026978     13.281011       2.356577   \n",
       "3        40.750435        -73.992910    1.237116     13.637166       2.627132   \n",
       "4        40.750485        -73.992823    1.159662     12.749002       2.253935   \n",
       "\n",
       "        hour  \n",
       "0  12.066466  \n",
       "1  14.653822  \n",
       "2  14.863658  \n",
       "3  14.569252  \n",
       "4  12.898175  "
      ]
     },
     "execution_count": 383,
     "metadata": {},
     "output_type": "execute_result"
    }
   ],
   "source": [
    "#take the mean of the taxi stats each day / hour\n",
    "tlc_df_MSG_mean = tlc_df_total_gp_subset.groupby(['taxi_date'], as_index=False).mean()\n",
    "tlc_df_MSG_mean.head()"
   ]
  },
  {
   "cell_type": "code",
   "execution_count": 384,
   "metadata": {
    "collapsed": false
   },
   "outputs": [
    {
     "data": {
      "text/html": [
       "<div>\n",
       "<table border=\"1\" class=\"dataframe\">\n",
       "  <thead>\n",
       "    <tr style=\"text-align: right;\">\n",
       "      <th></th>\n",
       "      <th>taxi_date</th>\n",
       "      <th>taxi_trip_count</th>\n",
       "      <th>extra</th>\n",
       "      <th>fare_amount</th>\n",
       "      <th>mta_tax</th>\n",
       "      <th>passenger_count</th>\n",
       "      <th>pickup_latitude</th>\n",
       "      <th>pickup_longitude</th>\n",
       "      <th>tip_amount</th>\n",
       "      <th>total_amount</th>\n",
       "      <th>trip_distance</th>\n",
       "      <th>hour</th>\n",
       "    </tr>\n",
       "  </thead>\n",
       "  <tbody>\n",
       "    <tr>\n",
       "      <th>0</th>\n",
       "      <td>2015-01-01</td>\n",
       "      <td>12623</td>\n",
       "      <td>0.234057</td>\n",
       "      <td>11.652141</td>\n",
       "      <td>0.496633</td>\n",
       "      <td>1.798146</td>\n",
       "      <td>40.750435</td>\n",
       "      <td>-73.992884</td>\n",
       "      <td>1.118746</td>\n",
       "      <td>14.025259</td>\n",
       "      <td>2.789937</td>\n",
       "      <td>12.066466</td>\n",
       "    </tr>\n",
       "    <tr>\n",
       "      <th>1</th>\n",
       "      <td>2015-01-02</td>\n",
       "      <td>15700</td>\n",
       "      <td>0.370924</td>\n",
       "      <td>10.948408</td>\n",
       "      <td>0.498726</td>\n",
       "      <td>1.741401</td>\n",
       "      <td>40.750415</td>\n",
       "      <td>-73.992797</td>\n",
       "      <td>0.978538</td>\n",
       "      <td>13.242994</td>\n",
       "      <td>2.319040</td>\n",
       "      <td>14.653822</td>\n",
       "    </tr>\n",
       "    <tr>\n",
       "      <th>2</th>\n",
       "      <td>2015-01-03</td>\n",
       "      <td>16950</td>\n",
       "      <td>0.161622</td>\n",
       "      <td>11.135653</td>\n",
       "      <td>0.497788</td>\n",
       "      <td>1.758230</td>\n",
       "      <td>40.750432</td>\n",
       "      <td>-73.992702</td>\n",
       "      <td>1.026978</td>\n",
       "      <td>13.281011</td>\n",
       "      <td>2.356577</td>\n",
       "      <td>14.863658</td>\n",
       "    </tr>\n",
       "    <tr>\n",
       "      <th>3</th>\n",
       "      <td>2015-01-04</td>\n",
       "      <td>15292</td>\n",
       "      <td>0.178165</td>\n",
       "      <td>11.247973</td>\n",
       "      <td>0.497580</td>\n",
       "      <td>1.668716</td>\n",
       "      <td>40.750435</td>\n",
       "      <td>-73.992910</td>\n",
       "      <td>1.237116</td>\n",
       "      <td>13.637166</td>\n",
       "      <td>2.627132</td>\n",
       "      <td>14.569252</td>\n",
       "    </tr>\n",
       "    <tr>\n",
       "      <th>4</th>\n",
       "      <td>2015-01-05</td>\n",
       "      <td>15399</td>\n",
       "      <td>0.320281</td>\n",
       "      <td>10.328430</td>\n",
       "      <td>0.498831</td>\n",
       "      <td>1.600104</td>\n",
       "      <td>40.750485</td>\n",
       "      <td>-73.992823</td>\n",
       "      <td>1.159662</td>\n",
       "      <td>12.749002</td>\n",
       "      <td>2.253935</td>\n",
       "      <td>12.898175</td>\n",
       "    </tr>\n",
       "  </tbody>\n",
       "</table>\n",
       "</div>"
      ],
      "text/plain": [
       "    taxi_date  taxi_trip_count     extra  fare_amount   mta_tax  \\\n",
       "0  2015-01-01            12623  0.234057    11.652141  0.496633   \n",
       "1  2015-01-02            15700  0.370924    10.948408  0.498726   \n",
       "2  2015-01-03            16950  0.161622    11.135653  0.497788   \n",
       "3  2015-01-04            15292  0.178165    11.247973  0.497580   \n",
       "4  2015-01-05            15399  0.320281    10.328430  0.498831   \n",
       "\n",
       "   passenger_count  pickup_latitude  pickup_longitude  tip_amount  \\\n",
       "0         1.798146        40.750435        -73.992884    1.118746   \n",
       "1         1.741401        40.750415        -73.992797    0.978538   \n",
       "2         1.758230        40.750432        -73.992702    1.026978   \n",
       "3         1.668716        40.750435        -73.992910    1.237116   \n",
       "4         1.600104        40.750485        -73.992823    1.159662   \n",
       "\n",
       "   total_amount  trip_distance       hour  \n",
       "0     14.025259       2.789937  12.066466  \n",
       "1     13.242994       2.319040  14.653822  \n",
       "2     13.281011       2.356577  14.863658  \n",
       "3     13.637166       2.627132  14.569252  \n",
       "4     12.749002       2.253935  12.898175  "
      ]
     },
     "execution_count": 384,
     "metadata": {},
     "output_type": "execute_result"
    }
   ],
   "source": [
    "tlc_df_MSG_by_day_hour = tlc_df_MSG_count.merge(tlc_df_MSG_mean, on=['taxi_date'])\n",
    "tlc_df_MSG_by_day_hour.head()"
   ]
  },
  {
   "cell_type": "code",
   "execution_count": 385,
   "metadata": {
    "collapsed": true
   },
   "outputs": [],
   "source": [
    "tlc_df_MSG_by_day_hour['day_of_week'] = tlc_df_MSG_by_day_hour.taxi_date.apply(lambda x: x.weekday())"
   ]
  },
  {
   "cell_type": "code",
   "execution_count": 386,
   "metadata": {
    "collapsed": false
   },
   "outputs": [
    {
     "name": "stderr",
     "output_type": "stream",
     "text": [
      "/gpfs1/cusp/gtp232/.conda/envs/GTP/lib/python2.7/site-packages/ipykernel_launcher.py:3: SettingWithCopyWarning: \n",
      "A value is trying to be set on a copy of a slice from a DataFrame\n",
      "\n",
      "See the caveats in the documentation: http://pandas.pydata.org/pandas-docs/stable/indexing.html#indexing-view-versus-copy\n",
      "  This is separate from the ipykernel package so we can avoid doing imports until\n"
     ]
    }
   ],
   "source": [
    "#control for Friday / Saturday nights\n",
    "tlc_df_MSG_by_day_hour['weekend'] = 0\n",
    "tlc_df_MSG_by_day_hour['weekend'][(tlc_df_MSG_by_day_hour['day_of_week'] == 4) | (tlc_df_MSG_by_day_hour['day_of_week'] == 5)] = 1"
   ]
  },
  {
   "cell_type": "code",
   "execution_count": 387,
   "metadata": {
    "collapsed": false
   },
   "outputs": [
    {
     "name": "stderr",
     "output_type": "stream",
     "text": [
      "/gpfs1/cusp/gtp232/.conda/envs/GTP/lib/python2.7/site-packages/ipykernel_launcher.py:3: SettingWithCopyWarning: \n",
      "A value is trying to be set on a copy of a slice from a DataFrame\n",
      "\n",
      "See the caveats in the documentation: http://pandas.pydata.org/pandas-docs/stable/indexing.html#indexing-view-versus-copy\n",
      "  This is separate from the ipykernel package so we can avoid doing imports until\n"
     ]
    }
   ],
   "source": [
    "#add holiday dummy variable\n",
    "tlc_df_MSG_by_day_hour['holiday'] = 0\n",
    "tlc_df_MSG_by_day_hour['holiday'][tlc_df_MSG_by_day_hour['taxi_date'].isin(holidays_all.index.date)] = 1"
   ]
  },
  {
   "cell_type": "code",
   "execution_count": 388,
   "metadata": {
    "collapsed": false
   },
   "outputs": [
    {
     "data": {
      "text/plain": [
       "<matplotlib.axes._subplots.AxesSubplot at 0x7ef714bacf10>"
      ]
     },
     "execution_count": 388,
     "metadata": {},
     "output_type": "execute_result"
    },
    {
     "data": {
      "image/png": "[encoded data removed]",
      "text/plain": [
       "<matplotlib.figure.Figure at 0x7eff36377bd0>"
      ]
     },
     "metadata": {},
     "output_type": "display_data"
    }
   ],
   "source": [
    "tlc_df_MSG_by_day_hour[['taxi_date', 'taxi_trip_count']].plot()"
   ]
  },
  {
   "cell_type": "code",
   "execution_count": 389,
   "metadata": {
    "collapsed": false
   },
   "outputs": [
    {
     "data": {
      "text/plain": [
       "<matplotlib.axes._subplots.AxesSubplot at 0x7ef715fd9c10>"
      ]
     },
     "execution_count": 389,
     "metadata": {},
     "output_type": "execute_result"
    },
    {
     "data": {
      "image/png": "[encoded data removed]",
      "text/plain": [
       "<matplotlib.figure.Figure at 0x7ef716261b50>"
      ]
     },
     "metadata": {},
     "output_type": "display_data"
    }
   ],
   "source": [
    "tlc_df_MSG_by_day_hour[['taxi_date', 'total_amount']].plot()"
   ]
  },
  {
   "cell_type": "code",
   "execution_count": 390,
   "metadata": {
    "collapsed": false
   },
   "outputs": [
    {
     "data": {
      "text/plain": [
       "<matplotlib.axes._subplots.AxesSubplot at 0x7ef7169d1250>"
      ]
     },
     "execution_count": 390,
     "metadata": {},
     "output_type": "execute_result"
    },
    {
     "data": {
      "image/png": "[encoded data removed]",
      "text/plain": [
       "<matplotlib.figure.Figure at 0x7ef717856b90>"
      ]
     },
     "metadata": {},
     "output_type": "display_data"
    }
   ],
   "source": [
    "tlc_agg = tlc_df_MSG_by_day_hour.groupby(['hour'], as_index=False).sum()\n",
    "tlc_agg[['taxi_trip_count']].plot()"
   ]
  },
  {
   "cell_type": "code",
   "execution_count": 391,
   "metadata": {
    "collapsed": false
   },
   "outputs": [],
   "source": [
    "# read in NYC street shapefile\n",
    "'''\n",
    "shapefile taken from https://geo.nyu.edu/catalog/nyu_2451_34565\n",
    "\n",
    "'''\n",
    "ny_streets_raw = gp.read_file(proj_folder + '/data/nyu_2451_34565.shp')\n",
    "ny_streets_raw = ny_streets_raw.to_crs(epsg=4326)\n",
    "# only keep points within MSG buffer\n",
    "ny_streets = ny_streets_raw[ny_streets_raw.geometry.intersects(MSG_gp.geometry[0])]"
   ]
  },
  {
   "cell_type": "code",
   "execution_count": 392,
   "metadata": {
    "collapsed": false
   },
   "outputs": [
    {
     "data": {
      "text/plain": [
       "<matplotlib.text.Text at 0x7efac7d38b10>"
      ]
     },
     "execution_count": 392,
     "metadata": {},
     "output_type": "execute_result"
    },
    {
     "data": {
      "image/png": "[encoded data removed]",
      "text/plain": [
       "<matplotlib.figure.Figure at 0x7ef716daab50>"
      ]
     },
     "metadata": {},
     "output_type": "display_data"
    }
   ],
   "source": [
    "# is there a way to easily plot each color differently? I have this color column highlighting outliers!\n",
    "\n",
    "MSG_sample = tlc_df_total_gp_subset.sample(n=1000)\n",
    "#MSG_sample.lon = MSG_sample.geometry.x\n",
    "#MSG_sample.lat = MSG_sample.geometry.y\n",
    "f, (ax1) = plt.subplots(figsize=(12,8))\n",
    "MSG_sample.plot(alpha=0.5, ax=ax1, color = 'red')\n",
    "ny_streets['geometry'].plot(alpha=1, linewidth=0.25, ax=ax1, color = '0')\n",
    "ax1.set_title(\"Plot of Taxi Pickups, Around MSG\", fontsize=20)\n",
    "plt.xlabel(\"longitude\")\n",
    "plt.ylabel(\"latitude\")"
   ]
  },
  {
   "cell_type": "markdown",
   "metadata": {},
   "source": [
    "## MSG anomaly analysis (isolation forest)"
   ]
  },
  {
   "cell_type": "code",
   "execution_count": 393,
   "metadata": {
    "collapsed": false
   },
   "outputs": [
    {
     "data": {
      "text/html": [
       "<div>\n",
       "<table border=\"1\" class=\"dataframe\">\n",
       "  <thead>\n",
       "    <tr style=\"text-align: right;\">\n",
       "      <th></th>\n",
       "      <th>extra</th>\n",
       "      <th>fare_amount</th>\n",
       "      <th>mta_tax</th>\n",
       "      <th>passenger_count</th>\n",
       "      <th>pickup_latitude</th>\n",
       "      <th>pickup_longitude</th>\n",
       "      <th>tip_amount</th>\n",
       "      <th>total_amount</th>\n",
       "      <th>tpep_dropoff_datetime</th>\n",
       "      <th>tpep_pickup_datetime</th>\n",
       "      <th>trip_distance</th>\n",
       "      <th>taxi_date</th>\n",
       "      <th>geometry</th>\n",
       "      <th>hour</th>\n",
       "    </tr>\n",
       "  </thead>\n",
       "  <tbody>\n",
       "    <tr>\n",
       "      <th>0</th>\n",
       "      <td>1.0</td>\n",
       "      <td>12.0</td>\n",
       "      <td>0.5</td>\n",
       "      <td>1.0</td>\n",
       "      <td>40.750111</td>\n",
       "      <td>-73.993896</td>\n",
       "      <td>3.25</td>\n",
       "      <td>17.05</td>\n",
       "      <td>2015-01-15 19:23:42</td>\n",
       "      <td>2015-01-15 19:05:39</td>\n",
       "      <td>1.59</td>\n",
       "      <td>2015-01-15</td>\n",
       "      <td>POINT (-73.993896484375 40.7501106262207)</td>\n",
       "      <td>19</td>\n",
       "    </tr>\n",
       "    <tr>\n",
       "      <th>11</th>\n",
       "      <td>0.5</td>\n",
       "      <td>7.5</td>\n",
       "      <td>0.5</td>\n",
       "      <td>1.0</td>\n",
       "      <td>40.751419</td>\n",
       "      <td>-73.993782</td>\n",
       "      <td>1.00</td>\n",
       "      <td>9.80</td>\n",
       "      <td>2015-01-10 20:43:26</td>\n",
       "      <td>2015-01-10 20:33:41</td>\n",
       "      <td>1.10</td>\n",
       "      <td>2015-01-10</td>\n",
       "      <td>POINT (-73.99378204345702 40.75141906738281)</td>\n",
       "      <td>20</td>\n",
       "    </tr>\n",
       "    <tr>\n",
       "      <th>26</th>\n",
       "      <td>1.0</td>\n",
       "      <td>9.0</td>\n",
       "      <td>0.5</td>\n",
       "      <td>1.0</td>\n",
       "      <td>40.750080</td>\n",
       "      <td>-73.991127</td>\n",
       "      <td>0.00</td>\n",
       "      <td>10.80</td>\n",
       "      <td>2015-01-15 19:16:18</td>\n",
       "      <td>2015-01-15 19:05:42</td>\n",
       "      <td>1.53</td>\n",
       "      <td>2015-01-15</td>\n",
       "      <td>POINT (-73.99112701416014 40.75008010864258)</td>\n",
       "      <td>19</td>\n",
       "    </tr>\n",
       "    <tr>\n",
       "      <th>64</th>\n",
       "      <td>0.0</td>\n",
       "      <td>7.0</td>\n",
       "      <td>0.5</td>\n",
       "      <td>1.0</td>\n",
       "      <td>40.750809</td>\n",
       "      <td>-73.990952</td>\n",
       "      <td>1.40</td>\n",
       "      <td>9.20</td>\n",
       "      <td>2015-01-04 13:53:17</td>\n",
       "      <td>2015-01-04 13:44:52</td>\n",
       "      <td>1.14</td>\n",
       "      <td>2015-01-04</td>\n",
       "      <td>POINT (-73.99095153808595 40.75080871582031)</td>\n",
       "      <td>13</td>\n",
       "    </tr>\n",
       "    <tr>\n",
       "      <th>89</th>\n",
       "      <td>0.0</td>\n",
       "      <td>8.5</td>\n",
       "      <td>0.5</td>\n",
       "      <td>1.0</td>\n",
       "      <td>40.751350</td>\n",
       "      <td>-73.994003</td>\n",
       "      <td>0.00</td>\n",
       "      <td>9.30</td>\n",
       "      <td>2015-01-15 14:10:24</td>\n",
       "      <td>2015-01-15 14:00:45</td>\n",
       "      <td>1.20</td>\n",
       "      <td>2015-01-15</td>\n",
       "      <td>POINT (-73.99400329589844 40.75135040283203)</td>\n",
       "      <td>14</td>\n",
       "    </tr>\n",
       "  </tbody>\n",
       "</table>\n",
       "</div>"
      ],
      "text/plain": [
       "    extra  fare_amount  mta_tax  passenger_count  pickup_latitude  \\\n",
       "0     1.0         12.0      0.5              1.0        40.750111   \n",
       "11    0.5          7.5      0.5              1.0        40.751419   \n",
       "26    1.0          9.0      0.5              1.0        40.750080   \n",
       "64    0.0          7.0      0.5              1.0        40.750809   \n",
       "89    0.0          8.5      0.5              1.0        40.751350   \n",
       "\n",
       "    pickup_longitude  tip_amount  total_amount tpep_dropoff_datetime  \\\n",
       "0         -73.993896        3.25         17.05   2015-01-15 19:23:42   \n",
       "11        -73.993782        1.00          9.80   2015-01-10 20:43:26   \n",
       "26        -73.991127        0.00         10.80   2015-01-15 19:16:18   \n",
       "64        -73.990952        1.40          9.20   2015-01-04 13:53:17   \n",
       "89        -73.994003        0.00          9.30   2015-01-15 14:10:24   \n",
       "\n",
       "   tpep_pickup_datetime  trip_distance   taxi_date  \\\n",
       "0   2015-01-15 19:05:39           1.59  2015-01-15   \n",
       "11  2015-01-10 20:33:41           1.10  2015-01-10   \n",
       "26  2015-01-15 19:05:42           1.53  2015-01-15   \n",
       "64  2015-01-04 13:44:52           1.14  2015-01-04   \n",
       "89  2015-01-15 14:00:45           1.20  2015-01-15   \n",
       "\n",
       "                                        geometry  hour  \n",
       "0      POINT (-73.993896484375 40.7501106262207)    19  \n",
       "11  POINT (-73.99378204345702 40.75141906738281)    20  \n",
       "26  POINT (-73.99112701416014 40.75008010864258)    19  \n",
       "64  POINT (-73.99095153808595 40.75080871582031)    13  \n",
       "89  POINT (-73.99400329589844 40.75135040283203)    14  "
      ]
     },
     "execution_count": 393,
     "metadata": {},
     "output_type": "execute_result"
    }
   ],
   "source": [
    "tlc_df_total_gp_subset.head()"
   ]
  },
  {
   "cell_type": "code",
   "execution_count": 394,
   "metadata": {
    "collapsed": false
   },
   "outputs": [
    {
     "data": {
      "text/html": [
       "<div>\n",
       "<table border=\"1\" class=\"dataframe\">\n",
       "  <thead>\n",
       "    <tr style=\"text-align: right;\">\n",
       "      <th></th>\n",
       "      <th>total_amount</th>\n",
       "      <th>taxi_trip_count</th>\n",
       "    </tr>\n",
       "  </thead>\n",
       "  <tbody>\n",
       "    <tr>\n",
       "      <th>0</th>\n",
       "      <td>14.025259</td>\n",
       "      <td>12623</td>\n",
       "    </tr>\n",
       "    <tr>\n",
       "      <th>1</th>\n",
       "      <td>13.242994</td>\n",
       "      <td>15700</td>\n",
       "    </tr>\n",
       "  </tbody>\n",
       "</table>\n",
       "</div>"
      ],
      "text/plain": [
       "   total_amount  taxi_trip_count\n",
       "0     14.025259            12623\n",
       "1     13.242994            15700"
      ]
     },
     "execution_count": 394,
     "metadata": {},
     "output_type": "execute_result"
    }
   ],
   "source": [
    "X = tlc_df_MSG_by_day_hour[cluster_features]\n",
    "X.head(2)"
   ]
  },
  {
   "cell_type": "code",
   "execution_count": 395,
   "metadata": {
    "collapsed": false
   },
   "outputs": [
    {
     "name": "stderr",
     "output_type": "stream",
     "text": [
      "/gpfs1/cusp/gtp232/.conda/envs/GTP/lib/python2.7/site-packages/ipykernel_launcher.py:3: SettingWithCopyWarning: \n",
      "A value is trying to be set on a copy of a slice from a DataFrame.\n",
      "Try using .loc[row_indexer,col_indexer] = value instead\n",
      "\n",
      "See the caveats in the documentation: http://pandas.pydata.org/pandas-docs/stable/indexing.html#indexing-view-versus-copy\n",
      "  This is separate from the ipykernel package so we can avoid doing imports until\n"
     ]
    }
   ],
   "source": [
    "#normalize columns\n",
    "for i in X.columns:\n",
    "    X[i] = (X[i] - X[i].mean()) / X[i].std()"
   ]
  },
  {
   "cell_type": "code",
   "execution_count": 396,
   "metadata": {
    "collapsed": true
   },
   "outputs": [],
   "source": [
    "train,test=train_test_split(X, random_state=999, test_size=0.3)\n",
    "# fit the model\n",
    "clf = IsolationForest(max_samples=100, random_state=999)\n",
    "clf.fit(train)\n",
    "y_pred = clf.predict(X)"
   ]
  },
  {
   "cell_type": "code",
   "execution_count": 397,
   "metadata": {
    "collapsed": true
   },
   "outputs": [],
   "source": [
    "tlc_df_MSG_by_day_hour['decision_function'] = clf.decision_function(X)"
   ]
  },
  {
   "cell_type": "code",
   "execution_count": 398,
   "metadata": {
    "collapsed": false,
    "scrolled": false
   },
   "outputs": [
    {
     "data": {
      "text/html": [
       "<div>\n",
       "<table border=\"1\" class=\"dataframe\">\n",
       "  <thead>\n",
       "    <tr style=\"text-align: right;\">\n",
       "      <th></th>\n",
       "      <th>taxi_date</th>\n",
       "      <th>taxi_trip_count</th>\n",
       "      <th>extra</th>\n",
       "      <th>fare_amount</th>\n",
       "      <th>mta_tax</th>\n",
       "      <th>passenger_count</th>\n",
       "      <th>pickup_latitude</th>\n",
       "      <th>pickup_longitude</th>\n",
       "      <th>tip_amount</th>\n",
       "      <th>total_amount</th>\n",
       "      <th>trip_distance</th>\n",
       "      <th>hour</th>\n",
       "      <th>day_of_week</th>\n",
       "      <th>weekend</th>\n",
       "      <th>holiday</th>\n",
       "      <th>decision_function</th>\n",
       "    </tr>\n",
       "  </thead>\n",
       "  <tbody>\n",
       "    <tr>\n",
       "      <th>26</th>\n",
       "      <td>2015-01-27</td>\n",
       "      <td>3599</td>\n",
       "      <td>0.540156</td>\n",
       "      <td>9.298864</td>\n",
       "      <td>0.499444</td>\n",
       "      <td>1.718255</td>\n",
       "      <td>40.750558</td>\n",
       "      <td>-73.992998</td>\n",
       "      <td>1.165582</td>\n",
       "      <td>11.889330</td>\n",
       "      <td>2.206099</td>\n",
       "      <td>17.396777</td>\n",
       "      <td>1</td>\n",
       "      <td>0</td>\n",
       "      <td>0</td>\n",
       "      <td>-0.207831</td>\n",
       "    </tr>\n",
       "    <tr>\n",
       "      <th>184</th>\n",
       "      <td>2015-07-04</td>\n",
       "      <td>9292</td>\n",
       "      <td>0.181877</td>\n",
       "      <td>10.633475</td>\n",
       "      <td>0.498547</td>\n",
       "      <td>1.740099</td>\n",
       "      <td>40.750523</td>\n",
       "      <td>-73.992691</td>\n",
       "      <td>1.037090</td>\n",
       "      <td>12.804399</td>\n",
       "      <td>2.509267</td>\n",
       "      <td>13.957275</td>\n",
       "      <td>5</td>\n",
       "      <td>1</td>\n",
       "      <td>1</td>\n",
       "      <td>-0.183371</td>\n",
       "    </tr>\n",
       "    <tr>\n",
       "      <th>25</th>\n",
       "      <td>2015-01-26</td>\n",
       "      <td>10358</td>\n",
       "      <td>0.181454</td>\n",
       "      <td>10.734186</td>\n",
       "      <td>0.498504</td>\n",
       "      <td>1.605040</td>\n",
       "      <td>40.750455</td>\n",
       "      <td>-73.992792</td>\n",
       "      <td>1.357831</td>\n",
       "      <td>13.219261</td>\n",
       "      <td>2.111629</td>\n",
       "      <td>10.119328</td>\n",
       "      <td>0</td>\n",
       "      <td>0</td>\n",
       "      <td>0</td>\n",
       "      <td>-0.152979</td>\n",
       "    </tr>\n",
       "    <tr>\n",
       "      <th>357</th>\n",
       "      <td>2015-12-24</td>\n",
       "      <td>10696</td>\n",
       "      <td>0.360789</td>\n",
       "      <td>10.925206</td>\n",
       "      <td>0.497709</td>\n",
       "      <td>1.698111</td>\n",
       "      <td>40.750516</td>\n",
       "      <td>-73.992775</td>\n",
       "      <td>1.116998</td>\n",
       "      <td>13.386415</td>\n",
       "      <td>2.444831</td>\n",
       "      <td>13.223168</td>\n",
       "      <td>3</td>\n",
       "      <td>0</td>\n",
       "      <td>1</td>\n",
       "      <td>-0.145098</td>\n",
       "    </tr>\n",
       "    <tr>\n",
       "      <th>358</th>\n",
       "      <td>2015-12-25</td>\n",
       "      <td>7725</td>\n",
       "      <td>0.197799</td>\n",
       "      <td>11.336958</td>\n",
       "      <td>0.497735</td>\n",
       "      <td>1.716246</td>\n",
       "      <td>40.750489</td>\n",
       "      <td>-73.992858</td>\n",
       "      <td>1.195188</td>\n",
       "      <td>13.724594</td>\n",
       "      <td>2.680350</td>\n",
       "      <td>14.889968</td>\n",
       "      <td>4</td>\n",
       "      <td>1</td>\n",
       "      <td>1</td>\n",
       "      <td>-0.133813</td>\n",
       "    </tr>\n",
       "    <tr>\n",
       "      <th>183</th>\n",
       "      <td>2015-07-03</td>\n",
       "      <td>12208</td>\n",
       "      <td>0.229030</td>\n",
       "      <td>10.850224</td>\n",
       "      <td>0.497665</td>\n",
       "      <td>1.706832</td>\n",
       "      <td>40.750409</td>\n",
       "      <td>-73.992841</td>\n",
       "      <td>1.085757</td>\n",
       "      <td>13.147170</td>\n",
       "      <td>2.458297</td>\n",
       "      <td>13.609682</td>\n",
       "      <td>4</td>\n",
       "      <td>1</td>\n",
       "      <td>1</td>\n",
       "      <td>-0.129236</td>\n",
       "    </tr>\n",
       "    <tr>\n",
       "      <th>46</th>\n",
       "      <td>2015-02-16</td>\n",
       "      <td>20667</td>\n",
       "      <td>0.177916</td>\n",
       "      <td>10.494484</td>\n",
       "      <td>0.498355</td>\n",
       "      <td>1.680215</td>\n",
       "      <td>40.750522</td>\n",
       "      <td>-73.992832</td>\n",
       "      <td>1.306227</td>\n",
       "      <td>12.940994</td>\n",
       "      <td>2.337091</td>\n",
       "      <td>14.010984</td>\n",
       "      <td>0</td>\n",
       "      <td>0</td>\n",
       "      <td>1</td>\n",
       "      <td>-0.122500</td>\n",
       "    </tr>\n",
       "    <tr>\n",
       "      <th>150</th>\n",
       "      <td>2015-05-31</td>\n",
       "      <td>14984</td>\n",
       "      <td>0.206287</td>\n",
       "      <td>13.915528</td>\n",
       "      <td>0.497564</td>\n",
       "      <td>1.673251</td>\n",
       "      <td>40.750348</td>\n",
       "      <td>-73.992935</td>\n",
       "      <td>1.660047</td>\n",
       "      <td>16.761441</td>\n",
       "      <td>2.797229</td>\n",
       "      <td>14.028764</td>\n",
       "      <td>6</td>\n",
       "      <td>0</td>\n",
       "      <td>0</td>\n",
       "      <td>-0.117440</td>\n",
       "    </tr>\n",
       "    <tr>\n",
       "      <th>9</th>\n",
       "      <td>2015-01-10</td>\n",
       "      <td>18991</td>\n",
       "      <td>0.174109</td>\n",
       "      <td>10.425721</td>\n",
       "      <td>0.498736</td>\n",
       "      <td>1.724343</td>\n",
       "      <td>40.750419</td>\n",
       "      <td>-73.992807</td>\n",
       "      <td>1.087926</td>\n",
       "      <td>12.597520</td>\n",
       "      <td>2.196853</td>\n",
       "      <td>14.250066</td>\n",
       "      <td>5</td>\n",
       "      <td>1</td>\n",
       "      <td>0</td>\n",
       "      <td>-0.113668</td>\n",
       "    </tr>\n",
       "    <tr>\n",
       "      <th>329</th>\n",
       "      <td>2015-11-26</td>\n",
       "      <td>9852</td>\n",
       "      <td>0.253502</td>\n",
       "      <td>11.619671</td>\n",
       "      <td>0.497006</td>\n",
       "      <td>1.702395</td>\n",
       "      <td>40.750538</td>\n",
       "      <td>-73.993047</td>\n",
       "      <td>1.250675</td>\n",
       "      <td>14.115899</td>\n",
       "      <td>2.769345</td>\n",
       "      <td>15.062221</td>\n",
       "      <td>3</td>\n",
       "      <td>0</td>\n",
       "      <td>1</td>\n",
       "      <td>-0.106591</td>\n",
       "    </tr>\n",
       "  </tbody>\n",
       "</table>\n",
       "</div>"
      ],
      "text/plain": [
       "      taxi_date  taxi_trip_count     extra  fare_amount   mta_tax  \\\n",
       "26   2015-01-27             3599  0.540156     9.298864  0.499444   \n",
       "184  2015-07-04             9292  0.181877    10.633475  0.498547   \n",
       "25   2015-01-26            10358  0.181454    10.734186  0.498504   \n",
       "357  2015-12-24            10696  0.360789    10.925206  0.497709   \n",
       "358  2015-12-25             7725  0.197799    11.336958  0.497735   \n",
       "183  2015-07-03            12208  0.229030    10.850224  0.497665   \n",
       "46   2015-02-16            20667  0.177916    10.494484  0.498355   \n",
       "150  2015-05-31            14984  0.206287    13.915528  0.497564   \n",
       "9    2015-01-10            18991  0.174109    10.425721  0.498736   \n",
       "329  2015-11-26             9852  0.253502    11.619671  0.497006   \n",
       "\n",
       "     passenger_count  pickup_latitude  pickup_longitude  tip_amount  \\\n",
       "26          1.718255        40.750558        -73.992998    1.165582   \n",
       "184         1.740099        40.750523        -73.992691    1.037090   \n",
       "25          1.605040        40.750455        -73.992792    1.357831   \n",
       "357         1.698111        40.750516        -73.992775    1.116998   \n",
       "358         1.716246        40.750489        -73.992858    1.195188   \n",
       "183         1.706832        40.750409        -73.992841    1.085757   \n",
       "46          1.680215        40.750522        -73.992832    1.306227   \n",
       "150         1.673251        40.750348        -73.992935    1.660047   \n",
       "9           1.724343        40.750419        -73.992807    1.087926   \n",
       "329         1.702395        40.750538        -73.993047    1.250675   \n",
       "\n",
       "     total_amount  trip_distance       hour  day_of_week  weekend  holiday  \\\n",
       "26      11.889330       2.206099  17.396777            1        0        0   \n",
       "184     12.804399       2.509267  13.957275            5        1        1   \n",
       "25      13.219261       2.111629  10.119328            0        0        0   \n",
       "357     13.386415       2.444831  13.223168            3        0        1   \n",
       "358     13.724594       2.680350  14.889968            4        1        1   \n",
       "183     13.147170       2.458297  13.609682            4        1        1   \n",
       "46      12.940994       2.337091  14.010984            0        0        1   \n",
       "150     16.761441       2.797229  14.028764            6        0        0   \n",
       "9       12.597520       2.196853  14.250066            5        1        0   \n",
       "329     14.115899       2.769345  15.062221            3        0        1   \n",
       "\n",
       "     decision_function  \n",
       "26           -0.207831  \n",
       "184          -0.183371  \n",
       "25           -0.152979  \n",
       "357          -0.145098  \n",
       "358          -0.133813  \n",
       "183          -0.129236  \n",
       "46           -0.122500  \n",
       "150          -0.117440  \n",
       "9            -0.113668  \n",
       "329          -0.106591  "
      ]
     },
     "execution_count": 398,
     "metadata": {},
     "output_type": "execute_result"
    }
   ],
   "source": [
    "tlc_df_MSG_by_day_hour.sort_values(by='decision_function').head(10)"
   ]
  },
  {
   "cell_type": "markdown",
   "metadata": {},
   "source": [
    "### K-Means Cluster Model Anomaly Detection"
   ]
  },
  {
   "cell_type": "code",
   "execution_count": 399,
   "metadata": {
    "collapsed": false
   },
   "outputs": [
    {
     "name": "stdout",
     "output_type": "stream",
     "text": [
      "For n_clusters =2, the average silhouette_score is :0.332759691532\n",
      "For n_clusters =3, the average silhouette_score is :0.360622304528\n",
      "For n_clusters =4, the average silhouette_score is :0.370832077074\n",
      "For n_clusters =5, the average silhouette_score is :0.35637887774\n",
      "For n_clusters =6, the average silhouette_score is :0.319486520169\n",
      "For n_clusters =7, the average silhouette_score is :0.311896332996\n",
      "For n_clusters =8, the average silhouette_score is :0.325261026919\n"
     ]
    }
   ],
   "source": [
    "range_n_clusters = [2, 3, 4, 5, 6, 7, 8]\n",
    "for n_clusters in range_n_clusters:\n",
    "    km = KMeans(n_clusters=n_clusters, random_state=324)\n",
    "    cluster_labels = km.fit_predict(X)\n",
    "    silhouette_avg = silhouette_score(X, cluster_labels)\n",
    "    print(\"For n_clusters ={},\".format(n_clusters)+\" the average silhouette_score is :{}\".format(silhouette_avg))"
   ]
  },
  {
   "cell_type": "code",
   "execution_count": 400,
   "metadata": {
    "collapsed": false
   },
   "outputs": [],
   "source": [
    "n=2\n",
    "KM=KMeans(n_clusters=n,random_state=999)\n",
    "scor=KM.fit_predict(X)\n",
    "\n",
    "res=pd.DataFrame(KM.transform(X))\n",
    "res=pd.concat((res,pd.DataFrame(KM.fit_predict(X))),axis=1)\n",
    "res.columns=list(range(n))+[\"cluster\"]\n",
    "res.loc[:,\"score\"]=res.apply(lambda x: x[int(x[\"cluster\"])],axis=1)"
   ]
  },
  {
   "cell_type": "code",
   "execution_count": 401,
   "metadata": {
    "collapsed": false
   },
   "outputs": [],
   "source": [
    "tlc_df_MSG_by_day_hour['cluster'] = res.cluster\n",
    "tlc_df_MSG_by_day_hour['km_score'] = res.score\n",
    "tlc_df_MSG_by_day_hour['outlier'] = 0\n",
    "tlc_df_MSG_by_day_hour.sort_values(\"km_score\",ascending=False, inplace=True)"
   ]
  },
  {
   "cell_type": "code",
   "execution_count": 402,
   "metadata": {
    "collapsed": false
   },
   "outputs": [
    {
     "name": "stderr",
     "output_type": "stream",
     "text": [
      "/gpfs1/cusp/gtp232/.conda/envs/GTP/lib/python2.7/site-packages/ipykernel_launcher.py:1: SettingWithCopyWarning: \n",
      "A value is trying to be set on a copy of a slice from a DataFrame\n",
      "\n",
      "See the caveats in the documentation: http://pandas.pydata.org/pandas-docs/stable/indexing.html#indexing-view-versus-copy\n",
      "  \"\"\"Entry point for launching an IPython kernel.\n"
     ]
    }
   ],
   "source": [
    "tlc_df_MSG_by_day_hour['outlier'][:10] = 1 "
   ]
  },
  {
   "cell_type": "code",
   "execution_count": 403,
   "metadata": {
    "collapsed": true
   },
   "outputs": [],
   "source": [
    "def set_color(Data1):\n",
    "    if (Data1.outlier == 1):\n",
    "        return \"red\"\n",
    "    elif (Data1.cluster == 0):\n",
    "        return \"blue\"\n",
    "    elif (Data1.cluster == 1):\n",
    "        return \"cyan\"\n",
    "    else:\n",
    "        return \"green\"\n",
    "\n",
    "tlc_df_MSG_by_day_hour = tlc_df_MSG_by_day_hour.assign(color=tlc_df_MSG_by_day_hour.apply(set_color, axis=1))"
   ]
  },
  {
   "cell_type": "code",
   "execution_count": 404,
   "metadata": {
    "collapsed": false,
    "scrolled": true
   },
   "outputs": [
    {
     "data": {
      "text/html": [
       "<div>\n",
       "<table border=\"1\" class=\"dataframe\">\n",
       "  <thead>\n",
       "    <tr style=\"text-align: right;\">\n",
       "      <th></th>\n",
       "      <th>taxi_date</th>\n",
       "      <th>taxi_trip_count</th>\n",
       "      <th>extra</th>\n",
       "      <th>fare_amount</th>\n",
       "      <th>mta_tax</th>\n",
       "      <th>passenger_count</th>\n",
       "      <th>pickup_latitude</th>\n",
       "      <th>pickup_longitude</th>\n",
       "      <th>tip_amount</th>\n",
       "      <th>total_amount</th>\n",
       "      <th>trip_distance</th>\n",
       "      <th>hour</th>\n",
       "      <th>day_of_week</th>\n",
       "      <th>weekend</th>\n",
       "      <th>holiday</th>\n",
       "      <th>decision_function</th>\n",
       "      <th>cluster</th>\n",
       "      <th>km_score</th>\n",
       "      <th>outlier</th>\n",
       "      <th>color</th>\n",
       "    </tr>\n",
       "  </thead>\n",
       "  <tbody>\n",
       "    <tr>\n",
       "      <th>26</th>\n",
       "      <td>2015-01-27</td>\n",
       "      <td>3599</td>\n",
       "      <td>0.540156</td>\n",
       "      <td>9.298864</td>\n",
       "      <td>0.499444</td>\n",
       "      <td>1.718255</td>\n",
       "      <td>40.750558</td>\n",
       "      <td>-73.992998</td>\n",
       "      <td>1.165582</td>\n",
       "      <td>11.889330</td>\n",
       "      <td>2.206099</td>\n",
       "      <td>17.396777</td>\n",
       "      <td>1</td>\n",
       "      <td>0</td>\n",
       "      <td>0</td>\n",
       "      <td>-0.207831</td>\n",
       "      <td>1</td>\n",
       "      <td>7.544423</td>\n",
       "      <td>1</td>\n",
       "      <td>red</td>\n",
       "    </tr>\n",
       "    <tr>\n",
       "      <th>358</th>\n",
       "      <td>2015-12-25</td>\n",
       "      <td>7725</td>\n",
       "      <td>0.197799</td>\n",
       "      <td>11.336958</td>\n",
       "      <td>0.497735</td>\n",
       "      <td>1.716246</td>\n",
       "      <td>40.750489</td>\n",
       "      <td>-73.992858</td>\n",
       "      <td>1.195188</td>\n",
       "      <td>13.724594</td>\n",
       "      <td>2.680350</td>\n",
       "      <td>14.889968</td>\n",
       "      <td>4</td>\n",
       "      <td>1</td>\n",
       "      <td>1</td>\n",
       "      <td>-0.133813</td>\n",
       "      <td>1</td>\n",
       "      <td>4.761772</td>\n",
       "      <td>1</td>\n",
       "      <td>red</td>\n",
       "    </tr>\n",
       "    <tr>\n",
       "      <th>184</th>\n",
       "      <td>2015-07-04</td>\n",
       "      <td>9292</td>\n",
       "      <td>0.181877</td>\n",
       "      <td>10.633475</td>\n",
       "      <td>0.498547</td>\n",
       "      <td>1.740099</td>\n",
       "      <td>40.750523</td>\n",
       "      <td>-73.992691</td>\n",
       "      <td>1.037090</td>\n",
       "      <td>12.804399</td>\n",
       "      <td>2.509267</td>\n",
       "      <td>13.957275</td>\n",
       "      <td>5</td>\n",
       "      <td>1</td>\n",
       "      <td>1</td>\n",
       "      <td>-0.183371</td>\n",
       "      <td>1</td>\n",
       "      <td>4.077741</td>\n",
       "      <td>1</td>\n",
       "      <td>red</td>\n",
       "    </tr>\n",
       "    <tr>\n",
       "      <th>329</th>\n",
       "      <td>2015-11-26</td>\n",
       "      <td>9852</td>\n",
       "      <td>0.253502</td>\n",
       "      <td>11.619671</td>\n",
       "      <td>0.497006</td>\n",
       "      <td>1.702395</td>\n",
       "      <td>40.750538</td>\n",
       "      <td>-73.993047</td>\n",
       "      <td>1.250675</td>\n",
       "      <td>14.115899</td>\n",
       "      <td>2.769345</td>\n",
       "      <td>15.062221</td>\n",
       "      <td>3</td>\n",
       "      <td>0</td>\n",
       "      <td>1</td>\n",
       "      <td>-0.106591</td>\n",
       "      <td>1</td>\n",
       "      <td>3.609639</td>\n",
       "      <td>1</td>\n",
       "      <td>red</td>\n",
       "    </tr>\n",
       "    <tr>\n",
       "      <th>25</th>\n",
       "      <td>2015-01-26</td>\n",
       "      <td>10358</td>\n",
       "      <td>0.181454</td>\n",
       "      <td>10.734186</td>\n",
       "      <td>0.498504</td>\n",
       "      <td>1.605040</td>\n",
       "      <td>40.750455</td>\n",
       "      <td>-73.992792</td>\n",
       "      <td>1.357831</td>\n",
       "      <td>13.219261</td>\n",
       "      <td>2.111629</td>\n",
       "      <td>10.119328</td>\n",
       "      <td>0</td>\n",
       "      <td>0</td>\n",
       "      <td>0</td>\n",
       "      <td>-0.152979</td>\n",
       "      <td>1</td>\n",
       "      <td>3.342638</td>\n",
       "      <td>1</td>\n",
       "      <td>red</td>\n",
       "    </tr>\n",
       "  </tbody>\n",
       "</table>\n",
       "</div>"
      ],
      "text/plain": [
       "      taxi_date  taxi_trip_count     extra  fare_amount   mta_tax  \\\n",
       "26   2015-01-27             3599  0.540156     9.298864  0.499444   \n",
       "358  2015-12-25             7725  0.197799    11.336958  0.497735   \n",
       "184  2015-07-04             9292  0.181877    10.633475  0.498547   \n",
       "329  2015-11-26             9852  0.253502    11.619671  0.497006   \n",
       "25   2015-01-26            10358  0.181454    10.734186  0.498504   \n",
       "\n",
       "     passenger_count  pickup_latitude  pickup_longitude  tip_amount  \\\n",
       "26          1.718255        40.750558        -73.992998    1.165582   \n",
       "358         1.716246        40.750489        -73.992858    1.195188   \n",
       "184         1.740099        40.750523        -73.992691    1.037090   \n",
       "329         1.702395        40.750538        -73.993047    1.250675   \n",
       "25          1.605040        40.750455        -73.992792    1.357831   \n",
       "\n",
       "     total_amount  trip_distance       hour  day_of_week  weekend  holiday  \\\n",
       "26      11.889330       2.206099  17.396777            1        0        0   \n",
       "358     13.724594       2.680350  14.889968            4        1        1   \n",
       "184     12.804399       2.509267  13.957275            5        1        1   \n",
       "329     14.115899       2.769345  15.062221            3        0        1   \n",
       "25      13.219261       2.111629  10.119328            0        0        0   \n",
       "\n",
       "     decision_function  cluster  km_score  outlier color  \n",
       "26           -0.207831        1  7.544423        1   red  \n",
       "358          -0.133813        1  4.761772        1   red  \n",
       "184          -0.183371        1  4.077741        1   red  \n",
       "329          -0.106591        1  3.609639        1   red  \n",
       "25           -0.152979        1  3.342638        1   red  "
      ]
     },
     "execution_count": 404,
     "metadata": {},
     "output_type": "execute_result"
    }
   ],
   "source": [
    "tlc_df_MSG_by_day_hour.head()"
   ]
  },
  {
   "cell_type": "code",
   "execution_count": 405,
   "metadata": {
    "collapsed": false
   },
   "outputs": [
    {
     "ename": "KeyError",
     "evalue": "\"['holiday_x' 'weekend_x' 'holiday_y' 'weekend_y'] not in index\"",
     "output_type": "error",
     "traceback": [
      "\u001b[0;31m\u001b[0m",
      "\u001b[0;31mKeyError\u001b[0mTraceback (most recent call last)",
      "\u001b[0;32m<ipython-input-405-21170ff5dd81>\u001b[0m in \u001b[0;36m<module>\u001b[0;34m()\u001b[0m\n\u001b[1;32m      1\u001b[0m \u001b[0mtlc_df_by_day_w_z_scores\u001b[0m \u001b[0;34m=\u001b[0m \u001b[0mtlc_df_MSG_by_day_hour\u001b[0m\u001b[0;34m.\u001b[0m\u001b[0mmerge\u001b[0m\u001b[0;34m(\u001b[0m\u001b[0mX\u001b[0m\u001b[0;34m,\u001b[0m \u001b[0mleft_index\u001b[0m\u001b[0;34m=\u001b[0m\u001b[0mTrue\u001b[0m\u001b[0;34m,\u001b[0m \u001b[0mright_index\u001b[0m\u001b[0;34m=\u001b[0m\u001b[0mTrue\u001b[0m\u001b[0;34m)\u001b[0m\u001b[0;34m\u001b[0m\u001b[0m\n\u001b[0;32m----> 2\u001b[0;31m \u001b[0mz_score\u001b[0m \u001b[0;34m=\u001b[0m \u001b[0mtlc_df_by_day_w_z_scores\u001b[0m\u001b[0;34m[\u001b[0m\u001b[0;34m[\u001b[0m\u001b[0;34m'taxi_date'\u001b[0m\u001b[0;34m,\u001b[0m \u001b[0;34m'km_score'\u001b[0m\u001b[0;34m,\u001b[0m  \u001b[0;34m'total_amount_x'\u001b[0m\u001b[0;34m,\u001b[0m                          \u001b[0;34m'taxi_trip_count_x'\u001b[0m\u001b[0;34m,\u001b[0m \u001b[0;34m'holiday_x'\u001b[0m\u001b[0;34m,\u001b[0m \u001b[0;34m'weekend_x'\u001b[0m\u001b[0;34m,\u001b[0m                                     \u001b[0;34m'total_amount_y'\u001b[0m\u001b[0;34m,\u001b[0m \u001b[0;34m'taxi_trip_count_y'\u001b[0m\u001b[0;34m,\u001b[0m \u001b[0;34m'holiday_y'\u001b[0m\u001b[0;34m,\u001b[0m \u001b[0;34m'weekend_y'\u001b[0m\u001b[0;34m]\u001b[0m\u001b[0;34m]\u001b[0m\u001b[0;34m\u001b[0m\u001b[0m\n\u001b[0m\u001b[1;32m      3\u001b[0m \u001b[0mz_score\u001b[0m\u001b[0;34m.\u001b[0m\u001b[0msort_values\u001b[0m\u001b[0;34m(\u001b[0m\u001b[0;34m\"km_score\"\u001b[0m\u001b[0;34m,\u001b[0m\u001b[0mascending\u001b[0m\u001b[0;34m=\u001b[0m\u001b[0mFalse\u001b[0m\u001b[0;34m,\u001b[0m \u001b[0minplace\u001b[0m\u001b[0;34m=\u001b[0m\u001b[0mTrue\u001b[0m\u001b[0;34m)\u001b[0m\u001b[0;34m\u001b[0m\u001b[0m\n\u001b[1;32m      4\u001b[0m \u001b[0mz_score\u001b[0m\u001b[0;34m.\u001b[0m\u001b[0mto_csv\u001b[0m\u001b[0;34m(\u001b[0m\u001b[0;34m'MSG_clustered_by_day_w_z_scores.csv'\u001b[0m\u001b[0;34m)\u001b[0m\u001b[0;34m\u001b[0m\u001b[0m\n",
      "\u001b[0;32m/home/cusp/gtp232/.conda/envs/GTP/lib/python2.7/site-packages/pandas/core/frame.pyc\u001b[0m in \u001b[0;36m__getitem__\u001b[0;34m(self, key)\u001b[0m\n\u001b[1;32m   2051\u001b[0m         \u001b[0;32mif\u001b[0m \u001b[0misinstance\u001b[0m\u001b[0;34m(\u001b[0m\u001b[0mkey\u001b[0m\u001b[0;34m,\u001b[0m \u001b[0;34m(\u001b[0m\u001b[0mSeries\u001b[0m\u001b[0;34m,\u001b[0m \u001b[0mnp\u001b[0m\u001b[0;34m.\u001b[0m\u001b[0mndarray\u001b[0m\u001b[0;34m,\u001b[0m \u001b[0mIndex\u001b[0m\u001b[0;34m,\u001b[0m \u001b[0mlist\u001b[0m\u001b[0;34m)\u001b[0m\u001b[0;34m)\u001b[0m\u001b[0;34m:\u001b[0m\u001b[0;34m\u001b[0m\u001b[0m\n\u001b[1;32m   2052\u001b[0m             \u001b[0;31m# either boolean or fancy integer index\u001b[0m\u001b[0;34m\u001b[0m\u001b[0;34m\u001b[0m\u001b[0m\n\u001b[0;32m-> 2053\u001b[0;31m             \u001b[0;32mreturn\u001b[0m \u001b[0mself\u001b[0m\u001b[0;34m.\u001b[0m\u001b[0m_getitem_array\u001b[0m\u001b[0;34m(\u001b[0m\u001b[0mkey\u001b[0m\u001b[0;34m)\u001b[0m\u001b[0;34m\u001b[0m\u001b[0m\n\u001b[0m\u001b[1;32m   2054\u001b[0m         \u001b[0;32melif\u001b[0m \u001b[0misinstance\u001b[0m\u001b[0;34m(\u001b[0m\u001b[0mkey\u001b[0m\u001b[0;34m,\u001b[0m \u001b[0mDataFrame\u001b[0m\u001b[0;34m)\u001b[0m\u001b[0;34m:\u001b[0m\u001b[0;34m\u001b[0m\u001b[0m\n\u001b[1;32m   2055\u001b[0m             \u001b[0;32mreturn\u001b[0m \u001b[0mself\u001b[0m\u001b[0;34m.\u001b[0m\u001b[0m_getitem_frame\u001b[0m\u001b[0;34m(\u001b[0m\u001b[0mkey\u001b[0m\u001b[0;34m)\u001b[0m\u001b[0;34m\u001b[0m\u001b[0m\n",
      "\u001b[0;32m/home/cusp/gtp232/.conda/envs/GTP/lib/python2.7/site-packages/pandas/core/frame.pyc\u001b[0m in \u001b[0;36m_getitem_array\u001b[0;34m(self, key)\u001b[0m\n\u001b[1;32m   2095\u001b[0m             \u001b[0;32mreturn\u001b[0m \u001b[0mself\u001b[0m\u001b[0;34m.\u001b[0m\u001b[0mtake\u001b[0m\u001b[0;34m(\u001b[0m\u001b[0mindexer\u001b[0m\u001b[0;34m,\u001b[0m \u001b[0maxis\u001b[0m\u001b[0;34m=\u001b[0m\u001b[0;36m0\u001b[0m\u001b[0;34m,\u001b[0m \u001b[0mconvert\u001b[0m\u001b[0;34m=\u001b[0m\u001b[0mFalse\u001b[0m\u001b[0;34m)\u001b[0m\u001b[0;34m\u001b[0m\u001b[0m\n\u001b[1;32m   2096\u001b[0m         \u001b[0;32melse\u001b[0m\u001b[0;34m:\u001b[0m\u001b[0;34m\u001b[0m\u001b[0m\n\u001b[0;32m-> 2097\u001b[0;31m             \u001b[0mindexer\u001b[0m \u001b[0;34m=\u001b[0m \u001b[0mself\u001b[0m\u001b[0;34m.\u001b[0m\u001b[0mix\u001b[0m\u001b[0;34m.\u001b[0m\u001b[0m_convert_to_indexer\u001b[0m\u001b[0;34m(\u001b[0m\u001b[0mkey\u001b[0m\u001b[0;34m,\u001b[0m \u001b[0maxis\u001b[0m\u001b[0;34m=\u001b[0m\u001b[0;36m1\u001b[0m\u001b[0;34m)\u001b[0m\u001b[0;34m\u001b[0m\u001b[0m\n\u001b[0m\u001b[1;32m   2098\u001b[0m             \u001b[0;32mreturn\u001b[0m \u001b[0mself\u001b[0m\u001b[0;34m.\u001b[0m\u001b[0mtake\u001b[0m\u001b[0;34m(\u001b[0m\u001b[0mindexer\u001b[0m\u001b[0;34m,\u001b[0m \u001b[0maxis\u001b[0m\u001b[0;34m=\u001b[0m\u001b[0;36m1\u001b[0m\u001b[0;34m,\u001b[0m \u001b[0mconvert\u001b[0m\u001b[0;34m=\u001b[0m\u001b[0mTrue\u001b[0m\u001b[0;34m)\u001b[0m\u001b[0;34m\u001b[0m\u001b[0m\n\u001b[1;32m   2099\u001b[0m \u001b[0;34m\u001b[0m\u001b[0m\n",
      "\u001b[0;32m/home/cusp/gtp232/.conda/envs/GTP/lib/python2.7/site-packages/pandas/core/indexing.pyc\u001b[0m in \u001b[0;36m_convert_to_indexer\u001b[0;34m(self, obj, axis, is_setter)\u001b[0m\n\u001b[1;32m   1228\u001b[0m                 \u001b[0mmask\u001b[0m \u001b[0;34m=\u001b[0m \u001b[0mcheck\u001b[0m \u001b[0;34m==\u001b[0m \u001b[0;34m-\u001b[0m\u001b[0;36m1\u001b[0m\u001b[0;34m\u001b[0m\u001b[0m\n\u001b[1;32m   1229\u001b[0m                 \u001b[0;32mif\u001b[0m \u001b[0mmask\u001b[0m\u001b[0;34m.\u001b[0m\u001b[0many\u001b[0m\u001b[0;34m(\u001b[0m\u001b[0;34m)\u001b[0m\u001b[0;34m:\u001b[0m\u001b[0;34m\u001b[0m\u001b[0m\n\u001b[0;32m-> 1230\u001b[0;31m                     \u001b[0;32mraise\u001b[0m \u001b[0mKeyError\u001b[0m\u001b[0;34m(\u001b[0m\u001b[0;34m'%s not in index'\u001b[0m \u001b[0;34m%\u001b[0m \u001b[0mobjarr\u001b[0m\u001b[0;34m[\u001b[0m\u001b[0mmask\u001b[0m\u001b[0;34m]\u001b[0m\u001b[0;34m)\u001b[0m\u001b[0;34m\u001b[0m\u001b[0m\n\u001b[0m\u001b[1;32m   1231\u001b[0m \u001b[0;34m\u001b[0m\u001b[0m\n\u001b[1;32m   1232\u001b[0m                 \u001b[0;32mreturn\u001b[0m \u001b[0m_values_from_object\u001b[0m\u001b[0;34m(\u001b[0m\u001b[0mindexer\u001b[0m\u001b[0;34m)\u001b[0m\u001b[0;34m\u001b[0m\u001b[0m\n",
      "\u001b[0;31mKeyError\u001b[0m: \"['holiday_x' 'weekend_x' 'holiday_y' 'weekend_y'] not in index\""
     ]
    }
   ],
   "source": [
    "tlc_df_by_day_w_z_scores = tlc_df_MSG_by_day_hour.merge(X, left_index=True, right_index=True)\n",
    "z_score = tlc_df_by_day_w_z_scores[['taxi_date', 'km_score',  'total_amount_x',\\\n",
    "                          'taxi_trip_count_x', 'holiday_x', 'weekend_x', \\\n",
    "                                    'total_amount_y', 'taxi_trip_count_y', 'holiday_y', 'weekend_y']]\n",
    "z_score.sort_values(\"km_score\",ascending=False, inplace=True)\n",
    "z_score.to_csv('MSG_clustered_by_day_w_z_scores.csv')"
   ]
  },
  {
   "cell_type": "code",
   "execution_count": null,
   "metadata": {
    "collapsed": false
   },
   "outputs": [],
   "source": [
    "fig = plt.figure(figsize=(12,10))\n",
    "ax = Axes3D(fig)\n",
    "\n",
    "ax.scatter(X.taxi_trip_count, X.total_amount, X.weekend, c=tlc_df_MSG_by_day_hour.color)\n",
    "ax.set_xlabel('Taxi Trip Count')\n",
    "ax.set_ylabel('average total amount $')\n",
    "ax.set_zlabel('weekend y / n')\n",
    "# set x ticks and labels\n",
    "ax.set_xticks(range(-8, 4, 1))\n",
    "# change fontsize\n",
    "for t in ax.zaxis.get_major_ticks(): t.label.set_fontsize(10)\n",
    "plt.show()"
   ]
  },
  {
   "cell_type": "markdown",
   "metadata": {},
   "source": [
    "## Look at specific areas and see what times / dates around there are anomalies\n",
    "### staten island ferry terminal (Whitehall between state & FDR) (40.702095, -74.012782)"
   ]
  },
  {
   "cell_type": "code",
   "execution_count": null,
   "metadata": {
    "collapsed": false
   },
   "outputs": [],
   "source": [
    "latlon_list = [40.702095, -74.012782]\n",
    "#only keep trips within a reasonable pickup lat / lon (without converting geometries)\n",
    "tlc_df_total_subset = tlc_df_total[(tlc_df_total.pickup_latitude > (latlon_list[0] - 0.005)) & (tlc_df_total.pickup_latitude < (latlon_list[0] + 0.005))]\n",
    "tlc_df_total_subset = tlc_df_total_subset[(tlc_df_total_subset.pickup_longitude > (latlon_list[1] - 0.005)) & (tlc_df_total_subset.pickup_longitude < (latlon_list[1] + 0.005))]"
   ]
  },
  {
   "cell_type": "code",
   "execution_count": null,
   "metadata": {
    "collapsed": false
   },
   "outputs": [],
   "source": [
    "len(tlc_df_total_subset)"
   ]
  },
  {
   "cell_type": "code",
   "execution_count": null,
   "metadata": {
    "collapsed": false
   },
   "outputs": [],
   "source": [
    "# convert to geopandas df\n",
    "geometry = [Point(xy) for xy in zip(tlc_df_total_subset.pickup_longitude, tlc_df_total_subset.pickup_latitude)]\n",
    "tlc_df_total_subset = tlc_df_total_subset.drop(['pickup_latitude', 'pickup_longitude'], axis=1)"
   ]
  },
  {
   "cell_type": "code",
   "execution_count": null,
   "metadata": {
    "collapsed": true
   },
   "outputs": [],
   "source": [
    "crs = {'init': 'epsg:4326'}\n",
    "tlc_df_total_gp = GeoDataFrame(tlc_df_total_subset, crs=crs, geometry=geometry)"
   ]
  },
  {
   "cell_type": "code",
   "execution_count": null,
   "metadata": {
    "collapsed": false
   },
   "outputs": [],
   "source": [
    "# create MSG buffer \n",
    "d = {'latitude': latlon_list[0], 'longitude': latlon_list[1]}\n",
    "MSG = pd.DataFrame(data=d, index=[0])\n",
    "geometry_MSG = [Point(xy) for xy in zip(MSG.longitude, MSG.latitude)]\n",
    "crs = {'init': 'epsg:4326'}\n",
    "MSG_gp = GeoDataFrame(crs=crs, geometry=geometry_MSG)"
   ]
  },
  {
   "cell_type": "code",
   "execution_count": null,
   "metadata": {
    "collapsed": false
   },
   "outputs": [],
   "source": [
    "#create buffer\n",
    "MSG_gp['geometry'] = MSG_gp.geometry.buffer(.005)\n",
    "MSG_gp.head()"
   ]
  },
  {
   "cell_type": "code",
   "execution_count": null,
   "metadata": {
    "collapsed": false
   },
   "outputs": [],
   "source": [
    "# only keep points within MSG buffer\n",
    "tlc_df_total_gp_subset = tlc_df_total_gp[tlc_df_total_gp.geometry.intersects(MSG_gp.geometry[0])]"
   ]
  },
  {
   "cell_type": "code",
   "execution_count": null,
   "metadata": {
    "collapsed": false
   },
   "outputs": [],
   "source": [
    "tlc_df_total_gp_subset['hour'] = tlc_df_total_gp_subset.tpep_pickup_datetime.apply(lambda x: x.hour)"
   ]
  },
  {
   "cell_type": "code",
   "execution_count": null,
   "metadata": {
    "collapsed": true
   },
   "outputs": [],
   "source": [
    "#subset to 6am or greater hours (to only capture relevant hours)\n",
    "tlc_df_total_gp_subset = tlc_df_total_gp_subset[(tlc_df_total_gp_subset.hour >= 6)]"
   ]
  },
  {
   "cell_type": "code",
   "execution_count": null,
   "metadata": {
    "collapsed": false
   },
   "outputs": [],
   "source": [
    "#take the mean of the taxi stats each day / hour\n",
    "tlc_df_MSG_count = tlc_df_total_gp_subset.groupby(['taxi_date'], as_index=False)['extra'].count()\n",
    "tlc_df_MSG_count.columns = ['taxi_date', 'taxi_trip_count']\n",
    "tlc_df_MSG_count.head()"
   ]
  },
  {
   "cell_type": "code",
   "execution_count": null,
   "metadata": {
    "collapsed": false
   },
   "outputs": [],
   "source": [
    "#take the mean of the taxi stats each day / hour\n",
    "tlc_df_MSG_mean = tlc_df_total_gp_subset.groupby(['taxi_date'], as_index=False).mean()\n",
    "tlc_df_MSG_mean.head()"
   ]
  },
  {
   "cell_type": "code",
   "execution_count": null,
   "metadata": {
    "collapsed": false
   },
   "outputs": [],
   "source": [
    "tlc_df_MSG_by_day_hour = tlc_df_MSG_count.merge(tlc_df_MSG_mean, on=['taxi_date'])\n",
    "tlc_df_MSG_by_day_hour.head()"
   ]
  },
  {
   "cell_type": "code",
   "execution_count": null,
   "metadata": {
    "collapsed": true
   },
   "outputs": [],
   "source": [
    "tlc_df_MSG_by_day_hour['day_of_week'] = tlc_df_MSG_by_day_hour.taxi_date.apply(lambda x: x.weekday())"
   ]
  },
  {
   "cell_type": "code",
   "execution_count": null,
   "metadata": {
    "collapsed": false
   },
   "outputs": [],
   "source": [
    "#control for Friday / Saturday nights\n",
    "tlc_df_MSG_by_day_hour['weekend'] = 0\n",
    "tlc_df_MSG_by_day_hour['weekend'][(tlc_df_MSG_by_day_hour['day_of_week'] == 4) | (tlc_df_MSG_by_day_hour['day_of_week'] == 5)] = 1"
   ]
  },
  {
   "cell_type": "code",
   "execution_count": null,
   "metadata": {
    "collapsed": false
   },
   "outputs": [],
   "source": [
    "#add holiday dummy variable\n",
    "tlc_df_MSG_by_day_hour['holiday'] = 0\n",
    "tlc_df_MSG_by_day_hour['holiday'][tlc_df_MSG_by_day_hour['taxi_date'].isin(holidays_all.index.date)] = 1"
   ]
  },
  {
   "cell_type": "code",
   "execution_count": null,
   "metadata": {
    "collapsed": false
   },
   "outputs": [],
   "source": [
    "tlc_df_MSG_by_day_hour[['taxi_date', 'taxi_trip_count']].plot()"
   ]
  },
  {
   "cell_type": "code",
   "execution_count": null,
   "metadata": {
    "collapsed": false
   },
   "outputs": [],
   "source": [
    "tlc_agg = tlc_df_MSG_by_day_hour.groupby(['hour'], as_index=False).sum()\n",
    "tlc_agg[['taxi_trip_count']].plot()"
   ]
  },
  {
   "cell_type": "code",
   "execution_count": null,
   "metadata": {
    "collapsed": false
   },
   "outputs": [],
   "source": [
    "# only keep points within buffer\n",
    "ny_streets = ny_streets_raw[ny_streets_raw.geometry.intersects(MSG_gp.geometry[0])]"
   ]
  },
  {
   "cell_type": "code",
   "execution_count": null,
   "metadata": {
    "collapsed": false
   },
   "outputs": [],
   "source": [
    "# is there a way to easily plot each color differently? I have this color column highlighting outliers!\n",
    "\n",
    "MSG_sample = tlc_df_total_gp_subset.sample(n=1000)\n",
    "#MSG_sample.lon = MSG_sample.geometry.x\n",
    "#MSG_sample.lat = MSG_sample.geometry.y\n",
    "f, (ax1) = plt.subplots(figsize=(12,8))\n",
    "MSG_sample.plot(alpha=0.5, ax=ax1, color = 'red')\n",
    "ny_streets['geometry'].plot(alpha=1, linewidth=0.25, ax=ax1, color = '0')\n",
    "ax1.set_title(\"Plot of Taxi Pickups, Around Ferry Terminal\", fontsize=20)\n",
    "plt.xlabel(\"longitude\")\n",
    "plt.ylabel(\"latitude\")"
   ]
  },
  {
   "cell_type": "markdown",
   "metadata": {},
   "source": [
    "## Ferry Terminal anomaly analysis (isolation forest)"
   ]
  },
  {
   "cell_type": "code",
   "execution_count": null,
   "metadata": {
    "collapsed": false
   },
   "outputs": [],
   "source": [
    "X = tlc_df_MSG_by_day_hour[cluster_features]\n",
    "X.head(2)"
   ]
  },
  {
   "cell_type": "code",
   "execution_count": null,
   "metadata": {
    "collapsed": false
   },
   "outputs": [],
   "source": [
    "#normalize columns\n",
    "for i in X.columns:\n",
    "    X[i] = (X[i] - X[i].mean()) / X[i].std()"
   ]
  },
  {
   "cell_type": "code",
   "execution_count": null,
   "metadata": {
    "collapsed": false
   },
   "outputs": [],
   "source": [
    "train,test=train_test_split(X, random_state=999, test_size=0.3)\n",
    "# fit the model\n",
    "clf = IsolationForest(max_samples=100, random_state=999)\n",
    "clf.fit(train)\n",
    "y_pred = clf.predict(X)"
   ]
  },
  {
   "cell_type": "code",
   "execution_count": null,
   "metadata": {
    "collapsed": true
   },
   "outputs": [],
   "source": [
    "tlc_df_MSG_by_day_hour['decision_function'] = clf.decision_function(X)\n"
   ]
  },
  {
   "cell_type": "code",
   "execution_count": null,
   "metadata": {
    "collapsed": false,
    "scrolled": true
   },
   "outputs": [],
   "source": [
    "tlc_df_MSG_by_day_hour.sort_values(by='decision_function').head(10)"
   ]
  },
  {
   "cell_type": "markdown",
   "metadata": {},
   "source": [
    "### K-Means Cluster Model Anomaly Detection"
   ]
  },
  {
   "cell_type": "code",
   "execution_count": null,
   "metadata": {
    "collapsed": false
   },
   "outputs": [],
   "source": [
    "range_n_clusters = [2, 3, 4, 5, 6, 7, 8]\n",
    "for n_clusters in range_n_clusters:\n",
    "    km = KMeans(n_clusters=n_clusters, random_state=324)\n",
    "    cluster_labels = km.fit_predict(X)\n",
    "    silhouette_avg = silhouette_score(X, cluster_labels)\n",
    "    print(\"For n_clusters ={},\".format(n_clusters)+\" the average silhouette_score is :{}\".format(silhouette_avg))"
   ]
  },
  {
   "cell_type": "code",
   "execution_count": null,
   "metadata": {
    "collapsed": false
   },
   "outputs": [],
   "source": [
    "n=5\n",
    "KM=KMeans(n_clusters=n,random_state=999)\n",
    "scor=KM.fit_predict(X)\n",
    "\n",
    "res=pd.DataFrame(KM.transform(X))\n",
    "res=pd.concat((res,pd.DataFrame(KM.fit_predict(X))),axis=1)\n",
    "res.columns=list(range(n))+[\"cluster\"]\n",
    "res.loc[:,\"score\"]=res.apply(lambda x: x[int(x[\"cluster\"])],axis=1)"
   ]
  },
  {
   "cell_type": "code",
   "execution_count": null,
   "metadata": {
    "collapsed": false
   },
   "outputs": [],
   "source": [
    "tlc_df_MSG_by_day_hour['cluster'] = res.cluster\n",
    "tlc_df_MSG_by_day_hour['km_score'] = res.score\n",
    "tlc_df_MSG_by_day_hour['outlier'] = 0\n",
    "tlc_df_MSG_by_day_hour.sort_values(\"km_score\",ascending=False, inplace=True)"
   ]
  },
  {
   "cell_type": "code",
   "execution_count": null,
   "metadata": {
    "collapsed": false
   },
   "outputs": [],
   "source": [
    "tlc_df_MSG_by_day_hour['outlier'][:10] = 1 "
   ]
  },
  {
   "cell_type": "code",
   "execution_count": null,
   "metadata": {
    "collapsed": true
   },
   "outputs": [],
   "source": [
    "def set_color(Data1):\n",
    "    if (Data1.outlier == 1):\n",
    "        return \"red\"\n",
    "    elif (Data1.cluster == 0):\n",
    "        return \"blue\"\n",
    "    elif (Data1.cluster == 1):\n",
    "        return \"cyan\"\n",
    "    else:\n",
    "        return \"green\"\n",
    "\n",
    "tlc_df_MSG_by_day_hour = tlc_df_MSG_by_day_hour.assign(color=tlc_df_MSG_by_day_hour.apply(set_color, axis=1))"
   ]
  },
  {
   "cell_type": "code",
   "execution_count": null,
   "metadata": {
    "collapsed": false,
    "scrolled": true
   },
   "outputs": [],
   "source": [
    "tlc_df_MSG_by_day_hour.head()"
   ]
  },
  {
   "cell_type": "code",
   "execution_count": null,
   "metadata": {
    "collapsed": false
   },
   "outputs": [],
   "source": [
    "tlc_df_by_day_w_z_scores = tlc_df_MSG_by_day_hour.merge(X, left_index=True, right_index=True)\n",
    "z_score = tlc_df_by_day_w_z_scores[['taxi_date', 'km_score',  'total_amount_x',\\\n",
    "                          'taxi_trip_count_x', 'holiday_x', 'weekend_x', \\\n",
    "                                    'total_amount_y', 'taxi_trip_count_y', 'holiday_y', 'weekend_y']]\n",
    "z_score.sort_values(\"km_score\",ascending=False, inplace=True)\n",
    "z_score.to_csv('ferry_terminal_clustered_by_day_w_z_scores.csv')"
   ]
  },
  {
   "cell_type": "code",
   "execution_count": null,
   "metadata": {
    "collapsed": false
   },
   "outputs": [],
   "source": [
    "fig = plt.figure(figsize=(12,10))\n",
    "ax = Axes3D(fig)\n",
    "\n",
    "ax.scatter(X.taxi_trip_count, X.total_amount, X.weekend, c=tlc_df_MSG_by_day_hour.color)\n",
    "ax.set_xlabel('Taxi Trip Count')\n",
    "ax.set_ylabel('average total amount $')\n",
    "ax.set_zlabel('weekend y / n')\n",
    "# set x ticks and labels\n",
    "ax.set_xticks(range(-4, 3, 1))\n",
    "# change fontsize\n",
    "for t in ax.zaxis.get_major_ticks(): t.label.set_fontsize(10)\n",
    "plt.show()"
   ]
  },
  {
   "cell_type": "markdown",
   "metadata": {},
   "source": [
    "## Look at specific areas and see what times / dates around there are anomalies\n",
    "### St. Patricks Cathedral (40.758477, -73.976223)"
   ]
  },
  {
   "cell_type": "code",
   "execution_count": null,
   "metadata": {
    "collapsed": false
   },
   "outputs": [],
   "source": [
    "latlon_list = [40.758477, -73.976223]\n",
    "#only keep trips within a reasonable pickup lat / lon (without converting geometries)\n",
    "tlc_df_total_subset = tlc_df_total[(tlc_df_total.pickup_latitude > (latlon_list[0] - 0.005)) & (tlc_df_total.pickup_latitude < (latlon_list[0] + 0.005))]\n",
    "tlc_df_total_subset = tlc_df_total_subset[(tlc_df_total_subset.pickup_longitude > (latlon_list[1] - 0.005)) & (tlc_df_total_subset.pickup_longitude < (latlon_list[1] + 0.005))]"
   ]
  },
  {
   "cell_type": "code",
   "execution_count": null,
   "metadata": {
    "collapsed": false
   },
   "outputs": [],
   "source": [
    "len(tlc_df_total_subset)"
   ]
  },
  {
   "cell_type": "code",
   "execution_count": null,
   "metadata": {
    "collapsed": false
   },
   "outputs": [],
   "source": [
    "# convert to geopandas df\n",
    "geometry = [Point(xy) for xy in zip(tlc_df_total_subset.pickup_longitude, tlc_df_total_subset.pickup_latitude)]\n",
    "tlc_df_total_subset = tlc_df_total_subset.drop(['pickup_latitude', 'pickup_longitude'], axis=1)"
   ]
  },
  {
   "cell_type": "code",
   "execution_count": null,
   "metadata": {
    "collapsed": true
   },
   "outputs": [],
   "source": [
    "crs = {'init': 'epsg:4326'}\n",
    "tlc_df_total_gp = GeoDataFrame(tlc_df_total_subset, crs=crs, geometry=geometry)"
   ]
  },
  {
   "cell_type": "code",
   "execution_count": null,
   "metadata": {
    "collapsed": false
   },
   "outputs": [],
   "source": [
    "# create MSG buffer \n",
    "d = {'latitude': latlon_list[0], 'longitude': latlon_list[1]}\n",
    "MSG = pd.DataFrame(data=d, index=[0])\n",
    "geometry_MSG = [Point(xy) for xy in zip(MSG.longitude, MSG.latitude)]\n",
    "crs = {'init': 'epsg:4326'}\n",
    "MSG_gp = GeoDataFrame(crs=crs, geometry=geometry_MSG)"
   ]
  },
  {
   "cell_type": "code",
   "execution_count": null,
   "metadata": {
    "collapsed": false
   },
   "outputs": [],
   "source": [
    "#create buffer\n",
    "MSG_gp['geometry'] = MSG_gp.geometry.buffer(.005)\n",
    "MSG_gp.head()"
   ]
  },
  {
   "cell_type": "code",
   "execution_count": null,
   "metadata": {
    "collapsed": false
   },
   "outputs": [],
   "source": [
    "# only keep points within MSG buffer\n",
    "tlc_df_total_gp_subset = tlc_df_total_gp[tlc_df_total_gp.geometry.intersects(MSG_gp.geometry[0])]"
   ]
  },
  {
   "cell_type": "code",
   "execution_count": null,
   "metadata": {
    "collapsed": false
   },
   "outputs": [],
   "source": [
    "tlc_df_total_gp_subset['hour'] = tlc_df_total_gp_subset.tpep_pickup_datetime.apply(lambda x: x.hour)"
   ]
  },
  {
   "cell_type": "code",
   "execution_count": null,
   "metadata": {
    "collapsed": true
   },
   "outputs": [],
   "source": [
    "#subset to 6am or greater hours (to only capture relevant hours)\n",
    "tlc_df_total_gp_subset = tlc_df_total_gp_subset[(tlc_df_total_gp_subset.hour >= 6)]"
   ]
  },
  {
   "cell_type": "code",
   "execution_count": null,
   "metadata": {
    "collapsed": false
   },
   "outputs": [],
   "source": [
    "#take the mean of the taxi stats each day / hour\n",
    "tlc_df_MSG_count = tlc_df_total_gp_subset.groupby(['taxi_date'], as_index=False)['extra'].count()\n",
    "tlc_df_MSG_count.columns = ['taxi_date', 'taxi_trip_count']\n",
    "tlc_df_MSG_count.head()"
   ]
  },
  {
   "cell_type": "code",
   "execution_count": null,
   "metadata": {
    "collapsed": false
   },
   "outputs": [],
   "source": [
    "#take the mean of the taxi stats each day / hour\n",
    "tlc_df_MSG_mean = tlc_df_total_gp_subset.groupby(['taxi_date'], as_index=False).mean()\n",
    "tlc_df_MSG_mean.head()"
   ]
  },
  {
   "cell_type": "code",
   "execution_count": null,
   "metadata": {
    "collapsed": false
   },
   "outputs": [],
   "source": [
    "tlc_df_MSG_by_day_hour = tlc_df_MSG_count.merge(tlc_df_MSG_mean, on=['taxi_date'])\n",
    "tlc_df_MSG_by_day_hour.head()"
   ]
  },
  {
   "cell_type": "code",
   "execution_count": null,
   "metadata": {
    "collapsed": true
   },
   "outputs": [],
   "source": [
    "tlc_df_MSG_by_day_hour['day_of_week'] = tlc_df_MSG_by_day_hour.taxi_date.apply(lambda x: x.weekday())"
   ]
  },
  {
   "cell_type": "code",
   "execution_count": null,
   "metadata": {
    "collapsed": false
   },
   "outputs": [],
   "source": [
    "#control for Friday / Saturday nights\n",
    "tlc_df_MSG_by_day_hour['weekend'] = 0\n",
    "tlc_df_MSG_by_day_hour['weekend'][(tlc_df_MSG_by_day_hour['day_of_week'] == 4) | (tlc_df_MSG_by_day_hour['day_of_week'] == 5)] = 1"
   ]
  },
  {
   "cell_type": "code",
   "execution_count": null,
   "metadata": {
    "collapsed": false
   },
   "outputs": [],
   "source": [
    "#add holiday dummy variable\n",
    "tlc_df_MSG_by_day_hour['holiday'] = 0\n",
    "tlc_df_MSG_by_day_hour['holiday'][tlc_df_MSG_by_day_hour['taxi_date'].isin(holidays_all.index.date)] = 1"
   ]
  },
  {
   "cell_type": "code",
   "execution_count": null,
   "metadata": {
    "collapsed": false
   },
   "outputs": [],
   "source": [
    "tlc_df_MSG_by_day_hour[['taxi_date', 'taxi_trip_count']].plot()"
   ]
  },
  {
   "cell_type": "code",
   "execution_count": null,
   "metadata": {
    "collapsed": false
   },
   "outputs": [],
   "source": [
    "tlc_agg = tlc_df_MSG_by_day_hour.groupby(['hour'], as_index=False).sum()\n",
    "tlc_agg[['taxi_trip_count']].plot()"
   ]
  },
  {
   "cell_type": "code",
   "execution_count": null,
   "metadata": {
    "collapsed": false
   },
   "outputs": [],
   "source": [
    "# only keep points within buffer\n",
    "ny_streets = ny_streets_raw[ny_streets_raw.geometry.intersects(MSG_gp.geometry[0])]"
   ]
  },
  {
   "cell_type": "code",
   "execution_count": null,
   "metadata": {
    "collapsed": false
   },
   "outputs": [],
   "source": [
    "# is there a way to easily plot each color differently? I have this color column highlighting outliers!\n",
    "\n",
    "MSG_sample = tlc_df_total_gp_subset.sample(n=1000)\n",
    "#MSG_sample.lon = MSG_sample.geometry.x\n",
    "#MSG_sample.lat = MSG_sample.geometry.y\n",
    "f, (ax1) = plt.subplots(figsize=(12,8))\n",
    "MSG_sample.plot(alpha=0.5, ax=ax1, color = 'red')\n",
    "ny_streets['geometry'].plot(alpha=1, linewidth=0.25, ax=ax1, color = '0')\n",
    "ax1.set_title(\"Plot of Taxi Pickups, Around St. Patricks Cathedral\", fontsize=20)\n",
    "plt.xlabel(\"longitude\")\n",
    "plt.ylabel(\"latitude\")"
   ]
  },
  {
   "cell_type": "markdown",
   "metadata": {},
   "source": [
    "## Ferry Terminal anomaly analysis (isolation forest)"
   ]
  },
  {
   "cell_type": "code",
   "execution_count": null,
   "metadata": {
    "collapsed": false
   },
   "outputs": [],
   "source": [
    "X = tlc_df_MSG_by_day_hour[cluster_features]\n",
    "X.head(2)"
   ]
  },
  {
   "cell_type": "code",
   "execution_count": null,
   "metadata": {
    "collapsed": false
   },
   "outputs": [],
   "source": [
    "#normalize columns\n",
    "for i in X.columns:\n",
    "    X[i] = (X[i] - X[i].mean()) / X[i].std()"
   ]
  },
  {
   "cell_type": "code",
   "execution_count": null,
   "metadata": {
    "collapsed": false
   },
   "outputs": [],
   "source": [
    "train,test=train_test_split(X, random_state=999, test_size=0.3)\n",
    "# fit the model\n",
    "clf = IsolationForest(max_samples=100, random_state=999)\n",
    "clf.fit(train)\n",
    "y_pred = clf.predict(X)"
   ]
  },
  {
   "cell_type": "code",
   "execution_count": null,
   "metadata": {
    "collapsed": true
   },
   "outputs": [],
   "source": [
    "tlc_df_MSG_by_day_hour['decision_function'] = clf.decision_function(X)"
   ]
  },
  {
   "cell_type": "code",
   "execution_count": null,
   "metadata": {
    "collapsed": false,
    "scrolled": true
   },
   "outputs": [],
   "source": [
    "tlc_df_MSG_by_day_hour.sort_values(by='decision_function').head(10)"
   ]
  },
  {
   "cell_type": "markdown",
   "metadata": {},
   "source": [
    "### K-Means Cluster Model Anomaly Detection"
   ]
  },
  {
   "cell_type": "code",
   "execution_count": null,
   "metadata": {
    "collapsed": false
   },
   "outputs": [],
   "source": [
    "range_n_clusters = [2, 3, 4, 5, 6, 7, 8]\n",
    "for n_clusters in range_n_clusters:\n",
    "    km = KMeans(n_clusters=n_clusters, random_state=324)\n",
    "    cluster_labels = km.fit_predict(X)\n",
    "    silhouette_avg = silhouette_score(X, cluster_labels)\n",
    "    print(\"For n_clusters ={},\".format(n_clusters)+\" the average silhouette_score is :{}\".format(silhouette_avg))"
   ]
  },
  {
   "cell_type": "code",
   "execution_count": null,
   "metadata": {
    "collapsed": false
   },
   "outputs": [],
   "source": [
    "n=5\n",
    "KM=KMeans(n_clusters=n,random_state=999)\n",
    "scor=KM.fit_predict(X)\n",
    "\n",
    "res=pd.DataFrame(KM.transform(X))\n",
    "res=pd.concat((res,pd.DataFrame(KM.fit_predict(X))),axis=1)\n",
    "res.columns=list(range(n))+[\"cluster\"]\n",
    "res.loc[:,\"score\"]=res.apply(lambda x: x[int(x[\"cluster\"])],axis=1)"
   ]
  },
  {
   "cell_type": "code",
   "execution_count": null,
   "metadata": {
    "collapsed": false
   },
   "outputs": [],
   "source": [
    "tlc_df_MSG_by_day_hour['cluster'] = res.cluster\n",
    "tlc_df_MSG_by_day_hour['km_score'] = res.score\n",
    "tlc_df_MSG_by_day_hour['outlier'] = 0\n",
    "tlc_df_MSG_by_day_hour.sort_values(\"km_score\",ascending=False, inplace=True)"
   ]
  },
  {
   "cell_type": "code",
   "execution_count": null,
   "metadata": {
    "collapsed": false
   },
   "outputs": [],
   "source": [
    "tlc_df_MSG_by_day_hour['outlier'][:10] = 1 "
   ]
  },
  {
   "cell_type": "code",
   "execution_count": null,
   "metadata": {
    "collapsed": true
   },
   "outputs": [],
   "source": [
    "def set_color(Data1):\n",
    "    if (Data1.outlier == 1):\n",
    "        return \"red\"\n",
    "    elif (Data1.cluster == 0):\n",
    "        return \"blue\"\n",
    "    elif (Data1.cluster == 1):\n",
    "        return \"cyan\"\n",
    "    else:\n",
    "        return \"green\"\n",
    "\n",
    "tlc_df_MSG_by_day_hour = tlc_df_MSG_by_day_hour.assign(color=tlc_df_MSG_by_day_hour.apply(set_color, axis=1))"
   ]
  },
  {
   "cell_type": "code",
   "execution_count": null,
   "metadata": {
    "collapsed": false,
    "scrolled": true
   },
   "outputs": [],
   "source": [
    "tlc_df_MSG_by_day_hour.head()"
   ]
  },
  {
   "cell_type": "code",
   "execution_count": null,
   "metadata": {
    "collapsed": false
   },
   "outputs": [],
   "source": [
    "tlc_df_by_day_w_z_scores = tlc_df_MSG_by_day_hour.merge(X, left_index=True, right_index=True)\n",
    "z_score = tlc_df_by_day_w_z_scores[['taxi_date', 'km_score',  'total_amount_x',\\\n",
    "                          'taxi_trip_count_x', 'holiday_x', 'weekend_x', \\\n",
    "                                    'total_amount_y', 'taxi_trip_count_y', 'holiday_y', 'weekend_y']]\n",
    "z_score.sort_values(\"km_score\",ascending=False, inplace=True)\n",
    "z_score.to_csv('Patricks_clustered_by_day_w_z_scores.csv')"
   ]
  },
  {
   "cell_type": "code",
   "execution_count": null,
   "metadata": {
    "collapsed": false
   },
   "outputs": [],
   "source": [
    "fig = plt.figure(figsize=(12,10))\n",
    "ax = Axes3D(fig)\n",
    "\n",
    "ax.scatter(X.taxi_trip_count, X.total_amount, X.weekend, c=tlc_df_MSG_by_day_hour.color)\n",
    "ax.set_xlabel('Taxi Trip Count')\n",
    "ax.set_ylabel('average total amount $')\n",
    "ax.set_zlabel('weekend y / n')\n",
    "# set x ticks and labels\n",
    "ax.set_xticks(range(-4, 3, 1))\n",
    "# change fontsize\n",
    "for t in ax.zaxis.get_major_ticks(): t.label.set_fontsize(10)\n",
    "plt.show()"
   ]
  },
  {
   "cell_type": "code",
   "execution_count": null,
   "metadata": {
    "collapsed": true
   },
   "outputs": [],
   "source": []
  },
  {
   "cell_type": "markdown",
   "metadata": {},
   "source": [
    "## Look at specific areas and see what times / dates around there are anomalies\n",
    "### Metropolitan Opera (40.772567, -73.984089)"
   ]
  },
  {
   "cell_type": "code",
   "execution_count": null,
   "metadata": {
    "collapsed": false
   },
   "outputs": [],
   "source": [
    "latlon_list = [40.772567, -73.984089]\n",
    "#only keep trips within a reasonable pickup lat / lon (without converting geometries)\n",
    "tlc_df_total_subset = tlc_df_total[(tlc_df_total.pickup_latitude > (latlon_list[0] - 0.005)) & (tlc_df_total.pickup_latitude < (latlon_list[0] + 0.005))]\n",
    "tlc_df_total_subset = tlc_df_total_subset[(tlc_df_total_subset.pickup_longitude > (latlon_list[1] - 0.005)) & (tlc_df_total_subset.pickup_longitude < (latlon_list[1] + 0.005))]"
   ]
  },
  {
   "cell_type": "code",
   "execution_count": null,
   "metadata": {
    "collapsed": false
   },
   "outputs": [],
   "source": [
    "len(tlc_df_total_subset)"
   ]
  },
  {
   "cell_type": "code",
   "execution_count": null,
   "metadata": {
    "collapsed": false
   },
   "outputs": [],
   "source": [
    "# convert to geopandas df\n",
    "geometry = [Point(xy) for xy in zip(tlc_df_total_subset.pickup_longitude, tlc_df_total_subset.pickup_latitude)]\n",
    "tlc_df_total_subset = tlc_df_total_subset.drop(['pickup_latitude', 'pickup_longitude'], axis=1)"
   ]
  },
  {
   "cell_type": "code",
   "execution_count": null,
   "metadata": {
    "collapsed": true
   },
   "outputs": [],
   "source": [
    "crs = {'init': 'epsg:4326'}\n",
    "tlc_df_total_gp = GeoDataFrame(tlc_df_total_subset, crs=crs, geometry=geometry)"
   ]
  },
  {
   "cell_type": "code",
   "execution_count": null,
   "metadata": {
    "collapsed": false
   },
   "outputs": [],
   "source": [
    "# create MSG buffer \n",
    "d = {'latitude': latlon_list[0], 'longitude': latlon_list[1]}\n",
    "MSG = pd.DataFrame(data=d, index=[0])\n",
    "geometry_MSG = [Point(xy) for xy in zip(MSG.longitude, MSG.latitude)]\n",
    "crs = {'init': 'epsg:4326'}\n",
    "MSG_gp = GeoDataFrame(crs=crs, geometry=geometry_MSG)"
   ]
  },
  {
   "cell_type": "code",
   "execution_count": null,
   "metadata": {
    "collapsed": false
   },
   "outputs": [],
   "source": [
    "#create buffer\n",
    "MSG_gp['geometry'] = MSG_gp.geometry.buffer(.005)\n",
    "MSG_gp.head()"
   ]
  },
  {
   "cell_type": "code",
   "execution_count": null,
   "metadata": {
    "collapsed": false
   },
   "outputs": [],
   "source": [
    "# only keep points within MSG buffer\n",
    "tlc_df_total_gp_subset = tlc_df_total_gp[tlc_df_total_gp.geometry.intersects(MSG_gp.geometry[0])]"
   ]
  },
  {
   "cell_type": "code",
   "execution_count": null,
   "metadata": {
    "collapsed": false
   },
   "outputs": [],
   "source": [
    "tlc_df_total_gp_subset['hour'] = tlc_df_total_gp_subset.tpep_pickup_datetime.apply(lambda x: x.hour)"
   ]
  },
  {
   "cell_type": "code",
   "execution_count": null,
   "metadata": {
    "collapsed": true
   },
   "outputs": [],
   "source": [
    "#subset to 6am or greater hours (to only capture relevant hours)\n",
    "tlc_df_total_gp_subset = tlc_df_total_gp_subset[(tlc_df_total_gp_subset.hour >= 6)]"
   ]
  },
  {
   "cell_type": "code",
   "execution_count": null,
   "metadata": {
    "collapsed": false
   },
   "outputs": [],
   "source": [
    "#take the mean of the taxi stats each day / hour\n",
    "tlc_df_MSG_count = tlc_df_total_gp_subset.groupby(['taxi_date'], as_index=False)['extra'].count()\n",
    "tlc_df_MSG_count.columns = ['taxi_date', 'taxi_trip_count']\n",
    "tlc_df_MSG_count.head()"
   ]
  },
  {
   "cell_type": "code",
   "execution_count": null,
   "metadata": {
    "collapsed": false
   },
   "outputs": [],
   "source": [
    "#take the mean of the taxi stats each day / hour\n",
    "tlc_df_MSG_mean = tlc_df_total_gp_subset.groupby(['taxi_date'], as_index=False).mean()\n",
    "tlc_df_MSG_mean.head()"
   ]
  },
  {
   "cell_type": "code",
   "execution_count": null,
   "metadata": {
    "collapsed": false
   },
   "outputs": [],
   "source": [
    "tlc_df_MSG_by_day_hour = tlc_df_MSG_count.merge(tlc_df_MSG_mean, on=['taxi_date'])\n",
    "tlc_df_MSG_by_day_hour.head()"
   ]
  },
  {
   "cell_type": "code",
   "execution_count": null,
   "metadata": {
    "collapsed": true
   },
   "outputs": [],
   "source": [
    "tlc_df_MSG_by_day_hour['day_of_week'] = tlc_df_MSG_by_day_hour.taxi_date.apply(lambda x: x.weekday())"
   ]
  },
  {
   "cell_type": "code",
   "execution_count": null,
   "metadata": {
    "collapsed": false
   },
   "outputs": [],
   "source": [
    "#control for Friday / Saturday nights\n",
    "tlc_df_MSG_by_day_hour['weekend'] = 0\n",
    "tlc_df_MSG_by_day_hour['weekend'][(tlc_df_MSG_by_day_hour['day_of_week'] == 4) | (tlc_df_MSG_by_day_hour['day_of_week'] == 5)] = 1"
   ]
  },
  {
   "cell_type": "code",
   "execution_count": null,
   "metadata": {
    "collapsed": false
   },
   "outputs": [],
   "source": [
    "#add holiday dummy variable\n",
    "tlc_df_MSG_by_day_hour['holiday'] = 0\n",
    "tlc_df_MSG_by_day_hour['holiday'][tlc_df_MSG_by_day_hour['taxi_date'].isin(holidays_all.index.date)] = 1"
   ]
  },
  {
   "cell_type": "code",
   "execution_count": null,
   "metadata": {
    "collapsed": false
   },
   "outputs": [],
   "source": [
    "tlc_df_MSG_by_day_hour[['taxi_date', 'taxi_trip_count']].plot()"
   ]
  },
  {
   "cell_type": "code",
   "execution_count": null,
   "metadata": {
    "collapsed": false
   },
   "outputs": [],
   "source": [
    "tlc_agg = tlc_df_MSG_by_day_hour.groupby(['hour'], as_index=False).sum()\n",
    "tlc_agg[['taxi_trip_count']].plot()"
   ]
  },
  {
   "cell_type": "code",
   "execution_count": null,
   "metadata": {
    "collapsed": false
   },
   "outputs": [],
   "source": [
    "# only keep points within buffer\n",
    "ny_streets = ny_streets_raw[ny_streets_raw.geometry.intersects(MSG_gp.geometry[0])]"
   ]
  },
  {
   "cell_type": "code",
   "execution_count": null,
   "metadata": {
    "collapsed": false
   },
   "outputs": [],
   "source": [
    "# is there a way to easily plot each color differently? I have this color column highlighting outliers!\n",
    "\n",
    "MSG_sample = tlc_df_total_gp_subset.sample(n=1000)\n",
    "#MSG_sample.lon = MSG_sample.geometry.x\n",
    "#MSG_sample.lat = MSG_sample.geometry.y\n",
    "f, (ax1) = plt.subplots(figsize=(12,8))\n",
    "MSG_sample.plot(alpha=0.5, ax=ax1, color = 'red')\n",
    "ny_streets['geometry'].plot(alpha=1, linewidth=0.25, ax=ax1, color = '0')\n",
    "ax1.set_title(\"Plot of Taxi Pickups, Around Metropolitan Opera House\", fontsize=20)\n",
    "plt.xlabel(\"longitude\")\n",
    "plt.ylabel(\"latitude\")"
   ]
  },
  {
   "cell_type": "markdown",
   "metadata": {},
   "source": [
    "## Ferry Terminal anomaly analysis (isolation forest)"
   ]
  },
  {
   "cell_type": "code",
   "execution_count": null,
   "metadata": {
    "collapsed": false
   },
   "outputs": [],
   "source": [
    "X = tlc_df_MSG_by_day_hour[cluster_features]\n",
    "X.head(2)"
   ]
  },
  {
   "cell_type": "code",
   "execution_count": null,
   "metadata": {
    "collapsed": false
   },
   "outputs": [],
   "source": [
    "#normalize columns\n",
    "for i in X.columns:\n",
    "    X[i] = (X[i] - X[i].mean()) / X[i].std()"
   ]
  },
  {
   "cell_type": "code",
   "execution_count": null,
   "metadata": {
    "collapsed": false
   },
   "outputs": [],
   "source": [
    "train,test=train_test_split(X, random_state=999, test_size=0.3)\n",
    "# fit the model\n",
    "clf = IsolationForest(max_samples=100, random_state=999)\n",
    "clf.fit(train)\n",
    "y_pred = clf.predict(X)"
   ]
  },
  {
   "cell_type": "code",
   "execution_count": null,
   "metadata": {
    "collapsed": true
   },
   "outputs": [],
   "source": [
    "tlc_df_MSG_by_day_hour['decision_function'] = clf.decision_function(X)\n"
   ]
  },
  {
   "cell_type": "code",
   "execution_count": null,
   "metadata": {
    "collapsed": false,
    "scrolled": true
   },
   "outputs": [],
   "source": [
    "tlc_df_MSG_by_day_hour.sort_values(by='decision_function').head(10)"
   ]
  },
  {
   "cell_type": "markdown",
   "metadata": {},
   "source": [
    "### K-Means Cluster Model Anomaly Detection"
   ]
  },
  {
   "cell_type": "code",
   "execution_count": null,
   "metadata": {
    "collapsed": false
   },
   "outputs": [],
   "source": [
    "range_n_clusters = [2, 3, 4, 5, 6, 7, 8]\n",
    "for n_clusters in range_n_clusters:\n",
    "    km = KMeans(n_clusters=n_clusters, random_state=324)\n",
    "    cluster_labels = km.fit_predict(X)\n",
    "    silhouette_avg = silhouette_score(X, cluster_labels)\n",
    "    print(\"For n_clusters ={},\".format(n_clusters)+\" the average silhouette_score is :{}\".format(silhouette_avg))"
   ]
  },
  {
   "cell_type": "code",
   "execution_count": null,
   "metadata": {
    "collapsed": false
   },
   "outputs": [],
   "source": [
    "n=2\n",
    "KM=KMeans(n_clusters=n,random_state=999)\n",
    "scor=KM.fit_predict(X)\n",
    "\n",
    "res=pd.DataFrame(KM.transform(X))\n",
    "res=pd.concat((res,pd.DataFrame(KM.fit_predict(X))),axis=1)\n",
    "res.columns=list(range(n))+[\"cluster\"]\n",
    "res.loc[:,\"score\"]=res.apply(lambda x: x[int(x[\"cluster\"])],axis=1)"
   ]
  },
  {
   "cell_type": "code",
   "execution_count": null,
   "metadata": {
    "collapsed": false
   },
   "outputs": [],
   "source": [
    "tlc_df_MSG_by_day_hour['cluster'] = res.cluster\n",
    "tlc_df_MSG_by_day_hour['km_score'] = res.score\n",
    "tlc_df_MSG_by_day_hour['outlier'] = 0\n",
    "tlc_df_MSG_by_day_hour.sort_values(\"km_score\",ascending=False, inplace=True)"
   ]
  },
  {
   "cell_type": "code",
   "execution_count": null,
   "metadata": {
    "collapsed": false
   },
   "outputs": [],
   "source": [
    "tlc_df_MSG_by_day_hour['outlier'][:10] = 1 "
   ]
  },
  {
   "cell_type": "code",
   "execution_count": null,
   "metadata": {
    "collapsed": true
   },
   "outputs": [],
   "source": [
    "def set_color(Data1):\n",
    "    if (Data1.outlier == 1):\n",
    "        return \"red\"\n",
    "    elif (Data1.cluster == 0):\n",
    "        return \"blue\"\n",
    "    elif (Data1.cluster == 1):\n",
    "        return \"cyan\"\n",
    "    else:\n",
    "        return \"green\"\n",
    "\n",
    "tlc_df_MSG_by_day_hour = tlc_df_MSG_by_day_hour.assign(color=tlc_df_MSG_by_day_hour.apply(set_color, axis=1))"
   ]
  },
  {
   "cell_type": "code",
   "execution_count": null,
   "metadata": {
    "collapsed": false,
    "scrolled": true
   },
   "outputs": [],
   "source": [
    "tlc_df_MSG_by_day_hour.head()"
   ]
  },
  {
   "cell_type": "code",
   "execution_count": null,
   "metadata": {
    "collapsed": false
   },
   "outputs": [],
   "source": [
    "tlc_df_by_day_w_z_scores = tlc_df_MSG_by_day_hour.merge(X, left_index=True, right_index=True)\n",
    "z_score = tlc_df_by_day_w_z_scores[['taxi_date', 'km_score',  'total_amount_x',\\\n",
    "                          'taxi_trip_count_x', 'holiday_x', 'weekend_x', \\\n",
    "                                    'total_amount_y', 'taxi_trip_count_y', 'holiday_y', 'weekend_y']]\n",
    "z_score.sort_values(\"km_score\",ascending=False, inplace=True)\n",
    "z_score.to_csv('met_opera_clustered_by_day_w_z_scores.csv')"
   ]
  },
  {
   "cell_type": "code",
   "execution_count": null,
   "metadata": {
    "collapsed": false
   },
   "outputs": [],
   "source": [
    "fig = plt.figure(figsize=(12,10))\n",
    "ax = Axes3D(fig)\n",
    "\n",
    "ax.scatter(X.taxi_trip_count, X.total_amount, X.weekend, c=tlc_df_MSG_by_day_hour.color)\n",
    "ax.set_xlabel('Taxi Trip Count')\n",
    "ax.set_ylabel('average total amount $')\n",
    "ax.set_zlabel('weekend y / n')\n",
    "# set x ticks and labels\n",
    "ax.set_xticks(range(-4, 3, 1))\n",
    "# change fontsize\n",
    "for t in ax.zaxis.get_major_ticks(): t.label.set_fontsize(10)\n",
    "plt.show()"
   ]
  },
  {
   "cell_type": "code",
   "execution_count": null,
   "metadata": {
    "collapsed": true
   },
   "outputs": [],
   "source": []
  }
 ],
 "metadata": {
  "anaconda-cloud": {},
  "kernelspec": {
   "display_name": "GTP",
   "language": "python",
   "name": "gtp"
  },
  "language_info": {
   "codemirror_mode": {
    "name": "ipython",
    "version": 2
   },
   "file_extension": ".py",
   "mimetype": "text/x-python",
   "name": "python",
   "nbconvert_exporter": "python",
   "pygments_lexer": "ipython2",
   "version": "2.7.13"
  }
 },
 "nbformat": 4,
 "nbformat_minor": 2
}
