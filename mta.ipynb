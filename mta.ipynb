{
 "cells": [
  {
   "cell_type": "code",
   "execution_count": 1,
   "metadata": {
    "collapsed": false
   },
   "outputs": [
    {
     "name": "stdout",
     "output_type": "stream",
     "text": [
      "Populating the interactive namespace from numpy and matplotlib\n"
     ]
    },
    {
     "name": "stderr",
     "output_type": "stream",
     "text": [
      "/home/ben/anaconda3/envs/ipykernel_py2/lib/python2.7/site-packages/IPython/core/magics/pylab.py:161: UserWarning: pylab import has clobbered these variables: ['plt']\n",
      "`%matplotlib` prevents importing * from pylab and numpy\n",
      "  \"\\n`%matplotlib` prevents importing * from pylab and numpy\"\n"
     ]
    }
   ],
   "source": [
    "import numpy as np\n",
    "import pandas as pd\n",
    "import os\n",
    "import subprocess\n",
    "import pylab as plt\n",
    "%pylab inline\n",
    "\n",
    "# make sure we are at the top of the repo\n",
    "wd = subprocess.check_output('git rev-parse --show-toplevel', shell = True)\n",
    "os.chdir(wd[:-1]) #-1 removes \\n"
   ]
  },
  {
   "cell_type": "code",
   "execution_count": 19,
   "metadata": {
    "collapsed": true
   },
   "outputs": [],
   "source": [
    "mta = pd.read_csv('data/mta.csv')"
   ]
  },
  {
   "cell_type": "code",
   "execution_count": 20,
   "metadata": {
    "collapsed": true
   },
   "outputs": [],
   "source": [
    "mta = mta[mta['DESC'] == 'REGULAR']"
   ]
  },
  {
   "cell_type": "code",
   "execution_count": 21,
   "metadata": {
    "collapsed": false
   },
   "outputs": [],
   "source": [
    "mta = mta[np.in1d(mta['TIME'], [str(i).zfill(2) + ':00:00' for i in [0,4,8,12,16,20]])]"
   ]
  },
  {
   "cell_type": "code",
   "execution_count": 22,
   "metadata": {
    "collapsed": false
   },
   "outputs": [
    {
     "data": {
      "text/html": [
       "<div>\n",
       "<table border=\"1\" class=\"dataframe\">\n",
       "  <thead>\n",
       "    <tr style=\"text-align: right;\">\n",
       "      <th></th>\n",
       "      <th>C/A</th>\n",
       "      <th>UNIT</th>\n",
       "      <th>SCP</th>\n",
       "      <th>STATION</th>\n",
       "      <th>LINENAME</th>\n",
       "      <th>DIVISION</th>\n",
       "      <th>DATE</th>\n",
       "      <th>TIME</th>\n",
       "      <th>DESC</th>\n",
       "      <th>ENTRIES</th>\n",
       "      <th>EXITS</th>\n",
       "      <th>t_id</th>\n",
       "    </tr>\n",
       "  </thead>\n",
       "  <tbody>\n",
       "    <tr>\n",
       "      <th>4531</th>\n",
       "      <td>A033</td>\n",
       "      <td>R170</td>\n",
       "      <td>02-00-00</td>\n",
       "      <td>14 ST-UNION SQ</td>\n",
       "      <td>LNQR456</td>\n",
       "      <td>BMT</td>\n",
       "      <td>12/26/2015</td>\n",
       "      <td>00:00:00</td>\n",
       "      <td>REGULAR</td>\n",
       "      <td>1006897</td>\n",
       "      <td>2487649</td>\n",
       "      <td>R17002-00-00</td>\n",
       "    </tr>\n",
       "    <tr>\n",
       "      <th>4532</th>\n",
       "      <td>A033</td>\n",
       "      <td>R170</td>\n",
       "      <td>02-00-00</td>\n",
       "      <td>14 ST-UNION SQ</td>\n",
       "      <td>LNQR456</td>\n",
       "      <td>BMT</td>\n",
       "      <td>12/26/2015</td>\n",
       "      <td>04:00:00</td>\n",
       "      <td>REGULAR</td>\n",
       "      <td>1006901</td>\n",
       "      <td>2487667</td>\n",
       "      <td>R17002-00-00</td>\n",
       "    </tr>\n",
       "    <tr>\n",
       "      <th>4533</th>\n",
       "      <td>A033</td>\n",
       "      <td>R170</td>\n",
       "      <td>02-00-00</td>\n",
       "      <td>14 ST-UNION SQ</td>\n",
       "      <td>LNQR456</td>\n",
       "      <td>BMT</td>\n",
       "      <td>12/26/2015</td>\n",
       "      <td>08:00:00</td>\n",
       "      <td>REGULAR</td>\n",
       "      <td>1006904</td>\n",
       "      <td>2487719</td>\n",
       "      <td>R17002-00-00</td>\n",
       "    </tr>\n",
       "    <tr>\n",
       "      <th>4534</th>\n",
       "      <td>A033</td>\n",
       "      <td>R170</td>\n",
       "      <td>02-00-00</td>\n",
       "      <td>14 ST-UNION SQ</td>\n",
       "      <td>LNQR456</td>\n",
       "      <td>BMT</td>\n",
       "      <td>12/26/2015</td>\n",
       "      <td>12:00:00</td>\n",
       "      <td>REGULAR</td>\n",
       "      <td>1006928</td>\n",
       "      <td>2487939</td>\n",
       "      <td>R17002-00-00</td>\n",
       "    </tr>\n",
       "    <tr>\n",
       "      <th>4535</th>\n",
       "      <td>A033</td>\n",
       "      <td>R170</td>\n",
       "      <td>02-00-00</td>\n",
       "      <td>14 ST-UNION SQ</td>\n",
       "      <td>LNQR456</td>\n",
       "      <td>BMT</td>\n",
       "      <td>12/26/2015</td>\n",
       "      <td>16:00:00</td>\n",
       "      <td>REGULAR</td>\n",
       "      <td>1007031</td>\n",
       "      <td>2488436</td>\n",
       "      <td>R17002-00-00</td>\n",
       "    </tr>\n",
       "  </tbody>\n",
       "</table>\n",
       "</div>"
      ],
      "text/plain": [
       "       C/A  UNIT       SCP         STATION LINENAME DIVISION        DATE  \\\n",
       "4531  A033  R170  02-00-00  14 ST-UNION SQ  LNQR456      BMT  12/26/2015   \n",
       "4532  A033  R170  02-00-00  14 ST-UNION SQ  LNQR456      BMT  12/26/2015   \n",
       "4533  A033  R170  02-00-00  14 ST-UNION SQ  LNQR456      BMT  12/26/2015   \n",
       "4534  A033  R170  02-00-00  14 ST-UNION SQ  LNQR456      BMT  12/26/2015   \n",
       "4535  A033  R170  02-00-00  14 ST-UNION SQ  LNQR456      BMT  12/26/2015   \n",
       "\n",
       "          TIME     DESC  ENTRIES  \\\n",
       "4531  00:00:00  REGULAR  1006897   \n",
       "4532  04:00:00  REGULAR  1006901   \n",
       "4533  08:00:00  REGULAR  1006904   \n",
       "4534  12:00:00  REGULAR  1006928   \n",
       "4535  16:00:00  REGULAR  1007031   \n",
       "\n",
       "      EXITS                                                                 \\\n",
       "4531                                            2487649                      \n",
       "4532                                            2487667                      \n",
       "4533                                            2487719                      \n",
       "4534                                            2487939                      \n",
       "4535                                            2488436                      \n",
       "\n",
       "              t_id  \n",
       "4531  R17002-00-00  \n",
       "4532  R17002-00-00  \n",
       "4533  R17002-00-00  \n",
       "4534  R17002-00-00  \n",
       "4535  R17002-00-00  "
      ]
     },
     "execution_count": 22,
     "metadata": {},
     "output_type": "execute_result"
    }
   ],
   "source": [
    "mta['t_id'] = mta['UNIT'].astype('str') + mta['SCP'].astype('str')\n",
    "mta.head()"
   ]
  },
  {
   "cell_type": "code",
   "execution_count": 23,
   "metadata": {
    "collapsed": false
   },
   "outputs": [],
   "source": [
    "mta['n_rides'] = mta.groupby(['t_id'])['ENTRIES'].diff()"
   ]
  },
  {
   "cell_type": "code",
   "execution_count": 24,
   "metadata": {
    "collapsed": false
   },
   "outputs": [
    {
     "data": {
      "text/plain": [
       "-1492547710.0"
      ]
     },
     "execution_count": 24,
     "metadata": {},
     "output_type": "execute_result"
    }
   ],
   "source": [
    "mta['n_rides'].min()"
   ]
  },
  {
   "cell_type": "code",
   "execution_count": 25,
   "metadata": {
    "collapsed": false
   },
   "outputs": [],
   "source": [
    "#mta['n_rides'] = abs(mta['n_rides'])\n",
    "mta = mta[mta['n_rides'] > 0]"
   ]
  },
  {
   "cell_type": "code",
   "execution_count": 26,
   "metadata": {
    "collapsed": false
   },
   "outputs": [],
   "source": [
    "mta_daily_turnstile = mta.groupby(['DATE', 'STATION', 't_id'], as_index=False).sum()"
   ]
  },
  {
   "cell_type": "code",
   "execution_count": 27,
   "metadata": {
    "collapsed": false
   },
   "outputs": [
    {
     "data": {
      "text/html": [
       "<div>\n",
       "<table border=\"1\" class=\"dataframe\">\n",
       "  <thead>\n",
       "    <tr style=\"text-align: right;\">\n",
       "      <th></th>\n",
       "      <th>DATE</th>\n",
       "      <th>STATION</th>\n",
       "      <th>t_id</th>\n",
       "      <th>ENTRIES</th>\n",
       "      <th>EXITS</th>\n",
       "      <th>n_rides</th>\n",
       "    </tr>\n",
       "  </thead>\n",
       "  <tbody>\n",
       "    <tr>\n",
       "      <th>0</th>\n",
       "      <td>01/01/2016</td>\n",
       "      <td>103 ST</td>\n",
       "      <td>R18000-00-00</td>\n",
       "      <td>47960102</td>\n",
       "      <td>46180738</td>\n",
       "      <td>1310.0</td>\n",
       "    </tr>\n",
       "    <tr>\n",
       "      <th>1</th>\n",
       "      <td>01/01/2016</td>\n",
       "      <td>103 ST</td>\n",
       "      <td>R18000-00-01</td>\n",
       "      <td>8300437</td>\n",
       "      <td>2932991</td>\n",
       "      <td>1540.0</td>\n",
       "    </tr>\n",
       "    <tr>\n",
       "      <th>2</th>\n",
       "      <td>01/01/2016</td>\n",
       "      <td>103 ST</td>\n",
       "      <td>R18000-00-02</td>\n",
       "      <td>70606744</td>\n",
       "      <td>30879102</td>\n",
       "      <td>1198.0</td>\n",
       "    </tr>\n",
       "    <tr>\n",
       "      <th>3</th>\n",
       "      <td>01/01/2016</td>\n",
       "      <td>103 ST</td>\n",
       "      <td>R18000-00-03</td>\n",
       "      <td>44839361</td>\n",
       "      <td>24946366</td>\n",
       "      <td>1216.0</td>\n",
       "    </tr>\n",
       "    <tr>\n",
       "      <th>4</th>\n",
       "      <td>01/01/2016</td>\n",
       "      <td>103 ST</td>\n",
       "      <td>R18000-00-04</td>\n",
       "      <td>1498748</td>\n",
       "      <td>2294394</td>\n",
       "      <td>1416.0</td>\n",
       "    </tr>\n",
       "  </tbody>\n",
       "</table>\n",
       "</div>"
      ],
      "text/plain": [
       "         DATE STATION          t_id   ENTRIES  \\\n",
       "0  01/01/2016  103 ST  R18000-00-00  47960102   \n",
       "1  01/01/2016  103 ST  R18000-00-01   8300437   \n",
       "2  01/01/2016  103 ST  R18000-00-02  70606744   \n",
       "3  01/01/2016  103 ST  R18000-00-03  44839361   \n",
       "4  01/01/2016  103 ST  R18000-00-04   1498748   \n",
       "\n",
       "   EXITS                                                                 \\\n",
       "0                                           46180738                      \n",
       "1                                            2932991                      \n",
       "2                                           30879102                      \n",
       "3                                           24946366                      \n",
       "4                                            2294394                      \n",
       "\n",
       "   n_rides  \n",
       "0   1310.0  \n",
       "1   1540.0  \n",
       "2   1198.0  \n",
       "3   1216.0  \n",
       "4   1416.0  "
      ]
     },
     "execution_count": 27,
     "metadata": {},
     "output_type": "execute_result"
    }
   ],
   "source": [
    "mta_daily_turnstile.head()"
   ]
  },
  {
   "cell_type": "code",
   "execution_count": 28,
   "metadata": {
    "collapsed": false
   },
   "outputs": [],
   "source": [
    "mta_daily_station = mta_daily_turnstile.groupby(['DATE', 'STATION'], as_index = False).sum()"
   ]
  },
  {
   "cell_type": "code",
   "execution_count": 29,
   "metadata": {
    "collapsed": false
   },
   "outputs": [
    {
     "data": {
      "text/html": [
       "<div>\n",
       "<table border=\"1\" class=\"dataframe\">\n",
       "  <thead>\n",
       "    <tr style=\"text-align: right;\">\n",
       "      <th></th>\n",
       "      <th>DATE</th>\n",
       "      <th>STATION</th>\n",
       "      <th>ENTRIES</th>\n",
       "      <th>EXITS</th>\n",
       "      <th>n_rides</th>\n",
       "    </tr>\n",
       "  </thead>\n",
       "  <tbody>\n",
       "    <tr>\n",
       "      <th>0</th>\n",
       "      <td>01/01/2016</td>\n",
       "      <td>103 ST</td>\n",
       "      <td>745687268</td>\n",
       "      <td>582440984</td>\n",
       "      <td>19822.0</td>\n",
       "    </tr>\n",
       "    <tr>\n",
       "      <th>1</th>\n",
       "      <td>01/01/2016</td>\n",
       "      <td>111 ST</td>\n",
       "      <td>28212943</td>\n",
       "      <td>21193773</td>\n",
       "      <td>175.0</td>\n",
       "    </tr>\n",
       "    <tr>\n",
       "      <th>2</th>\n",
       "      <td>01/01/2016</td>\n",
       "      <td>116 ST</td>\n",
       "      <td>10256010253</td>\n",
       "      <td>12422391930</td>\n",
       "      <td>21464.0</td>\n",
       "    </tr>\n",
       "    <tr>\n",
       "      <th>3</th>\n",
       "      <td>01/01/2016</td>\n",
       "      <td>116 ST-COLUMBIA</td>\n",
       "      <td>7255832901</td>\n",
       "      <td>1534552023</td>\n",
       "      <td>4650.0</td>\n",
       "    </tr>\n",
       "    <tr>\n",
       "      <th>4</th>\n",
       "      <td>01/01/2016</td>\n",
       "      <td>125 ST</td>\n",
       "      <td>895699851</td>\n",
       "      <td>652856989</td>\n",
       "      <td>19243.0</td>\n",
       "    </tr>\n",
       "  </tbody>\n",
       "</table>\n",
       "</div>"
      ],
      "text/plain": [
       "         DATE          STATION      ENTRIES  \\\n",
       "0  01/01/2016           103 ST    745687268   \n",
       "1  01/01/2016           111 ST     28212943   \n",
       "2  01/01/2016           116 ST  10256010253   \n",
       "3  01/01/2016  116 ST-COLUMBIA   7255832901   \n",
       "4  01/01/2016           125 ST    895699851   \n",
       "\n",
       "   EXITS                                                                 \\\n",
       "0                                          582440984                      \n",
       "1                                           21193773                      \n",
       "2                                        12422391930                      \n",
       "3                                         1534552023                      \n",
       "4                                          652856989                      \n",
       "\n",
       "   n_rides  \n",
       "0  19822.0  \n",
       "1    175.0  \n",
       "2  21464.0  \n",
       "3   4650.0  \n",
       "4  19243.0  "
      ]
     },
     "execution_count": 29,
     "metadata": {},
     "output_type": "execute_result"
    }
   ],
   "source": [
    "mta_daily_station.head()"
   ]
  },
  {
   "cell_type": "code",
   "execution_count": 38,
   "metadata": {
    "collapsed": false
   },
   "outputs": [
    {
     "name": "stderr",
     "output_type": "stream",
     "text": [
      "/home/ben/anaconda3/envs/ipykernel_py2/lib/python2.7/site-packages/ipykernel/__main__.py:1: FutureWarning: sort(columns=....) is deprecated, use sort_values(by=.....)\n",
      "  if __name__ == '__main__':\n"
     ]
    },
    {
     "data": {
      "text/html": [
       "<div>\n",
       "<table border=\"1\" class=\"dataframe\">\n",
       "  <thead>\n",
       "    <tr style=\"text-align: right;\">\n",
       "      <th></th>\n",
       "      <th>DATE</th>\n",
       "      <th>STATION</th>\n",
       "      <th>ENTRIES</th>\n",
       "      <th>EXITS</th>\n",
       "      <th>n_rides</th>\n",
       "    </tr>\n",
       "  </thead>\n",
       "  <tbody>\n",
       "    <tr>\n",
       "      <th>10648</th>\n",
       "      <td>03/02/2016</td>\n",
       "      <td>LORIMER ST</td>\n",
       "      <td>2256778057</td>\n",
       "      <td>2162080678</td>\n",
       "      <td>2.122367e+09</td>\n",
       "    </tr>\n",
       "    <tr>\n",
       "      <th>20181</th>\n",
       "      <td>12/29/2015</td>\n",
       "      <td>163 ST-AMSTERDM</td>\n",
       "      <td>4005258817</td>\n",
       "      <td>1396200819</td>\n",
       "      <td>1.952395e+09</td>\n",
       "    </tr>\n",
       "    <tr>\n",
       "      <th>13201</th>\n",
       "      <td>03/16/2016</td>\n",
       "      <td>167 ST</td>\n",
       "      <td>7442429633</td>\n",
       "      <td>3635095199</td>\n",
       "      <td>1.771432e+09</td>\n",
       "    </tr>\n",
       "    <tr>\n",
       "      <th>8392</th>\n",
       "      <td>02/18/2016</td>\n",
       "      <td>GRD CNTRL-42 ST</td>\n",
       "      <td>16981311781</td>\n",
       "      <td>4395965281</td>\n",
       "      <td>1.349729e+09</td>\n",
       "    </tr>\n",
       "    <tr>\n",
       "      <th>3213</th>\n",
       "      <td>01/19/2016</td>\n",
       "      <td>GRD CNTRL-42 ST</td>\n",
       "      <td>17124802816</td>\n",
       "      <td>4505070566</td>\n",
       "      <td>1.320353e+09</td>\n",
       "    </tr>\n",
       "  </tbody>\n",
       "</table>\n",
       "</div>"
      ],
      "text/plain": [
       "             DATE          STATION      ENTRIES  \\\n",
       "10648  03/02/2016       LORIMER ST   2256778057   \n",
       "20181  12/29/2015  163 ST-AMSTERDM   4005258817   \n",
       "13201  03/16/2016           167 ST   7442429633   \n",
       "8392   02/18/2016  GRD CNTRL-42 ST  16981311781   \n",
       "3213   01/19/2016  GRD CNTRL-42 ST  17124802816   \n",
       "\n",
       "       EXITS                                                                 \\\n",
       "10648                                         2162080678                      \n",
       "20181                                         1396200819                      \n",
       "13201                                         3635095199                      \n",
       "8392                                          4395965281                      \n",
       "3213                                          4505070566                      \n",
       "\n",
       "            n_rides  \n",
       "10648  2.122367e+09  \n",
       "20181  1.952395e+09  \n",
       "13201  1.771432e+09  \n",
       "8392   1.349729e+09  \n",
       "3213   1.320353e+09  "
      ]
     },
     "execution_count": 38,
     "metadata": {},
     "output_type": "execute_result"
    }
   ],
   "source": [
    "mta_daily_station.sort('n_rides', ascending = False).head()"
   ]
  },
  {
   "cell_type": "code",
   "execution_count": 31,
   "metadata": {
    "collapsed": false
   },
   "outputs": [],
   "source": [
    "mta_daily = mta_daily_station.groupby(['DATE'], as_index = False).sum()"
   ]
  },
  {
   "cell_type": "code",
   "execution_count": 32,
   "metadata": {
    "collapsed": false
   },
   "outputs": [
    {
     "data": {
      "text/html": [
       "<div>\n",
       "<table border=\"1\" class=\"dataframe\">\n",
       "  <thead>\n",
       "    <tr style=\"text-align: right;\">\n",
       "      <th></th>\n",
       "      <th>DATE</th>\n",
       "      <th>ENTRIES</th>\n",
       "      <th>EXITS</th>\n",
       "      <th>n_rides</th>\n",
       "    </tr>\n",
       "  </thead>\n",
       "  <tbody>\n",
       "    <tr>\n",
       "      <th>0</th>\n",
       "      <td>01/01/2016</td>\n",
       "      <td>235047632810</td>\n",
       "      <td>174414173981</td>\n",
       "      <td>996685.0</td>\n",
       "    </tr>\n",
       "    <tr>\n",
       "      <th>1</th>\n",
       "      <td>01/02/2016</td>\n",
       "      <td>225104144715</td>\n",
       "      <td>165371253431</td>\n",
       "      <td>1048927.0</td>\n",
       "    </tr>\n",
       "    <tr>\n",
       "      <th>2</th>\n",
       "      <td>01/03/2016</td>\n",
       "      <td>227174999926</td>\n",
       "      <td>165651516983</td>\n",
       "      <td>927360.0</td>\n",
       "    </tr>\n",
       "    <tr>\n",
       "      <th>3</th>\n",
       "      <td>01/04/2016</td>\n",
       "      <td>228642701062</td>\n",
       "      <td>168286963518</td>\n",
       "      <td>1883877.0</td>\n",
       "    </tr>\n",
       "    <tr>\n",
       "      <th>4</th>\n",
       "      <td>01/05/2016</td>\n",
       "      <td>229849921590</td>\n",
       "      <td>167245796142</td>\n",
       "      <td>1923214.0</td>\n",
       "    </tr>\n",
       "  </tbody>\n",
       "</table>\n",
       "</div>"
      ],
      "text/plain": [
       "         DATE       ENTRIES  \\\n",
       "0  01/01/2016  235047632810   \n",
       "1  01/02/2016  225104144715   \n",
       "2  01/03/2016  227174999926   \n",
       "3  01/04/2016  228642701062   \n",
       "4  01/05/2016  229849921590   \n",
       "\n",
       "   EXITS                                                                 \\\n",
       "0                                       174414173981                      \n",
       "1                                       165371253431                      \n",
       "2                                       165651516983                      \n",
       "3                                       168286963518                      \n",
       "4                                       167245796142                      \n",
       "\n",
       "     n_rides  \n",
       "0   996685.0  \n",
       "1  1048927.0  \n",
       "2   927360.0  \n",
       "3  1883877.0  \n",
       "4  1923214.0  "
      ]
     },
     "execution_count": 32,
     "metadata": {},
     "output_type": "execute_result"
    }
   ],
   "source": [
    "mta_daily.head()"
   ]
  },
  {
   "cell_type": "code",
   "execution_count": 33,
   "metadata": {
    "collapsed": false
   },
   "outputs": [
    {
     "data": {
      "text/plain": [
       "<matplotlib.axes._subplots.AxesSubplot at 0xa01b824c>"
      ]
     },
     "execution_count": 33,
     "metadata": {},
     "output_type": "execute_result"
    },
    {
     "data": {
      "image/png": "[encoded data removed]",
      "text/plain": [
       "<matplotlib.figure.Figure at 0xaedb602c>"
      ]
     },
     "metadata": {},
     "output_type": "display_data"
    }
   ],
   "source": [
    "mta_daily.plot(x = 'DATE', y = 'n_rides')"
   ]
  },
  {
   "cell_type": "code",
   "execution_count": 34,
   "metadata": {
    "collapsed": false
   },
   "outputs": [
    {
     "data": {
      "text/plain": [
       "2124446314.0"
      ]
     },
     "execution_count": 34,
     "metadata": {},
     "output_type": "execute_result"
    }
   ],
   "source": [
    "max(mta_daily['n_rides'])"
   ]
  },
  {
   "cell_type": "code",
   "execution_count": 35,
   "metadata": {
    "collapsed": true
   },
   "outputs": [],
   "source": [
    "mta_daily = mta_daily[mta_daily['n_rides'] < 1000000000]"
   ]
  },
  {
   "cell_type": "code",
   "execution_count": 37,
   "metadata": {
    "collapsed": false
   },
   "outputs": [
    {
     "data": {
      "text/plain": [
       "<matplotlib.axes._subplots.AxesSubplot at 0xa3e5ee6c>"
      ]
     },
     "execution_count": 37,
     "metadata": {},
     "output_type": "execute_result"
    },
    {
     "data": {
      "image/png": "[encoded data removed]",
      "text/plain": [
       "<matplotlib.figure.Figure at 0xa3e5ef0c>"
      ]
     },
     "metadata": {},
     "output_type": "display_data"
    }
   ],
   "source": [
    "mta_daily.plot(x = 'DATE', y = 'n_rides', logy=True)"
   ]
  },
  {
   "cell_type": "code",
   "execution_count": null,
   "metadata": {
    "collapsed": true
   },
   "outputs": [],
   "source": []
  },
  {
   "cell_type": "code",
   "execution_count": null,
   "metadata": {
    "collapsed": true
   },
   "outputs": [],
   "source": []
  }
 ],
 "metadata": {
  "anaconda-cloud": {},
  "kernelspec": {
   "display_name": "Python 2",
   "language": "python",
   "name": "python2"
  },
  "language_info": {
   "codemirror_mode": {
    "name": "ipython",
    "version": 2
   },
   "file_extension": ".py",
   "mimetype": "text/x-python",
   "name": "python",
   "nbconvert_exporter": "python",
   "pygments_lexer": "ipython2",
   "version": "2.7.13"
  }
 },
 "nbformat": 4,
 "nbformat_minor": 1
}
