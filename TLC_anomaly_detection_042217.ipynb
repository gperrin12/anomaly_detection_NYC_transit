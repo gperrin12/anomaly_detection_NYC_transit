{
 "cells": [
  {
   "cell_type": "markdown",
   "metadata": {},
   "source": [
    "## Anomaly Detection for NYC Taxi & Limousine Data"
   ]
  },
  {
   "cell_type": "code",
   "execution_count": 1,
   "metadata": {
    "collapsed": false
   },
   "outputs": [
    {
     "name": "stdout",
     "output_type": "stream",
     "text": [
      "Populating the interactive namespace from numpy and matplotlib\n"
     ]
    },
    {
     "name": "stderr",
     "output_type": "stream",
     "text": [
      "/Users/geoffperrin/anaconda2/lib/python2.7/site-packages/sklearn/cross_validation.py:44: DeprecationWarning: This module was deprecated in version 0.18 in favor of the model_selection module into which all the refactored classes and functions are moved. Also note that the interface of the new CV iterators are different from that of this module. This module will be removed in 0.20.\n",
      "  \"This module will be removed in 0.20.\", DeprecationWarning)\n",
      "WARNING: pylab import has clobbered these variables: ['compress', 'datetime']\n",
      "`%matplotlib` prevents importing * from pylab and numpy\n"
     ]
    }
   ],
   "source": [
    "import numpy as np\n",
    "import pandas as pd\n",
    "import geopandas as gp\n",
    "from geopandas import GeoDataFrame\n",
    "import os\n",
    "import subprocess\n",
    "from shapely.geometry import Point\n",
    "from datetime import datetime\n",
    "import matplotlib\n",
    "matplotlib.use('TkAgg')\n",
    "import matplotlib.pyplot as plt\n",
    "from datetime import datetime\n",
    "import matplotlib.pyplot as plt\n",
    "import sklearn\n",
    "from sklearn import datasets\n",
    "from sklearn.decomposition import PCA\n",
    "from sklearn.linear_model import LogisticRegression\n",
    "from sklearn.ensemble import RandomForestClassifier as RFC\n",
    "from sklearn.ensemble import RandomForestRegressor as RFR\n",
    "from sklearn.model_selection import GridSearchCV\n",
    "from sklearn.metrics import roc_auc_score as rs\n",
    "from sklearn import svm, datasets\n",
    "from sklearn import metrics\n",
    "from sklearn.metrics import roc_curve\n",
    "from sklearn.metrics import auc\n",
    "from sklearn.metrics import silhouette_samples, silhouette_score\n",
    "from sklearn.cluster import KMeans\n",
    "from sklearn.mixture import GaussianMixture\n",
    "from sklearn.cross_validation import train_test_split\n",
    "from sklearn.ensemble import IsolationForest\n",
    "\n",
    "from itertools import compress\n",
    "\n",
    "np.random.seed(222)\n",
    "\n",
    "%matplotlib inline\n",
    "%pylab inline\n",
    "pd.options.display.max_columns = 120\n",
    "pd.options.display.max_rows = 120"
   ]
  },
  {
   "cell_type": "code",
   "execution_count": 2,
   "metadata": {
    "collapsed": false
   },
   "outputs": [],
   "source": [
    "proj_folder = os.getcwd()"
   ]
  },
  {
   "cell_type": "markdown",
   "metadata": {},
   "source": [
    "## TLC anomaly detection"
   ]
  },
  {
   "cell_type": "markdown",
   "metadata": {},
   "source": [
    "## Notes 4-22-17\n",
    "Next steps:\n",
    "1. would love to look at different areas of the city and see where the anomalies relative to those places\n",
    "i.e. taxi trips to/from coney island would be interesting / or around MSG - \"concert superstorm?\""
   ]
  },
  {
   "cell_type": "code",
   "execution_count": 3,
   "metadata": {
    "collapsed": false
   },
   "outputs": [],
   "source": [
    "### read in data for 2016\n",
    "columns = ['passenger_count', 'trip_distance', 'fare_amount', \\\n",
    "                     'extra', 'mta_tax', 'tip_amount', 'total_amount', \\\n",
    "                     'tpep_pickup_datetime', 'tpep_dropoff_datetime', 'pickup_longitude',\\\n",
    "                     'pickup_latitude']\n",
    "tlc_df_raw_total = pd.DataFrame(columns = columns)\n",
    "for i in range(1,4):\n",
    "    tlc_df_raw = pd.read_csv(proj_folder + '/data/tlc_yellow_2016_' + str(i) + '.csv', usecols=['passenger_count', \\\n",
    "                    'trip_distance', 'fare_amount', 'extra', 'mta_tax', 'tip_amount', 'total_amount', \\\n",
    "                     'tpep_pickup_datetime', 'tpep_dropoff_datetime', 'pickup_longitude', 'pickup_latitude'])\n",
    "    tlc_df_raw_total = tlc_df_raw_total.append(tlc_df_raw, ignore_index=True)"
   ]
  },
  {
   "cell_type": "code",
   "execution_count": 4,
   "metadata": {
    "collapsed": false
   },
   "outputs": [
    {
     "data": {
      "text/plain": [
       "34499859"
      ]
     },
     "execution_count": 4,
     "metadata": {},
     "output_type": "execute_result"
    }
   ],
   "source": [
    "len(tlc_df_raw_total)"
   ]
  },
  {
   "cell_type": "code",
   "execution_count": 5,
   "metadata": {
    "collapsed": false
   },
   "outputs": [
    {
     "data": {
      "text/html": [
       "<div>\n",
       "<table border=\"1\" class=\"dataframe\">\n",
       "  <thead>\n",
       "    <tr style=\"text-align: right;\">\n",
       "      <th></th>\n",
       "      <th>extra</th>\n",
       "      <th>fare_amount</th>\n",
       "      <th>mta_tax</th>\n",
       "      <th>passenger_count</th>\n",
       "      <th>pickup_latitude</th>\n",
       "      <th>pickup_longitude</th>\n",
       "      <th>tip_amount</th>\n",
       "      <th>total_amount</th>\n",
       "      <th>tpep_dropoff_datetime</th>\n",
       "      <th>tpep_pickup_datetime</th>\n",
       "      <th>trip_distance</th>\n",
       "    </tr>\n",
       "  </thead>\n",
       "  <tbody>\n",
       "    <tr>\n",
       "      <th>0</th>\n",
       "      <td>0.5</td>\n",
       "      <td>7.5</td>\n",
       "      <td>0.5</td>\n",
       "      <td>2.0</td>\n",
       "      <td>40.734695</td>\n",
       "      <td>-73.990372</td>\n",
       "      <td>0.0</td>\n",
       "      <td>8.8</td>\n",
       "      <td>2016-01-01</td>\n",
       "      <td>2016-01-01</td>\n",
       "      <td>1.10</td>\n",
       "    </tr>\n",
       "    <tr>\n",
       "      <th>1</th>\n",
       "      <td>0.5</td>\n",
       "      <td>18.0</td>\n",
       "      <td>0.5</td>\n",
       "      <td>5.0</td>\n",
       "      <td>40.729912</td>\n",
       "      <td>-73.980782</td>\n",
       "      <td>0.0</td>\n",
       "      <td>19.3</td>\n",
       "      <td>2016-01-01</td>\n",
       "      <td>2016-01-01</td>\n",
       "      <td>4.90</td>\n",
       "    </tr>\n",
       "    <tr>\n",
       "      <th>2</th>\n",
       "      <td>0.5</td>\n",
       "      <td>33.0</td>\n",
       "      <td>0.5</td>\n",
       "      <td>1.0</td>\n",
       "      <td>40.679565</td>\n",
       "      <td>-73.984550</td>\n",
       "      <td>0.0</td>\n",
       "      <td>34.3</td>\n",
       "      <td>2016-01-01</td>\n",
       "      <td>2016-01-01</td>\n",
       "      <td>10.54</td>\n",
       "    </tr>\n",
       "    <tr>\n",
       "      <th>3</th>\n",
       "      <td>0.0</td>\n",
       "      <td>16.5</td>\n",
       "      <td>0.5</td>\n",
       "      <td>1.0</td>\n",
       "      <td>40.718990</td>\n",
       "      <td>-73.993469</td>\n",
       "      <td>0.0</td>\n",
       "      <td>17.3</td>\n",
       "      <td>2016-01-01</td>\n",
       "      <td>2016-01-01</td>\n",
       "      <td>4.75</td>\n",
       "    </tr>\n",
       "    <tr>\n",
       "      <th>4</th>\n",
       "      <td>0.0</td>\n",
       "      <td>8.0</td>\n",
       "      <td>0.5</td>\n",
       "      <td>3.0</td>\n",
       "      <td>40.781330</td>\n",
       "      <td>-73.960625</td>\n",
       "      <td>0.0</td>\n",
       "      <td>8.8</td>\n",
       "      <td>2016-01-01</td>\n",
       "      <td>2016-01-01</td>\n",
       "      <td>1.76</td>\n",
       "    </tr>\n",
       "  </tbody>\n",
       "</table>\n",
       "</div>"
      ],
      "text/plain": [
       "   extra  fare_amount  mta_tax  passenger_count  pickup_latitude  \\\n",
       "0    0.5          7.5      0.5              2.0        40.734695   \n",
       "1    0.5         18.0      0.5              5.0        40.729912   \n",
       "2    0.5         33.0      0.5              1.0        40.679565   \n",
       "3    0.0         16.5      0.5              1.0        40.718990   \n",
       "4    0.0          8.0      0.5              3.0        40.781330   \n",
       "\n",
       "   pickup_longitude  tip_amount  total_amount tpep_dropoff_datetime  \\\n",
       "0        -73.990372         0.0           8.8            2016-01-01   \n",
       "1        -73.980782         0.0          19.3            2016-01-01   \n",
       "2        -73.984550         0.0          34.3            2016-01-01   \n",
       "3        -73.993469         0.0          17.3            2016-01-01   \n",
       "4        -73.960625         0.0           8.8            2016-01-01   \n",
       "\n",
       "  tpep_pickup_datetime  trip_distance  \n",
       "0           2016-01-01           1.10  \n",
       "1           2016-01-01           4.90  \n",
       "2           2016-01-01          10.54  \n",
       "3           2016-01-01           4.75  \n",
       "4           2016-01-01           1.76  "
      ]
     },
     "execution_count": 5,
     "metadata": {},
     "output_type": "execute_result"
    }
   ],
   "source": [
    "tlc_df_raw_total['tpep_pickup_datetime'] = pd.to_datetime(tlc_df_raw_total['tpep_pickup_datetime'])\n",
    "tlc_df_raw_total['tpep_dropoff_datetime'] = pd.to_datetime(tlc_df_raw_total['tpep_dropoff_datetime'])\n",
    "tlc_df_raw_total.head()"
   ]
  },
  {
   "cell_type": "code",
   "execution_count": 6,
   "metadata": {
    "collapsed": false
   },
   "outputs": [],
   "source": [
    "#CANNOT GET THIS TRIP DURATION TO WORK - MOVING ON FOR NOW\n",
    "#tlc_df['trip_duration'] = pd.Timedelta(tlc_df['tpep_dropoff_datetime_2'] - tlc_df['tpep_pickup_datetime']).seconds / 3600.0\n",
    "#tlc_df['trip_speed'] = tlc_df.trip_distance / tlc_df.trip_duration"
   ]
  },
  {
   "cell_type": "markdown",
   "metadata": {},
   "source": [
    "## Clean the data - \n",
    "drop all the unreasonable trip entries, such as those that have trip distance in the millions of miles"
   ]
  },
  {
   "cell_type": "code",
   "execution_count": 7,
   "metadata": {
    "collapsed": false,
    "scrolled": true
   },
   "outputs": [],
   "source": [
    "#tlc_df_raw_total.sort(['trip_distance'], ascending=False).head()"
   ]
  },
  {
   "cell_type": "code",
   "execution_count": 8,
   "metadata": {
    "collapsed": false
   },
   "outputs": [],
   "source": [
    "#tlc_df_raw_total.sort(['total_amount'], ascending=False).head()"
   ]
  },
  {
   "cell_type": "code",
   "execution_count": 9,
   "metadata": {
    "collapsed": false
   },
   "outputs": [],
   "source": [
    "#tlc_df_raw_total.sort(['tip_amount'], ascending=False).head()"
   ]
  },
  {
   "cell_type": "code",
   "execution_count": 10,
   "metadata": {
    "collapsed": false
   },
   "outputs": [],
   "source": [
    "#only keep trips that have a positive distance less than 100 miles\n",
    "tlc_df_total = tlc_df_raw_total[(tlc_df_raw_total.trip_distance > 0) & (tlc_df_raw_total.trip_distance < 100)]\n",
    "\n",
    "#only keep trips that have a positive fare amount less than $500\n",
    "tlc_df_total = tlc_df_total[(tlc_df_total.fare_amount > 0) & (tlc_df_total.fare_amount < 500)]"
   ]
  },
  {
   "cell_type": "code",
   "execution_count": 11,
   "metadata": {
    "collapsed": false
   },
   "outputs": [
    {
     "data": {
      "text/plain": [
       "0.9936390464668275"
      ]
     },
     "execution_count": 11,
     "metadata": {},
     "output_type": "execute_result"
    }
   ],
   "source": [
    "len(tlc_df_total) * 1.0 / len(tlc_df_raw_total)"
   ]
  },
  {
   "cell_type": "code",
   "execution_count": 12,
   "metadata": {
    "collapsed": false
   },
   "outputs": [],
   "source": [
    "#count the number of taxi trips each day\n",
    "tlc_df_total['taxi_date'] = tlc_df_total['tpep_pickup_datetime'].dt.date\n",
    "tlc_df_day_count = tlc_df_total.groupby(['taxi_date'], as_index=False)['extra'].count()\n",
    "tlc_df_day_count.columns = ['taxi_date', 'taxi_trip_count']"
   ]
  },
  {
   "cell_type": "code",
   "execution_count": 13,
   "metadata": {
    "collapsed": false
   },
   "outputs": [
    {
     "data": {
      "text/html": [
       "<div>\n",
       "<table border=\"1\" class=\"dataframe\">\n",
       "  <thead>\n",
       "    <tr style=\"text-align: right;\">\n",
       "      <th></th>\n",
       "      <th>taxi_date</th>\n",
       "      <th>extra</th>\n",
       "      <th>fare_amount</th>\n",
       "      <th>mta_tax</th>\n",
       "      <th>passenger_count</th>\n",
       "      <th>pickup_latitude</th>\n",
       "      <th>pickup_longitude</th>\n",
       "      <th>tip_amount</th>\n",
       "      <th>total_amount</th>\n",
       "      <th>trip_distance</th>\n",
       "    </tr>\n",
       "  </thead>\n",
       "  <tbody>\n",
       "    <tr>\n",
       "      <th>0</th>\n",
       "      <td>2016-01-01</td>\n",
       "      <td>0.270617</td>\n",
       "      <td>12.795289</td>\n",
       "      <td>0.498092</td>\n",
       "      <td>1.795093</td>\n",
       "      <td>40.177206</td>\n",
       "      <td>-72.933026</td>\n",
       "      <td>1.441512</td>\n",
       "      <td>15.569496</td>\n",
       "      <td>3.292646</td>\n",
       "    </tr>\n",
       "    <tr>\n",
       "      <th>1</th>\n",
       "      <td>2016-01-02</td>\n",
       "      <td>0.198105</td>\n",
       "      <td>12.392116</td>\n",
       "      <td>0.498403</td>\n",
       "      <td>1.777977</td>\n",
       "      <td>40.093708</td>\n",
       "      <td>-72.781330</td>\n",
       "      <td>1.459314</td>\n",
       "      <td>15.139841</td>\n",
       "      <td>3.082059</td>\n",
       "    </tr>\n",
       "    <tr>\n",
       "      <th>2</th>\n",
       "      <td>2016-01-03</td>\n",
       "      <td>0.200098</td>\n",
       "      <td>12.997669</td>\n",
       "      <td>0.498177</td>\n",
       "      <td>1.739239</td>\n",
       "      <td>40.135610</td>\n",
       "      <td>-72.855615</td>\n",
       "      <td>1.650988</td>\n",
       "      <td>16.022176</td>\n",
       "      <td>3.425719</td>\n",
       "    </tr>\n",
       "    <tr>\n",
       "      <th>3</th>\n",
       "      <td>2016-01-04</td>\n",
       "      <td>0.374877</td>\n",
       "      <td>12.159065</td>\n",
       "      <td>0.498728</td>\n",
       "      <td>1.649450</td>\n",
       "      <td>40.075239</td>\n",
       "      <td>-72.740969</td>\n",
       "      <td>1.634711</td>\n",
       "      <td>15.314045</td>\n",
       "      <td>3.031284</td>\n",
       "    </tr>\n",
       "    <tr>\n",
       "      <th>4</th>\n",
       "      <td>2016-01-05</td>\n",
       "      <td>0.356747</td>\n",
       "      <td>11.954732</td>\n",
       "      <td>0.498906</td>\n",
       "      <td>1.635951</td>\n",
       "      <td>40.023580</td>\n",
       "      <td>-72.647829</td>\n",
       "      <td>1.649986</td>\n",
       "      <td>15.040607</td>\n",
       "      <td>2.830233</td>\n",
       "    </tr>\n",
       "  </tbody>\n",
       "</table>\n",
       "</div>"
      ],
      "text/plain": [
       "    taxi_date     extra  fare_amount   mta_tax  passenger_count  \\\n",
       "0  2016-01-01  0.270617    12.795289  0.498092         1.795093   \n",
       "1  2016-01-02  0.198105    12.392116  0.498403         1.777977   \n",
       "2  2016-01-03  0.200098    12.997669  0.498177         1.739239   \n",
       "3  2016-01-04  0.374877    12.159065  0.498728         1.649450   \n",
       "4  2016-01-05  0.356747    11.954732  0.498906         1.635951   \n",
       "\n",
       "   pickup_latitude  pickup_longitude  tip_amount  total_amount  trip_distance  \n",
       "0        40.177206        -72.933026    1.441512     15.569496       3.292646  \n",
       "1        40.093708        -72.781330    1.459314     15.139841       3.082059  \n",
       "2        40.135610        -72.855615    1.650988     16.022176       3.425719  \n",
       "3        40.075239        -72.740969    1.634711     15.314045       3.031284  \n",
       "4        40.023580        -72.647829    1.649986     15.040607       2.830233  "
      ]
     },
     "execution_count": 13,
     "metadata": {},
     "output_type": "execute_result"
    }
   ],
   "source": [
    "#take the mean of the taxi stats each day\n",
    "tlc_df_stat_agg = tlc_df_total.groupby(['taxi_date'], as_index=False).mean()\n",
    "tlc_df_stat_agg.head()"
   ]
  },
  {
   "cell_type": "code",
   "execution_count": 14,
   "metadata": {
    "collapsed": false
   },
   "outputs": [
    {
     "data": {
      "text/html": [
       "<div>\n",
       "<table border=\"1\" class=\"dataframe\">\n",
       "  <thead>\n",
       "    <tr style=\"text-align: right;\">\n",
       "      <th></th>\n",
       "      <th>taxi_date</th>\n",
       "      <th>extra</th>\n",
       "      <th>fare_amount</th>\n",
       "      <th>mta_tax</th>\n",
       "      <th>passenger_count</th>\n",
       "      <th>pickup_latitude</th>\n",
       "      <th>pickup_longitude</th>\n",
       "      <th>tip_amount</th>\n",
       "      <th>total_amount</th>\n",
       "      <th>trip_distance</th>\n",
       "      <th>taxi_trip_count</th>\n",
       "    </tr>\n",
       "  </thead>\n",
       "  <tbody>\n",
       "    <tr>\n",
       "      <th>0</th>\n",
       "      <td>2016-01-01</td>\n",
       "      <td>0.270617</td>\n",
       "      <td>12.795289</td>\n",
       "      <td>0.498092</td>\n",
       "      <td>1.795093</td>\n",
       "      <td>40.177206</td>\n",
       "      <td>-72.933026</td>\n",
       "      <td>1.441512</td>\n",
       "      <td>15.569496</td>\n",
       "      <td>3.292646</td>\n",
       "      <td>342467</td>\n",
       "    </tr>\n",
       "    <tr>\n",
       "      <th>1</th>\n",
       "      <td>2016-01-02</td>\n",
       "      <td>0.198105</td>\n",
       "      <td>12.392116</td>\n",
       "      <td>0.498403</td>\n",
       "      <td>1.777977</td>\n",
       "      <td>40.093708</td>\n",
       "      <td>-72.781330</td>\n",
       "      <td>1.459314</td>\n",
       "      <td>15.139841</td>\n",
       "      <td>3.082059</td>\n",
       "      <td>310850</td>\n",
       "    </tr>\n",
       "    <tr>\n",
       "      <th>2</th>\n",
       "      <td>2016-01-03</td>\n",
       "      <td>0.200098</td>\n",
       "      <td>12.997669</td>\n",
       "      <td>0.498177</td>\n",
       "      <td>1.739239</td>\n",
       "      <td>40.135610</td>\n",
       "      <td>-72.855615</td>\n",
       "      <td>1.650988</td>\n",
       "      <td>16.022176</td>\n",
       "      <td>3.425719</td>\n",
       "      <td>300678</td>\n",
       "    </tr>\n",
       "    <tr>\n",
       "      <th>3</th>\n",
       "      <td>2016-01-04</td>\n",
       "      <td>0.374877</td>\n",
       "      <td>12.159065</td>\n",
       "      <td>0.498728</td>\n",
       "      <td>1.649450</td>\n",
       "      <td>40.075239</td>\n",
       "      <td>-72.740969</td>\n",
       "      <td>1.634711</td>\n",
       "      <td>15.314045</td>\n",
       "      <td>3.031284</td>\n",
       "      <td>314058</td>\n",
       "    </tr>\n",
       "    <tr>\n",
       "      <th>4</th>\n",
       "      <td>2016-01-05</td>\n",
       "      <td>0.356747</td>\n",
       "      <td>11.954732</td>\n",
       "      <td>0.498906</td>\n",
       "      <td>1.635951</td>\n",
       "      <td>40.023580</td>\n",
       "      <td>-72.647829</td>\n",
       "      <td>1.649986</td>\n",
       "      <td>15.040607</td>\n",
       "      <td>2.830233</td>\n",
       "      <td>341089</td>\n",
       "    </tr>\n",
       "  </tbody>\n",
       "</table>\n",
       "</div>"
      ],
      "text/plain": [
       "    taxi_date     extra  fare_amount   mta_tax  passenger_count  \\\n",
       "0  2016-01-01  0.270617    12.795289  0.498092         1.795093   \n",
       "1  2016-01-02  0.198105    12.392116  0.498403         1.777977   \n",
       "2  2016-01-03  0.200098    12.997669  0.498177         1.739239   \n",
       "3  2016-01-04  0.374877    12.159065  0.498728         1.649450   \n",
       "4  2016-01-05  0.356747    11.954732  0.498906         1.635951   \n",
       "\n",
       "   pickup_latitude  pickup_longitude  tip_amount  total_amount  trip_distance  \\\n",
       "0        40.177206        -72.933026    1.441512     15.569496       3.292646   \n",
       "1        40.093708        -72.781330    1.459314     15.139841       3.082059   \n",
       "2        40.135610        -72.855615    1.650988     16.022176       3.425719   \n",
       "3        40.075239        -72.740969    1.634711     15.314045       3.031284   \n",
       "4        40.023580        -72.647829    1.649986     15.040607       2.830233   \n",
       "\n",
       "   taxi_trip_count  \n",
       "0           342467  \n",
       "1           310850  \n",
       "2           300678  \n",
       "3           314058  \n",
       "4           341089  "
      ]
     },
     "execution_count": 14,
     "metadata": {},
     "output_type": "execute_result"
    }
   ],
   "source": [
    "tlc_df_by_day = tlc_df_stat_agg.merge(tlc_df_day_count, on='taxi_date')\n",
    "tlc_df_by_day.head()"
   ]
  },
  {
   "cell_type": "code",
   "execution_count": 15,
   "metadata": {
    "collapsed": false
   },
   "outputs": [
    {
     "name": "stderr",
     "output_type": "stream",
     "text": [
      "/Users/geoffperrin/anaconda2/lib/python2.7/site-packages/pandas/core/indexing.py:141: SettingWithCopyWarning: \n",
      "A value is trying to be set on a copy of a slice from a DataFrame\n",
      "\n",
      "See the caveats in the documentation: http://pandas.pydata.org/pandas-docs/stable/indexing.html#indexing-view-versus-copy\n",
      "  self._setitem_with_indexer(indexer, value)\n"
     ]
    }
   ],
   "source": [
    "tlc_df_by_day['weekday'] = 0\n",
    "for i in range(len(tlc_df_by_day)):\n",
    "    tlc_df_by_day['weekday'].iloc[i] = tlc_df_by_day.taxi_date.iloc[i].weekday()"
   ]
  },
  {
   "cell_type": "code",
   "execution_count": 16,
   "metadata": {
    "collapsed": false
   },
   "outputs": [
    {
     "data": {
      "text/plain": [
       "<matplotlib.axes._subplots.AxesSubplot at 0x1629a97d0>"
      ]
     },
     "execution_count": 16,
     "metadata": {},
     "output_type": "execute_result"
    },
    {
     "data": {
      "image/png": "[encoded data removed]",
      "text/plain": [
       "<matplotlib.figure.Figure at 0x19f83b490>"
      ]
     },
     "metadata": {},
     "output_type": "display_data"
    }
   ],
   "source": [
    "tlc_df_by_day[['taxi_date', 'taxi_trip_count']].plot()"
   ]
  },
  {
   "cell_type": "code",
   "execution_count": 17,
   "metadata": {
    "collapsed": false
   },
   "outputs": [
    {
     "data": {
      "text/plain": [
       "<matplotlib.axes._subplots.AxesSubplot at 0x1050a6c90>"
      ]
     },
     "execution_count": 17,
     "metadata": {},
     "output_type": "execute_result"
    },
    {
     "data": {
      "image/png": "[encoded data removed]",
      "text/plain": [
       "<matplotlib.figure.Figure at 0x147119fd0>"
      ]
     },
     "metadata": {},
     "output_type": "display_data"
    }
   ],
   "source": [
    "tlc_df_by_day_agg = tlc_df_by_day.groupby(['weekday'], as_index=False).sum()\n",
    "tlc_df_by_day_agg[['taxi_trip_count']].plot()"
   ]
  },
  {
   "cell_type": "code",
   "execution_count": 18,
   "metadata": {
    "collapsed": false
   },
   "outputs": [
    {
     "data": {
      "text/plain": [
       "<matplotlib.axes._subplots.AxesSubplot at 0x136337410>"
      ]
     },
     "execution_count": 18,
     "metadata": {},
     "output_type": "execute_result"
    },
    {
     "data": {
      "image/png": "[encoded data removed]",
      "text/plain": [
       "<matplotlib.figure.Figure at 0x136335c10>"
      ]
     },
     "metadata": {},
     "output_type": "display_data"
    }
   ],
   "source": [
    "tlc_df_by_day[['taxi_date', 'passenger_count']].plot()"
   ]
  },
  {
   "cell_type": "code",
   "execution_count": 19,
   "metadata": {
    "collapsed": false
   },
   "outputs": [
    {
     "data": {
      "text/plain": [
       "<matplotlib.axes._subplots.AxesSubplot at 0x13969e810>"
      ]
     },
     "execution_count": 19,
     "metadata": {},
     "output_type": "execute_result"
    },
    {
     "data": {
      "image/png": "[encoded data removed]",
      "text/plain": [
       "<matplotlib.figure.Figure at 0x1396668d0>"
      ]
     },
     "metadata": {},
     "output_type": "display_data"
    }
   ],
   "source": [
    "tlc_df_by_day[['taxi_date', 'trip_distance']].plot()"
   ]
  },
  {
   "cell_type": "code",
   "execution_count": 20,
   "metadata": {
    "collapsed": false
   },
   "outputs": [
    {
     "data": {
      "text/plain": [
       "<matplotlib.axes._subplots.AxesSubplot at 0x14a5d1d90>"
      ]
     },
     "execution_count": 20,
     "metadata": {},
     "output_type": "execute_result"
    },
    {
     "data": {
      "image/png": "[encoded data removed]",
      "text/plain": [
       "<matplotlib.figure.Figure at 0x14a5d6350>"
      ]
     },
     "metadata": {},
     "output_type": "display_data"
    }
   ],
   "source": [
    "tlc_df_by_day[['taxi_date', 'total_amount']].plot()"
   ]
  },
  {
   "cell_type": "code",
   "execution_count": 21,
   "metadata": {
    "collapsed": false
   },
   "outputs": [
    {
     "data": {
      "text/html": [
       "<div>\n",
       "<table border=\"1\" class=\"dataframe\">\n",
       "  <thead>\n",
       "    <tr style=\"text-align: right;\">\n",
       "      <th></th>\n",
       "      <th>passenger_count</th>\n",
       "      <th>trip_distance</th>\n",
       "      <th>total_amount</th>\n",
       "      <th>taxi_trip_count</th>\n",
       "    </tr>\n",
       "  </thead>\n",
       "  <tbody>\n",
       "    <tr>\n",
       "      <th>0</th>\n",
       "      <td>1.795093</td>\n",
       "      <td>3.292646</td>\n",
       "      <td>15.569496</td>\n",
       "      <td>342467</td>\n",
       "    </tr>\n",
       "    <tr>\n",
       "      <th>1</th>\n",
       "      <td>1.777977</td>\n",
       "      <td>3.082059</td>\n",
       "      <td>15.139841</td>\n",
       "      <td>310850</td>\n",
       "    </tr>\n",
       "  </tbody>\n",
       "</table>\n",
       "</div>"
      ],
      "text/plain": [
       "   passenger_count  trip_distance  total_amount  taxi_trip_count\n",
       "0         1.795093       3.292646     15.569496           342467\n",
       "1         1.777977       3.082059     15.139841           310850"
      ]
     },
     "execution_count": 21,
     "metadata": {},
     "output_type": "execute_result"
    }
   ],
   "source": [
    "X = tlc_df_by_day[['passenger_count', 'trip_distance' ,'total_amount', 'taxi_trip_count']]\n",
    "X.head(2)"
   ]
  },
  {
   "cell_type": "markdown",
   "metadata": {},
   "source": [
    "## Clustering Anomaly Detection"
   ]
  },
  {
   "cell_type": "markdown",
   "metadata": {},
   "source": [
    "### Gaussian Mixture Model Anomaly Detection"
   ]
  },
  {
   "cell_type": "code",
   "execution_count": 22,
   "metadata": {
    "collapsed": false
   },
   "outputs": [
    {
     "name": "stdout",
     "output_type": "stream",
     "text": [
      "For n_clusters =2, the average silhouette_score is :0.839684098278\n",
      "For n_clusters =3, the average silhouette_score is :0.568602876405\n",
      "For n_clusters =4, the average silhouette_score is :0.544348877186\n",
      "For n_clusters =5, the average silhouette_score is :0.587465319958\n",
      "For n_clusters =6, the average silhouette_score is :0.605560433797\n",
      "For n_clusters =7, the average silhouette_score is :0.593835521857\n",
      "For n_clusters =8, the average silhouette_score is :0.595763037962\n"
     ]
    }
   ],
   "source": [
    "range_n_clusters = [2, 3, 4, 5, 6, 7, 8]\n",
    "for n_clusters in range_n_clusters:\n",
    "    km = KMeans(n_clusters=n_clusters, random_state=324)\n",
    "    cluster_labels = km.fit_predict(X)\n",
    "    silhouette_avg = silhouette_score(X, cluster_labels)\n",
    "    print(\"For n_clusters ={},\".format(n_clusters)+\" the average silhouette_score is :{}\".format(silhouette_avg))"
   ]
  },
  {
   "cell_type": "code",
   "execution_count": 23,
   "metadata": {
    "collapsed": false
   },
   "outputs": [
    {
     "data": {
      "text/plain": [
       "GaussianMixture(covariance_type='full', init_params='kmeans', max_iter=100,\n",
       "        means_init=None, n_components=2, n_init=1, precisions_init=None,\n",
       "        random_state=324, reg_covar=1e-06, tol=0.001, verbose=0,\n",
       "        verbose_interval=10, warm_start=False, weights_init=None)"
      ]
     },
     "execution_count": 23,
     "metadata": {},
     "output_type": "execute_result"
    }
   ],
   "source": [
    "GM=GaussianMixture(n_components=2, random_state=324)\n",
    "GM.fit(X)"
   ]
  },
  {
   "cell_type": "code",
   "execution_count": 24,
   "metadata": {
    "collapsed": false
   },
   "outputs": [
    {
     "data": {
      "image/png": "[encoded data removed]",
      "text/plain": [
       "<matplotlib.figure.Figure at 0x11b2fd250>"
      ]
     },
     "metadata": {},
     "output_type": "display_data"
    }
   ],
   "source": [
    "%matplotlib inline\n",
    "import matplotlib.pylab as plt\n",
    "plt.figure(figsize=(20,4))\n",
    "plt.scatter(range(len(X)),GM.score_samples(X))\n",
    "plt.plot(GM.score_samples(X),\"r--\")\n",
    "plt.show()"
   ]
  },
  {
   "cell_type": "markdown",
   "metadata": {},
   "source": [
    "## Isolation Anomaly Detection"
   ]
  },
  {
   "cell_type": "markdown",
   "metadata": {},
   "source": [
    "### Isolation Forest Anomaly Detection"
   ]
  },
  {
   "cell_type": "code",
   "execution_count": 25,
   "metadata": {
    "collapsed": false
   },
   "outputs": [
    {
     "name": "stderr",
     "output_type": "stream",
     "text": [
      "/Users/geoffperrin/anaconda2/lib/python2.7/site-packages/sklearn/ensemble/iforest.py:184: UserWarning: max_samples (100) is greater than the total number of samples (63). max_samples will be set to n_samples for estimation.\n",
      "  % (self.max_samples, n_samples))\n"
     ]
    }
   ],
   "source": [
    "train,test=train_test_split(X, random_state=999, test_size=0.3)\n",
    "# fit the model\n",
    "clf = IsolationForest(max_samples=100, random_state=999)\n",
    "clf.fit(train)\n",
    "y_pred = clf.predict(X)"
   ]
  },
  {
   "cell_type": "code",
   "execution_count": 26,
   "metadata": {
    "collapsed": true
   },
   "outputs": [],
   "source": [
    "tlc_df_by_day['decision_function'] = clf.decision_function(X)"
   ]
  },
  {
   "cell_type": "code",
   "execution_count": 27,
   "metadata": {
    "collapsed": false
   },
   "outputs": [
    {
     "data": {
      "text/html": [
       "<div>\n",
       "<table border=\"1\" class=\"dataframe\">\n",
       "  <thead>\n",
       "    <tr style=\"text-align: right;\">\n",
       "      <th></th>\n",
       "      <th>taxi_date</th>\n",
       "      <th>extra</th>\n",
       "      <th>fare_amount</th>\n",
       "      <th>mta_tax</th>\n",
       "      <th>passenger_count</th>\n",
       "      <th>pickup_latitude</th>\n",
       "      <th>pickup_longitude</th>\n",
       "      <th>tip_amount</th>\n",
       "      <th>total_amount</th>\n",
       "      <th>trip_distance</th>\n",
       "      <th>taxi_trip_count</th>\n",
       "      <th>weekday</th>\n",
       "      <th>decision_function</th>\n",
       "    </tr>\n",
       "  </thead>\n",
       "  <tbody>\n",
       "    <tr>\n",
       "      <th>24</th>\n",
       "      <td>2016-01-25</td>\n",
       "      <td>0.379404</td>\n",
       "      <td>14.854335</td>\n",
       "      <td>0.498136</td>\n",
       "      <td>1.647179</td>\n",
       "      <td>40.242313</td>\n",
       "      <td>-73.045338</td>\n",
       "      <td>2.086684</td>\n",
       "      <td>18.534021</td>\n",
       "      <td>3.319237</td>\n",
       "      <td>279805</td>\n",
       "      <td>0</td>\n",
       "      <td>-0.136040</td>\n",
       "    </tr>\n",
       "    <tr>\n",
       "      <th>22</th>\n",
       "      <td>2016-01-23</td>\n",
       "      <td>0.362535</td>\n",
       "      <td>11.875412</td>\n",
       "      <td>0.498546</td>\n",
       "      <td>1.691393</td>\n",
       "      <td>40.156820</td>\n",
       "      <td>-72.907324</td>\n",
       "      <td>1.680846</td>\n",
       "      <td>14.821589</td>\n",
       "      <td>2.797509</td>\n",
       "      <td>77354</td>\n",
       "      <td>5</td>\n",
       "      <td>-0.124463</td>\n",
       "    </tr>\n",
       "    <tr>\n",
       "      <th>23</th>\n",
       "      <td>2016-01-24</td>\n",
       "      <td>0.149384</td>\n",
       "      <td>12.179742</td>\n",
       "      <td>0.498538</td>\n",
       "      <td>1.751895</td>\n",
       "      <td>40.245866</td>\n",
       "      <td>-73.052736</td>\n",
       "      <td>1.624971</td>\n",
       "      <td>15.007358</td>\n",
       "      <td>2.951654</td>\n",
       "      <td>158675</td>\n",
       "      <td>6</td>\n",
       "      <td>-0.063665</td>\n",
       "    </tr>\n",
       "    <tr>\n",
       "      <th>2</th>\n",
       "      <td>2016-01-03</td>\n",
       "      <td>0.200098</td>\n",
       "      <td>12.997669</td>\n",
       "      <td>0.498177</td>\n",
       "      <td>1.739239</td>\n",
       "      <td>40.135610</td>\n",
       "      <td>-72.855615</td>\n",
       "      <td>1.650988</td>\n",
       "      <td>16.022176</td>\n",
       "      <td>3.425719</td>\n",
       "      <td>300678</td>\n",
       "      <td>6</td>\n",
       "      <td>-0.061439</td>\n",
       "    </tr>\n",
       "    <tr>\n",
       "      <th>0</th>\n",
       "      <td>2016-01-01</td>\n",
       "      <td>0.270617</td>\n",
       "      <td>12.795289</td>\n",
       "      <td>0.498092</td>\n",
       "      <td>1.795093</td>\n",
       "      <td>40.177206</td>\n",
       "      <td>-72.933026</td>\n",
       "      <td>1.441512</td>\n",
       "      <td>15.569496</td>\n",
       "      <td>3.292646</td>\n",
       "      <td>342467</td>\n",
       "      <td>4</td>\n",
       "      <td>-0.055074</td>\n",
       "    </tr>\n",
       "    <tr>\n",
       "      <th>43</th>\n",
       "      <td>2016-02-13</td>\n",
       "      <td>0.198109</td>\n",
       "      <td>11.556715</td>\n",
       "      <td>0.498945</td>\n",
       "      <td>1.723480</td>\n",
       "      <td>39.963539</td>\n",
       "      <td>-72.549819</td>\n",
       "      <td>1.513157</td>\n",
       "      <td>14.238487</td>\n",
       "      <td>2.618400</td>\n",
       "      <td>445761</td>\n",
       "      <td>5</td>\n",
       "      <td>-0.039224</td>\n",
       "    </tr>\n",
       "    <tr>\n",
       "      <th>1</th>\n",
       "      <td>2016-01-02</td>\n",
       "      <td>0.198105</td>\n",
       "      <td>12.392116</td>\n",
       "      <td>0.498403</td>\n",
       "      <td>1.777977</td>\n",
       "      <td>40.093708</td>\n",
       "      <td>-72.781330</td>\n",
       "      <td>1.459314</td>\n",
       "      <td>15.139841</td>\n",
       "      <td>3.082059</td>\n",
       "      <td>310850</td>\n",
       "      <td>5</td>\n",
       "      <td>-0.033962</td>\n",
       "    </tr>\n",
       "    <tr>\n",
       "      <th>25</th>\n",
       "      <td>2016-01-26</td>\n",
       "      <td>0.368764</td>\n",
       "      <td>14.366871</td>\n",
       "      <td>0.498617</td>\n",
       "      <td>1.639194</td>\n",
       "      <td>40.264174</td>\n",
       "      <td>-73.084983</td>\n",
       "      <td>2.084838</td>\n",
       "      <td>17.982999</td>\n",
       "      <td>3.057893</td>\n",
       "      <td>325441</td>\n",
       "      <td>1</td>\n",
       "      <td>-0.030700</td>\n",
       "    </tr>\n",
       "    <tr>\n",
       "      <th>86</th>\n",
       "      <td>2016-03-27</td>\n",
       "      <td>0.202972</td>\n",
       "      <td>12.879512</td>\n",
       "      <td>0.498490</td>\n",
       "      <td>1.731464</td>\n",
       "      <td>40.204219</td>\n",
       "      <td>-72.983853</td>\n",
       "      <td>1.633937</td>\n",
       "      <td>15.849132</td>\n",
       "      <td>3.310940</td>\n",
       "      <td>343351</td>\n",
       "      <td>6</td>\n",
       "      <td>-0.019898</td>\n",
       "    </tr>\n",
       "    <tr>\n",
       "      <th>36</th>\n",
       "      <td>2016-02-06</td>\n",
       "      <td>0.214063</td>\n",
       "      <td>11.658167</td>\n",
       "      <td>0.499023</td>\n",
       "      <td>1.713525</td>\n",
       "      <td>40.146849</td>\n",
       "      <td>-72.883765</td>\n",
       "      <td>1.557601</td>\n",
       "      <td>14.399616</td>\n",
       "      <td>2.704059</td>\n",
       "      <td>425768</td>\n",
       "      <td>5</td>\n",
       "      <td>0.014031</td>\n",
       "    </tr>\n",
       "  </tbody>\n",
       "</table>\n",
       "</div>"
      ],
      "text/plain": [
       "     taxi_date     extra  fare_amount   mta_tax  passenger_count  \\\n",
       "24  2016-01-25  0.379404    14.854335  0.498136         1.647179   \n",
       "22  2016-01-23  0.362535    11.875412  0.498546         1.691393   \n",
       "23  2016-01-24  0.149384    12.179742  0.498538         1.751895   \n",
       "2   2016-01-03  0.200098    12.997669  0.498177         1.739239   \n",
       "0   2016-01-01  0.270617    12.795289  0.498092         1.795093   \n",
       "43  2016-02-13  0.198109    11.556715  0.498945         1.723480   \n",
       "1   2016-01-02  0.198105    12.392116  0.498403         1.777977   \n",
       "25  2016-01-26  0.368764    14.366871  0.498617         1.639194   \n",
       "86  2016-03-27  0.202972    12.879512  0.498490         1.731464   \n",
       "36  2016-02-06  0.214063    11.658167  0.499023         1.713525   \n",
       "\n",
       "    pickup_latitude  pickup_longitude  tip_amount  total_amount  \\\n",
       "24        40.242313        -73.045338    2.086684     18.534021   \n",
       "22        40.156820        -72.907324    1.680846     14.821589   \n",
       "23        40.245866        -73.052736    1.624971     15.007358   \n",
       "2         40.135610        -72.855615    1.650988     16.022176   \n",
       "0         40.177206        -72.933026    1.441512     15.569496   \n",
       "43        39.963539        -72.549819    1.513157     14.238487   \n",
       "1         40.093708        -72.781330    1.459314     15.139841   \n",
       "25        40.264174        -73.084983    2.084838     17.982999   \n",
       "86        40.204219        -72.983853    1.633937     15.849132   \n",
       "36        40.146849        -72.883765    1.557601     14.399616   \n",
       "\n",
       "    trip_distance  taxi_trip_count  weekday  decision_function  \n",
       "24       3.319237           279805        0          -0.136040  \n",
       "22       2.797509            77354        5          -0.124463  \n",
       "23       2.951654           158675        6          -0.063665  \n",
       "2        3.425719           300678        6          -0.061439  \n",
       "0        3.292646           342467        4          -0.055074  \n",
       "43       2.618400           445761        5          -0.039224  \n",
       "1        3.082059           310850        5          -0.033962  \n",
       "25       3.057893           325441        1          -0.030700  \n",
       "86       3.310940           343351        6          -0.019898  \n",
       "36       2.704059           425768        5           0.014031  "
      ]
     },
     "execution_count": 27,
     "metadata": {},
     "output_type": "execute_result"
    }
   ],
   "source": [
    "tlc_df_by_day.sort_values(by='decision_function').head(10)"
   ]
  },
  {
   "cell_type": "markdown",
   "metadata": {},
   "source": [
    "## Look at specific areas and see what times / dates around there are anomalies\n",
    "### Madison Square Gardens (40.750556, -73.993611)"
   ]
  },
  {
   "cell_type": "code",
   "execution_count": 28,
   "metadata": {
    "collapsed": false
   },
   "outputs": [],
   "source": [
    "latlon_list = [40.750556, -73.993611]\n",
    "#only keep trips within a reasonable pickup lat / lon (without converting geometries)\n",
    "tlc_df_total = tlc_df_total[(tlc_df_total.pickup_latitude > (latlon_list[0] - 0.005)) & (tlc_df_total.pickup_latitude < (latlon_list[0] + 0.005))]\n",
    "tlc_df_total = tlc_df_total[(tlc_df_total.pickup_longitude > (latlon_list[1] - 0.005)) & (tlc_df_total.pickup_longitude < (latlon_list[1] + 0.005))]"
   ]
  },
  {
   "cell_type": "code",
   "execution_count": 29,
   "metadata": {
    "collapsed": false
   },
   "outputs": [
    {
     "data": {
      "text/plain": [
       "1692300"
      ]
     },
     "execution_count": 29,
     "metadata": {},
     "output_type": "execute_result"
    }
   ],
   "source": [
    "len(tlc_df_total)"
   ]
  },
  {
   "cell_type": "code",
   "execution_count": 30,
   "metadata": {
    "collapsed": false
   },
   "outputs": [],
   "source": [
    "# convert to geopandas df\n",
    "geometry = [Point(xy) for xy in zip(tlc_df_total.pickup_longitude, tlc_df_total.pickup_latitude)]\n",
    "tlc_df_total = tlc_df_total.drop(['pickup_latitude', 'pickup_longitude'], axis=1)"
   ]
  },
  {
   "cell_type": "code",
   "execution_count": 31,
   "metadata": {
    "collapsed": true
   },
   "outputs": [],
   "source": [
    "crs = {'init': 'epsg:4326'}\n",
    "tlc_df_total_gp = GeoDataFrame(tlc_df_total, crs=crs, geometry=geometry)"
   ]
  },
  {
   "cell_type": "code",
   "execution_count": 32,
   "metadata": {
    "collapsed": false
   },
   "outputs": [],
   "source": [
    "# create MSG buffer \n",
    "d = {'latitude': latlon_list[0], 'longitude': latlon_list[1]}\n",
    "MSG = pd.DataFrame(data=d, index=[0])\n",
    "geometry_MSG = [Point(xy) for xy in zip(MSG.longitude, MSG.latitude)]\n",
    "crs = {'init': 'epsg:4326'}\n",
    "MSG_gp = GeoDataFrame(crs=crs, geometry=geometry_MSG)"
   ]
  },
  {
   "cell_type": "code",
   "execution_count": 33,
   "metadata": {
    "collapsed": false
   },
   "outputs": [
    {
     "data": {
      "text/html": [
       "<div>\n",
       "<table border=\"1\" class=\"dataframe\">\n",
       "  <thead>\n",
       "    <tr style=\"text-align: right;\">\n",
       "      <th></th>\n",
       "      <th>geometry</th>\n",
       "    </tr>\n",
       "  </thead>\n",
       "  <tbody>\n",
       "    <tr>\n",
       "      <th>0</th>\n",
       "      <td>POLYGON ((-73.98861100000001 40.750556, -73.98...</td>\n",
       "    </tr>\n",
       "  </tbody>\n",
       "</table>\n",
       "</div>"
      ],
      "text/plain": [
       "                                            geometry\n",
       "0  POLYGON ((-73.98861100000001 40.750556, -73.98..."
      ]
     },
     "execution_count": 33,
     "metadata": {},
     "output_type": "execute_result"
    }
   ],
   "source": [
    "#create buffer\n",
    "MSG_gp['geometry'] = MSG_gp.geometry.buffer(.005)\n",
    "MSG_gp.head()"
   ]
  },
  {
   "cell_type": "code",
   "execution_count": 34,
   "metadata": {
    "collapsed": false
   },
   "outputs": [],
   "source": [
    "# only keep points within MSG buffer\n",
    "tlc_df_total_gp_subset = tlc_df_total_gp[tlc_df_total_gp.geometry.intersects(MSG_gp.geometry[0])]"
   ]
  },
  {
   "cell_type": "code",
   "execution_count": 35,
   "metadata": {
    "collapsed": false
   },
   "outputs": [
    {
     "data": {
      "text/html": [
       "<div>\n",
       "<table border=\"1\" class=\"dataframe\">\n",
       "  <thead>\n",
       "    <tr style=\"text-align: right;\">\n",
       "      <th></th>\n",
       "      <th>extra</th>\n",
       "      <th>fare_amount</th>\n",
       "      <th>mta_tax</th>\n",
       "      <th>passenger_count</th>\n",
       "      <th>tip_amount</th>\n",
       "      <th>total_amount</th>\n",
       "      <th>tpep_dropoff_datetime</th>\n",
       "      <th>tpep_pickup_datetime</th>\n",
       "      <th>trip_distance</th>\n",
       "      <th>taxi_date</th>\n",
       "      <th>geometry</th>\n",
       "    </tr>\n",
       "  </thead>\n",
       "  <tbody>\n",
       "    <tr>\n",
       "      <th>22</th>\n",
       "      <td>0.5</td>\n",
       "      <td>5.0</td>\n",
       "      <td>0.5</td>\n",
       "      <td>1.0</td>\n",
       "      <td>0.00</td>\n",
       "      <td>6.30</td>\n",
       "      <td>2016-01-01 00:04:37</td>\n",
       "      <td>2016-01-01 00:00:08</td>\n",
       "      <td>0.72</td>\n",
       "      <td>2016-01-01</td>\n",
       "      <td>POINT (-73.99713897705078 40.74721908569336)</td>\n",
       "    </tr>\n",
       "    <tr>\n",
       "      <th>28</th>\n",
       "      <td>0.5</td>\n",
       "      <td>3.0</td>\n",
       "      <td>0.5</td>\n",
       "      <td>1.0</td>\n",
       "      <td>0.00</td>\n",
       "      <td>4.30</td>\n",
       "      <td>2016-01-01 00:01:17</td>\n",
       "      <td>2016-01-01 00:00:12</td>\n",
       "      <td>0.13</td>\n",
       "      <td>2016-01-01</td>\n",
       "      <td>POINT (-73.99165344238281 40.75455856323241)</td>\n",
       "    </tr>\n",
       "    <tr>\n",
       "      <th>57</th>\n",
       "      <td>0.5</td>\n",
       "      <td>7.0</td>\n",
       "      <td>0.5</td>\n",
       "      <td>6.0</td>\n",
       "      <td>0.00</td>\n",
       "      <td>8.30</td>\n",
       "      <td>2016-01-01 00:09:37</td>\n",
       "      <td>2016-01-01 00:00:32</td>\n",
       "      <td>0.32</td>\n",
       "      <td>2016-01-01</td>\n",
       "      <td>POINT (-73.99375915527344 40.75162124633789)</td>\n",
       "    </tr>\n",
       "    <tr>\n",
       "      <th>108</th>\n",
       "      <td>0.0</td>\n",
       "      <td>140.0</td>\n",
       "      <td>0.0</td>\n",
       "      <td>1.0</td>\n",
       "      <td>30.95</td>\n",
       "      <td>185.75</td>\n",
       "      <td>2016-01-01 00:38:19</td>\n",
       "      <td>2016-01-01 00:01:14</td>\n",
       "      <td>24.00</td>\n",
       "      <td>2016-01-01</td>\n",
       "      <td>POINT (-73.99230194091797 40.74929046630859)</td>\n",
       "    </tr>\n",
       "    <tr>\n",
       "      <th>192</th>\n",
       "      <td>0.0</td>\n",
       "      <td>7.5</td>\n",
       "      <td>0.5</td>\n",
       "      <td>1.0</td>\n",
       "      <td>0.00</td>\n",
       "      <td>8.30</td>\n",
       "      <td>2016-01-29 09:28:43</td>\n",
       "      <td>2016-01-29 09:18:22</td>\n",
       "      <td>0.80</td>\n",
       "      <td>2016-01-29</td>\n",
       "      <td>POINT (-73.99120330810547 40.74973678588867)</td>\n",
       "    </tr>\n",
       "  </tbody>\n",
       "</table>\n",
       "</div>"
      ],
      "text/plain": [
       "     extra  fare_amount  mta_tax  passenger_count  tip_amount  total_amount  \\\n",
       "22     0.5          5.0      0.5              1.0        0.00          6.30   \n",
       "28     0.5          3.0      0.5              1.0        0.00          4.30   \n",
       "57     0.5          7.0      0.5              6.0        0.00          8.30   \n",
       "108    0.0        140.0      0.0              1.0       30.95        185.75   \n",
       "192    0.0          7.5      0.5              1.0        0.00          8.30   \n",
       "\n",
       "    tpep_dropoff_datetime tpep_pickup_datetime  trip_distance   taxi_date  \\\n",
       "22    2016-01-01 00:04:37  2016-01-01 00:00:08           0.72  2016-01-01   \n",
       "28    2016-01-01 00:01:17  2016-01-01 00:00:12           0.13  2016-01-01   \n",
       "57    2016-01-01 00:09:37  2016-01-01 00:00:32           0.32  2016-01-01   \n",
       "108   2016-01-01 00:38:19  2016-01-01 00:01:14          24.00  2016-01-01   \n",
       "192   2016-01-29 09:28:43  2016-01-29 09:18:22           0.80  2016-01-29   \n",
       "\n",
       "                                         geometry  \n",
       "22   POINT (-73.99713897705078 40.74721908569336)  \n",
       "28   POINT (-73.99165344238281 40.75455856323241)  \n",
       "57   POINT (-73.99375915527344 40.75162124633789)  \n",
       "108  POINT (-73.99230194091797 40.74929046630859)  \n",
       "192  POINT (-73.99120330810547 40.74973678588867)  "
      ]
     },
     "execution_count": 35,
     "metadata": {},
     "output_type": "execute_result"
    }
   ],
   "source": [
    "tlc_df_total_gp_subset.head()"
   ]
  },
  {
   "cell_type": "code",
   "execution_count": 36,
   "metadata": {
    "collapsed": false
   },
   "outputs": [
    {
     "data": {
      "text/plain": [
       "'\\nthis takes FOREVER to run - avoid\\n### add hour of day\\ntlc_df_total_gp_subset[\\'hour\\'] = 0\\nfor i in range(len(tlc_df_total_gp_subset)):\\n    tlc_df_total_gp_subset[\\'hour\\'].iloc[i] = tlc_df_total_gp_subset.tpep_pickup_datetime.iloc[i].hour\\n    print \\'\\r\\',\"%\",str((i+1)*100./len(tlc_df_total_gp_subset))[:4],\\n'"
      ]
     },
     "execution_count": 36,
     "metadata": {},
     "output_type": "execute_result"
    }
   ],
   "source": [
    "'''\n",
    "this takes FOREVER to run - avoid\n",
    "### add hour of day\n",
    "tlc_df_total_gp_subset['hour'] = 0\n",
    "for i in range(len(tlc_df_total_gp_subset)):\n",
    "    tlc_df_total_gp_subset['hour'].iloc[i] = tlc_df_total_gp_subset.tpep_pickup_datetime.iloc[i].hour\n",
    "    print '\\r',\"%\",str((i+1)*100./len(tlc_df_total_gp_subset))[:4],\n",
    "'''"
   ]
  },
  {
   "cell_type": "code",
   "execution_count": 37,
   "metadata": {
    "collapsed": false
   },
   "outputs": [
    {
     "data": {
      "text/html": [
       "<div>\n",
       "<table border=\"1\" class=\"dataframe\">\n",
       "  <thead>\n",
       "    <tr style=\"text-align: right;\">\n",
       "      <th></th>\n",
       "      <th>taxi_date</th>\n",
       "      <th>taxi_trip_count</th>\n",
       "    </tr>\n",
       "  </thead>\n",
       "  <tbody>\n",
       "    <tr>\n",
       "      <th>0</th>\n",
       "      <td>2016-01-01</td>\n",
       "      <td>12625</td>\n",
       "    </tr>\n",
       "    <tr>\n",
       "      <th>1</th>\n",
       "      <td>2016-01-02</td>\n",
       "      <td>14986</td>\n",
       "    </tr>\n",
       "    <tr>\n",
       "      <th>2</th>\n",
       "      <td>2016-01-03</td>\n",
       "      <td>14687</td>\n",
       "    </tr>\n",
       "    <tr>\n",
       "      <th>3</th>\n",
       "      <td>2016-01-04</td>\n",
       "      <td>13100</td>\n",
       "    </tr>\n",
       "    <tr>\n",
       "      <th>4</th>\n",
       "      <td>2016-01-05</td>\n",
       "      <td>14918</td>\n",
       "    </tr>\n",
       "  </tbody>\n",
       "</table>\n",
       "</div>"
      ],
      "text/plain": [
       "    taxi_date  taxi_trip_count\n",
       "0  2016-01-01            12625\n",
       "1  2016-01-02            14986\n",
       "2  2016-01-03            14687\n",
       "3  2016-01-04            13100\n",
       "4  2016-01-05            14918"
      ]
     },
     "execution_count": 37,
     "metadata": {},
     "output_type": "execute_result"
    }
   ],
   "source": [
    "#take the mean of the taxi stats each day / hour\n",
    "tlc_df_MSG_count = tlc_df_total_gp_subset.groupby(['taxi_date'], as_index=False)['extra'].count()\n",
    "tlc_df_MSG_count.columns = ['taxi_date', 'taxi_trip_count']\n",
    "tlc_df_MSG_count.head()"
   ]
  },
  {
   "cell_type": "code",
   "execution_count": 38,
   "metadata": {
    "collapsed": false
   },
   "outputs": [
    {
     "data": {
      "text/html": [
       "<div>\n",
       "<table border=\"1\" class=\"dataframe\">\n",
       "  <thead>\n",
       "    <tr style=\"text-align: right;\">\n",
       "      <th></th>\n",
       "      <th>taxi_date</th>\n",
       "      <th>extra</th>\n",
       "      <th>fare_amount</th>\n",
       "      <th>mta_tax</th>\n",
       "      <th>passenger_count</th>\n",
       "      <th>tip_amount</th>\n",
       "      <th>total_amount</th>\n",
       "      <th>trip_distance</th>\n",
       "    </tr>\n",
       "  </thead>\n",
       "  <tbody>\n",
       "    <tr>\n",
       "      <th>0</th>\n",
       "      <td>2016-01-01</td>\n",
       "      <td>0.245267</td>\n",
       "      <td>11.669232</td>\n",
       "      <td>0.496950</td>\n",
       "      <td>1.768238</td>\n",
       "      <td>1.215324</td>\n",
       "      <td>14.167208</td>\n",
       "      <td>2.742494</td>\n",
       "    </tr>\n",
       "    <tr>\n",
       "      <th>1</th>\n",
       "      <td>2016-01-02</td>\n",
       "      <td>0.203423</td>\n",
       "      <td>11.508755</td>\n",
       "      <td>0.498198</td>\n",
       "      <td>1.785133</td>\n",
       "      <td>1.226493</td>\n",
       "      <td>13.922769</td>\n",
       "      <td>2.517363</td>\n",
       "    </tr>\n",
       "    <tr>\n",
       "      <th>2</th>\n",
       "      <td>2016-01-03</td>\n",
       "      <td>0.191904</td>\n",
       "      <td>11.634494</td>\n",
       "      <td>0.497889</td>\n",
       "      <td>1.707496</td>\n",
       "      <td>1.457177</td>\n",
       "      <td>14.281600</td>\n",
       "      <td>2.746920</td>\n",
       "    </tr>\n",
       "    <tr>\n",
       "      <th>3</th>\n",
       "      <td>2016-01-04</td>\n",
       "      <td>0.322634</td>\n",
       "      <td>10.275034</td>\n",
       "      <td>0.498969</td>\n",
       "      <td>1.618855</td>\n",
       "      <td>1.298204</td>\n",
       "      <td>12.823373</td>\n",
       "      <td>2.247140</td>\n",
       "    </tr>\n",
       "    <tr>\n",
       "      <th>4</th>\n",
       "      <td>2016-01-05</td>\n",
       "      <td>0.311637</td>\n",
       "      <td>10.374564</td>\n",
       "      <td>0.498793</td>\n",
       "      <td>1.617576</td>\n",
       "      <td>1.371020</td>\n",
       "      <td>12.987596</td>\n",
       "      <td>2.135725</td>\n",
       "    </tr>\n",
       "  </tbody>\n",
       "</table>\n",
       "</div>"
      ],
      "text/plain": [
       "    taxi_date     extra  fare_amount   mta_tax  passenger_count  tip_amount  \\\n",
       "0  2016-01-01  0.245267    11.669232  0.496950         1.768238    1.215324   \n",
       "1  2016-01-02  0.203423    11.508755  0.498198         1.785133    1.226493   \n",
       "2  2016-01-03  0.191904    11.634494  0.497889         1.707496    1.457177   \n",
       "3  2016-01-04  0.322634    10.275034  0.498969         1.618855    1.298204   \n",
       "4  2016-01-05  0.311637    10.374564  0.498793         1.617576    1.371020   \n",
       "\n",
       "   total_amount  trip_distance  \n",
       "0     14.167208       2.742494  \n",
       "1     13.922769       2.517363  \n",
       "2     14.281600       2.746920  \n",
       "3     12.823373       2.247140  \n",
       "4     12.987596       2.135725  "
      ]
     },
     "execution_count": 38,
     "metadata": {},
     "output_type": "execute_result"
    }
   ],
   "source": [
    "#take the mean of the taxi stats each day / hour\n",
    "tlc_df_MSG_mean = tlc_df_total_gp_subset.groupby(['taxi_date'], as_index=False).mean()\n",
    "tlc_df_MSG_mean.head()"
   ]
  },
  {
   "cell_type": "code",
   "execution_count": 39,
   "metadata": {
    "collapsed": false
   },
   "outputs": [
    {
     "data": {
      "text/html": [
       "<div>\n",
       "<table border=\"1\" class=\"dataframe\">\n",
       "  <thead>\n",
       "    <tr style=\"text-align: right;\">\n",
       "      <th></th>\n",
       "      <th>taxi_date</th>\n",
       "      <th>taxi_trip_count</th>\n",
       "      <th>extra</th>\n",
       "      <th>fare_amount</th>\n",
       "      <th>mta_tax</th>\n",
       "      <th>passenger_count</th>\n",
       "      <th>tip_amount</th>\n",
       "      <th>total_amount</th>\n",
       "      <th>trip_distance</th>\n",
       "    </tr>\n",
       "  </thead>\n",
       "  <tbody>\n",
       "    <tr>\n",
       "      <th>0</th>\n",
       "      <td>2016-01-01</td>\n",
       "      <td>12625</td>\n",
       "      <td>0.245267</td>\n",
       "      <td>11.669232</td>\n",
       "      <td>0.496950</td>\n",
       "      <td>1.768238</td>\n",
       "      <td>1.215324</td>\n",
       "      <td>14.167208</td>\n",
       "      <td>2.742494</td>\n",
       "    </tr>\n",
       "    <tr>\n",
       "      <th>1</th>\n",
       "      <td>2016-01-02</td>\n",
       "      <td>14986</td>\n",
       "      <td>0.203423</td>\n",
       "      <td>11.508755</td>\n",
       "      <td>0.498198</td>\n",
       "      <td>1.785133</td>\n",
       "      <td>1.226493</td>\n",
       "      <td>13.922769</td>\n",
       "      <td>2.517363</td>\n",
       "    </tr>\n",
       "    <tr>\n",
       "      <th>2</th>\n",
       "      <td>2016-01-03</td>\n",
       "      <td>14687</td>\n",
       "      <td>0.191904</td>\n",
       "      <td>11.634494</td>\n",
       "      <td>0.497889</td>\n",
       "      <td>1.707496</td>\n",
       "      <td>1.457177</td>\n",
       "      <td>14.281600</td>\n",
       "      <td>2.746920</td>\n",
       "    </tr>\n",
       "    <tr>\n",
       "      <th>3</th>\n",
       "      <td>2016-01-04</td>\n",
       "      <td>13100</td>\n",
       "      <td>0.322634</td>\n",
       "      <td>10.275034</td>\n",
       "      <td>0.498969</td>\n",
       "      <td>1.618855</td>\n",
       "      <td>1.298204</td>\n",
       "      <td>12.823373</td>\n",
       "      <td>2.247140</td>\n",
       "    </tr>\n",
       "    <tr>\n",
       "      <th>4</th>\n",
       "      <td>2016-01-05</td>\n",
       "      <td>14918</td>\n",
       "      <td>0.311637</td>\n",
       "      <td>10.374564</td>\n",
       "      <td>0.498793</td>\n",
       "      <td>1.617576</td>\n",
       "      <td>1.371020</td>\n",
       "      <td>12.987596</td>\n",
       "      <td>2.135725</td>\n",
       "    </tr>\n",
       "  </tbody>\n",
       "</table>\n",
       "</div>"
      ],
      "text/plain": [
       "    taxi_date  taxi_trip_count     extra  fare_amount   mta_tax  \\\n",
       "0  2016-01-01            12625  0.245267    11.669232  0.496950   \n",
       "1  2016-01-02            14986  0.203423    11.508755  0.498198   \n",
       "2  2016-01-03            14687  0.191904    11.634494  0.497889   \n",
       "3  2016-01-04            13100  0.322634    10.275034  0.498969   \n",
       "4  2016-01-05            14918  0.311637    10.374564  0.498793   \n",
       "\n",
       "   passenger_count  tip_amount  total_amount  trip_distance  \n",
       "0         1.768238    1.215324     14.167208       2.742494  \n",
       "1         1.785133    1.226493     13.922769       2.517363  \n",
       "2         1.707496    1.457177     14.281600       2.746920  \n",
       "3         1.618855    1.298204     12.823373       2.247140  \n",
       "4         1.617576    1.371020     12.987596       2.135725  "
      ]
     },
     "execution_count": 39,
     "metadata": {},
     "output_type": "execute_result"
    }
   ],
   "source": [
    "tlc_df_MSG_by_day_hour = tlc_df_MSG_count.merge(tlc_df_MSG_mean, on=['taxi_date'])\n",
    "tlc_df_MSG_by_day_hour.head()"
   ]
  },
  {
   "cell_type": "code",
   "execution_count": 40,
   "metadata": {
    "collapsed": false
   },
   "outputs": [
    {
     "data": {
      "text/plain": [
       "<matplotlib.axes._subplots.AxesSubplot at 0x34fdb6e90>"
      ]
     },
     "execution_count": 40,
     "metadata": {},
     "output_type": "execute_result"
    },
    {
     "data": {
      "image/png": "[encoded data removed]",
      "text/plain": [
       "<matplotlib.figure.Figure at 0x34fdb6b90>"
      ]
     },
     "metadata": {},
     "output_type": "display_data"
    }
   ],
   "source": [
    "tlc_df_MSG_by_day_hour[['taxi_date', 'taxi_trip_count']].plot()"
   ]
  },
  {
   "cell_type": "code",
   "execution_count": 41,
   "metadata": {
    "collapsed": false
   },
   "outputs": [],
   "source": [
    "# read in NYC street shapefile\n",
    "'''\n",
    "shapefile taken from https://geo.nyu.edu/catalog/nyu_2451_34565\n",
    "\n",
    "'''\n",
    "ny_streets_raw = gp.read_file(proj_folder + '/data/nyu_2451_34565/nyu_2451_34565.shp')\n",
    "ny_streets_raw = ny_streets_raw.to_crs(epsg=4326)\n",
    "# only keep points within MSG buffer\n",
    "ny_streets = ny_streets_raw[ny_streets_raw.geometry.intersects(MSG_gp.geometry[0])]"
   ]
  },
  {
   "cell_type": "code",
   "execution_count": 42,
   "metadata": {
    "collapsed": false
   },
   "outputs": [
    {
     "data": {
      "text/html": [
       "<div>\n",
       "<table border=\"1\" class=\"dataframe\">\n",
       "  <thead>\n",
       "    <tr style=\"text-align: right;\">\n",
       "      <th></th>\n",
       "      <th>taxi_date</th>\n",
       "      <th>taxi_trip_count</th>\n",
       "      <th>extra</th>\n",
       "      <th>fare_amount</th>\n",
       "      <th>mta_tax</th>\n",
       "      <th>passenger_count</th>\n",
       "      <th>tip_amount</th>\n",
       "      <th>total_amount</th>\n",
       "      <th>trip_distance</th>\n",
       "    </tr>\n",
       "  </thead>\n",
       "  <tbody>\n",
       "    <tr>\n",
       "      <th>0</th>\n",
       "      <td>2016-01-01</td>\n",
       "      <td>12625</td>\n",
       "      <td>0.245267</td>\n",
       "      <td>11.669232</td>\n",
       "      <td>0.496950</td>\n",
       "      <td>1.768238</td>\n",
       "      <td>1.215324</td>\n",
       "      <td>14.167208</td>\n",
       "      <td>2.742494</td>\n",
       "    </tr>\n",
       "    <tr>\n",
       "      <th>1</th>\n",
       "      <td>2016-01-02</td>\n",
       "      <td>14986</td>\n",
       "      <td>0.203423</td>\n",
       "      <td>11.508755</td>\n",
       "      <td>0.498198</td>\n",
       "      <td>1.785133</td>\n",
       "      <td>1.226493</td>\n",
       "      <td>13.922769</td>\n",
       "      <td>2.517363</td>\n",
       "    </tr>\n",
       "    <tr>\n",
       "      <th>2</th>\n",
       "      <td>2016-01-03</td>\n",
       "      <td>14687</td>\n",
       "      <td>0.191904</td>\n",
       "      <td>11.634494</td>\n",
       "      <td>0.497889</td>\n",
       "      <td>1.707496</td>\n",
       "      <td>1.457177</td>\n",
       "      <td>14.281600</td>\n",
       "      <td>2.746920</td>\n",
       "    </tr>\n",
       "    <tr>\n",
       "      <th>3</th>\n",
       "      <td>2016-01-04</td>\n",
       "      <td>13100</td>\n",
       "      <td>0.322634</td>\n",
       "      <td>10.275034</td>\n",
       "      <td>0.498969</td>\n",
       "      <td>1.618855</td>\n",
       "      <td>1.298204</td>\n",
       "      <td>12.823373</td>\n",
       "      <td>2.247140</td>\n",
       "    </tr>\n",
       "    <tr>\n",
       "      <th>4</th>\n",
       "      <td>2016-01-05</td>\n",
       "      <td>14918</td>\n",
       "      <td>0.311637</td>\n",
       "      <td>10.374564</td>\n",
       "      <td>0.498793</td>\n",
       "      <td>1.617576</td>\n",
       "      <td>1.371020</td>\n",
       "      <td>12.987596</td>\n",
       "      <td>2.135725</td>\n",
       "    </tr>\n",
       "  </tbody>\n",
       "</table>\n",
       "</div>"
      ],
      "text/plain": [
       "    taxi_date  taxi_trip_count     extra  fare_amount   mta_tax  \\\n",
       "0  2016-01-01            12625  0.245267    11.669232  0.496950   \n",
       "1  2016-01-02            14986  0.203423    11.508755  0.498198   \n",
       "2  2016-01-03            14687  0.191904    11.634494  0.497889   \n",
       "3  2016-01-04            13100  0.322634    10.275034  0.498969   \n",
       "4  2016-01-05            14918  0.311637    10.374564  0.498793   \n",
       "\n",
       "   passenger_count  tip_amount  total_amount  trip_distance  \n",
       "0         1.768238    1.215324     14.167208       2.742494  \n",
       "1         1.785133    1.226493     13.922769       2.517363  \n",
       "2         1.707496    1.457177     14.281600       2.746920  \n",
       "3         1.618855    1.298204     12.823373       2.247140  \n",
       "4         1.617576    1.371020     12.987596       2.135725  "
      ]
     },
     "execution_count": 42,
     "metadata": {},
     "output_type": "execute_result"
    }
   ],
   "source": [
    "tlc_df_MSG_by_day_hour.head()"
   ]
  },
  {
   "cell_type": "code",
   "execution_count": 43,
   "metadata": {
    "collapsed": false
   },
   "outputs": [
    {
     "name": "stderr",
     "output_type": "stream",
     "text": [
      "/Users/geoffperrin/anaconda2/lib/python2.7/site-packages/ipykernel/__main__.py:1: SettingWithCopyWarning: \n",
      "A value is trying to be set on a copy of a slice from a DataFrame.\n",
      "Try using .loc[row_indexer,col_indexer] = value instead\n",
      "\n",
      "See the caveats in the documentation: http://pandas.pydata.org/pandas-docs/stable/indexing.html#indexing-view-versus-copy\n",
      "  if __name__ == '__main__':\n",
      "/Users/geoffperrin/anaconda2/lib/python2.7/site-packages/ipykernel/__main__.py:2: SettingWithCopyWarning: \n",
      "A value is trying to be set on a copy of a slice from a DataFrame.\n",
      "Try using .loc[row_indexer,col_indexer] = value instead\n",
      "\n",
      "See the caveats in the documentation: http://pandas.pydata.org/pandas-docs/stable/indexing.html#indexing-view-versus-copy\n",
      "  from ipykernel import kernelapp as app\n"
     ]
    }
   ],
   "source": [
    "tlc_df_total_gp_subset['total_mean'] = tlc_df_total_gp_subset.total_amount.mean()\n",
    "tlc_df_total_gp_subset['total_std'] = tlc_df_total_gp_subset.total_amount.std()\n",
    "\n",
    "def set_color(Data1):\n",
    "    if (Data1.total_amount > (Data1.total_mean + 2*Data1.total_std)):\n",
    "        return \"green\"\n",
    "    elif (Data1.total_amount < (Data1.total_mean - 2*Data1.total_std)):\n",
    "        return \"red\"\n",
    "    else:\n",
    "        return \"white\"\n",
    "\n",
    "    \n",
    "tlc_df_total_gp_subset = tlc_df_total_gp_subset.assign(color=tlc_df_total_gp_subset.apply(set_color, axis=1))\n",
    "tlc_df_total_gp_subset = tlc_df_total_gp_subset.drop(['total_mean', 'total_std'], axis=1)"
   ]
  },
  {
   "cell_type": "code",
   "execution_count": 45,
   "metadata": {
    "collapsed": false
   },
   "outputs": [
    {
     "data": {
      "text/plain": [
       "<matplotlib.text.Text at 0x2f1321290>"
      ]
     },
     "execution_count": 45,
     "metadata": {},
     "output_type": "execute_result"
    },
    {
     "data": {
      "image/png": "[encoded data removed]",
      "text/plain": [
       "<matplotlib.figure.Figure at 0x2f1e8a990>"
      ]
     },
     "metadata": {},
     "output_type": "display_data"
    }
   ],
   "source": [
    "# is there a way to easily plot each color differently? I have this color column highlighting outliers!\n",
    "\n",
    "MSG_sample = tlc_df_total_gp_subset.sample(n=1000)\n",
    "#MSG_sample.lon = MSG_sample.geometry.x\n",
    "#MSG_sample.lat = MSG_sample.geometry.y\n",
    "f, (ax1) = plt.subplots(figsize=(12,8))\n",
    "MSG_sample.plot(alpha=0.5, ax=ax1, color = 'red')\n",
    "ny_streets['geometry'].plot(alpha=1, linewidth=0.25, ax=ax1, color = '0')\n",
    "ax1.set_title(\"Plot of Taxi Pickups, Around MSG\", fontsize=20)\n",
    "plt.xlabel(\"longitude\")\n",
    "plt.ylabel(\"latitude\")"
   ]
  },
  {
   "cell_type": "markdown",
   "metadata": {},
   "source": [
    "## MSG anomaly analysis (isolation forest)"
   ]
  },
  {
   "cell_type": "code",
   "execution_count": 46,
   "metadata": {
    "collapsed": false
   },
   "outputs": [
    {
     "data": {
      "text/html": [
       "<div>\n",
       "<table border=\"1\" class=\"dataframe\">\n",
       "  <thead>\n",
       "    <tr style=\"text-align: right;\">\n",
       "      <th></th>\n",
       "      <th>passenger_count</th>\n",
       "      <th>trip_distance</th>\n",
       "      <th>total_amount</th>\n",
       "      <th>taxi_trip_count</th>\n",
       "    </tr>\n",
       "  </thead>\n",
       "  <tbody>\n",
       "    <tr>\n",
       "      <th>0</th>\n",
       "      <td>1.768238</td>\n",
       "      <td>2.742494</td>\n",
       "      <td>14.167208</td>\n",
       "      <td>12625</td>\n",
       "    </tr>\n",
       "    <tr>\n",
       "      <th>1</th>\n",
       "      <td>1.785133</td>\n",
       "      <td>2.517363</td>\n",
       "      <td>13.922769</td>\n",
       "      <td>14986</td>\n",
       "    </tr>\n",
       "  </tbody>\n",
       "</table>\n",
       "</div>"
      ],
      "text/plain": [
       "   passenger_count  trip_distance  total_amount  taxi_trip_count\n",
       "0         1.768238       2.742494     14.167208            12625\n",
       "1         1.785133       2.517363     13.922769            14986"
      ]
     },
     "execution_count": 46,
     "metadata": {},
     "output_type": "execute_result"
    }
   ],
   "source": [
    "X = tlc_df_MSG_by_day_hour[['passenger_count', 'trip_distance' ,'total_amount', 'taxi_trip_count']]\n",
    "X.head(2)"
   ]
  },
  {
   "cell_type": "code",
   "execution_count": 47,
   "metadata": {
    "collapsed": true
   },
   "outputs": [],
   "source": [
    "train,test=train_test_split(X, random_state=999, test_size=0.3)\n",
    "# fit the model\n",
    "clf = IsolationForest(max_samples=100, random_state=999)\n",
    "clf.fit(train)\n",
    "y_pred = clf.predict(X)"
   ]
  },
  {
   "cell_type": "code",
   "execution_count": 48,
   "metadata": {
    "collapsed": true
   },
   "outputs": [],
   "source": [
    "tlc_df_MSG_by_day_hour['decision_function'] = clf.decision_function(X)"
   ]
  },
  {
   "cell_type": "code",
   "execution_count": 49,
   "metadata": {
    "collapsed": false
   },
   "outputs": [
    {
     "data": {
      "text/html": [
       "<div>\n",
       "<table border=\"1\" class=\"dataframe\">\n",
       "  <thead>\n",
       "    <tr style=\"text-align: right;\">\n",
       "      <th></th>\n",
       "      <th>taxi_date</th>\n",
       "      <th>taxi_trip_count</th>\n",
       "      <th>extra</th>\n",
       "      <th>fare_amount</th>\n",
       "      <th>mta_tax</th>\n",
       "      <th>passenger_count</th>\n",
       "      <th>tip_amount</th>\n",
       "      <th>total_amount</th>\n",
       "      <th>trip_distance</th>\n",
       "      <th>decision_function</th>\n",
       "    </tr>\n",
       "  </thead>\n",
       "  <tbody>\n",
       "    <tr>\n",
       "      <th>23</th>\n",
       "      <td>2016-01-24</td>\n",
       "      <td>4936</td>\n",
       "      <td>0.163189</td>\n",
       "      <td>12.387413</td>\n",
       "      <td>0.493821</td>\n",
       "      <td>1.709279</td>\n",
       "      <td>1.714761</td>\n",
       "      <td>15.434455</td>\n",
       "      <td>2.817182</td>\n",
       "      <td>-0.164204</td>\n",
       "    </tr>\n",
       "    <tr>\n",
       "      <th>22</th>\n",
       "      <td>2016-01-23</td>\n",
       "      <td>2007</td>\n",
       "      <td>0.263577</td>\n",
       "      <td>11.797215</td>\n",
       "      <td>0.495267</td>\n",
       "      <td>1.634280</td>\n",
       "      <td>1.452995</td>\n",
       "      <td>14.507887</td>\n",
       "      <td>2.620922</td>\n",
       "      <td>-0.124304</td>\n",
       "    </tr>\n",
       "    <tr>\n",
       "      <th>24</th>\n",
       "      <td>2016-01-25</td>\n",
       "      <td>10918</td>\n",
       "      <td>0.377221</td>\n",
       "      <td>13.707460</td>\n",
       "      <td>0.497802</td>\n",
       "      <td>1.656531</td>\n",
       "      <td>1.931139</td>\n",
       "      <td>17.061345</td>\n",
       "      <td>2.520968</td>\n",
       "      <td>-0.117779</td>\n",
       "    </tr>\n",
       "    <tr>\n",
       "      <th>0</th>\n",
       "      <td>2016-01-01</td>\n",
       "      <td>12625</td>\n",
       "      <td>0.245267</td>\n",
       "      <td>11.669232</td>\n",
       "      <td>0.496950</td>\n",
       "      <td>1.768238</td>\n",
       "      <td>1.215324</td>\n",
       "      <td>14.167208</td>\n",
       "      <td>2.742494</td>\n",
       "      <td>-0.081749</td>\n",
       "    </tr>\n",
       "    <tr>\n",
       "      <th>1</th>\n",
       "      <td>2016-01-02</td>\n",
       "      <td>14986</td>\n",
       "      <td>0.203423</td>\n",
       "      <td>11.508755</td>\n",
       "      <td>0.498198</td>\n",
       "      <td>1.785133</td>\n",
       "      <td>1.226493</td>\n",
       "      <td>13.922769</td>\n",
       "      <td>2.517363</td>\n",
       "      <td>-0.028146</td>\n",
       "    </tr>\n",
       "    <tr>\n",
       "      <th>2</th>\n",
       "      <td>2016-01-03</td>\n",
       "      <td>14687</td>\n",
       "      <td>0.191904</td>\n",
       "      <td>11.634494</td>\n",
       "      <td>0.497889</td>\n",
       "      <td>1.707496</td>\n",
       "      <td>1.457177</td>\n",
       "      <td>14.281600</td>\n",
       "      <td>2.746920</td>\n",
       "      <td>-0.011730</td>\n",
       "    </tr>\n",
       "    <tr>\n",
       "      <th>25</th>\n",
       "      <td>2016-01-26</td>\n",
       "      <td>13037</td>\n",
       "      <td>0.339188</td>\n",
       "      <td>12.549149</td>\n",
       "      <td>0.499118</td>\n",
       "      <td>1.623149</td>\n",
       "      <td>1.755847</td>\n",
       "      <td>15.601998</td>\n",
       "      <td>2.251319</td>\n",
       "      <td>-0.005310</td>\n",
       "    </tr>\n",
       "    <tr>\n",
       "      <th>3</th>\n",
       "      <td>2016-01-04</td>\n",
       "      <td>13100</td>\n",
       "      <td>0.322634</td>\n",
       "      <td>10.275034</td>\n",
       "      <td>0.498969</td>\n",
       "      <td>1.618855</td>\n",
       "      <td>1.298204</td>\n",
       "      <td>12.823373</td>\n",
       "      <td>2.247140</td>\n",
       "      <td>0.014950</td>\n",
       "    </tr>\n",
       "    <tr>\n",
       "      <th>86</th>\n",
       "      <td>2016-03-27</td>\n",
       "      <td>16311</td>\n",
       "      <td>0.224848</td>\n",
       "      <td>11.622310</td>\n",
       "      <td>0.498590</td>\n",
       "      <td>1.691313</td>\n",
       "      <td>1.520588</td>\n",
       "      <td>14.366276</td>\n",
       "      <td>2.717419</td>\n",
       "      <td>0.016846</td>\n",
       "    </tr>\n",
       "    <tr>\n",
       "      <th>43</th>\n",
       "      <td>2016-02-13</td>\n",
       "      <td>18450</td>\n",
       "      <td>0.161680</td>\n",
       "      <td>10.903347</td>\n",
       "      <td>0.498509</td>\n",
       "      <td>1.702060</td>\n",
       "      <td>1.254670</td>\n",
       "      <td>13.228778</td>\n",
       "      <td>2.145602</td>\n",
       "      <td>0.018780</td>\n",
       "    </tr>\n",
       "  </tbody>\n",
       "</table>\n",
       "</div>"
      ],
      "text/plain": [
       "     taxi_date  taxi_trip_count     extra  fare_amount   mta_tax  \\\n",
       "23  2016-01-24             4936  0.163189    12.387413  0.493821   \n",
       "22  2016-01-23             2007  0.263577    11.797215  0.495267   \n",
       "24  2016-01-25            10918  0.377221    13.707460  0.497802   \n",
       "0   2016-01-01            12625  0.245267    11.669232  0.496950   \n",
       "1   2016-01-02            14986  0.203423    11.508755  0.498198   \n",
       "2   2016-01-03            14687  0.191904    11.634494  0.497889   \n",
       "25  2016-01-26            13037  0.339188    12.549149  0.499118   \n",
       "3   2016-01-04            13100  0.322634    10.275034  0.498969   \n",
       "86  2016-03-27            16311  0.224848    11.622310  0.498590   \n",
       "43  2016-02-13            18450  0.161680    10.903347  0.498509   \n",
       "\n",
       "    passenger_count  tip_amount  total_amount  trip_distance  \\\n",
       "23         1.709279    1.714761     15.434455       2.817182   \n",
       "22         1.634280    1.452995     14.507887       2.620922   \n",
       "24         1.656531    1.931139     17.061345       2.520968   \n",
       "0          1.768238    1.215324     14.167208       2.742494   \n",
       "1          1.785133    1.226493     13.922769       2.517363   \n",
       "2          1.707496    1.457177     14.281600       2.746920   \n",
       "25         1.623149    1.755847     15.601998       2.251319   \n",
       "3          1.618855    1.298204     12.823373       2.247140   \n",
       "86         1.691313    1.520588     14.366276       2.717419   \n",
       "43         1.702060    1.254670     13.228778       2.145602   \n",
       "\n",
       "    decision_function  \n",
       "23          -0.164204  \n",
       "22          -0.124304  \n",
       "24          -0.117779  \n",
       "0           -0.081749  \n",
       "1           -0.028146  \n",
       "2           -0.011730  \n",
       "25          -0.005310  \n",
       "3            0.014950  \n",
       "86           0.016846  \n",
       "43           0.018780  "
      ]
     },
     "execution_count": 49,
     "metadata": {},
     "output_type": "execute_result"
    }
   ],
   "source": [
    "tlc_df_MSG_by_day_hour.sort_values(by='decision_function').head(10)"
   ]
  },
  {
   "cell_type": "code",
   "execution_count": null,
   "metadata": {
    "collapsed": true
   },
   "outputs": [],
   "source": []
  }
 ],
 "metadata": {
  "anaconda-cloud": {},
  "kernelspec": {
   "display_name": "Python [Root]",
   "language": "python",
   "name": "Python [Root]"
  },
  "language_info": {
   "codemirror_mode": {
    "name": "ipython",
    "version": 2
   },
   "file_extension": ".py",
   "mimetype": "text/x-python",
   "name": "python",
   "nbconvert_exporter": "python",
   "pygments_lexer": "ipython2",
   "version": "2.7.12"
  }
 },
 "nbformat": 4,
 "nbformat_minor": 2
}
