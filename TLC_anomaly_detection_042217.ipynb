{
 "cells": [
  {
   "cell_type": "markdown",
   "metadata": {},
   "source": [
    "## Anomaly Detection for NYC Taxi & Limousine Data"
   ]
  },
  {
   "cell_type": "code",
   "execution_count": 1,
   "metadata": {
    "collapsed": false
   },
   "outputs": [
    {
     "name": "stdout",
     "output_type": "stream",
     "text": [
      "Populating the interactive namespace from numpy and matplotlib\n"
     ]
    },
    {
     "name": "stderr",
     "output_type": "stream",
     "text": [
      "/Users/geoffperrin/anaconda2/lib/python2.7/site-packages/sklearn/cross_validation.py:44: DeprecationWarning: This module was deprecated in version 0.18 in favor of the model_selection module into which all the refactored classes and functions are moved. Also note that the interface of the new CV iterators are different from that of this module. This module will be removed in 0.20.\n",
      "  \"This module will be removed in 0.20.\", DeprecationWarning)\n",
      "WARNING: pylab import has clobbered these variables: ['compress', 'datetime']\n",
      "`%matplotlib` prevents importing * from pylab and numpy\n"
     ]
    }
   ],
   "source": [
    "import numpy as np\n",
    "import pandas as pd\n",
    "import geopandas as gp\n",
    "from geopandas import GeoDataFrame\n",
    "import os\n",
    "import subprocess\n",
    "from shapely.geometry import Point\n",
    "from datetime import datetime\n",
    "import matplotlib\n",
    "matplotlib.use('TkAgg')\n",
    "import matplotlib.pyplot as plt\n",
    "from datetime import datetime\n",
    "import matplotlib.pyplot as plt\n",
    "import sklearn\n",
    "from sklearn import datasets\n",
    "from sklearn.decomposition import PCA\n",
    "from sklearn.linear_model import LogisticRegression\n",
    "from sklearn.ensemble import RandomForestClassifier as RFC\n",
    "from sklearn.ensemble import RandomForestRegressor as RFR\n",
    "from sklearn.model_selection import GridSearchCV\n",
    "from sklearn.metrics import roc_auc_score as rs\n",
    "from sklearn import svm, datasets\n",
    "from sklearn import metrics\n",
    "from sklearn.metrics import roc_curve\n",
    "from sklearn.metrics import auc\n",
    "from sklearn.metrics import silhouette_samples, silhouette_score\n",
    "from sklearn.cluster import KMeans\n",
    "from sklearn.mixture import GaussianMixture\n",
    "from sklearn.cross_validation import train_test_split\n",
    "from sklearn.ensemble import IsolationForest\n",
    "\n",
    "from itertools import compress\n",
    "\n",
    "np.random.seed(222)\n",
    "\n",
    "%matplotlib inline\n",
    "%pylab inline\n",
    "pd.options.display.max_columns = 120\n",
    "pd.options.display.max_rows = 120"
   ]
  },
  {
   "cell_type": "code",
   "execution_count": 2,
   "metadata": {
    "collapsed": false
   },
   "outputs": [],
   "source": [
    "proj_folder = os.getcwd()"
   ]
  },
  {
   "cell_type": "markdown",
   "metadata": {},
   "source": [
    "## TLC anomaly detection"
   ]
  },
  {
   "cell_type": "markdown",
   "metadata": {},
   "source": [
    "## Notes 4-22-17\n",
    "Next steps:\n",
    "1. would love to look at different areas of the city and see where the anomalies relative to those places\n",
    "i.e. taxi trips to/from coney island would be interesting / or around MSG - \"concert superstorm?\""
   ]
  },
  {
   "cell_type": "code",
   "execution_count": 4,
   "metadata": {
    "collapsed": false
   },
   "outputs": [],
   "source": [
    "### read in data for 2016\n",
    "columns = ['passenger_count', 'trip_distance', 'fare_amount', \\\n",
    "                     'extra', 'mta_tax', 'tip_amount', 'total_amount', \\\n",
    "                     'tpep_pickup_datetime', 'tpep_dropoff_datetime', 'pickup_longitude',\\\n",
    "                     'pickup_latitude']\n",
    "tlc_df_raw_total = pd.DataFrame(columns = columns)\n",
    "for i in range(1,2):\n",
    "    tlc_df_raw = pd.read_csv(proj_folder + '/data/tlc_yellow_2016_' + str(i) + '.csv', usecols=['passenger_count', \\\n",
    "                    'trip_distance', 'fare_amount', 'extra', 'mta_tax', 'tip_amount', 'total_amount', \\\n",
    "                     'tpep_pickup_datetime', 'tpep_dropoff_datetime', 'pickup_longitude', 'pickup_latitude'])\n",
    "    tlc_df_raw_total = tlc_df_raw_total.append(tlc_df_raw, ignore_index=True)"
   ]
  },
  {
   "cell_type": "code",
   "execution_count": 5,
   "metadata": {
    "collapsed": false
   },
   "outputs": [
    {
     "data": {
      "text/plain": [
       "10906858"
      ]
     },
     "execution_count": 5,
     "metadata": {},
     "output_type": "execute_result"
    }
   ],
   "source": [
    "len(tlc_df_raw_total)"
   ]
  },
  {
   "cell_type": "code",
   "execution_count": 6,
   "metadata": {
    "collapsed": false
   },
   "outputs": [
    {
     "data": {
      "text/html": [
       "<div>\n",
       "<table border=\"1\" class=\"dataframe\">\n",
       "  <thead>\n",
       "    <tr style=\"text-align: right;\">\n",
       "      <th></th>\n",
       "      <th>extra</th>\n",
       "      <th>fare_amount</th>\n",
       "      <th>mta_tax</th>\n",
       "      <th>passenger_count</th>\n",
       "      <th>pickup_latitude</th>\n",
       "      <th>pickup_longitude</th>\n",
       "      <th>tip_amount</th>\n",
       "      <th>total_amount</th>\n",
       "      <th>tpep_dropoff_datetime</th>\n",
       "      <th>tpep_pickup_datetime</th>\n",
       "      <th>trip_distance</th>\n",
       "    </tr>\n",
       "  </thead>\n",
       "  <tbody>\n",
       "    <tr>\n",
       "      <th>0</th>\n",
       "      <td>0.5</td>\n",
       "      <td>7.5</td>\n",
       "      <td>0.5</td>\n",
       "      <td>2.0</td>\n",
       "      <td>40.734695</td>\n",
       "      <td>-73.990372</td>\n",
       "      <td>0.0</td>\n",
       "      <td>8.8</td>\n",
       "      <td>2016-01-01</td>\n",
       "      <td>2016-01-01</td>\n",
       "      <td>1.10</td>\n",
       "    </tr>\n",
       "    <tr>\n",
       "      <th>1</th>\n",
       "      <td>0.5</td>\n",
       "      <td>18.0</td>\n",
       "      <td>0.5</td>\n",
       "      <td>5.0</td>\n",
       "      <td>40.729912</td>\n",
       "      <td>-73.980782</td>\n",
       "      <td>0.0</td>\n",
       "      <td>19.3</td>\n",
       "      <td>2016-01-01</td>\n",
       "      <td>2016-01-01</td>\n",
       "      <td>4.90</td>\n",
       "    </tr>\n",
       "    <tr>\n",
       "      <th>2</th>\n",
       "      <td>0.5</td>\n",
       "      <td>33.0</td>\n",
       "      <td>0.5</td>\n",
       "      <td>1.0</td>\n",
       "      <td>40.679565</td>\n",
       "      <td>-73.984550</td>\n",
       "      <td>0.0</td>\n",
       "      <td>34.3</td>\n",
       "      <td>2016-01-01</td>\n",
       "      <td>2016-01-01</td>\n",
       "      <td>10.54</td>\n",
       "    </tr>\n",
       "    <tr>\n",
       "      <th>3</th>\n",
       "      <td>0.0</td>\n",
       "      <td>16.5</td>\n",
       "      <td>0.5</td>\n",
       "      <td>1.0</td>\n",
       "      <td>40.718990</td>\n",
       "      <td>-73.993469</td>\n",
       "      <td>0.0</td>\n",
       "      <td>17.3</td>\n",
       "      <td>2016-01-01</td>\n",
       "      <td>2016-01-01</td>\n",
       "      <td>4.75</td>\n",
       "    </tr>\n",
       "    <tr>\n",
       "      <th>4</th>\n",
       "      <td>0.0</td>\n",
       "      <td>8.0</td>\n",
       "      <td>0.5</td>\n",
       "      <td>3.0</td>\n",
       "      <td>40.781330</td>\n",
       "      <td>-73.960625</td>\n",
       "      <td>0.0</td>\n",
       "      <td>8.8</td>\n",
       "      <td>2016-01-01</td>\n",
       "      <td>2016-01-01</td>\n",
       "      <td>1.76</td>\n",
       "    </tr>\n",
       "  </tbody>\n",
       "</table>\n",
       "</div>"
      ],
      "text/plain": [
       "   extra  fare_amount  mta_tax  passenger_count  pickup_latitude  \\\n",
       "0    0.5          7.5      0.5              2.0        40.734695   \n",
       "1    0.5         18.0      0.5              5.0        40.729912   \n",
       "2    0.5         33.0      0.5              1.0        40.679565   \n",
       "3    0.0         16.5      0.5              1.0        40.718990   \n",
       "4    0.0          8.0      0.5              3.0        40.781330   \n",
       "\n",
       "   pickup_longitude  tip_amount  total_amount tpep_dropoff_datetime  \\\n",
       "0        -73.990372         0.0           8.8            2016-01-01   \n",
       "1        -73.980782         0.0          19.3            2016-01-01   \n",
       "2        -73.984550         0.0          34.3            2016-01-01   \n",
       "3        -73.993469         0.0          17.3            2016-01-01   \n",
       "4        -73.960625         0.0           8.8            2016-01-01   \n",
       "\n",
       "  tpep_pickup_datetime  trip_distance  \n",
       "0           2016-01-01           1.10  \n",
       "1           2016-01-01           4.90  \n",
       "2           2016-01-01          10.54  \n",
       "3           2016-01-01           4.75  \n",
       "4           2016-01-01           1.76  "
      ]
     },
     "execution_count": 6,
     "metadata": {},
     "output_type": "execute_result"
    }
   ],
   "source": [
    "tlc_df_raw_total['tpep_pickup_datetime'] = pd.to_datetime(tlc_df_raw_total['tpep_pickup_datetime'])\n",
    "tlc_df_raw_total['tpep_dropoff_datetime'] = pd.to_datetime(tlc_df_raw_total['tpep_dropoff_datetime'])\n",
    "tlc_df_raw_total.head()"
   ]
  },
  {
   "cell_type": "code",
   "execution_count": 7,
   "metadata": {
    "collapsed": false
   },
   "outputs": [],
   "source": [
    "#CANNOT GET THIS TRIP DURATION TO WORK - MOVING ON FOR NOW\n",
    "#tlc_df['trip_duration'] = pd.Timedelta(tlc_df['tpep_dropoff_datetime_2'] - tlc_df['tpep_pickup_datetime']).seconds / 3600.0\n",
    "#tlc_df['trip_speed'] = tlc_df.trip_distance / tlc_df.trip_duration"
   ]
  },
  {
   "cell_type": "markdown",
   "metadata": {},
   "source": [
    "## Clean the data - \n",
    "drop all the unreasonable trip entries, such as those that have trip distance in the millions of miles"
   ]
  },
  {
   "cell_type": "code",
   "execution_count": 8,
   "metadata": {
    "collapsed": false,
    "scrolled": true
   },
   "outputs": [],
   "source": [
    "#tlc_df_raw_total.sort(['trip_distance'], ascending=False).head()"
   ]
  },
  {
   "cell_type": "code",
   "execution_count": 9,
   "metadata": {
    "collapsed": false
   },
   "outputs": [],
   "source": [
    "#tlc_df_raw_total.sort(['total_amount'], ascending=False).head()"
   ]
  },
  {
   "cell_type": "code",
   "execution_count": 10,
   "metadata": {
    "collapsed": false
   },
   "outputs": [],
   "source": [
    "#tlc_df_raw_total.sort(['tip_amount'], ascending=False).head()"
   ]
  },
  {
   "cell_type": "code",
   "execution_count": 11,
   "metadata": {
    "collapsed": false
   },
   "outputs": [],
   "source": [
    "#only keep trips that have a positive distance less than 100 miles\n",
    "tlc_df_total = tlc_df_raw_total[(tlc_df_raw_total.trip_distance > 0) & (tlc_df_raw_total.trip_distance < 100)]\n",
    "\n",
    "#only keep trips that have a positive fare amount less than $500\n",
    "tlc_df_total = tlc_df_total[(tlc_df_total.fare_amount > 0) & (tlc_df_total.fare_amount < 500)]"
   ]
  },
  {
   "cell_type": "code",
   "execution_count": 12,
   "metadata": {
    "collapsed": false
   },
   "outputs": [
    {
     "data": {
      "text/plain": [
       "0.9936303379029965"
      ]
     },
     "execution_count": 12,
     "metadata": {},
     "output_type": "execute_result"
    }
   ],
   "source": [
    "len(tlc_df_total) * 1.0 / len(tlc_df_raw_total)"
   ]
  },
  {
   "cell_type": "code",
   "execution_count": 13,
   "metadata": {
    "collapsed": false
   },
   "outputs": [],
   "source": [
    "#count the number of taxi trips each day\n",
    "tlc_df_total['taxi_date'] = tlc_df_total['tpep_pickup_datetime'].dt.date\n",
    "tlc_df_day_count = tlc_df_total.groupby(['taxi_date'], as_index=False)['extra'].count()\n",
    "tlc_df_day_count.columns = ['taxi_date', 'taxi_trip_count']"
   ]
  },
  {
   "cell_type": "code",
   "execution_count": 14,
   "metadata": {
    "collapsed": false
   },
   "outputs": [
    {
     "data": {
      "text/html": [
       "<div>\n",
       "<table border=\"1\" class=\"dataframe\">\n",
       "  <thead>\n",
       "    <tr style=\"text-align: right;\">\n",
       "      <th></th>\n",
       "      <th>taxi_date</th>\n",
       "      <th>extra</th>\n",
       "      <th>fare_amount</th>\n",
       "      <th>mta_tax</th>\n",
       "      <th>passenger_count</th>\n",
       "      <th>pickup_latitude</th>\n",
       "      <th>pickup_longitude</th>\n",
       "      <th>tip_amount</th>\n",
       "      <th>total_amount</th>\n",
       "      <th>trip_distance</th>\n",
       "    </tr>\n",
       "  </thead>\n",
       "  <tbody>\n",
       "    <tr>\n",
       "      <th>0</th>\n",
       "      <td>2016-01-01</td>\n",
       "      <td>0.270617</td>\n",
       "      <td>12.795289</td>\n",
       "      <td>0.498092</td>\n",
       "      <td>1.795093</td>\n",
       "      <td>40.177206</td>\n",
       "      <td>-72.933026</td>\n",
       "      <td>1.441512</td>\n",
       "      <td>15.569496</td>\n",
       "      <td>3.292646</td>\n",
       "    </tr>\n",
       "    <tr>\n",
       "      <th>1</th>\n",
       "      <td>2016-01-02</td>\n",
       "      <td>0.198105</td>\n",
       "      <td>12.392116</td>\n",
       "      <td>0.498403</td>\n",
       "      <td>1.777977</td>\n",
       "      <td>40.093708</td>\n",
       "      <td>-72.781330</td>\n",
       "      <td>1.459314</td>\n",
       "      <td>15.139841</td>\n",
       "      <td>3.082059</td>\n",
       "    </tr>\n",
       "    <tr>\n",
       "      <th>2</th>\n",
       "      <td>2016-01-03</td>\n",
       "      <td>0.200098</td>\n",
       "      <td>12.997669</td>\n",
       "      <td>0.498177</td>\n",
       "      <td>1.739239</td>\n",
       "      <td>40.135610</td>\n",
       "      <td>-72.855615</td>\n",
       "      <td>1.650988</td>\n",
       "      <td>16.022176</td>\n",
       "      <td>3.425719</td>\n",
       "    </tr>\n",
       "    <tr>\n",
       "      <th>3</th>\n",
       "      <td>2016-01-04</td>\n",
       "      <td>0.374877</td>\n",
       "      <td>12.159065</td>\n",
       "      <td>0.498728</td>\n",
       "      <td>1.649450</td>\n",
       "      <td>40.075239</td>\n",
       "      <td>-72.740969</td>\n",
       "      <td>1.634711</td>\n",
       "      <td>15.314045</td>\n",
       "      <td>3.031284</td>\n",
       "    </tr>\n",
       "    <tr>\n",
       "      <th>4</th>\n",
       "      <td>2016-01-05</td>\n",
       "      <td>0.356747</td>\n",
       "      <td>11.954732</td>\n",
       "      <td>0.498906</td>\n",
       "      <td>1.635951</td>\n",
       "      <td>40.023580</td>\n",
       "      <td>-72.647829</td>\n",
       "      <td>1.649986</td>\n",
       "      <td>15.040607</td>\n",
       "      <td>2.830233</td>\n",
       "    </tr>\n",
       "  </tbody>\n",
       "</table>\n",
       "</div>"
      ],
      "text/plain": [
       "    taxi_date     extra  fare_amount   mta_tax  passenger_count  \\\n",
       "0  2016-01-01  0.270617    12.795289  0.498092         1.795093   \n",
       "1  2016-01-02  0.198105    12.392116  0.498403         1.777977   \n",
       "2  2016-01-03  0.200098    12.997669  0.498177         1.739239   \n",
       "3  2016-01-04  0.374877    12.159065  0.498728         1.649450   \n",
       "4  2016-01-05  0.356747    11.954732  0.498906         1.635951   \n",
       "\n",
       "   pickup_latitude  pickup_longitude  tip_amount  total_amount  trip_distance  \n",
       "0        40.177206        -72.933026    1.441512     15.569496       3.292646  \n",
       "1        40.093708        -72.781330    1.459314     15.139841       3.082059  \n",
       "2        40.135610        -72.855615    1.650988     16.022176       3.425719  \n",
       "3        40.075239        -72.740969    1.634711     15.314045       3.031284  \n",
       "4        40.023580        -72.647829    1.649986     15.040607       2.830233  "
      ]
     },
     "execution_count": 14,
     "metadata": {},
     "output_type": "execute_result"
    }
   ],
   "source": [
    "#take the mean of the taxi stats each day\n",
    "tlc_df_stat_agg = tlc_df_total.groupby(['taxi_date'], as_index=False).mean()\n",
    "tlc_df_stat_agg.head()"
   ]
  },
  {
   "cell_type": "code",
   "execution_count": 15,
   "metadata": {
    "collapsed": false
   },
   "outputs": [
    {
     "data": {
      "text/html": [
       "<div>\n",
       "<table border=\"1\" class=\"dataframe\">\n",
       "  <thead>\n",
       "    <tr style=\"text-align: right;\">\n",
       "      <th></th>\n",
       "      <th>taxi_date</th>\n",
       "      <th>extra</th>\n",
       "      <th>fare_amount</th>\n",
       "      <th>mta_tax</th>\n",
       "      <th>passenger_count</th>\n",
       "      <th>pickup_latitude</th>\n",
       "      <th>pickup_longitude</th>\n",
       "      <th>tip_amount</th>\n",
       "      <th>total_amount</th>\n",
       "      <th>trip_distance</th>\n",
       "      <th>taxi_trip_count</th>\n",
       "    </tr>\n",
       "  </thead>\n",
       "  <tbody>\n",
       "    <tr>\n",
       "      <th>0</th>\n",
       "      <td>2016-01-01</td>\n",
       "      <td>0.270617</td>\n",
       "      <td>12.795289</td>\n",
       "      <td>0.498092</td>\n",
       "      <td>1.795093</td>\n",
       "      <td>40.177206</td>\n",
       "      <td>-72.933026</td>\n",
       "      <td>1.441512</td>\n",
       "      <td>15.569496</td>\n",
       "      <td>3.292646</td>\n",
       "      <td>342467</td>\n",
       "    </tr>\n",
       "    <tr>\n",
       "      <th>1</th>\n",
       "      <td>2016-01-02</td>\n",
       "      <td>0.198105</td>\n",
       "      <td>12.392116</td>\n",
       "      <td>0.498403</td>\n",
       "      <td>1.777977</td>\n",
       "      <td>40.093708</td>\n",
       "      <td>-72.781330</td>\n",
       "      <td>1.459314</td>\n",
       "      <td>15.139841</td>\n",
       "      <td>3.082059</td>\n",
       "      <td>310850</td>\n",
       "    </tr>\n",
       "    <tr>\n",
       "      <th>2</th>\n",
       "      <td>2016-01-03</td>\n",
       "      <td>0.200098</td>\n",
       "      <td>12.997669</td>\n",
       "      <td>0.498177</td>\n",
       "      <td>1.739239</td>\n",
       "      <td>40.135610</td>\n",
       "      <td>-72.855615</td>\n",
       "      <td>1.650988</td>\n",
       "      <td>16.022176</td>\n",
       "      <td>3.425719</td>\n",
       "      <td>300678</td>\n",
       "    </tr>\n",
       "    <tr>\n",
       "      <th>3</th>\n",
       "      <td>2016-01-04</td>\n",
       "      <td>0.374877</td>\n",
       "      <td>12.159065</td>\n",
       "      <td>0.498728</td>\n",
       "      <td>1.649450</td>\n",
       "      <td>40.075239</td>\n",
       "      <td>-72.740969</td>\n",
       "      <td>1.634711</td>\n",
       "      <td>15.314045</td>\n",
       "      <td>3.031284</td>\n",
       "      <td>314058</td>\n",
       "    </tr>\n",
       "    <tr>\n",
       "      <th>4</th>\n",
       "      <td>2016-01-05</td>\n",
       "      <td>0.356747</td>\n",
       "      <td>11.954732</td>\n",
       "      <td>0.498906</td>\n",
       "      <td>1.635951</td>\n",
       "      <td>40.023580</td>\n",
       "      <td>-72.647829</td>\n",
       "      <td>1.649986</td>\n",
       "      <td>15.040607</td>\n",
       "      <td>2.830233</td>\n",
       "      <td>341089</td>\n",
       "    </tr>\n",
       "  </tbody>\n",
       "</table>\n",
       "</div>"
      ],
      "text/plain": [
       "    taxi_date     extra  fare_amount   mta_tax  passenger_count  \\\n",
       "0  2016-01-01  0.270617    12.795289  0.498092         1.795093   \n",
       "1  2016-01-02  0.198105    12.392116  0.498403         1.777977   \n",
       "2  2016-01-03  0.200098    12.997669  0.498177         1.739239   \n",
       "3  2016-01-04  0.374877    12.159065  0.498728         1.649450   \n",
       "4  2016-01-05  0.356747    11.954732  0.498906         1.635951   \n",
       "\n",
       "   pickup_latitude  pickup_longitude  tip_amount  total_amount  trip_distance  \\\n",
       "0        40.177206        -72.933026    1.441512     15.569496       3.292646   \n",
       "1        40.093708        -72.781330    1.459314     15.139841       3.082059   \n",
       "2        40.135610        -72.855615    1.650988     16.022176       3.425719   \n",
       "3        40.075239        -72.740969    1.634711     15.314045       3.031284   \n",
       "4        40.023580        -72.647829    1.649986     15.040607       2.830233   \n",
       "\n",
       "   taxi_trip_count  \n",
       "0           342467  \n",
       "1           310850  \n",
       "2           300678  \n",
       "3           314058  \n",
       "4           341089  "
      ]
     },
     "execution_count": 15,
     "metadata": {},
     "output_type": "execute_result"
    }
   ],
   "source": [
    "tlc_df_by_day = tlc_df_stat_agg.merge(tlc_df_day_count, on='taxi_date')\n",
    "tlc_df_by_day.head()"
   ]
  },
  {
   "cell_type": "code",
   "execution_count": 16,
   "metadata": {
    "collapsed": false
   },
   "outputs": [
    {
     "name": "stderr",
     "output_type": "stream",
     "text": [
      "/Users/geoffperrin/anaconda2/lib/python2.7/site-packages/pandas/core/indexing.py:141: SettingWithCopyWarning: \n",
      "A value is trying to be set on a copy of a slice from a DataFrame\n",
      "\n",
      "See the caveats in the documentation: http://pandas.pydata.org/pandas-docs/stable/indexing.html#indexing-view-versus-copy\n",
      "  self._setitem_with_indexer(indexer, value)\n"
     ]
    }
   ],
   "source": [
    "tlc_df_by_day['weekday'] = 0\n",
    "for i in range(len(tlc_df_by_day)):\n",
    "    tlc_df_by_day['weekday'].iloc[i] = tlc_df_by_day.taxi_date.iloc[i].weekday()"
   ]
  },
  {
   "cell_type": "code",
   "execution_count": 17,
   "metadata": {
    "collapsed": false
   },
   "outputs": [
    {
     "data": {
      "text/plain": [
       "<matplotlib.axes._subplots.AxesSubplot at 0x13e449750>"
      ]
     },
     "execution_count": 17,
     "metadata": {},
     "output_type": "execute_result"
    },
    {
     "data": {
      "image/png": "[encoded data removed]",
      "text/plain": [
       "<matplotlib.figure.Figure at 0x15d4303d0>"
      ]
     },
     "metadata": {},
     "output_type": "display_data"
    }
   ],
   "source": [
    "tlc_df_by_day[['taxi_date', 'taxi_trip_count']].plot()"
   ]
  },
  {
   "cell_type": "code",
   "execution_count": 18,
   "metadata": {
    "collapsed": false
   },
   "outputs": [
    {
     "data": {
      "text/plain": [
       "<matplotlib.axes._subplots.AxesSubplot at 0x1f71f8b50>"
      ]
     },
     "execution_count": 18,
     "metadata": {},
     "output_type": "execute_result"
    },
    {
     "data": {
      "image/png": "[encoded data removed]",
      "text/plain": [
       "<matplotlib.figure.Figure at 0x1f7182e90>"
      ]
     },
     "metadata": {},
     "output_type": "display_data"
    }
   ],
   "source": [
    "tlc_df_by_day_agg = tlc_df_by_day.groupby(['weekday'], as_index=False).sum()\n",
    "tlc_df_by_day_agg[['taxi_trip_count']].plot()"
   ]
  },
  {
   "cell_type": "code",
   "execution_count": 19,
   "metadata": {
    "collapsed": false
   },
   "outputs": [
    {
     "data": {
      "text/plain": [
       "<matplotlib.axes._subplots.AxesSubplot at 0x1f71158d0>"
      ]
     },
     "execution_count": 19,
     "metadata": {},
     "output_type": "execute_result"
    },
    {
     "data": {
      "image/png": "[encoded data removed]",
      "text/plain": [
       "<matplotlib.figure.Figure at 0x1f70e32d0>"
      ]
     },
     "metadata": {},
     "output_type": "display_data"
    }
   ],
   "source": [
    "tlc_df_by_day[['taxi_date', 'passenger_count']].plot()"
   ]
  },
  {
   "cell_type": "code",
   "execution_count": 20,
   "metadata": {
    "collapsed": false
   },
   "outputs": [
    {
     "data": {
      "text/plain": [
       "<matplotlib.axes._subplots.AxesSubplot at 0x1f7053c50>"
      ]
     },
     "execution_count": 20,
     "metadata": {},
     "output_type": "execute_result"
    },
    {
     "data": {
      "image/png": "[encoded data removed]",
      "text/plain": [
       "<matplotlib.figure.Figure at 0x102a83b10>"
      ]
     },
     "metadata": {},
     "output_type": "display_data"
    }
   ],
   "source": [
    "tlc_df_by_day[['taxi_date', 'trip_distance']].plot()"
   ]
  },
  {
   "cell_type": "code",
   "execution_count": 21,
   "metadata": {
    "collapsed": false
   },
   "outputs": [
    {
     "data": {
      "text/plain": [
       "<matplotlib.axes._subplots.AxesSubplot at 0x102b15350>"
      ]
     },
     "execution_count": 21,
     "metadata": {},
     "output_type": "execute_result"
    },
    {
     "data": {
      "image/png": "[encoded data removed]",
      "text/plain": [
       "<matplotlib.figure.Figure at 0x11b340bd0>"
      ]
     },
     "metadata": {},
     "output_type": "display_data"
    }
   ],
   "source": [
    "tlc_df_by_day[['taxi_date', 'total_amount']].plot()"
   ]
  },
  {
   "cell_type": "code",
   "execution_count": 22,
   "metadata": {
    "collapsed": false
   },
   "outputs": [
    {
     "data": {
      "text/html": [
       "<div>\n",
       "<table border=\"1\" class=\"dataframe\">\n",
       "  <thead>\n",
       "    <tr style=\"text-align: right;\">\n",
       "      <th></th>\n",
       "      <th>passenger_count</th>\n",
       "      <th>trip_distance</th>\n",
       "      <th>total_amount</th>\n",
       "      <th>taxi_trip_count</th>\n",
       "    </tr>\n",
       "  </thead>\n",
       "  <tbody>\n",
       "    <tr>\n",
       "      <th>0</th>\n",
       "      <td>1.795093</td>\n",
       "      <td>3.292646</td>\n",
       "      <td>15.569496</td>\n",
       "      <td>342467</td>\n",
       "    </tr>\n",
       "    <tr>\n",
       "      <th>1</th>\n",
       "      <td>1.777977</td>\n",
       "      <td>3.082059</td>\n",
       "      <td>15.139841</td>\n",
       "      <td>310850</td>\n",
       "    </tr>\n",
       "  </tbody>\n",
       "</table>\n",
       "</div>"
      ],
      "text/plain": [
       "   passenger_count  trip_distance  total_amount  taxi_trip_count\n",
       "0         1.795093       3.292646     15.569496           342467\n",
       "1         1.777977       3.082059     15.139841           310850"
      ]
     },
     "execution_count": 22,
     "metadata": {},
     "output_type": "execute_result"
    }
   ],
   "source": [
    "X = tlc_df_by_day[['passenger_count', 'trip_distance' ,'total_amount', 'taxi_trip_count']]\n",
    "X.head(2)"
   ]
  },
  {
   "cell_type": "markdown",
   "metadata": {},
   "source": [
    "## Clustering Anomaly Detection"
   ]
  },
  {
   "cell_type": "markdown",
   "metadata": {},
   "source": [
    "### Gaussian Mixture Model Anomaly Detection"
   ]
  },
  {
   "cell_type": "code",
   "execution_count": 23,
   "metadata": {
    "collapsed": false
   },
   "outputs": [
    {
     "name": "stdout",
     "output_type": "stream",
     "text": [
      "For n_clusters =2, the average silhouette_score is :0.805183180893\n",
      "For n_clusters =3, the average silhouette_score is :0.598118780053\n",
      "For n_clusters =4, the average silhouette_score is :0.591089303182\n",
      "For n_clusters =5, the average silhouette_score is :0.555823678996\n",
      "For n_clusters =6, the average silhouette_score is :0.520293640527\n",
      "For n_clusters =7, the average silhouette_score is :0.495557096702\n",
      "For n_clusters =8, the average silhouette_score is :0.491404331428\n"
     ]
    }
   ],
   "source": [
    "range_n_clusters = [2, 3, 4, 5, 6, 7, 8]\n",
    "for n_clusters in range_n_clusters:\n",
    "    km = KMeans(n_clusters=n_clusters, random_state=324)\n",
    "    cluster_labels = km.fit_predict(X)\n",
    "    silhouette_avg = silhouette_score(X, cluster_labels)\n",
    "    print(\"For n_clusters ={},\".format(n_clusters)+\" the average silhouette_score is :{}\".format(silhouette_avg))"
   ]
  },
  {
   "cell_type": "code",
   "execution_count": 24,
   "metadata": {
    "collapsed": false
   },
   "outputs": [
    {
     "data": {
      "text/plain": [
       "GaussianMixture(covariance_type='full', init_params='kmeans', max_iter=100,\n",
       "        means_init=None, n_components=2, n_init=1, precisions_init=None,\n",
       "        random_state=324, reg_covar=1e-06, tol=0.001, verbose=0,\n",
       "        verbose_interval=10, warm_start=False, weights_init=None)"
      ]
     },
     "execution_count": 24,
     "metadata": {},
     "output_type": "execute_result"
    }
   ],
   "source": [
    "GM=GaussianMixture(n_components=2, random_state=324)\n",
    "GM.fit(X)"
   ]
  },
  {
   "cell_type": "code",
   "execution_count": 25,
   "metadata": {
    "collapsed": false
   },
   "outputs": [
    {
     "data": {
      "image/png": "[encoded data removed]",
      "text/plain": [
       "<matplotlib.figure.Figure at 0x11b354ad0>"
      ]
     },
     "metadata": {},
     "output_type": "display_data"
    }
   ],
   "source": [
    "%matplotlib inline\n",
    "import matplotlib.pylab as plt\n",
    "plt.figure(figsize=(20,4))\n",
    "plt.scatter(range(len(X)),GM.score_samples(X))\n",
    "plt.plot(GM.score_samples(X),\"r--\")\n",
    "plt.show()"
   ]
  },
  {
   "cell_type": "markdown",
   "metadata": {},
   "source": [
    "## Isolation Anomaly Detection"
   ]
  },
  {
   "cell_type": "markdown",
   "metadata": {},
   "source": [
    "### Isolation Forest Anomaly Detection"
   ]
  },
  {
   "cell_type": "code",
   "execution_count": 26,
   "metadata": {
    "collapsed": false
   },
   "outputs": [
    {
     "name": "stderr",
     "output_type": "stream",
     "text": [
      "/Users/geoffperrin/anaconda2/lib/python2.7/site-packages/sklearn/ensemble/iforest.py:184: UserWarning: max_samples (100) is greater than the total number of samples (21). max_samples will be set to n_samples for estimation.\n",
      "  % (self.max_samples, n_samples))\n"
     ]
    }
   ],
   "source": [
    "train,test=train_test_split(X, random_state=999, test_size=0.3)\n",
    "# fit the model\n",
    "clf = IsolationForest(max_samples=100, random_state=999)\n",
    "clf.fit(train)\n",
    "y_pred = clf.predict(X)"
   ]
  },
  {
   "cell_type": "code",
   "execution_count": 27,
   "metadata": {
    "collapsed": true
   },
   "outputs": [],
   "source": [
    "tlc_df_by_day['decision_function'] = clf.decision_function(X)"
   ]
  },
  {
   "cell_type": "code",
   "execution_count": 28,
   "metadata": {
    "collapsed": false
   },
   "outputs": [
    {
     "data": {
      "text/html": [
       "<div>\n",
       "<table border=\"1\" class=\"dataframe\">\n",
       "  <thead>\n",
       "    <tr style=\"text-align: right;\">\n",
       "      <th></th>\n",
       "      <th>taxi_date</th>\n",
       "      <th>extra</th>\n",
       "      <th>fare_amount</th>\n",
       "      <th>mta_tax</th>\n",
       "      <th>passenger_count</th>\n",
       "      <th>pickup_latitude</th>\n",
       "      <th>pickup_longitude</th>\n",
       "      <th>tip_amount</th>\n",
       "      <th>total_amount</th>\n",
       "      <th>trip_distance</th>\n",
       "      <th>taxi_trip_count</th>\n",
       "      <th>weekday</th>\n",
       "      <th>decision_function</th>\n",
       "    </tr>\n",
       "  </thead>\n",
       "  <tbody>\n",
       "    <tr>\n",
       "      <th>24</th>\n",
       "      <td>2016-01-25</td>\n",
       "      <td>0.379404</td>\n",
       "      <td>14.854335</td>\n",
       "      <td>0.498136</td>\n",
       "      <td>1.647179</td>\n",
       "      <td>40.242313</td>\n",
       "      <td>-73.045338</td>\n",
       "      <td>2.086684</td>\n",
       "      <td>18.534021</td>\n",
       "      <td>3.319237</td>\n",
       "      <td>279805</td>\n",
       "      <td>0</td>\n",
       "      <td>-0.058023</td>\n",
       "    </tr>\n",
       "    <tr>\n",
       "      <th>23</th>\n",
       "      <td>2016-01-24</td>\n",
       "      <td>0.149384</td>\n",
       "      <td>12.179742</td>\n",
       "      <td>0.498538</td>\n",
       "      <td>1.751895</td>\n",
       "      <td>40.245866</td>\n",
       "      <td>-73.052736</td>\n",
       "      <td>1.624971</td>\n",
       "      <td>15.007358</td>\n",
       "      <td>2.951654</td>\n",
       "      <td>158675</td>\n",
       "      <td>6</td>\n",
       "      <td>-0.048595</td>\n",
       "    </tr>\n",
       "    <tr>\n",
       "      <th>22</th>\n",
       "      <td>2016-01-23</td>\n",
       "      <td>0.362535</td>\n",
       "      <td>11.875412</td>\n",
       "      <td>0.498546</td>\n",
       "      <td>1.691393</td>\n",
       "      <td>40.156820</td>\n",
       "      <td>-72.907324</td>\n",
       "      <td>1.680846</td>\n",
       "      <td>14.821589</td>\n",
       "      <td>2.797509</td>\n",
       "      <td>77354</td>\n",
       "      <td>5</td>\n",
       "      <td>-0.046880</td>\n",
       "    </tr>\n",
       "    <tr>\n",
       "      <th>2</th>\n",
       "      <td>2016-01-03</td>\n",
       "      <td>0.200098</td>\n",
       "      <td>12.997669</td>\n",
       "      <td>0.498177</td>\n",
       "      <td>1.739239</td>\n",
       "      <td>40.135610</td>\n",
       "      <td>-72.855615</td>\n",
       "      <td>1.650988</td>\n",
       "      <td>16.022176</td>\n",
       "      <td>3.425719</td>\n",
       "      <td>300678</td>\n",
       "      <td>6</td>\n",
       "      <td>-0.045107</td>\n",
       "    </tr>\n",
       "    <tr>\n",
       "      <th>0</th>\n",
       "      <td>2016-01-01</td>\n",
       "      <td>0.270617</td>\n",
       "      <td>12.795289</td>\n",
       "      <td>0.498092</td>\n",
       "      <td>1.795093</td>\n",
       "      <td>40.177206</td>\n",
       "      <td>-72.933026</td>\n",
       "      <td>1.441512</td>\n",
       "      <td>15.569496</td>\n",
       "      <td>3.292646</td>\n",
       "      <td>342467</td>\n",
       "      <td>4</td>\n",
       "      <td>-0.027903</td>\n",
       "    </tr>\n",
       "    <tr>\n",
       "      <th>25</th>\n",
       "      <td>2016-01-26</td>\n",
       "      <td>0.368764</td>\n",
       "      <td>14.366871</td>\n",
       "      <td>0.498617</td>\n",
       "      <td>1.639194</td>\n",
       "      <td>40.264174</td>\n",
       "      <td>-73.084983</td>\n",
       "      <td>2.084838</td>\n",
       "      <td>17.982999</td>\n",
       "      <td>3.057893</td>\n",
       "      <td>325441</td>\n",
       "      <td>1</td>\n",
       "      <td>-0.008982</td>\n",
       "    </tr>\n",
       "    <tr>\n",
       "      <th>1</th>\n",
       "      <td>2016-01-02</td>\n",
       "      <td>0.198105</td>\n",
       "      <td>12.392116</td>\n",
       "      <td>0.498403</td>\n",
       "      <td>1.777977</td>\n",
       "      <td>40.093708</td>\n",
       "      <td>-72.781330</td>\n",
       "      <td>1.459314</td>\n",
       "      <td>15.139841</td>\n",
       "      <td>3.082059</td>\n",
       "      <td>310850</td>\n",
       "      <td>5</td>\n",
       "      <td>0.018962</td>\n",
       "    </tr>\n",
       "    <tr>\n",
       "      <th>29</th>\n",
       "      <td>2016-01-30</td>\n",
       "      <td>0.218565</td>\n",
       "      <td>11.920682</td>\n",
       "      <td>0.499129</td>\n",
       "      <td>1.726270</td>\n",
       "      <td>40.115417</td>\n",
       "      <td>-72.826518</td>\n",
       "      <td>1.607805</td>\n",
       "      <td>14.720363</td>\n",
       "      <td>2.696602</td>\n",
       "      <td>432671</td>\n",
       "      <td>5</td>\n",
       "      <td>0.032114</td>\n",
       "    </tr>\n",
       "    <tr>\n",
       "      <th>8</th>\n",
       "      <td>2016-01-09</td>\n",
       "      <td>0.216409</td>\n",
       "      <td>11.543798</td>\n",
       "      <td>0.499008</td>\n",
       "      <td>1.723438</td>\n",
       "      <td>40.233884</td>\n",
       "      <td>-73.040281</td>\n",
       "      <td>1.536736</td>\n",
       "      <td>14.273730</td>\n",
       "      <td>2.713060</td>\n",
       "      <td>403414</td>\n",
       "      <td>5</td>\n",
       "      <td>0.035169</td>\n",
       "    </tr>\n",
       "    <tr>\n",
       "      <th>26</th>\n",
       "      <td>2016-01-27</td>\n",
       "      <td>0.374999</td>\n",
       "      <td>13.328166</td>\n",
       "      <td>0.498848</td>\n",
       "      <td>1.633310</td>\n",
       "      <td>40.232991</td>\n",
       "      <td>-73.031612</td>\n",
       "      <td>1.970532</td>\n",
       "      <td>16.771434</td>\n",
       "      <td>2.863088</td>\n",
       "      <td>356925</td>\n",
       "      <td>2</td>\n",
       "      <td>0.039991</td>\n",
       "    </tr>\n",
       "  </tbody>\n",
       "</table>\n",
       "</div>"
      ],
      "text/plain": [
       "     taxi_date     extra  fare_amount   mta_tax  passenger_count  \\\n",
       "24  2016-01-25  0.379404    14.854335  0.498136         1.647179   \n",
       "23  2016-01-24  0.149384    12.179742  0.498538         1.751895   \n",
       "22  2016-01-23  0.362535    11.875412  0.498546         1.691393   \n",
       "2   2016-01-03  0.200098    12.997669  0.498177         1.739239   \n",
       "0   2016-01-01  0.270617    12.795289  0.498092         1.795093   \n",
       "25  2016-01-26  0.368764    14.366871  0.498617         1.639194   \n",
       "1   2016-01-02  0.198105    12.392116  0.498403         1.777977   \n",
       "29  2016-01-30  0.218565    11.920682  0.499129         1.726270   \n",
       "8   2016-01-09  0.216409    11.543798  0.499008         1.723438   \n",
       "26  2016-01-27  0.374999    13.328166  0.498848         1.633310   \n",
       "\n",
       "    pickup_latitude  pickup_longitude  tip_amount  total_amount  \\\n",
       "24        40.242313        -73.045338    2.086684     18.534021   \n",
       "23        40.245866        -73.052736    1.624971     15.007358   \n",
       "22        40.156820        -72.907324    1.680846     14.821589   \n",
       "2         40.135610        -72.855615    1.650988     16.022176   \n",
       "0         40.177206        -72.933026    1.441512     15.569496   \n",
       "25        40.264174        -73.084983    2.084838     17.982999   \n",
       "1         40.093708        -72.781330    1.459314     15.139841   \n",
       "29        40.115417        -72.826518    1.607805     14.720363   \n",
       "8         40.233884        -73.040281    1.536736     14.273730   \n",
       "26        40.232991        -73.031612    1.970532     16.771434   \n",
       "\n",
       "    trip_distance  taxi_trip_count  weekday  decision_function  \n",
       "24       3.319237           279805        0          -0.058023  \n",
       "23       2.951654           158675        6          -0.048595  \n",
       "22       2.797509            77354        5          -0.046880  \n",
       "2        3.425719           300678        6          -0.045107  \n",
       "0        3.292646           342467        4          -0.027903  \n",
       "25       3.057893           325441        1          -0.008982  \n",
       "1        3.082059           310850        5           0.018962  \n",
       "29       2.696602           432671        5           0.032114  \n",
       "8        2.713060           403414        5           0.035169  \n",
       "26       2.863088           356925        2           0.039991  "
      ]
     },
     "execution_count": 28,
     "metadata": {},
     "output_type": "execute_result"
    }
   ],
   "source": [
    "tlc_df_by_day.sort_values(by='decision_function').head(10)"
   ]
  },
  {
   "cell_type": "markdown",
   "metadata": {},
   "source": [
    "## Look at specific areas and see what times / dates around there are anomalies\n",
    "### Madison Square Gardens (40.750556, -73.993611)"
   ]
  },
  {
   "cell_type": "code",
   "execution_count": 29,
   "metadata": {
    "collapsed": false
   },
   "outputs": [],
   "source": [
    "latlon_list = [40.750556, -73.993611]\n",
    "#only keep trips within a reasonable pickup lat / lon (without converting geometries)\n",
    "tlc_df_total = tlc_df_total[(tlc_df_total.pickup_latitude > (latlon_list[0] - 0.005)) & (tlc_df_total.pickup_latitude < (latlon_list[0] + 0.005))]\n",
    "tlc_df_total = tlc_df_total[(tlc_df_total.pickup_longitude > (latlon_list[1] - 0.005)) & (tlc_df_total.pickup_longitude < (latlon_list[1] + 0.005))]"
   ]
  },
  {
   "cell_type": "code",
   "execution_count": 30,
   "metadata": {
    "collapsed": false
   },
   "outputs": [
    {
     "data": {
      "text/plain": [
       "525536"
      ]
     },
     "execution_count": 30,
     "metadata": {},
     "output_type": "execute_result"
    }
   ],
   "source": [
    "len(tlc_df_total)"
   ]
  },
  {
   "cell_type": "code",
   "execution_count": 31,
   "metadata": {
    "collapsed": false
   },
   "outputs": [],
   "source": [
    "# convert to geopandas df\n",
    "geometry = [Point(xy) for xy in zip(tlc_df_total.pickup_longitude, tlc_df_total.pickup_latitude)]\n",
    "tlc_df_total = tlc_df_total.drop(['pickup_latitude', 'pickup_longitude'], axis=1)"
   ]
  },
  {
   "cell_type": "code",
   "execution_count": 32,
   "metadata": {
    "collapsed": true
   },
   "outputs": [],
   "source": [
    "crs = {'init': 'epsg:4326'}\n",
    "tlc_df_total_gp = GeoDataFrame(tlc_df_total, crs=crs, geometry=geometry)"
   ]
  },
  {
   "cell_type": "code",
   "execution_count": 33,
   "metadata": {
    "collapsed": false
   },
   "outputs": [],
   "source": [
    "# create MSG buffer \n",
    "d = {'latitude': latlon_list[0], 'longitude': latlon_list[1]}\n",
    "MSG = pd.DataFrame(data=d, index=[0])\n",
    "geometry_MSG = [Point(xy) for xy in zip(MSG.longitude, MSG.latitude)]\n",
    "crs = {'init': 'epsg:4326'}\n",
    "MSG_gp = GeoDataFrame(crs=crs, geometry=geometry_MSG)"
   ]
  },
  {
   "cell_type": "code",
   "execution_count": 44,
   "metadata": {
    "collapsed": false
   },
   "outputs": [
    {
     "data": {
      "text/html": [
       "<div>\n",
       "<table border=\"1\" class=\"dataframe\">\n",
       "  <thead>\n",
       "    <tr style=\"text-align: right;\">\n",
       "      <th></th>\n",
       "      <th>geometry</th>\n",
       "    </tr>\n",
       "  </thead>\n",
       "  <tbody>\n",
       "    <tr>\n",
       "      <th>0</th>\n",
       "      <td>POLYGON ((-73.98661702271899 40.75080133837167...</td>\n",
       "    </tr>\n",
       "  </tbody>\n",
       "</table>\n",
       "</div>"
      ],
      "text/plain": [
       "                                            geometry\n",
       "0  POLYGON ((-73.98661702271899 40.75080133837167..."
      ]
     },
     "execution_count": 44,
     "metadata": {},
     "output_type": "execute_result"
    }
   ],
   "source": [
    "#create buffer\n",
    "MSG_gp['geometry'] = MSG_gp.geometry.buffer(.005)\n",
    "MSG_gp.head()"
   ]
  },
  {
   "cell_type": "code",
   "execution_count": 45,
   "metadata": {
    "collapsed": false
   },
   "outputs": [],
   "source": [
    "# only keep points within MSG buffer\n",
    "tlc_df_total_gp_subset = tlc_df_total_gp[tlc_df_total_gp.geometry.intersects(MSG_gp.geometry[0])]"
   ]
  },
  {
   "cell_type": "code",
   "execution_count": 46,
   "metadata": {
    "collapsed": false
   },
   "outputs": [
    {
     "data": {
      "text/html": [
       "<div>\n",
       "<table border=\"1\" class=\"dataframe\">\n",
       "  <thead>\n",
       "    <tr style=\"text-align: right;\">\n",
       "      <th></th>\n",
       "      <th>extra</th>\n",
       "      <th>fare_amount</th>\n",
       "      <th>mta_tax</th>\n",
       "      <th>passenger_count</th>\n",
       "      <th>tip_amount</th>\n",
       "      <th>total_amount</th>\n",
       "      <th>tpep_dropoff_datetime</th>\n",
       "      <th>tpep_pickup_datetime</th>\n",
       "      <th>trip_distance</th>\n",
       "      <th>taxi_date</th>\n",
       "      <th>geometry</th>\n",
       "    </tr>\n",
       "  </thead>\n",
       "  <tbody>\n",
       "    <tr>\n",
       "      <th>22</th>\n",
       "      <td>0.5</td>\n",
       "      <td>5.0</td>\n",
       "      <td>0.5</td>\n",
       "      <td>1.0</td>\n",
       "      <td>0.00</td>\n",
       "      <td>6.30</td>\n",
       "      <td>2016-01-01 00:04:37</td>\n",
       "      <td>2016-01-01 00:00:08</td>\n",
       "      <td>0.72</td>\n",
       "      <td>2016-01-01</td>\n",
       "      <td>POINT (-73.99713897705078 40.74721908569336)</td>\n",
       "    </tr>\n",
       "    <tr>\n",
       "      <th>28</th>\n",
       "      <td>0.5</td>\n",
       "      <td>3.0</td>\n",
       "      <td>0.5</td>\n",
       "      <td>1.0</td>\n",
       "      <td>0.00</td>\n",
       "      <td>4.30</td>\n",
       "      <td>2016-01-01 00:01:17</td>\n",
       "      <td>2016-01-01 00:00:12</td>\n",
       "      <td>0.13</td>\n",
       "      <td>2016-01-01</td>\n",
       "      <td>POINT (-73.99165344238281 40.75455856323241)</td>\n",
       "    </tr>\n",
       "    <tr>\n",
       "      <th>51</th>\n",
       "      <td>0.5</td>\n",
       "      <td>17.5</td>\n",
       "      <td>0.5</td>\n",
       "      <td>1.0</td>\n",
       "      <td>2.82</td>\n",
       "      <td>21.62</td>\n",
       "      <td>2016-01-01 00:15:47</td>\n",
       "      <td>2016-01-01 00:00:30</td>\n",
       "      <td>5.10</td>\n",
       "      <td>2016-01-01</td>\n",
       "      <td>POINT (-73.99058532714845 40.74588012695313)</td>\n",
       "    </tr>\n",
       "    <tr>\n",
       "      <th>57</th>\n",
       "      <td>0.5</td>\n",
       "      <td>7.0</td>\n",
       "      <td>0.5</td>\n",
       "      <td>6.0</td>\n",
       "      <td>0.00</td>\n",
       "      <td>8.30</td>\n",
       "      <td>2016-01-01 00:09:37</td>\n",
       "      <td>2016-01-01 00:00:32</td>\n",
       "      <td>0.32</td>\n",
       "      <td>2016-01-01</td>\n",
       "      <td>POINT (-73.99375915527344 40.75162124633789)</td>\n",
       "    </tr>\n",
       "    <tr>\n",
       "      <th>108</th>\n",
       "      <td>0.0</td>\n",
       "      <td>140.0</td>\n",
       "      <td>0.0</td>\n",
       "      <td>1.0</td>\n",
       "      <td>30.95</td>\n",
       "      <td>185.75</td>\n",
       "      <td>2016-01-01 00:38:19</td>\n",
       "      <td>2016-01-01 00:01:14</td>\n",
       "      <td>24.00</td>\n",
       "      <td>2016-01-01</td>\n",
       "      <td>POINT (-73.99230194091797 40.74929046630859)</td>\n",
       "    </tr>\n",
       "  </tbody>\n",
       "</table>\n",
       "</div>"
      ],
      "text/plain": [
       "     extra  fare_amount  mta_tax  passenger_count  tip_amount  total_amount  \\\n",
       "22     0.5          5.0      0.5              1.0        0.00          6.30   \n",
       "28     0.5          3.0      0.5              1.0        0.00          4.30   \n",
       "51     0.5         17.5      0.5              1.0        2.82         21.62   \n",
       "57     0.5          7.0      0.5              6.0        0.00          8.30   \n",
       "108    0.0        140.0      0.0              1.0       30.95        185.75   \n",
       "\n",
       "    tpep_dropoff_datetime tpep_pickup_datetime  trip_distance   taxi_date  \\\n",
       "22    2016-01-01 00:04:37  2016-01-01 00:00:08           0.72  2016-01-01   \n",
       "28    2016-01-01 00:01:17  2016-01-01 00:00:12           0.13  2016-01-01   \n",
       "51    2016-01-01 00:15:47  2016-01-01 00:00:30           5.10  2016-01-01   \n",
       "57    2016-01-01 00:09:37  2016-01-01 00:00:32           0.32  2016-01-01   \n",
       "108   2016-01-01 00:38:19  2016-01-01 00:01:14          24.00  2016-01-01   \n",
       "\n",
       "                                         geometry  \n",
       "22   POINT (-73.99713897705078 40.74721908569336)  \n",
       "28   POINT (-73.99165344238281 40.75455856323241)  \n",
       "51   POINT (-73.99058532714845 40.74588012695313)  \n",
       "57   POINT (-73.99375915527344 40.75162124633789)  \n",
       "108  POINT (-73.99230194091797 40.74929046630859)  "
      ]
     },
     "execution_count": 46,
     "metadata": {},
     "output_type": "execute_result"
    }
   ],
   "source": [
    "tlc_df_total_gp_subset.head()"
   ]
  },
  {
   "cell_type": "code",
   "execution_count": 47,
   "metadata": {
    "collapsed": false
   },
   "outputs": [
    {
     "data": {
      "text/plain": [
       "'\\nthis takes FOREVER to run - avoid\\n### add hour of day\\ntlc_df_total_gp_subset[\\'hour\\'] = 0\\nfor i in range(len(tlc_df_total_gp_subset)):\\n    tlc_df_total_gp_subset[\\'hour\\'].iloc[i] = tlc_df_total_gp_subset.tpep_pickup_datetime.iloc[i].hour\\n    print \\'\\r\\',\"%\",str((i+1)*100./len(tlc_df_total_gp_subset))[:4],\\n'"
      ]
     },
     "execution_count": 47,
     "metadata": {},
     "output_type": "execute_result"
    }
   ],
   "source": [
    "'''\n",
    "this takes FOREVER to run - avoid\n",
    "### add hour of day\n",
    "tlc_df_total_gp_subset['hour'] = 0\n",
    "for i in range(len(tlc_df_total_gp_subset)):\n",
    "    tlc_df_total_gp_subset['hour'].iloc[i] = tlc_df_total_gp_subset.tpep_pickup_datetime.iloc[i].hour\n",
    "    print '\\r',\"%\",str((i+1)*100./len(tlc_df_total_gp_subset))[:4],\n",
    "'''"
   ]
  },
  {
   "cell_type": "code",
   "execution_count": 55,
   "metadata": {
    "collapsed": false
   },
   "outputs": [
    {
     "data": {
      "text/html": [
       "<div>\n",
       "<table border=\"1\" class=\"dataframe\">\n",
       "  <thead>\n",
       "    <tr style=\"text-align: right;\">\n",
       "      <th></th>\n",
       "      <th>taxi_date</th>\n",
       "      <th>taxi_trip_count</th>\n",
       "    </tr>\n",
       "  </thead>\n",
       "  <tbody>\n",
       "    <tr>\n",
       "      <th>0</th>\n",
       "      <td>2016-01-01</td>\n",
       "      <td>14547</td>\n",
       "    </tr>\n",
       "    <tr>\n",
       "      <th>1</th>\n",
       "      <td>2016-01-02</td>\n",
       "      <td>16958</td>\n",
       "    </tr>\n",
       "    <tr>\n",
       "      <th>2</th>\n",
       "      <td>2016-01-03</td>\n",
       "      <td>16262</td>\n",
       "    </tr>\n",
       "    <tr>\n",
       "      <th>3</th>\n",
       "      <td>2016-01-04</td>\n",
       "      <td>14932</td>\n",
       "    </tr>\n",
       "    <tr>\n",
       "      <th>4</th>\n",
       "      <td>2016-01-05</td>\n",
       "      <td>17042</td>\n",
       "    </tr>\n",
       "  </tbody>\n",
       "</table>\n",
       "</div>"
      ],
      "text/plain": [
       "    taxi_date  taxi_trip_count\n",
       "0  2016-01-01            14547\n",
       "1  2016-01-02            16958\n",
       "2  2016-01-03            16262\n",
       "3  2016-01-04            14932\n",
       "4  2016-01-05            17042"
      ]
     },
     "execution_count": 55,
     "metadata": {},
     "output_type": "execute_result"
    }
   ],
   "source": [
    "#take the mean of the taxi stats each day / hour\n",
    "tlc_df_MSG_count = tlc_df_total_gp_subset.groupby(['taxi_date'], as_index=False)['extra'].count()\n",
    "tlc_df_MSG_count.columns = ['taxi_date', 'taxi_trip_count']\n",
    "tlc_df_MSG_count.head()"
   ]
  },
  {
   "cell_type": "code",
   "execution_count": 49,
   "metadata": {
    "collapsed": false
   },
   "outputs": [
    {
     "data": {
      "text/html": [
       "<div>\n",
       "<table border=\"1\" class=\"dataframe\">\n",
       "  <thead>\n",
       "    <tr style=\"text-align: right;\">\n",
       "      <th></th>\n",
       "      <th>taxi_date</th>\n",
       "      <th>extra</th>\n",
       "      <th>fare_amount</th>\n",
       "      <th>mta_tax</th>\n",
       "      <th>passenger_count</th>\n",
       "      <th>tip_amount</th>\n",
       "      <th>total_amount</th>\n",
       "      <th>trip_distance</th>\n",
       "    </tr>\n",
       "  </thead>\n",
       "  <tbody>\n",
       "    <tr>\n",
       "      <th>0</th>\n",
       "      <td>2016-01-01</td>\n",
       "      <td>0.247852</td>\n",
       "      <td>11.601560</td>\n",
       "      <td>0.496975</td>\n",
       "      <td>1.774043</td>\n",
       "      <td>1.212152</td>\n",
       "      <td>14.097446</td>\n",
       "      <td>2.721102</td>\n",
       "    </tr>\n",
       "    <tr>\n",
       "      <th>1</th>\n",
       "      <td>2016-01-02</td>\n",
       "      <td>0.205891</td>\n",
       "      <td>11.400767</td>\n",
       "      <td>0.498290</td>\n",
       "      <td>1.779809</td>\n",
       "      <td>1.217611</td>\n",
       "      <td>13.810382</td>\n",
       "      <td>2.495945</td>\n",
       "    </tr>\n",
       "    <tr>\n",
       "      <th>2</th>\n",
       "      <td>2016-01-03</td>\n",
       "      <td>0.194410</td>\n",
       "      <td>11.512462</td>\n",
       "      <td>0.497817</td>\n",
       "      <td>1.701451</td>\n",
       "      <td>1.436425</td>\n",
       "      <td>14.143402</td>\n",
       "      <td>2.711824</td>\n",
       "    </tr>\n",
       "    <tr>\n",
       "      <th>3</th>\n",
       "      <td>2016-01-04</td>\n",
       "      <td>0.328623</td>\n",
       "      <td>10.198966</td>\n",
       "      <td>0.498928</td>\n",
       "      <td>1.619542</td>\n",
       "      <td>1.295131</td>\n",
       "      <td>12.758593</td>\n",
       "      <td>2.233000</td>\n",
       "    </tr>\n",
       "    <tr>\n",
       "      <th>4</th>\n",
       "      <td>2016-01-05</td>\n",
       "      <td>0.316894</td>\n",
       "      <td>10.302649</td>\n",
       "      <td>0.498856</td>\n",
       "      <td>1.616946</td>\n",
       "      <td>1.365471</td>\n",
       "      <td>12.917139</td>\n",
       "      <td>2.121950</td>\n",
       "    </tr>\n",
       "  </tbody>\n",
       "</table>\n",
       "</div>"
      ],
      "text/plain": [
       "    taxi_date     extra  fare_amount   mta_tax  passenger_count  tip_amount  \\\n",
       "0  2016-01-01  0.247852    11.601560  0.496975         1.774043    1.212152   \n",
       "1  2016-01-02  0.205891    11.400767  0.498290         1.779809    1.217611   \n",
       "2  2016-01-03  0.194410    11.512462  0.497817         1.701451    1.436425   \n",
       "3  2016-01-04  0.328623    10.198966  0.498928         1.619542    1.295131   \n",
       "4  2016-01-05  0.316894    10.302649  0.498856         1.616946    1.365471   \n",
       "\n",
       "   total_amount  trip_distance  \n",
       "0     14.097446       2.721102  \n",
       "1     13.810382       2.495945  \n",
       "2     14.143402       2.711824  \n",
       "3     12.758593       2.233000  \n",
       "4     12.917139       2.121950  "
      ]
     },
     "execution_count": 49,
     "metadata": {},
     "output_type": "execute_result"
    }
   ],
   "source": [
    "#take the mean of the taxi stats each day / hour\n",
    "tlc_df_MSG_mean = tlc_df_total_gp_subset.groupby(['taxi_date'], as_index=False).mean()\n",
    "tlc_df_MSG_mean.head()"
   ]
  },
  {
   "cell_type": "code",
   "execution_count": 56,
   "metadata": {
    "collapsed": false
   },
   "outputs": [
    {
     "data": {
      "text/html": [
       "<div>\n",
       "<table border=\"1\" class=\"dataframe\">\n",
       "  <thead>\n",
       "    <tr style=\"text-align: right;\">\n",
       "      <th></th>\n",
       "      <th>taxi_date</th>\n",
       "      <th>taxi_trip_count</th>\n",
       "      <th>extra</th>\n",
       "      <th>fare_amount</th>\n",
       "      <th>mta_tax</th>\n",
       "      <th>passenger_count</th>\n",
       "      <th>tip_amount</th>\n",
       "      <th>total_amount</th>\n",
       "      <th>trip_distance</th>\n",
       "    </tr>\n",
       "  </thead>\n",
       "  <tbody>\n",
       "    <tr>\n",
       "      <th>0</th>\n",
       "      <td>2016-01-01</td>\n",
       "      <td>14547</td>\n",
       "      <td>0.247852</td>\n",
       "      <td>11.601560</td>\n",
       "      <td>0.496975</td>\n",
       "      <td>1.774043</td>\n",
       "      <td>1.212152</td>\n",
       "      <td>14.097446</td>\n",
       "      <td>2.721102</td>\n",
       "    </tr>\n",
       "    <tr>\n",
       "      <th>1</th>\n",
       "      <td>2016-01-02</td>\n",
       "      <td>16958</td>\n",
       "      <td>0.205891</td>\n",
       "      <td>11.400767</td>\n",
       "      <td>0.498290</td>\n",
       "      <td>1.779809</td>\n",
       "      <td>1.217611</td>\n",
       "      <td>13.810382</td>\n",
       "      <td>2.495945</td>\n",
       "    </tr>\n",
       "    <tr>\n",
       "      <th>2</th>\n",
       "      <td>2016-01-03</td>\n",
       "      <td>16262</td>\n",
       "      <td>0.194410</td>\n",
       "      <td>11.512462</td>\n",
       "      <td>0.497817</td>\n",
       "      <td>1.701451</td>\n",
       "      <td>1.436425</td>\n",
       "      <td>14.143402</td>\n",
       "      <td>2.711824</td>\n",
       "    </tr>\n",
       "    <tr>\n",
       "      <th>3</th>\n",
       "      <td>2016-01-04</td>\n",
       "      <td>14932</td>\n",
       "      <td>0.328623</td>\n",
       "      <td>10.198966</td>\n",
       "      <td>0.498928</td>\n",
       "      <td>1.619542</td>\n",
       "      <td>1.295131</td>\n",
       "      <td>12.758593</td>\n",
       "      <td>2.233000</td>\n",
       "    </tr>\n",
       "    <tr>\n",
       "      <th>4</th>\n",
       "      <td>2016-01-05</td>\n",
       "      <td>17042</td>\n",
       "      <td>0.316894</td>\n",
       "      <td>10.302649</td>\n",
       "      <td>0.498856</td>\n",
       "      <td>1.616946</td>\n",
       "      <td>1.365471</td>\n",
       "      <td>12.917139</td>\n",
       "      <td>2.121950</td>\n",
       "    </tr>\n",
       "  </tbody>\n",
       "</table>\n",
       "</div>"
      ],
      "text/plain": [
       "    taxi_date  taxi_trip_count     extra  fare_amount   mta_tax  \\\n",
       "0  2016-01-01            14547  0.247852    11.601560  0.496975   \n",
       "1  2016-01-02            16958  0.205891    11.400767  0.498290   \n",
       "2  2016-01-03            16262  0.194410    11.512462  0.497817   \n",
       "3  2016-01-04            14932  0.328623    10.198966  0.498928   \n",
       "4  2016-01-05            17042  0.316894    10.302649  0.498856   \n",
       "\n",
       "   passenger_count  tip_amount  total_amount  trip_distance  \n",
       "0         1.774043    1.212152     14.097446       2.721102  \n",
       "1         1.779809    1.217611     13.810382       2.495945  \n",
       "2         1.701451    1.436425     14.143402       2.711824  \n",
       "3         1.619542    1.295131     12.758593       2.233000  \n",
       "4         1.616946    1.365471     12.917139       2.121950  "
      ]
     },
     "execution_count": 56,
     "metadata": {},
     "output_type": "execute_result"
    }
   ],
   "source": [
    "tlc_df_MSG_by_day_hour = tlc_df_MSG_count.merge(tlc_df_MSG_mean, on=['taxi_date'])\n",
    "tlc_df_MSG_by_day_hour.head()"
   ]
  },
  {
   "cell_type": "code",
   "execution_count": 57,
   "metadata": {
    "collapsed": false
   },
   "outputs": [
    {
     "data": {
      "text/plain": [
       "<matplotlib.axes._subplots.AxesSubplot at 0x22e0d7690>"
      ]
     },
     "execution_count": 57,
     "metadata": {},
     "output_type": "execute_result"
    },
    {
     "data": {
      "image/png": "[encoded data removed]",
      "text/plain": [
       "<matplotlib.figure.Figure at 0x22e021210>"
      ]
     },
     "metadata": {},
     "output_type": "display_data"
    }
   ],
   "source": [
    "tlc_df_MSG_by_day_hour[['taxi_date', 'taxi_trip_count']].plot()"
   ]
  },
  {
   "cell_type": "code",
   "execution_count": 51,
   "metadata": {
    "collapsed": false
   },
   "outputs": [
    {
     "data": {
      "text/html": [
       "<div>\n",
       "<table border=\"1\" class=\"dataframe\">\n",
       "  <thead>\n",
       "    <tr style=\"text-align: right;\">\n",
       "      <th></th>\n",
       "      <th>ArcCenterX</th>\n",
       "      <th>ArcCenterY</th>\n",
       "      <th>BOE_LGC</th>\n",
       "      <th>BikeLane</th>\n",
       "      <th>BoroBndry</th>\n",
       "      <th>Carto_Disp</th>\n",
       "      <th>ConParity</th>\n",
       "      <th>CurveFlag</th>\n",
       "      <th>FCC</th>\n",
       "      <th>FDNYID</th>\n",
       "      <th>FaceCode</th>\n",
       "      <th>FeatureTyp</th>\n",
       "      <th>FromLeft</th>\n",
       "      <th>FromRight</th>\n",
       "      <th>GenericID</th>\n",
       "      <th>IncExFlag</th>\n",
       "      <th>Join_ID</th>\n",
       "      <th>LATOMICPOL</th>\n",
       "      <th>LAssmDist</th>\n",
       "      <th>LBlockFace</th>\n",
       "      <th>LBoro</th>\n",
       "      <th>LCB2000</th>\n",
       "      <th>LCB2000Suf</th>\n",
       "      <th>LCB2010</th>\n",
       "      <th>LCB2010Suf</th>\n",
       "      <th>LCT1990</th>\n",
       "      <th>LCT1990Suf</th>\n",
       "      <th>LCT2000</th>\n",
       "      <th>LCT2000Suf</th>\n",
       "      <th>LCT2010</th>\n",
       "      <th>LCT2010Suf</th>\n",
       "      <th>LElectDist</th>\n",
       "      <th>LGC1</th>\n",
       "      <th>LGC2</th>\n",
       "      <th>LGC3</th>\n",
       "      <th>LGC4</th>\n",
       "      <th>LGC5</th>\n",
       "      <th>LGC6</th>\n",
       "      <th>LGC7</th>\n",
       "      <th>LGC8</th>\n",
       "      <th>LGC9</th>\n",
       "      <th>LHi_Hyphen</th>\n",
       "      <th>LLo_Hyphen</th>\n",
       "      <th>LSchlDist</th>\n",
       "      <th>LSubSect</th>\n",
       "      <th>LZip</th>\n",
       "      <th>L_CD</th>\n",
       "      <th>LegacyID</th>\n",
       "      <th>LocStatus</th>\n",
       "      <th>MH_RI_Flag</th>\n",
       "      <th>MapFrom</th>\n",
       "      <th>MapTo</th>\n",
       "      <th>NYPDID</th>\n",
       "      <th>NodeIDFrom</th>\n",
       "      <th>NodeIDTo</th>\n",
       "      <th>NodeLevelF</th>\n",
       "      <th>NodeLevelT</th>\n",
       "      <th>NonPed</th>\n",
       "      <th>Number_Par</th>\n",
       "      <th>Number_Tot</th>\n",
       "      <th>Number_Tra</th>\n",
       "      <th>PhysicalID</th>\n",
       "      <th>RATOMICPOL</th>\n",
       "      <th>RAssmDist</th>\n",
       "      <th>RB_Layer</th>\n",
       "      <th>RBlockFace</th>\n",
       "      <th>RBoro</th>\n",
       "      <th>RCB2000</th>\n",
       "      <th>RCB2000Suf</th>\n",
       "      <th>RCB2010</th>\n",
       "      <th>RCB2010Suf</th>\n",
       "      <th>RCT1990</th>\n",
       "      <th>RCT1990Suf</th>\n",
       "      <th>RCT2000</th>\n",
       "      <th>RCT2000Suf</th>\n",
       "      <th>RCT2010</th>\n",
       "      <th>RCT2010Suf</th>\n",
       "      <th>RElectDist</th>\n",
       "      <th>RHi_Hyphen</th>\n",
       "      <th>RLo_Hyphen</th>\n",
       "      <th>ROW_Type</th>\n",
       "      <th>RSchlDist</th>\n",
       "      <th>RSubSect</th>\n",
       "      <th>RW_TYPE</th>\n",
       "      <th>RZip</th>\n",
       "      <th>R_CD</th>\n",
       "      <th>Radius</th>\n",
       "      <th>SAFStreetC</th>\n",
       "      <th>SAFStreetN</th>\n",
       "      <th>SHAPE_Leng</th>\n",
       "      <th>SanDistInd</th>\n",
       "      <th>SegCount</th>\n",
       "      <th>SegmentID</th>\n",
       "      <th>SegmentTyp</th>\n",
       "      <th>SeqNum</th>\n",
       "      <th>Snow_Prior</th>\n",
       "      <th>SpecAddr</th>\n",
       "      <th>SplitElect</th>\n",
       "      <th>SplitSchl</th>\n",
       "      <th>Status</th>\n",
       "      <th>Street</th>\n",
       "      <th>StreetCode</th>\n",
       "      <th>StreetWi_1</th>\n",
       "      <th>StreetWidt</th>\n",
       "      <th>ToLeft</th>\n",
       "      <th>ToRight</th>\n",
       "      <th>TrafDir</th>\n",
       "      <th>TrafSrc</th>\n",
       "      <th>Twisted</th>\n",
       "      <th>XFrom</th>\n",
       "      <th>XTo</th>\n",
       "      <th>YFrom</th>\n",
       "      <th>YTo</th>\n",
       "      <th>geometry</th>\n",
       "    </tr>\n",
       "  </thead>\n",
       "  <tbody>\n",
       "    <tr>\n",
       "      <th>83793</th>\n",
       "      <td>0</td>\n",
       "      <td>0</td>\n",
       "      <td>1</td>\n",
       "      <td>None</td>\n",
       "      <td>None</td>\n",
       "      <td>None</td>\n",
       "      <td>None</td>\n",
       "      <td>None</td>\n",
       "      <td>None</td>\n",
       "      <td>None</td>\n",
       "      <td>4340</td>\n",
       "      <td>0</td>\n",
       "      <td>391</td>\n",
       "      <td>0</td>\n",
       "      <td>1132</td>\n",
       "      <td>None</td>\n",
       "      <td>1434002000000</td>\n",
       "      <td>126</td>\n",
       "      <td>75</td>\n",
       "      <td>1222603843</td>\n",
       "      <td>1</td>\n",
       "      <td>1024</td>\n",
       "      <td>None</td>\n",
       "      <td>1009</td>\n",
       "      <td>None</td>\n",
       "      <td>99</td>\n",
       "      <td>None</td>\n",
       "      <td>99</td>\n",
       "      <td>None</td>\n",
       "      <td>99</td>\n",
       "      <td>None</td>\n",
       "      <td>022</td>\n",
       "      <td>02</td>\n",
       "      <td>None</td>\n",
       "      <td>None</td>\n",
       "      <td>None</td>\n",
       "      <td>None</td>\n",
       "      <td>None</td>\n",
       "      <td>None</td>\n",
       "      <td>None</td>\n",
       "      <td>None</td>\n",
       "      <td>411</td>\n",
       "      <td>391</td>\n",
       "      <td>02</td>\n",
       "      <td>2B</td>\n",
       "      <td>10001</td>\n",
       "      <td>104</td>\n",
       "      <td>0121304</td>\n",
       "      <td>X</td>\n",
       "      <td>None</td>\n",
       "      <td>8D</td>\n",
       "      <td>8D</td>\n",
       "      <td>None</td>\n",
       "      <td>0071338</td>\n",
       "      <td>0021201</td>\n",
       "      <td>M</td>\n",
       "      <td>M</td>\n",
       "      <td>None</td>\n",
       "      <td>1</td>\n",
       "      <td>5</td>\n",
       "      <td>4</td>\n",
       "      <td>1267</td>\n",
       "      <td>213</td>\n",
       "      <td>75</td>\n",
       "      <td>B</td>\n",
       "      <td>1222601267</td>\n",
       "      <td>1</td>\n",
       "      <td>2002</td>\n",
       "      <td>None</td>\n",
       "      <td>1003</td>\n",
       "      <td>None</td>\n",
       "      <td>103</td>\n",
       "      <td>None</td>\n",
       "      <td>103</td>\n",
       "      <td>None</td>\n",
       "      <td>103</td>\n",
       "      <td>None</td>\n",
       "      <td>045</td>\n",
       "      <td>None</td>\n",
       "      <td>None</td>\n",
       "      <td>None</td>\n",
       "      <td>02</td>\n",
       "      <td>2B</td>\n",
       "      <td>1</td>\n",
       "      <td>10001</td>\n",
       "      <td>104</td>\n",
       "      <td>0</td>\n",
       "      <td>None</td>\n",
       "      <td>None</td>\n",
       "      <td>167.436882</td>\n",
       "      <td>None</td>\n",
       "      <td>1</td>\n",
       "      <td>0121304</td>\n",
       "      <td>U</td>\n",
       "      <td>00220</td>\n",
       "      <td>P</td>\n",
       "      <td>None</td>\n",
       "      <td>None</td>\n",
       "      <td>None</td>\n",
       "      <td>2</td>\n",
       "      <td>10 AVENUE</td>\n",
       "      <td>111010</td>\n",
       "      <td>None</td>\n",
       "      <td>70.0</td>\n",
       "      <td>411</td>\n",
       "      <td>0</td>\n",
       "      <td>W</td>\n",
       "      <td>DCP</td>\n",
       "      <td>None</td>\n",
       "      <td>984271</td>\n",
       "      <td>984357</td>\n",
       "      <td>213803</td>\n",
       "      <td>213946</td>\n",
       "      <td>LINESTRING (-73.99992459199002 40.753516279835...</td>\n",
       "    </tr>\n",
       "    <tr>\n",
       "      <th>83821</th>\n",
       "      <td>0</td>\n",
       "      <td>0</td>\n",
       "      <td>1</td>\n",
       "      <td>None</td>\n",
       "      <td>None</td>\n",
       "      <td>None</td>\n",
       "      <td>None</td>\n",
       "      <td>None</td>\n",
       "      <td>None</td>\n",
       "      <td>None</td>\n",
       "      <td>4340</td>\n",
       "      <td>0</td>\n",
       "      <td>451</td>\n",
       "      <td>450</td>\n",
       "      <td>1135</td>\n",
       "      <td>None</td>\n",
       "      <td>1434002000000</td>\n",
       "      <td>105</td>\n",
       "      <td>75</td>\n",
       "      <td>1222606501</td>\n",
       "      <td>1</td>\n",
       "      <td>1006</td>\n",
       "      <td>None</td>\n",
       "      <td>1039</td>\n",
       "      <td>None</td>\n",
       "      <td>99</td>\n",
       "      <td>None</td>\n",
       "      <td>99</td>\n",
       "      <td>None</td>\n",
       "      <td>99</td>\n",
       "      <td>None</td>\n",
       "      <td>064</td>\n",
       "      <td>02</td>\n",
       "      <td>None</td>\n",
       "      <td>None</td>\n",
       "      <td>None</td>\n",
       "      <td>None</td>\n",
       "      <td>None</td>\n",
       "      <td>None</td>\n",
       "      <td>None</td>\n",
       "      <td>None</td>\n",
       "      <td>467</td>\n",
       "      <td>451</td>\n",
       "      <td>02</td>\n",
       "      <td>2A</td>\n",
       "      <td>10018</td>\n",
       "      <td>104</td>\n",
       "      <td>0033577</td>\n",
       "      <td>X</td>\n",
       "      <td>None</td>\n",
       "      <td>8D</td>\n",
       "      <td>8D</td>\n",
       "      <td>None</td>\n",
       "      <td>0021207</td>\n",
       "      <td>0021209</td>\n",
       "      <td>M</td>\n",
       "      <td>M</td>\n",
       "      <td>None</td>\n",
       "      <td>2</td>\n",
       "      <td>6</td>\n",
       "      <td>4</td>\n",
       "      <td>1270</td>\n",
       "      <td>220</td>\n",
       "      <td>75</td>\n",
       "      <td>B</td>\n",
       "      <td>1222602358</td>\n",
       "      <td>1</td>\n",
       "      <td>2002</td>\n",
       "      <td>None</td>\n",
       "      <td>2002</td>\n",
       "      <td>None</td>\n",
       "      <td>111</td>\n",
       "      <td>None</td>\n",
       "      <td>111</td>\n",
       "      <td>None</td>\n",
       "      <td>111</td>\n",
       "      <td>None</td>\n",
       "      <td>063</td>\n",
       "      <td>464</td>\n",
       "      <td>450</td>\n",
       "      <td>None</td>\n",
       "      <td>02</td>\n",
       "      <td>2A</td>\n",
       "      <td>1</td>\n",
       "      <td>10018</td>\n",
       "      <td>104</td>\n",
       "      <td>0</td>\n",
       "      <td>None</td>\n",
       "      <td>None</td>\n",
       "      <td>257.201231</td>\n",
       "      <td>None</td>\n",
       "      <td>1</td>\n",
       "      <td>0033577</td>\n",
       "      <td>U</td>\n",
       "      <td>00260</td>\n",
       "      <td>P</td>\n",
       "      <td>None</td>\n",
       "      <td>None</td>\n",
       "      <td>None</td>\n",
       "      <td>2</td>\n",
       "      <td>10 AVENUE</td>\n",
       "      <td>111010</td>\n",
       "      <td>None</td>\n",
       "      <td>70.0</td>\n",
       "      <td>467</td>\n",
       "      <td>464</td>\n",
       "      <td>W</td>\n",
       "      <td>DOT</td>\n",
       "      <td>None</td>\n",
       "      <td>984621</td>\n",
       "      <td>984745</td>\n",
       "      <td>214435</td>\n",
       "      <td>214661</td>\n",
       "      <td>LINESTRING (-73.99866067189214 40.755251762390...</td>\n",
       "    </tr>\n",
       "    <tr>\n",
       "      <th>83829</th>\n",
       "      <td>0</td>\n",
       "      <td>0</td>\n",
       "      <td>1</td>\n",
       "      <td>None</td>\n",
       "      <td>None</td>\n",
       "      <td>None</td>\n",
       "      <td>None</td>\n",
       "      <td>None</td>\n",
       "      <td>None</td>\n",
       "      <td>None</td>\n",
       "      <td>4930</td>\n",
       "      <td>0</td>\n",
       "      <td>0</td>\n",
       "      <td>0</td>\n",
       "      <td>1575</td>\n",
       "      <td>None</td>\n",
       "      <td>1493001000000</td>\n",
       "      <td>203</td>\n",
       "      <td>75</td>\n",
       "      <td>1222601268</td>\n",
       "      <td>1</td>\n",
       "      <td>2003</td>\n",
       "      <td>None</td>\n",
       "      <td>1005</td>\n",
       "      <td>None</td>\n",
       "      <td>103</td>\n",
       "      <td>None</td>\n",
       "      <td>103</td>\n",
       "      <td>None</td>\n",
       "      <td>103</td>\n",
       "      <td>None</td>\n",
       "      <td>045</td>\n",
       "      <td>01</td>\n",
       "      <td>None</td>\n",
       "      <td>None</td>\n",
       "      <td>None</td>\n",
       "      <td>None</td>\n",
       "      <td>None</td>\n",
       "      <td>None</td>\n",
       "      <td>None</td>\n",
       "      <td>None</td>\n",
       "      <td>None</td>\n",
       "      <td>None</td>\n",
       "      <td>02</td>\n",
       "      <td>2B</td>\n",
       "      <td>10001</td>\n",
       "      <td>104</td>\n",
       "      <td>0164637</td>\n",
       "      <td>None</td>\n",
       "      <td>None</td>\n",
       "      <td>8D</td>\n",
       "      <td>8D</td>\n",
       "      <td>None</td>\n",
       "      <td>0078646</td>\n",
       "      <td>0021203</td>\n",
       "      <td>M</td>\n",
       "      <td>M</td>\n",
       "      <td>None</td>\n",
       "      <td>2</td>\n",
       "      <td>4</td>\n",
       "      <td>2</td>\n",
       "      <td>1798</td>\n",
       "      <td>225</td>\n",
       "      <td>75</td>\n",
       "      <td>B</td>\n",
       "      <td>1222600470</td>\n",
       "      <td>1</td>\n",
       "      <td>2000</td>\n",
       "      <td>None</td>\n",
       "      <td>1001</td>\n",
       "      <td>None</td>\n",
       "      <td>103</td>\n",
       "      <td>None</td>\n",
       "      <td>103</td>\n",
       "      <td>None</td>\n",
       "      <td>103</td>\n",
       "      <td>None</td>\n",
       "      <td>062</td>\n",
       "      <td>None</td>\n",
       "      <td>None</td>\n",
       "      <td>None</td>\n",
       "      <td>02</td>\n",
       "      <td>2B</td>\n",
       "      <td>1</td>\n",
       "      <td>10001</td>\n",
       "      <td>104</td>\n",
       "      <td>0</td>\n",
       "      <td>None</td>\n",
       "      <td>None</td>\n",
       "      <td>19.060771</td>\n",
       "      <td>None</td>\n",
       "      <td>1</td>\n",
       "      <td>0164637</td>\n",
       "      <td>U</td>\n",
       "      <td>01070</td>\n",
       "      <td>S</td>\n",
       "      <td>None</td>\n",
       "      <td>None</td>\n",
       "      <td>None</td>\n",
       "      <td>2</td>\n",
       "      <td>WEST 33 STREET</td>\n",
       "      <td>134430</td>\n",
       "      <td>None</td>\n",
       "      <td>35.0</td>\n",
       "      <td>0</td>\n",
       "      <td>0</td>\n",
       "      <td>W</td>\n",
       "      <td>DOT</td>\n",
       "      <td>None</td>\n",
       "      <td>984664</td>\n",
       "      <td>984648</td>\n",
       "      <td>213776</td>\n",
       "      <td>213785</td>\n",
       "      <td>LINESTRING (-73.99850458748477 40.753441906737...</td>\n",
       "    </tr>\n",
       "    <tr>\n",
       "      <th>83833</th>\n",
       "      <td>985506</td>\n",
       "      <td>214448</td>\n",
       "      <td>1</td>\n",
       "      <td>None</td>\n",
       "      <td>None</td>\n",
       "      <td>None</td>\n",
       "      <td>None</td>\n",
       "      <td>L</td>\n",
       "      <td>None</td>\n",
       "      <td>None</td>\n",
       "      <td>3077</td>\n",
       "      <td>0</td>\n",
       "      <td>0</td>\n",
       "      <td>0</td>\n",
       "      <td>1586</td>\n",
       "      <td>None</td>\n",
       "      <td>1307701000000</td>\n",
       "      <td>315</td>\n",
       "      <td>75</td>\n",
       "      <td>1222606796</td>\n",
       "      <td>1</td>\n",
       "      <td>3008</td>\n",
       "      <td>None</td>\n",
       "      <td>3005</td>\n",
       "      <td>None</td>\n",
       "      <td>111</td>\n",
       "      <td>None</td>\n",
       "      <td>111</td>\n",
       "      <td>None</td>\n",
       "      <td>111</td>\n",
       "      <td>None</td>\n",
       "      <td>064</td>\n",
       "      <td>01</td>\n",
       "      <td>None</td>\n",
       "      <td>None</td>\n",
       "      <td>None</td>\n",
       "      <td>None</td>\n",
       "      <td>None</td>\n",
       "      <td>None</td>\n",
       "      <td>None</td>\n",
       "      <td>None</td>\n",
       "      <td>None</td>\n",
       "      <td>None</td>\n",
       "      <td>02</td>\n",
       "      <td>2A</td>\n",
       "      <td>10018</td>\n",
       "      <td>104</td>\n",
       "      <td>0033688</td>\n",
       "      <td>None</td>\n",
       "      <td>None</td>\n",
       "      <td>8D</td>\n",
       "      <td>8D</td>\n",
       "      <td>None</td>\n",
       "      <td>0021272</td>\n",
       "      <td>0021267</td>\n",
       "      <td>M</td>\n",
       "      <td>M</td>\n",
       "      <td>V</td>\n",
       "      <td>None</td>\n",
       "      <td>2</td>\n",
       "      <td>2</td>\n",
       "      <td>1810</td>\n",
       "      <td>302</td>\n",
       "      <td>75</td>\n",
       "      <td>B</td>\n",
       "      <td>1222603179</td>\n",
       "      <td>1</td>\n",
       "      <td>3007</td>\n",
       "      <td>None</td>\n",
       "      <td>3005</td>\n",
       "      <td>None</td>\n",
       "      <td>111</td>\n",
       "      <td>None</td>\n",
       "      <td>111</td>\n",
       "      <td>None</td>\n",
       "      <td>111</td>\n",
       "      <td>None</td>\n",
       "      <td>064</td>\n",
       "      <td>None</td>\n",
       "      <td>None</td>\n",
       "      <td>None</td>\n",
       "      <td>02</td>\n",
       "      <td>2A</td>\n",
       "      <td>9</td>\n",
       "      <td>10018</td>\n",
       "      <td>104</td>\n",
       "      <td>135</td>\n",
       "      <td>None</td>\n",
       "      <td>None</td>\n",
       "      <td>148.817573</td>\n",
       "      <td>None</td>\n",
       "      <td>1</td>\n",
       "      <td>0033688</td>\n",
       "      <td>E</td>\n",
       "      <td>02010</td>\n",
       "      <td>P</td>\n",
       "      <td>None</td>\n",
       "      <td>None</td>\n",
       "      <td>None</td>\n",
       "      <td>2</td>\n",
       "      <td>LINCOLN TUNNEL ENTRANCE</td>\n",
       "      <td>197490</td>\n",
       "      <td>None</td>\n",
       "      <td>26.0</td>\n",
       "      <td>0</td>\n",
       "      <td>0</td>\n",
       "      <td>T</td>\n",
       "      <td>DCP</td>\n",
       "      <td>None</td>\n",
       "      <td>985608</td>\n",
       "      <td>985473</td>\n",
       "      <td>214360</td>\n",
       "      <td>214318</td>\n",
       "      <td>LINESTRING (-73.99509842902431 40.755045585440...</td>\n",
       "    </tr>\n",
       "    <tr>\n",
       "      <th>83834</th>\n",
       "      <td>0</td>\n",
       "      <td>0</td>\n",
       "      <td>1</td>\n",
       "      <td>None</td>\n",
       "      <td>None</td>\n",
       "      <td>None</td>\n",
       "      <td>None</td>\n",
       "      <td>None</td>\n",
       "      <td>None</td>\n",
       "      <td>None</td>\n",
       "      <td>4965</td>\n",
       "      <td>0</td>\n",
       "      <td>450</td>\n",
       "      <td>451</td>\n",
       "      <td>1567</td>\n",
       "      <td>None</td>\n",
       "      <td>1496501000000</td>\n",
       "      <td>224</td>\n",
       "      <td>75</td>\n",
       "      <td>1222602483</td>\n",
       "      <td>1</td>\n",
       "      <td>2013</td>\n",
       "      <td>None</td>\n",
       "      <td>2007</td>\n",
       "      <td>None</td>\n",
       "      <td>115</td>\n",
       "      <td>None</td>\n",
       "      <td>115</td>\n",
       "      <td>None</td>\n",
       "      <td>115</td>\n",
       "      <td>None</td>\n",
       "      <td>067</td>\n",
       "      <td>01</td>\n",
       "      <td>None</td>\n",
       "      <td>None</td>\n",
       "      <td>None</td>\n",
       "      <td>None</td>\n",
       "      <td>None</td>\n",
       "      <td>None</td>\n",
       "      <td>None</td>\n",
       "      <td>None</td>\n",
       "      <td>460</td>\n",
       "      <td>450</td>\n",
       "      <td>02</td>\n",
       "      <td>2A</td>\n",
       "      <td>10018</td>\n",
       "      <td>104</td>\n",
       "      <td>0033730</td>\n",
       "      <td>None</td>\n",
       "      <td>None</td>\n",
       "      <td>8D</td>\n",
       "      <td>8D</td>\n",
       "      <td>None</td>\n",
       "      <td>0021291</td>\n",
       "      <td>0021289</td>\n",
       "      <td>Q</td>\n",
       "      <td>Q</td>\n",
       "      <td>None</td>\n",
       "      <td>2</td>\n",
       "      <td>4</td>\n",
       "      <td>2</td>\n",
       "      <td>1790</td>\n",
       "      <td>264</td>\n",
       "      <td>75</td>\n",
       "      <td>B</td>\n",
       "      <td>1222606938</td>\n",
       "      <td>1</td>\n",
       "      <td>2006</td>\n",
       "      <td>None</td>\n",
       "      <td>2005</td>\n",
       "      <td>None</td>\n",
       "      <td>115</td>\n",
       "      <td>None</td>\n",
       "      <td>115</td>\n",
       "      <td>None</td>\n",
       "      <td>115</td>\n",
       "      <td>None</td>\n",
       "      <td>067</td>\n",
       "      <td>461</td>\n",
       "      <td>451</td>\n",
       "      <td>None</td>\n",
       "      <td>02</td>\n",
       "      <td>2A</td>\n",
       "      <td>1</td>\n",
       "      <td>10018</td>\n",
       "      <td>104</td>\n",
       "      <td>0</td>\n",
       "      <td>None</td>\n",
       "      <td>None</td>\n",
       "      <td>46.763324</td>\n",
       "      <td>None</td>\n",
       "      <td>1</td>\n",
       "      <td>0033730</td>\n",
       "      <td>U</td>\n",
       "      <td>01070</td>\n",
       "      <td>S</td>\n",
       "      <td>None</td>\n",
       "      <td>None</td>\n",
       "      <td>None</td>\n",
       "      <td>2</td>\n",
       "      <td>WEST 39 STREET</td>\n",
       "      <td>134550</td>\n",
       "      <td>None</td>\n",
       "      <td>35.0</td>\n",
       "      <td>460</td>\n",
       "      <td>461</td>\n",
       "      <td>W</td>\n",
       "      <td>DOT</td>\n",
       "      <td>None</td>\n",
       "      <td>985563</td>\n",
       "      <td>985521</td>\n",
       "      <td>215094</td>\n",
       "      <td>215116</td>\n",
       "      <td>LINESTRING (-73.99526203673285 40.757059094703...</td>\n",
       "    </tr>\n",
       "  </tbody>\n",
       "</table>\n",
       "</div>"
      ],
      "text/plain": [
       "       ArcCenterX  ArcCenterY BOE_LGC BikeLane BoroBndry Carto_Disp ConParity  \\\n",
       "83793           0           0       1     None      None       None      None   \n",
       "83821           0           0       1     None      None       None      None   \n",
       "83829           0           0       1     None      None       None      None   \n",
       "83833      985506      214448       1     None      None       None      None   \n",
       "83834           0           0       1     None      None       None      None   \n",
       "\n",
       "      CurveFlag   FCC FDNYID FaceCode FeatureTyp  FromLeft  FromRight  \\\n",
       "83793      None  None   None     4340          0       391          0   \n",
       "83821      None  None   None     4340          0       451        450   \n",
       "83829      None  None   None     4930          0         0          0   \n",
       "83833         L  None   None     3077          0         0          0   \n",
       "83834      None  None   None     4965          0       450        451   \n",
       "\n",
       "       GenericID IncExFlag        Join_ID LATOMICPOL LAssmDist  LBlockFace  \\\n",
       "83793       1132      None  1434002000000        126        75  1222603843   \n",
       "83821       1135      None  1434002000000        105        75  1222606501   \n",
       "83829       1575      None  1493001000000        203        75  1222601268   \n",
       "83833       1586      None  1307701000000        315        75  1222606796   \n",
       "83834       1567      None  1496501000000        224        75  1222602483   \n",
       "\n",
       "       LBoro LCB2000 LCB2000Suf LCB2010 LCB2010Suf LCT1990 LCT1990Suf LCT2000  \\\n",
       "83793      1    1024       None    1009       None      99       None      99   \n",
       "83821      1    1006       None    1039       None      99       None      99   \n",
       "83829      1    2003       None    1005       None     103       None     103   \n",
       "83833      1    3008       None    3005       None     111       None     111   \n",
       "83834      1    2013       None    2007       None     115       None     115   \n",
       "\n",
       "      LCT2000Suf LCT2010 LCT2010Suf LElectDist LGC1  LGC2  LGC3  LGC4  LGC5  \\\n",
       "83793       None      99       None        022   02  None  None  None  None   \n",
       "83821       None      99       None        064   02  None  None  None  None   \n",
       "83829       None     103       None        045   01  None  None  None  None   \n",
       "83833       None     111       None        064   01  None  None  None  None   \n",
       "83834       None     115       None        067   01  None  None  None  None   \n",
       "\n",
       "       LGC6  LGC7  LGC8  LGC9 LHi_Hyphen LLo_Hyphen LSchlDist LSubSect   LZip  \\\n",
       "83793  None  None  None  None        411        391        02       2B  10001   \n",
       "83821  None  None  None  None        467        451        02       2A  10018   \n",
       "83829  None  None  None  None       None       None        02       2B  10001   \n",
       "83833  None  None  None  None       None       None        02       2A  10018   \n",
       "83834  None  None  None  None        460        450        02       2A  10018   \n",
       "\n",
       "      L_CD LegacyID LocStatus MH_RI_Flag MapFrom MapTo NYPDID NodeIDFrom  \\\n",
       "83793  104  0121304         X       None      8D    8D   None    0071338   \n",
       "83821  104  0033577         X       None      8D    8D   None    0021207   \n",
       "83829  104  0164637      None       None      8D    8D   None    0078646   \n",
       "83833  104  0033688      None       None      8D    8D   None    0021272   \n",
       "83834  104  0033730      None       None      8D    8D   None    0021291   \n",
       "\n",
       "      NodeIDTo NodeLevelF NodeLevelT NonPed Number_Par Number_Tot Number_Tra  \\\n",
       "83793  0021201          M          M   None          1          5          4   \n",
       "83821  0021209          M          M   None          2          6          4   \n",
       "83829  0021203          M          M   None          2          4          2   \n",
       "83833  0021267          M          M      V       None          2          2   \n",
       "83834  0021289          Q          Q   None          2          4          2   \n",
       "\n",
       "       PhysicalID RATOMICPOL RAssmDist RB_Layer  RBlockFace  RBoro RCB2000  \\\n",
       "83793        1267        213        75        B  1222601267      1    2002   \n",
       "83821        1270        220        75        B  1222602358      1    2002   \n",
       "83829        1798        225        75        B  1222600470      1    2000   \n",
       "83833        1810        302        75        B  1222603179      1    3007   \n",
       "83834        1790        264        75        B  1222606938      1    2006   \n",
       "\n",
       "      RCB2000Suf RCB2010 RCB2010Suf RCT1990 RCT1990Suf RCT2000 RCT2000Suf  \\\n",
       "83793       None    1003       None     103       None     103       None   \n",
       "83821       None    2002       None     111       None     111       None   \n",
       "83829       None    1001       None     103       None     103       None   \n",
       "83833       None    3005       None     111       None     111       None   \n",
       "83834       None    2005       None     115       None     115       None   \n",
       "\n",
       "      RCT2010 RCT2010Suf RElectDist RHi_Hyphen RLo_Hyphen ROW_Type RSchlDist  \\\n",
       "83793     103       None        045       None       None     None        02   \n",
       "83821     111       None        063        464        450     None        02   \n",
       "83829     103       None        062       None       None     None        02   \n",
       "83833     111       None        064       None       None     None        02   \n",
       "83834     115       None        067        461        451     None        02   \n",
       "\n",
       "      RSubSect RW_TYPE   RZip R_CD  Radius SAFStreetC SAFStreetN  SHAPE_Leng  \\\n",
       "83793       2B       1  10001  104       0       None       None  167.436882   \n",
       "83821       2A       1  10018  104       0       None       None  257.201231   \n",
       "83829       2B       1  10001  104       0       None       None   19.060771   \n",
       "83833       2A       9  10018  104     135       None       None  148.817573   \n",
       "83834       2A       1  10018  104       0       None       None   46.763324   \n",
       "\n",
       "      SanDistInd SegCount SegmentID SegmentTyp SeqNum Snow_Prior SpecAddr  \\\n",
       "83793       None        1   0121304          U  00220          P     None   \n",
       "83821       None        1   0033577          U  00260          P     None   \n",
       "83829       None        1   0164637          U  01070          S     None   \n",
       "83833       None        1   0033688          E  02010          P     None   \n",
       "83834       None        1   0033730          U  01070          S     None   \n",
       "\n",
       "      SplitElect SplitSchl Status                   Street StreetCode  \\\n",
       "83793       None      None      2                10 AVENUE     111010   \n",
       "83821       None      None      2                10 AVENUE     111010   \n",
       "83829       None      None      2           WEST 33 STREET     134430   \n",
       "83833       None      None      2  LINCOLN TUNNEL ENTRANCE     197490   \n",
       "83834       None      None      2           WEST 39 STREET     134550   \n",
       "\n",
       "      StreetWi_1  StreetWidt  ToLeft  ToRight TrafDir TrafSrc Twisted   XFrom  \\\n",
       "83793       None        70.0     411        0       W     DCP    None  984271   \n",
       "83821       None        70.0     467      464       W     DOT    None  984621   \n",
       "83829       None        35.0       0        0       W     DOT    None  984664   \n",
       "83833       None        26.0       0        0       T     DCP    None  985608   \n",
       "83834       None        35.0     460      461       W     DOT    None  985563   \n",
       "\n",
       "          XTo   YFrom     YTo  \\\n",
       "83793  984357  213803  213946   \n",
       "83821  984745  214435  214661   \n",
       "83829  984648  213776  213785   \n",
       "83833  985473  214360  214318   \n",
       "83834  985521  215094  215116   \n",
       "\n",
       "                                                geometry  \n",
       "83793  LINESTRING (-73.99992459199002 40.753516279835...  \n",
       "83821  LINESTRING (-73.99866067189214 40.755251762390...  \n",
       "83829  LINESTRING (-73.99850458748477 40.753441906737...  \n",
       "83833  LINESTRING (-73.99509842902431 40.755045585440...  \n",
       "83834  LINESTRING (-73.99526203673285 40.757059094703...  "
      ]
     },
     "execution_count": 51,
     "metadata": {},
     "output_type": "execute_result"
    }
   ],
   "source": [
    "# read in NYC street shapefile\n",
    "'''\n",
    "shapefile taken from https://geo.nyu.edu/catalog/nyu_2451_34565\n",
    "\n",
    "'''\n",
    "ny_streets_raw = gp.read_file(proj_folder + '/data/nyu_2451_34565/nyu_2451_34565.shp')\n",
    "ny_streets_raw = ny_streets_raw.to_crs(epsg=4326)\n",
    "# only keep points within MSG buffer\n",
    "ny_streets = ny_streets_raw[ny_streets_raw.geometry.intersects(MSG_gp.geometry[0])]\n",
    "ny_streets.head()"
   ]
  },
  {
   "cell_type": "code",
   "execution_count": 58,
   "metadata": {
    "collapsed": false
   },
   "outputs": [
    {
     "data": {
      "text/plain": [
       "541"
      ]
     },
     "execution_count": 58,
     "metadata": {},
     "output_type": "execute_result"
    }
   ],
   "source": [
    "len(ny_streets)"
   ]
  },
  {
   "cell_type": "code",
   "execution_count": null,
   "metadata": {
    "collapsed": false
   },
   "outputs": [],
   "source": [
    "plt.rcParams[\"figure.figsize\"] = (10,10)\n",
    "ny_streets.plot()\n",
    "tlc_df_total_gp_subset.plot()\n",
    "plt.title(\"Plot of Taxi Pickups, Around MSG\")\n",
    "plt.xlabel(\"longitude\")\n",
    "plt.ylabel(\"latitude\")"
   ]
  },
  {
   "cell_type": "code",
   "execution_count": null,
   "metadata": {
    "collapsed": true
   },
   "outputs": [],
   "source": []
  }
 ],
 "metadata": {
  "anaconda-cloud": {},
  "kernelspec": {
   "display_name": "Python [Root]",
   "language": "python",
   "name": "Python [Root]"
  },
  "language_info": {
   "codemirror_mode": {
    "name": "ipython",
    "version": 2
   },
   "file_extension": ".py",
   "mimetype": "text/x-python",
   "name": "python",
   "nbconvert_exporter": "python",
   "pygments_lexer": "ipython2",
   "version": "2.7.12"
  }
 },
 "nbformat": 4,
 "nbformat_minor": 2
}
