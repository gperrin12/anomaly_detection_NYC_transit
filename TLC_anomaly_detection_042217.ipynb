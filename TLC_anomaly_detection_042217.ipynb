{
 "cells": [
  {
   "cell_type": "markdown",
   "metadata": {},
   "source": [
    "## Anomaly Detection for NYC Taxi & Limousine Data"
   ]
  },
  {
   "cell_type": "code",
   "execution_count": 8,
   "metadata": {
    "collapsed": false
   },
   "outputs": [
    {
     "name": "stdout",
     "output_type": "stream",
     "text": [
      "Populating the interactive namespace from numpy and matplotlib\n"
     ]
    },
    {
     "name": "stderr",
     "output_type": "stream",
     "text": [
      "WARNING: pylab import has clobbered these variables: ['compress', 'datetime']\n",
      "`%matplotlib` prevents importing * from pylab and numpy\n"
     ]
    }
   ],
   "source": [
    "import numpy as np\n",
    "import pandas as pd\n",
    "import geopandas as gp\n",
    "import os\n",
    "import subprocess\n",
    "import math\n",
    "import shapely as shp\n",
    "from geopandas import GeoDataFrame\n",
    "from shapely.geometry import Point\n",
    "from datetime import datetime\n",
    "from fiona.crs import from_epsg\n",
    "import matplotlib\n",
    "matplotlib.use('TkAgg')\n",
    "import matplotlib.pyplot as plt\n",
    "import re\n",
    "from pandas.tseries.holiday import get_calendar, HolidayCalendarFactory, GoodFriday\n",
    "from datetime import datetime\n",
    "import matplotlib.pyplot as plt\n",
    "from mpl_toolkits.mplot3d import Axes3D\n",
    "import sklearn\n",
    "from sklearn import datasets\n",
    "from sklearn.decomposition import PCA\n",
    "from sklearn.linear_model import LogisticRegression\n",
    "from sklearn.ensemble import RandomForestClassifier as RFC\n",
    "from sklearn.ensemble import RandomForestRegressor as RFR\n",
    "from sklearn.model_selection import GridSearchCV\n",
    "from sklearn.metrics import roc_auc_score as rs\n",
    "from sklearn import svm, datasets\n",
    "from sklearn import metrics\n",
    "from sklearn.metrics import roc_curve\n",
    "from sklearn.metrics import auc\n",
    "from sklearn.metrics import silhouette_samples, silhouette_score\n",
    "from sklearn.cluster import KMeans\n",
    "from sklearn.mixture import GaussianMixture\n",
    "\n",
    "from itertools import compress\n",
    "\n",
    "np.random.seed(222)\n",
    "\n",
    "%matplotlib inline\n",
    "%pylab inline\n",
    "pd.options.display.max_columns = 120\n",
    "pd.options.display.max_rows = 120"
   ]
  },
  {
   "cell_type": "code",
   "execution_count": 5,
   "metadata": {
    "collapsed": false
   },
   "outputs": [],
   "source": [
    "proj_folder = os.getcwd()"
   ]
  },
  {
   "cell_type": "markdown",
   "metadata": {},
   "source": [
    "## TLC anomaly detection"
   ]
  },
  {
   "cell_type": "code",
   "execution_count": 47,
   "metadata": {
    "collapsed": false
   },
   "outputs": [],
   "source": [
    "### read in data for January 2016\n",
    "tlc_df_raw = pd.read_csv(proj_folder + '/data/tlc_yellow_2016_1.csv')\n",
    "tlc_df = tlc_df_raw[['passenger_count', 'trip_distance', 'fare_amount', \\\n",
    "                     'extra', 'mta_tax', 'tip_amount', 'total_amount', \\\n",
    "                     'tpep_pickup_datetime', 'tpep_dropoff_datetime']]"
   ]
  },
  {
   "cell_type": "code",
   "execution_count": 48,
   "metadata": {
    "collapsed": false
   },
   "outputs": [
    {
     "name": "stderr",
     "output_type": "stream",
     "text": [
      "/Users/geoffperrin/anaconda2/lib/python2.7/site-packages/ipykernel/__main__.py:1: SettingWithCopyWarning: \n",
      "A value is trying to be set on a copy of a slice from a DataFrame.\n",
      "Try using .loc[row_indexer,col_indexer] = value instead\n",
      "\n",
      "See the caveats in the documentation: http://pandas.pydata.org/pandas-docs/stable/indexing.html#indexing-view-versus-copy\n",
      "  if __name__ == '__main__':\n",
      "/Users/geoffperrin/anaconda2/lib/python2.7/site-packages/ipykernel/__main__.py:2: SettingWithCopyWarning: \n",
      "A value is trying to be set on a copy of a slice from a DataFrame.\n",
      "Try using .loc[row_indexer,col_indexer] = value instead\n",
      "\n",
      "See the caveats in the documentation: http://pandas.pydata.org/pandas-docs/stable/indexing.html#indexing-view-versus-copy\n",
      "  from ipykernel import kernelapp as app\n"
     ]
    },
    {
     "data": {
      "text/html": [
       "<div>\n",
       "<table border=\"1\" class=\"dataframe\">\n",
       "  <thead>\n",
       "    <tr style=\"text-align: right;\">\n",
       "      <th></th>\n",
       "      <th>passenger_count</th>\n",
       "      <th>trip_distance</th>\n",
       "      <th>fare_amount</th>\n",
       "      <th>extra</th>\n",
       "      <th>mta_tax</th>\n",
       "      <th>tip_amount</th>\n",
       "      <th>total_amount</th>\n",
       "      <th>tpep_pickup_datetime</th>\n",
       "      <th>tpep_dropoff_datetime</th>\n",
       "    </tr>\n",
       "  </thead>\n",
       "  <tbody>\n",
       "    <tr>\n",
       "      <th>0</th>\n",
       "      <td>2</td>\n",
       "      <td>1.10</td>\n",
       "      <td>7.5</td>\n",
       "      <td>0.5</td>\n",
       "      <td>0.5</td>\n",
       "      <td>0.0</td>\n",
       "      <td>8.8</td>\n",
       "      <td>2016-01-01</td>\n",
       "      <td>2016-01-01</td>\n",
       "    </tr>\n",
       "    <tr>\n",
       "      <th>1</th>\n",
       "      <td>5</td>\n",
       "      <td>4.90</td>\n",
       "      <td>18.0</td>\n",
       "      <td>0.5</td>\n",
       "      <td>0.5</td>\n",
       "      <td>0.0</td>\n",
       "      <td>19.3</td>\n",
       "      <td>2016-01-01</td>\n",
       "      <td>2016-01-01</td>\n",
       "    </tr>\n",
       "    <tr>\n",
       "      <th>2</th>\n",
       "      <td>1</td>\n",
       "      <td>10.54</td>\n",
       "      <td>33.0</td>\n",
       "      <td>0.5</td>\n",
       "      <td>0.5</td>\n",
       "      <td>0.0</td>\n",
       "      <td>34.3</td>\n",
       "      <td>2016-01-01</td>\n",
       "      <td>2016-01-01</td>\n",
       "    </tr>\n",
       "    <tr>\n",
       "      <th>3</th>\n",
       "      <td>1</td>\n",
       "      <td>4.75</td>\n",
       "      <td>16.5</td>\n",
       "      <td>0.0</td>\n",
       "      <td>0.5</td>\n",
       "      <td>0.0</td>\n",
       "      <td>17.3</td>\n",
       "      <td>2016-01-01</td>\n",
       "      <td>2016-01-01</td>\n",
       "    </tr>\n",
       "    <tr>\n",
       "      <th>4</th>\n",
       "      <td>3</td>\n",
       "      <td>1.76</td>\n",
       "      <td>8.0</td>\n",
       "      <td>0.0</td>\n",
       "      <td>0.5</td>\n",
       "      <td>0.0</td>\n",
       "      <td>8.8</td>\n",
       "      <td>2016-01-01</td>\n",
       "      <td>2016-01-01</td>\n",
       "    </tr>\n",
       "  </tbody>\n",
       "</table>\n",
       "</div>"
      ],
      "text/plain": [
       "   passenger_count  trip_distance  fare_amount  extra  mta_tax  tip_amount  \\\n",
       "0                2           1.10          7.5    0.5      0.5         0.0   \n",
       "1                5           4.90         18.0    0.5      0.5         0.0   \n",
       "2                1          10.54         33.0    0.5      0.5         0.0   \n",
       "3                1           4.75         16.5    0.0      0.5         0.0   \n",
       "4                3           1.76          8.0    0.0      0.5         0.0   \n",
       "\n",
       "   total_amount tpep_pickup_datetime tpep_dropoff_datetime  \n",
       "0           8.8           2016-01-01            2016-01-01  \n",
       "1          19.3           2016-01-01            2016-01-01  \n",
       "2          34.3           2016-01-01            2016-01-01  \n",
       "3          17.3           2016-01-01            2016-01-01  \n",
       "4           8.8           2016-01-01            2016-01-01  "
      ]
     },
     "execution_count": 48,
     "metadata": {},
     "output_type": "execute_result"
    }
   ],
   "source": [
    "tlc_df['tpep_pickup_datetime'] = pd.to_datetime(tlc_df['tpep_pickup_datetime'])\n",
    "tlc_df['tpep_dropoff_datetime'] = pd.to_datetime(tlc_df['tpep_dropoff_datetime'])\n",
    "tlc_df.head()"
   ]
  },
  {
   "cell_type": "code",
   "execution_count": 50,
   "metadata": {
    "collapsed": false
   },
   "outputs": [],
   "source": [
    "#CANNOT GET THIS TRIP DURATION TO WORK - MOVING ON FOR NOW\n",
    "#tlc_df['trip_duration'] = pd.Timedelta(tlc_df['tpep_dropoff_datetime_2'] - tlc_df['tpep_pickup_datetime']).seconds / 3600.0\n",
    "#tlc_df['trip_speed'] = tlc_df.trip_distance / tlc_df.trip_duration"
   ]
  },
  {
   "cell_type": "code",
   "execution_count": 58,
   "metadata": {
    "collapsed": false
   },
   "outputs": [
    {
     "name": "stderr",
     "output_type": "stream",
     "text": [
      "/Users/geoffperrin/anaconda2/lib/python2.7/site-packages/ipykernel/__main__.py:2: SettingWithCopyWarning: \n",
      "A value is trying to be set on a copy of a slice from a DataFrame.\n",
      "Try using .loc[row_indexer,col_indexer] = value instead\n",
      "\n",
      "See the caveats in the documentation: http://pandas.pydata.org/pandas-docs/stable/indexing.html#indexing-view-versus-copy\n",
      "  from ipykernel import kernelapp as app\n"
     ]
    },
    {
     "data": {
      "text/html": [
       "<div>\n",
       "<table border=\"1\" class=\"dataframe\">\n",
       "  <thead>\n",
       "    <tr style=\"text-align: right;\">\n",
       "      <th></th>\n",
       "      <th>taxi_date</th>\n",
       "      <th>taxi_trip_count</th>\n",
       "    </tr>\n",
       "  </thead>\n",
       "  <tbody>\n",
       "    <tr>\n",
       "      <th>0</th>\n",
       "      <td>2016-01-01</td>\n",
       "      <td>345037</td>\n",
       "    </tr>\n",
       "    <tr>\n",
       "      <th>1</th>\n",
       "      <td>2016-01-02</td>\n",
       "      <td>312831</td>\n",
       "    </tr>\n",
       "    <tr>\n",
       "      <th>2</th>\n",
       "      <td>2016-01-03</td>\n",
       "      <td>302878</td>\n",
       "    </tr>\n",
       "    <tr>\n",
       "      <th>3</th>\n",
       "      <td>2016-01-04</td>\n",
       "      <td>316171</td>\n",
       "    </tr>\n",
       "    <tr>\n",
       "      <th>4</th>\n",
       "      <td>2016-01-05</td>\n",
       "      <td>343251</td>\n",
       "    </tr>\n",
       "  </tbody>\n",
       "</table>\n",
       "</div>"
      ],
      "text/plain": [
       "    taxi_date  taxi_trip_count\n",
       "0  2016-01-01           345037\n",
       "1  2016-01-02           312831\n",
       "2  2016-01-03           302878\n",
       "3  2016-01-04           316171\n",
       "4  2016-01-05           343251"
      ]
     },
     "execution_count": 58,
     "metadata": {},
     "output_type": "execute_result"
    }
   ],
   "source": [
    "#count the number of taxi trips each day\n",
    "tlc_df['taxi_date'] = tlc_df['tpep_pickup_datetime'].dt.date\n",
    "tlc_df_day_count = tlc_df.groupby(['taxi_date'], as_index=False)['extra'].count()\n",
    "tlc_df_day_count.columns = ['taxi_date', 'taxi_trip_count']\n",
    "tlc_df_day_count.head()"
   ]
  },
  {
   "cell_type": "code",
   "execution_count": 70,
   "metadata": {
    "collapsed": false
   },
   "outputs": [
    {
     "data": {
      "text/html": [
       "<div>\n",
       "<table border=\"1\" class=\"dataframe\">\n",
       "  <thead>\n",
       "    <tr style=\"text-align: right;\">\n",
       "      <th></th>\n",
       "      <th>taxi_date</th>\n",
       "      <th>passenger_count_mean</th>\n",
       "      <th>trip_distance_mean</th>\n",
       "      <th>fare_amount_mean</th>\n",
       "      <th>extra_amount_mean</th>\n",
       "      <th>mta_tax_mean</th>\n",
       "      <th>tip_amount_mean</th>\n",
       "      <th>total_amount_mean</th>\n",
       "    </tr>\n",
       "  </thead>\n",
       "  <tbody>\n",
       "    <tr>\n",
       "      <th>0</th>\n",
       "      <td>2016-01-01</td>\n",
       "      <td>1.792785</td>\n",
       "      <td>3.270908</td>\n",
       "      <td>12.856933</td>\n",
       "      <td>0.269715</td>\n",
       "      <td>0.496751</td>\n",
       "      <td>1.451324</td>\n",
       "      <td>15.640110</td>\n",
       "    </tr>\n",
       "    <tr>\n",
       "      <th>1</th>\n",
       "      <td>2016-01-02</td>\n",
       "      <td>1.776272</td>\n",
       "      <td>3.065510</td>\n",
       "      <td>12.434471</td>\n",
       "      <td>0.197588</td>\n",
       "      <td>0.497473</td>\n",
       "      <td>1.465769</td>\n",
       "      <td>15.189766</td>\n",
       "    </tr>\n",
       "    <tr>\n",
       "      <th>2</th>\n",
       "      <td>2016-01-03</td>\n",
       "      <td>1.737195</td>\n",
       "      <td>3.405868</td>\n",
       "      <td>13.061590</td>\n",
       "      <td>0.199482</td>\n",
       "      <td>0.496981</td>\n",
       "      <td>1.663452</td>\n",
       "      <td>16.098867</td>\n",
       "    </tr>\n",
       "    <tr>\n",
       "      <th>3</th>\n",
       "      <td>2016-01-04</td>\n",
       "      <td>1.647561</td>\n",
       "      <td>30.318864</td>\n",
       "      <td>12.207293</td>\n",
       "      <td>0.373599</td>\n",
       "      <td>0.497722</td>\n",
       "      <td>1.640299</td>\n",
       "      <td>15.366877</td>\n",
       "    </tr>\n",
       "    <tr>\n",
       "      <th>4</th>\n",
       "      <td>2016-01-05</td>\n",
       "      <td>1.634603</td>\n",
       "      <td>7.723013</td>\n",
       "      <td>12.001867</td>\n",
       "      <td>0.355729</td>\n",
       "      <td>0.497956</td>\n",
       "      <td>1.657823</td>\n",
       "      <td>15.094682</td>\n",
       "    </tr>\n",
       "  </tbody>\n",
       "</table>\n",
       "</div>"
      ],
      "text/plain": [
       "    taxi_date  passenger_count_mean  trip_distance_mean  fare_amount_mean  \\\n",
       "0  2016-01-01              1.792785            3.270908         12.856933   \n",
       "1  2016-01-02              1.776272            3.065510         12.434471   \n",
       "2  2016-01-03              1.737195            3.405868         13.061590   \n",
       "3  2016-01-04              1.647561           30.318864         12.207293   \n",
       "4  2016-01-05              1.634603            7.723013         12.001867   \n",
       "\n",
       "   extra_amount_mean  mta_tax_mean  tip_amount_mean  total_amount_mean  \n",
       "0           0.269715      0.496751         1.451324          15.640110  \n",
       "1           0.197588      0.497473         1.465769          15.189766  \n",
       "2           0.199482      0.496981         1.663452          16.098867  \n",
       "3           0.373599      0.497722         1.640299          15.366877  \n",
       "4           0.355729      0.497956         1.657823          15.094682  "
      ]
     },
     "execution_count": 70,
     "metadata": {},
     "output_type": "execute_result"
    }
   ],
   "source": [
    "#take the mean of the taxi stats each day\n",
    "tlc_df_stat_agg = tlc_df.groupby(['taxi_date'], as_index=False).mean()\n",
    "tlc_df_stat_agg.columns = ['taxi_date', 'passenger_count_mean','trip_distance_mean', 'fare_amount_mean',\\\n",
    "                          'extra_amount_mean', 'mta_tax_mean', 'tip_amount_mean', 'total_amount_mean']\n",
    "tlc_df_stat_agg.head()"
   ]
  },
  {
   "cell_type": "code",
   "execution_count": 87,
   "metadata": {
    "collapsed": false
   },
   "outputs": [
    {
     "data": {
      "text/html": [
       "<div>\n",
       "<table border=\"1\" class=\"dataframe\">\n",
       "  <thead>\n",
       "    <tr style=\"text-align: right;\">\n",
       "      <th></th>\n",
       "      <th>taxi_date</th>\n",
       "      <th>passenger_count_mean</th>\n",
       "      <th>trip_distance_mean</th>\n",
       "      <th>fare_amount_mean</th>\n",
       "      <th>extra_amount_mean</th>\n",
       "      <th>mta_tax_mean</th>\n",
       "      <th>tip_amount_mean</th>\n",
       "      <th>total_amount_mean</th>\n",
       "      <th>taxi_trip_count</th>\n",
       "    </tr>\n",
       "  </thead>\n",
       "  <tbody>\n",
       "    <tr>\n",
       "      <th>0</th>\n",
       "      <td>2016-01-01</td>\n",
       "      <td>1.792785</td>\n",
       "      <td>3.270908</td>\n",
       "      <td>12.856933</td>\n",
       "      <td>0.269715</td>\n",
       "      <td>0.496751</td>\n",
       "      <td>1.451324</td>\n",
       "      <td>15.640110</td>\n",
       "      <td>345037</td>\n",
       "    </tr>\n",
       "    <tr>\n",
       "      <th>1</th>\n",
       "      <td>2016-01-02</td>\n",
       "      <td>1.776272</td>\n",
       "      <td>3.065510</td>\n",
       "      <td>12.434471</td>\n",
       "      <td>0.197588</td>\n",
       "      <td>0.497473</td>\n",
       "      <td>1.465769</td>\n",
       "      <td>15.189766</td>\n",
       "      <td>312831</td>\n",
       "    </tr>\n",
       "    <tr>\n",
       "      <th>2</th>\n",
       "      <td>2016-01-03</td>\n",
       "      <td>1.737195</td>\n",
       "      <td>3.405868</td>\n",
       "      <td>13.061590</td>\n",
       "      <td>0.199482</td>\n",
       "      <td>0.496981</td>\n",
       "      <td>1.663452</td>\n",
       "      <td>16.098867</td>\n",
       "      <td>302878</td>\n",
       "    </tr>\n",
       "    <tr>\n",
       "      <th>3</th>\n",
       "      <td>2016-01-04</td>\n",
       "      <td>1.647561</td>\n",
       "      <td>30.318864</td>\n",
       "      <td>12.207293</td>\n",
       "      <td>0.373599</td>\n",
       "      <td>0.497722</td>\n",
       "      <td>1.640299</td>\n",
       "      <td>15.366877</td>\n",
       "      <td>316171</td>\n",
       "    </tr>\n",
       "    <tr>\n",
       "      <th>4</th>\n",
       "      <td>2016-01-05</td>\n",
       "      <td>1.634603</td>\n",
       "      <td>7.723013</td>\n",
       "      <td>12.001867</td>\n",
       "      <td>0.355729</td>\n",
       "      <td>0.497956</td>\n",
       "      <td>1.657823</td>\n",
       "      <td>15.094682</td>\n",
       "      <td>343251</td>\n",
       "    </tr>\n",
       "  </tbody>\n",
       "</table>\n",
       "</div>"
      ],
      "text/plain": [
       "    taxi_date  passenger_count_mean  trip_distance_mean  fare_amount_mean  \\\n",
       "0  2016-01-01              1.792785            3.270908         12.856933   \n",
       "1  2016-01-02              1.776272            3.065510         12.434471   \n",
       "2  2016-01-03              1.737195            3.405868         13.061590   \n",
       "3  2016-01-04              1.647561           30.318864         12.207293   \n",
       "4  2016-01-05              1.634603            7.723013         12.001867   \n",
       "\n",
       "   extra_amount_mean  mta_tax_mean  tip_amount_mean  total_amount_mean  \\\n",
       "0           0.269715      0.496751         1.451324          15.640110   \n",
       "1           0.197588      0.497473         1.465769          15.189766   \n",
       "2           0.199482      0.496981         1.663452          16.098867   \n",
       "3           0.373599      0.497722         1.640299          15.366877   \n",
       "4           0.355729      0.497956         1.657823          15.094682   \n",
       "\n",
       "   taxi_trip_count  \n",
       "0           345037  \n",
       "1           312831  \n",
       "2           302878  \n",
       "3           316171  \n",
       "4           343251  "
      ]
     },
     "execution_count": 87,
     "metadata": {},
     "output_type": "execute_result"
    }
   ],
   "source": [
    "tlc_df_by_day = tlc_df_stat_agg.merge(tlc_df_day_count, on='taxi_date')\n",
    "tlc_df_by_day.head()"
   ]
  },
  {
   "cell_type": "code",
   "execution_count": 72,
   "metadata": {
    "collapsed": false
   },
   "outputs": [
    {
     "data": {
      "text/plain": [
       "<matplotlib.axes._subplots.AxesSubplot at 0x29f421410>"
      ]
     },
     "execution_count": 72,
     "metadata": {},
     "output_type": "execute_result"
    },
    {
     "data": {
      "image/png": "[encoded data removed]",
      "text/plain": [
       "<matplotlib.figure.Figure at 0x29fcd8d90>"
      ]
     },
     "metadata": {},
     "output_type": "display_data"
    }
   ],
   "source": [
    "tlc_df_by_day[['taxi_date', 'taxi_trip_count']].plot()"
   ]
  },
  {
   "cell_type": "code",
   "execution_count": 73,
   "metadata": {
    "collapsed": false
   },
   "outputs": [
    {
     "data": {
      "text/plain": [
       "<matplotlib.axes._subplots.AxesSubplot at 0x105d84d50>"
      ]
     },
     "execution_count": 73,
     "metadata": {},
     "output_type": "execute_result"
    },
    {
     "data": {
      "image/png": "[encoded data removed]",
      "text/plain": [
       "<matplotlib.figure.Figure at 0x29d8f21d0>"
      ]
     },
     "metadata": {},
     "output_type": "display_data"
    }
   ],
   "source": [
    "tlc_df_by_day[['taxi_date', 'passenger_count_mean']].plot()"
   ]
  },
  {
   "cell_type": "code",
   "execution_count": 75,
   "metadata": {
    "collapsed": false
   },
   "outputs": [
    {
     "data": {
      "text/plain": [
       "<matplotlib.axes._subplots.AxesSubplot at 0x29ab4d7d0>"
      ]
     },
     "execution_count": 75,
     "metadata": {},
     "output_type": "execute_result"
    },
    {
     "data": {
      "image/png": "[encoded data removed]",
      "text/plain": [
       "<matplotlib.figure.Figure at 0x29a30ba50>"
      ]
     },
     "metadata": {},
     "output_type": "display_data"
    }
   ],
   "source": [
    "tlc_df_by_day[['taxi_date', 'trip_distance_mean']].plot()"
   ]
  },
  {
   "cell_type": "code",
   "execution_count": 77,
   "metadata": {
    "collapsed": false
   },
   "outputs": [
    {
     "data": {
      "text/plain": [
       "<matplotlib.axes._subplots.AxesSubplot at 0x297fcb210>"
      ]
     },
     "execution_count": 77,
     "metadata": {},
     "output_type": "execute_result"
    },
    {
     "data": {
      "image/png": "[encoded data removed]",
      "text/plain": [
       "<matplotlib.figure.Figure at 0x29f421390>"
      ]
     },
     "metadata": {},
     "output_type": "display_data"
    }
   ],
   "source": [
    "tlc_df_by_day[['taxi_date', 'total_amount_mean']].plot()"
   ]
  },
  {
   "cell_type": "code",
   "execution_count": 80,
   "metadata": {
    "collapsed": false
   },
   "outputs": [
    {
     "data": {
      "text/html": [
       "<div>\n",
       "<table border=\"1\" class=\"dataframe\">\n",
       "  <thead>\n",
       "    <tr style=\"text-align: right;\">\n",
       "      <th></th>\n",
       "      <th>passenger_count_mean</th>\n",
       "      <th>trip_distance_mean</th>\n",
       "      <th>fare_amount_mean</th>\n",
       "      <th>extra_amount_mean</th>\n",
       "      <th>mta_tax_mean</th>\n",
       "      <th>tip_amount_mean</th>\n",
       "      <th>total_amount_mean</th>\n",
       "      <th>taxi_trip_count</th>\n",
       "    </tr>\n",
       "  </thead>\n",
       "  <tbody>\n",
       "    <tr>\n",
       "      <th>0</th>\n",
       "      <td>1.792785</td>\n",
       "      <td>3.270908</td>\n",
       "      <td>12.856933</td>\n",
       "      <td>0.269715</td>\n",
       "      <td>0.496751</td>\n",
       "      <td>1.451324</td>\n",
       "      <td>15.640110</td>\n",
       "      <td>345037</td>\n",
       "    </tr>\n",
       "    <tr>\n",
       "      <th>1</th>\n",
       "      <td>1.776272</td>\n",
       "      <td>3.065510</td>\n",
       "      <td>12.434471</td>\n",
       "      <td>0.197588</td>\n",
       "      <td>0.497473</td>\n",
       "      <td>1.465769</td>\n",
       "      <td>15.189766</td>\n",
       "      <td>312831</td>\n",
       "    </tr>\n",
       "  </tbody>\n",
       "</table>\n",
       "</div>"
      ],
      "text/plain": [
       "   passenger_count_mean  trip_distance_mean  fare_amount_mean  \\\n",
       "0              1.792785            3.270908         12.856933   \n",
       "1              1.776272            3.065510         12.434471   \n",
       "\n",
       "   extra_amount_mean  mta_tax_mean  tip_amount_mean  total_amount_mean  \\\n",
       "0           0.269715      0.496751         1.451324          15.640110   \n",
       "1           0.197588      0.497473         1.465769          15.189766   \n",
       "\n",
       "   taxi_trip_count  \n",
       "0           345037  \n",
       "1           312831  "
      ]
     },
     "execution_count": 80,
     "metadata": {},
     "output_type": "execute_result"
    }
   ],
   "source": [
    "X = tlc_df_by_day.iloc[:,1:]\n",
    "X.head(2)"
   ]
  },
  {
   "cell_type": "code",
   "execution_count": 82,
   "metadata": {
    "collapsed": false
   },
   "outputs": [
    {
     "name": "stdout",
     "output_type": "stream",
     "text": [
      "For n_clusters =2, the average silhouette_score is :0.805717743812\n",
      "For n_clusters =3, the average silhouette_score is :0.598557545137\n",
      "For n_clusters =4, the average silhouette_score is :0.591736299076\n",
      "For n_clusters =5, the average silhouette_score is :0.556385719772\n",
      "For n_clusters =6, the average silhouette_score is :0.522152087557\n",
      "For n_clusters =7, the average silhouette_score is :0.497593538745\n",
      "For n_clusters =8, the average silhouette_score is :0.493311579451\n"
     ]
    }
   ],
   "source": [
    "range_n_clusters = [2, 3, 4, 5, 6, 7, 8]\n",
    "for n_clusters in range_n_clusters:\n",
    "    km = KMeans(n_clusters=n_clusters, random_state=324)\n",
    "    cluster_labels = km.fit_predict(X)\n",
    "    silhouette_avg = silhouette_score(X, cluster_labels)\n",
    "    print(\"For n_clusters ={},\".format(n_clusters)+\" the average silhouette_score is :{}\".format(silhouette_avg))"
   ]
  },
  {
   "cell_type": "code",
   "execution_count": 85,
   "metadata": {
    "collapsed": false
   },
   "outputs": [
    {
     "data": {
      "text/plain": [
       "GaussianMixture(covariance_type='full', init_params='kmeans', max_iter=100,\n",
       "        means_init=None, n_components=2, n_init=1, precisions_init=None,\n",
       "        random_state=324, reg_covar=1e-06, tol=0.001, verbose=0,\n",
       "        verbose_interval=10, warm_start=False, weights_init=None)"
      ]
     },
     "execution_count": 85,
     "metadata": {},
     "output_type": "execute_result"
    }
   ],
   "source": [
    "GM=GaussianMixture(n_components=2, random_state=324)\n",
    "GM.fit(X)"
   ]
  },
  {
   "cell_type": "code",
   "execution_count": 86,
   "metadata": {
    "collapsed": false
   },
   "outputs": [
    {
     "data": {
      "image/png": "[encoded data removed]",
      "text/plain": [
       "<matplotlib.figure.Figure at 0x105d96a90>"
      ]
     },
     "metadata": {},
     "output_type": "display_data"
    }
   ],
   "source": [
    "%matplotlib inline\n",
    "import matplotlib.pylab as plt\n",
    "plt.figure(figsize=(20,4))\n",
    "plt.scatter(range(len(X)),GM.score_samples(X))\n",
    "plt.plot(GM.score_samples(X),\"r--\")\n",
    "plt.show()"
   ]
  },
  {
   "cell_type": "code",
   "execution_count": null,
   "metadata": {
    "collapsed": true
   },
   "outputs": [],
   "source": []
  }
 ],
 "metadata": {
  "anaconda-cloud": {},
  "kernelspec": {
   "display_name": "Python [Root]",
   "language": "python",
   "name": "Python [Root]"
  },
  "language_info": {
   "codemirror_mode": {
    "name": "ipython",
    "version": 2
   },
   "file_extension": ".py",
   "mimetype": "text/x-python",
   "name": "python",
   "nbconvert_exporter": "python",
   "pygments_lexer": "ipython2",
   "version": "2.7.12"
  }
 },
 "nbformat": 4,
 "nbformat_minor": 2
}
