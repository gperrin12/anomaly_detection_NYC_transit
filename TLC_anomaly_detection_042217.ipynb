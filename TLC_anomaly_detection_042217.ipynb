{
 "cells": [
  {
   "cell_type": "markdown",
   "metadata": {},
   "source": [
    "## Anomaly Detection for NYC Taxi & Limousine Data"
   ]
  },
  {
   "cell_type": "code",
   "execution_count": 1,
   "metadata": {
    "collapsed": false
   },
   "outputs": [
    {
     "name": "stdout",
     "output_type": "stream",
     "text": [
      "Populating the interactive namespace from numpy and matplotlib\n"
     ]
    },
    {
     "name": "stderr",
     "output_type": "stream",
     "text": [
      "/Users/geoffperrin/anaconda2/lib/python2.7/site-packages/sklearn/cross_validation.py:44: DeprecationWarning: This module was deprecated in version 0.18 in favor of the model_selection module into which all the refactored classes and functions are moved. Also note that the interface of the new CV iterators are different from that of this module. This module will be removed in 0.20.\n",
      "  \"This module will be removed in 0.20.\", DeprecationWarning)\n",
      "WARNING: pylab import has clobbered these variables: ['compress', 'datetime']\n",
      "`%matplotlib` prevents importing * from pylab and numpy\n"
     ]
    }
   ],
   "source": [
    "import numpy as np\n",
    "import pandas as pd\n",
    "import geopandas as gp\n",
    "from geopandas import GeoDataFrame\n",
    "import os\n",
    "import subprocess\n",
    "from shapely.geometry import Point\n",
    "from datetime import datetime\n",
    "import matplotlib\n",
    "matplotlib.use('TkAgg')\n",
    "import matplotlib.pyplot as plt\n",
    "from datetime import datetime\n",
    "import matplotlib.pyplot as plt\n",
    "import sklearn\n",
    "from sklearn import datasets\n",
    "from sklearn.decomposition import PCA\n",
    "from sklearn.linear_model import LogisticRegression\n",
    "from sklearn.ensemble import RandomForestClassifier as RFC\n",
    "from sklearn.ensemble import RandomForestRegressor as RFR\n",
    "from sklearn.model_selection import GridSearchCV\n",
    "from sklearn.metrics import roc_auc_score as rs\n",
    "from sklearn import svm, datasets\n",
    "from sklearn import metrics\n",
    "from sklearn.metrics import roc_curve\n",
    "from sklearn.metrics import auc\n",
    "from sklearn.metrics import silhouette_samples, silhouette_score\n",
    "from sklearn.cluster import KMeans\n",
    "from sklearn.mixture import GaussianMixture\n",
    "from sklearn.cross_validation import train_test_split\n",
    "from sklearn.ensemble import IsolationForest\n",
    "\n",
    "from itertools import compress\n",
    "\n",
    "np.random.seed(222)\n",
    "\n",
    "%matplotlib inline\n",
    "%pylab inline\n",
    "pd.options.display.max_columns = 120\n",
    "pd.options.display.max_rows = 120"
   ]
  },
  {
   "cell_type": "code",
   "execution_count": 2,
   "metadata": {
    "collapsed": false
   },
   "outputs": [],
   "source": [
    "proj_folder = os.getcwd()"
   ]
  },
  {
   "cell_type": "markdown",
   "metadata": {},
   "source": [
    "## TLC anomaly detection"
   ]
  },
  {
   "cell_type": "markdown",
   "metadata": {},
   "source": [
    "## Notes 4-22-17\n",
    "Next steps:\n",
    "1. would love to look at different areas of the city and see where the anomalies relative to those places\n",
    "i.e. taxi trips to/from coney island would be interesting / or around MSG - \"concert superstorm?\"\n",
    "\n",
    "## Notes 4-26-17\n",
    "Next steps:\n",
    "1. add day of week analysis \n",
    "2. add more months of data"
   ]
  },
  {
   "cell_type": "code",
   "execution_count": 3,
   "metadata": {
    "collapsed": false
   },
   "outputs": [
    {
     "name": "stdout",
     "output_type": "stream",
     "text": [
      "1\n",
      "2\n",
      "3\n",
      "4\n",
      "5\n",
      "6\n"
     ]
    },
    {
     "data": {
      "text/plain": [
       "\"\\nfor i in range(10,13):\\n    print i\\n    tlc_df_raw = pd.read_csv(proj_folder + '/data/tlc_yellow_2016_' + str(i) + '.csv', usecols=['passenger_count',                     'trip_distance', 'fare_amount', 'extra', 'mta_tax', 'tip_amount', 'total_amount',                      'tpep_pickup_datetime', 'tpep_dropoff_datetime', 'pickup_longitude', 'pickup_latitude'])\\n    tlc_df_raw_total = tlc_df_raw_total.append(tlc_df_raw, ignore_index=True)\\n\""
      ]
     },
     "execution_count": 3,
     "metadata": {},
     "output_type": "execute_result"
    }
   ],
   "source": [
    "### read in data for 2016\n",
    "'''\n",
    "taken from\n",
    "http://www.nyc.gov/html/tlc/html/about/trip_record_data.shtml\n",
    "NOTE: after june 2016, the data no longer has lat / lons, only has neighborhoods\n",
    "'''\n",
    "\n",
    "columns = ['passenger_count', 'trip_distance', 'fare_amount', \\\n",
    "                     'extra', 'mta_tax', 'tip_amount', 'total_amount', \\\n",
    "                     'tpep_pickup_datetime', 'tpep_dropoff_datetime', 'pickup_longitude',\\\n",
    "                     'pickup_latitude']\n",
    "tlc_df_raw_total = pd.DataFrame(columns = columns)\n",
    "for i in range(1,7):\n",
    "    print i\n",
    "    tlc_df_raw = pd.read_csv(proj_folder + '/data/tlc_yellow_2016_0' + str(i) + '.csv', usecols=['passenger_count', \\\n",
    "                    'trip_distance', 'fare_amount', 'extra', 'mta_tax', 'tip_amount', 'total_amount', \\\n",
    "                     'tpep_pickup_datetime', 'tpep_dropoff_datetime', 'pickup_longitude', 'pickup_latitude'])\n",
    "    tlc_df_raw_total = tlc_df_raw_total.append(tlc_df_raw, ignore_index=True)\n",
    "'''\n",
    "for i in range(10,13):\n",
    "    print i\n",
    "    tlc_df_raw = pd.read_csv(proj_folder + '/data/tlc_yellow_2016_' + str(i) + '.csv', usecols=['passenger_count', \\\n",
    "                    'trip_distance', 'fare_amount', 'extra', 'mta_tax', 'tip_amount', 'total_amount', \\\n",
    "                     'tpep_pickup_datetime', 'tpep_dropoff_datetime', 'pickup_longitude', 'pickup_latitude'])\n",
    "    tlc_df_raw_total = tlc_df_raw_total.append(tlc_df_raw, ignore_index=True)\n",
    "'''"
   ]
  },
  {
   "cell_type": "code",
   "execution_count": 4,
   "metadata": {
    "collapsed": false
   },
   "outputs": [
    {
     "data": {
      "text/plain": [
       "69406520"
      ]
     },
     "execution_count": 4,
     "metadata": {},
     "output_type": "execute_result"
    }
   ],
   "source": [
    "len(tlc_df_raw_total)"
   ]
  },
  {
   "cell_type": "code",
   "execution_count": 5,
   "metadata": {
    "collapsed": false
   },
   "outputs": [
    {
     "data": {
      "text/html": [
       "<div>\n",
       "<table border=\"1\" class=\"dataframe\">\n",
       "  <thead>\n",
       "    <tr style=\"text-align: right;\">\n",
       "      <th></th>\n",
       "      <th>extra</th>\n",
       "      <th>fare_amount</th>\n",
       "      <th>mta_tax</th>\n",
       "      <th>passenger_count</th>\n",
       "      <th>pickup_latitude</th>\n",
       "      <th>pickup_longitude</th>\n",
       "      <th>tip_amount</th>\n",
       "      <th>total_amount</th>\n",
       "      <th>tpep_dropoff_datetime</th>\n",
       "      <th>tpep_pickup_datetime</th>\n",
       "      <th>trip_distance</th>\n",
       "    </tr>\n",
       "  </thead>\n",
       "  <tbody>\n",
       "    <tr>\n",
       "      <th>0</th>\n",
       "      <td>0.5</td>\n",
       "      <td>7.5</td>\n",
       "      <td>0.5</td>\n",
       "      <td>2.0</td>\n",
       "      <td>40.734695</td>\n",
       "      <td>-73.990372</td>\n",
       "      <td>0.0</td>\n",
       "      <td>8.8</td>\n",
       "      <td>2016-01-01</td>\n",
       "      <td>2016-01-01</td>\n",
       "      <td>1.10</td>\n",
       "    </tr>\n",
       "    <tr>\n",
       "      <th>1</th>\n",
       "      <td>0.5</td>\n",
       "      <td>18.0</td>\n",
       "      <td>0.5</td>\n",
       "      <td>5.0</td>\n",
       "      <td>40.729912</td>\n",
       "      <td>-73.980782</td>\n",
       "      <td>0.0</td>\n",
       "      <td>19.3</td>\n",
       "      <td>2016-01-01</td>\n",
       "      <td>2016-01-01</td>\n",
       "      <td>4.90</td>\n",
       "    </tr>\n",
       "    <tr>\n",
       "      <th>2</th>\n",
       "      <td>0.5</td>\n",
       "      <td>33.0</td>\n",
       "      <td>0.5</td>\n",
       "      <td>1.0</td>\n",
       "      <td>40.679565</td>\n",
       "      <td>-73.984550</td>\n",
       "      <td>0.0</td>\n",
       "      <td>34.3</td>\n",
       "      <td>2016-01-01</td>\n",
       "      <td>2016-01-01</td>\n",
       "      <td>10.54</td>\n",
       "    </tr>\n",
       "    <tr>\n",
       "      <th>3</th>\n",
       "      <td>0.0</td>\n",
       "      <td>16.5</td>\n",
       "      <td>0.5</td>\n",
       "      <td>1.0</td>\n",
       "      <td>40.718990</td>\n",
       "      <td>-73.993469</td>\n",
       "      <td>0.0</td>\n",
       "      <td>17.3</td>\n",
       "      <td>2016-01-01</td>\n",
       "      <td>2016-01-01</td>\n",
       "      <td>4.75</td>\n",
       "    </tr>\n",
       "    <tr>\n",
       "      <th>4</th>\n",
       "      <td>0.0</td>\n",
       "      <td>8.0</td>\n",
       "      <td>0.5</td>\n",
       "      <td>3.0</td>\n",
       "      <td>40.781330</td>\n",
       "      <td>-73.960625</td>\n",
       "      <td>0.0</td>\n",
       "      <td>8.8</td>\n",
       "      <td>2016-01-01</td>\n",
       "      <td>2016-01-01</td>\n",
       "      <td>1.76</td>\n",
       "    </tr>\n",
       "  </tbody>\n",
       "</table>\n",
       "</div>"
      ],
      "text/plain": [
       "   extra  fare_amount  mta_tax  passenger_count  pickup_latitude  \\\n",
       "0    0.5          7.5      0.5              2.0        40.734695   \n",
       "1    0.5         18.0      0.5              5.0        40.729912   \n",
       "2    0.5         33.0      0.5              1.0        40.679565   \n",
       "3    0.0         16.5      0.5              1.0        40.718990   \n",
       "4    0.0          8.0      0.5              3.0        40.781330   \n",
       "\n",
       "   pickup_longitude  tip_amount  total_amount tpep_dropoff_datetime  \\\n",
       "0        -73.990372         0.0           8.8            2016-01-01   \n",
       "1        -73.980782         0.0          19.3            2016-01-01   \n",
       "2        -73.984550         0.0          34.3            2016-01-01   \n",
       "3        -73.993469         0.0          17.3            2016-01-01   \n",
       "4        -73.960625         0.0           8.8            2016-01-01   \n",
       "\n",
       "  tpep_pickup_datetime  trip_distance  \n",
       "0           2016-01-01           1.10  \n",
       "1           2016-01-01           4.90  \n",
       "2           2016-01-01          10.54  \n",
       "3           2016-01-01           4.75  \n",
       "4           2016-01-01           1.76  "
      ]
     },
     "execution_count": 5,
     "metadata": {},
     "output_type": "execute_result"
    }
   ],
   "source": [
    "tlc_df_raw_total['tpep_pickup_datetime'] = pd.to_datetime(tlc_df_raw_total['tpep_pickup_datetime'])\n",
    "tlc_df_raw_total['tpep_dropoff_datetime'] = pd.to_datetime(tlc_df_raw_total['tpep_dropoff_datetime'])\n",
    "tlc_df_raw_total.head()"
   ]
  },
  {
   "cell_type": "code",
   "execution_count": 6,
   "metadata": {
    "collapsed": false
   },
   "outputs": [],
   "source": [
    "#CANNOT GET THIS TRIP DURATION TO WORK - MOVING ON FOR NOW\n",
    "#tlc_df['trip_duration'] = pd.Timedelta(tlc_df['tpep_dropoff_datetime_2'] - tlc_df['tpep_pickup_datetime']).seconds / 3600.0\n",
    "#tlc_df['trip_speed'] = tlc_df.trip_distance / tlc_df.trip_duration"
   ]
  },
  {
   "cell_type": "markdown",
   "metadata": {},
   "source": [
    "## Clean the data - \n",
    "drop all the unreasonable trip entries, such as those that have trip distance in the millions of miles"
   ]
  },
  {
   "cell_type": "code",
   "execution_count": 7,
   "metadata": {
    "collapsed": false,
    "scrolled": true
   },
   "outputs": [],
   "source": [
    "#tlc_df_raw_total.sort(['trip_distance'], ascending=False).head()"
   ]
  },
  {
   "cell_type": "code",
   "execution_count": 8,
   "metadata": {
    "collapsed": false
   },
   "outputs": [],
   "source": [
    "#tlc_df_raw_total.sort(['total_amount'], ascending=False).head()"
   ]
  },
  {
   "cell_type": "code",
   "execution_count": 9,
   "metadata": {
    "collapsed": false
   },
   "outputs": [],
   "source": [
    "#tlc_df_raw_total.sort(['tip_amount'], ascending=False).head()"
   ]
  },
  {
   "cell_type": "code",
   "execution_count": 10,
   "metadata": {
    "collapsed": false
   },
   "outputs": [],
   "source": [
    "#only keep trips that have a positive distance less than 100 miles\n",
    "tlc_df_total = tlc_df_raw_total[(tlc_df_raw_total.trip_distance > 0) & (tlc_df_raw_total.trip_distance < 100)]\n",
    "\n",
    "#only keep trips that have a positive fare amount less than $500\n",
    "tlc_df_total = tlc_df_total[(tlc_df_total.fare_amount > 0) & (tlc_df_total.fare_amount < 500)]"
   ]
  },
  {
   "cell_type": "code",
   "execution_count": 11,
   "metadata": {
    "collapsed": false
   },
   "outputs": [
    {
     "data": {
      "text/plain": [
       "0.9933886038372187"
      ]
     },
     "execution_count": 11,
     "metadata": {},
     "output_type": "execute_result"
    }
   ],
   "source": [
    "len(tlc_df_total) * 1.0 / len(tlc_df_raw_total)"
   ]
  },
  {
   "cell_type": "code",
   "execution_count": 12,
   "metadata": {
    "collapsed": false
   },
   "outputs": [],
   "source": [
    "#count the number of taxi trips each day\n",
    "tlc_df_total['taxi_date'] = tlc_df_total['tpep_pickup_datetime'].dt.date\n",
    "tlc_df_day_count = tlc_df_total.groupby(['taxi_date'], as_index=False)['extra'].count()\n",
    "tlc_df_day_count.columns = ['taxi_date', 'taxi_trip_count']"
   ]
  },
  {
   "cell_type": "code",
   "execution_count": 13,
   "metadata": {
    "collapsed": false
   },
   "outputs": [
    {
     "data": {
      "text/html": [
       "<div>\n",
       "<table border=\"1\" class=\"dataframe\">\n",
       "  <thead>\n",
       "    <tr style=\"text-align: right;\">\n",
       "      <th></th>\n",
       "      <th>taxi_date</th>\n",
       "      <th>extra</th>\n",
       "      <th>fare_amount</th>\n",
       "      <th>mta_tax</th>\n",
       "      <th>passenger_count</th>\n",
       "      <th>pickup_latitude</th>\n",
       "      <th>pickup_longitude</th>\n",
       "      <th>tip_amount</th>\n",
       "      <th>total_amount</th>\n",
       "      <th>trip_distance</th>\n",
       "    </tr>\n",
       "  </thead>\n",
       "  <tbody>\n",
       "    <tr>\n",
       "      <th>0</th>\n",
       "      <td>2016-01-01</td>\n",
       "      <td>0.270617</td>\n",
       "      <td>12.795289</td>\n",
       "      <td>0.498092</td>\n",
       "      <td>1.795093</td>\n",
       "      <td>40.177206</td>\n",
       "      <td>-72.933026</td>\n",
       "      <td>1.441512</td>\n",
       "      <td>15.569496</td>\n",
       "      <td>3.292646</td>\n",
       "    </tr>\n",
       "    <tr>\n",
       "      <th>1</th>\n",
       "      <td>2016-01-02</td>\n",
       "      <td>0.198105</td>\n",
       "      <td>12.392116</td>\n",
       "      <td>0.498403</td>\n",
       "      <td>1.777977</td>\n",
       "      <td>40.093708</td>\n",
       "      <td>-72.781330</td>\n",
       "      <td>1.459314</td>\n",
       "      <td>15.139841</td>\n",
       "      <td>3.082059</td>\n",
       "    </tr>\n",
       "    <tr>\n",
       "      <th>2</th>\n",
       "      <td>2016-01-03</td>\n",
       "      <td>0.200098</td>\n",
       "      <td>12.997669</td>\n",
       "      <td>0.498177</td>\n",
       "      <td>1.739239</td>\n",
       "      <td>40.135610</td>\n",
       "      <td>-72.855615</td>\n",
       "      <td>1.650988</td>\n",
       "      <td>16.022176</td>\n",
       "      <td>3.425719</td>\n",
       "    </tr>\n",
       "    <tr>\n",
       "      <th>3</th>\n",
       "      <td>2016-01-04</td>\n",
       "      <td>0.374877</td>\n",
       "      <td>12.159065</td>\n",
       "      <td>0.498728</td>\n",
       "      <td>1.649450</td>\n",
       "      <td>40.075239</td>\n",
       "      <td>-72.740969</td>\n",
       "      <td>1.634711</td>\n",
       "      <td>15.314045</td>\n",
       "      <td>3.031284</td>\n",
       "    </tr>\n",
       "    <tr>\n",
       "      <th>4</th>\n",
       "      <td>2016-01-05</td>\n",
       "      <td>0.356747</td>\n",
       "      <td>11.954732</td>\n",
       "      <td>0.498906</td>\n",
       "      <td>1.635951</td>\n",
       "      <td>40.023580</td>\n",
       "      <td>-72.647829</td>\n",
       "      <td>1.649986</td>\n",
       "      <td>15.040607</td>\n",
       "      <td>2.830233</td>\n",
       "    </tr>\n",
       "  </tbody>\n",
       "</table>\n",
       "</div>"
      ],
      "text/plain": [
       "    taxi_date     extra  fare_amount   mta_tax  passenger_count  \\\n",
       "0  2016-01-01  0.270617    12.795289  0.498092         1.795093   \n",
       "1  2016-01-02  0.198105    12.392116  0.498403         1.777977   \n",
       "2  2016-01-03  0.200098    12.997669  0.498177         1.739239   \n",
       "3  2016-01-04  0.374877    12.159065  0.498728         1.649450   \n",
       "4  2016-01-05  0.356747    11.954732  0.498906         1.635951   \n",
       "\n",
       "   pickup_latitude  pickup_longitude  tip_amount  total_amount  trip_distance  \n",
       "0        40.177206        -72.933026    1.441512     15.569496       3.292646  \n",
       "1        40.093708        -72.781330    1.459314     15.139841       3.082059  \n",
       "2        40.135610        -72.855615    1.650988     16.022176       3.425719  \n",
       "3        40.075239        -72.740969    1.634711     15.314045       3.031284  \n",
       "4        40.023580        -72.647829    1.649986     15.040607       2.830233  "
      ]
     },
     "execution_count": 13,
     "metadata": {},
     "output_type": "execute_result"
    }
   ],
   "source": [
    "#take the mean of the taxi stats each day\n",
    "tlc_df_stat_agg = tlc_df_total.groupby(['taxi_date'], as_index=False).mean()\n",
    "tlc_df_stat_agg.head()"
   ]
  },
  {
   "cell_type": "code",
   "execution_count": 14,
   "metadata": {
    "collapsed": false
   },
   "outputs": [
    {
     "data": {
      "text/html": [
       "<div>\n",
       "<table border=\"1\" class=\"dataframe\">\n",
       "  <thead>\n",
       "    <tr style=\"text-align: right;\">\n",
       "      <th></th>\n",
       "      <th>taxi_date</th>\n",
       "      <th>extra</th>\n",
       "      <th>fare_amount</th>\n",
       "      <th>mta_tax</th>\n",
       "      <th>passenger_count</th>\n",
       "      <th>pickup_latitude</th>\n",
       "      <th>pickup_longitude</th>\n",
       "      <th>tip_amount</th>\n",
       "      <th>total_amount</th>\n",
       "      <th>trip_distance</th>\n",
       "      <th>taxi_trip_count</th>\n",
       "    </tr>\n",
       "  </thead>\n",
       "  <tbody>\n",
       "    <tr>\n",
       "      <th>0</th>\n",
       "      <td>2016-01-01</td>\n",
       "      <td>0.270617</td>\n",
       "      <td>12.795289</td>\n",
       "      <td>0.498092</td>\n",
       "      <td>1.795093</td>\n",
       "      <td>40.177206</td>\n",
       "      <td>-72.933026</td>\n",
       "      <td>1.441512</td>\n",
       "      <td>15.569496</td>\n",
       "      <td>3.292646</td>\n",
       "      <td>342467</td>\n",
       "    </tr>\n",
       "    <tr>\n",
       "      <th>1</th>\n",
       "      <td>2016-01-02</td>\n",
       "      <td>0.198105</td>\n",
       "      <td>12.392116</td>\n",
       "      <td>0.498403</td>\n",
       "      <td>1.777977</td>\n",
       "      <td>40.093708</td>\n",
       "      <td>-72.781330</td>\n",
       "      <td>1.459314</td>\n",
       "      <td>15.139841</td>\n",
       "      <td>3.082059</td>\n",
       "      <td>310850</td>\n",
       "    </tr>\n",
       "    <tr>\n",
       "      <th>2</th>\n",
       "      <td>2016-01-03</td>\n",
       "      <td>0.200098</td>\n",
       "      <td>12.997669</td>\n",
       "      <td>0.498177</td>\n",
       "      <td>1.739239</td>\n",
       "      <td>40.135610</td>\n",
       "      <td>-72.855615</td>\n",
       "      <td>1.650988</td>\n",
       "      <td>16.022176</td>\n",
       "      <td>3.425719</td>\n",
       "      <td>300678</td>\n",
       "    </tr>\n",
       "    <tr>\n",
       "      <th>3</th>\n",
       "      <td>2016-01-04</td>\n",
       "      <td>0.374877</td>\n",
       "      <td>12.159065</td>\n",
       "      <td>0.498728</td>\n",
       "      <td>1.649450</td>\n",
       "      <td>40.075239</td>\n",
       "      <td>-72.740969</td>\n",
       "      <td>1.634711</td>\n",
       "      <td>15.314045</td>\n",
       "      <td>3.031284</td>\n",
       "      <td>314058</td>\n",
       "    </tr>\n",
       "    <tr>\n",
       "      <th>4</th>\n",
       "      <td>2016-01-05</td>\n",
       "      <td>0.356747</td>\n",
       "      <td>11.954732</td>\n",
       "      <td>0.498906</td>\n",
       "      <td>1.635951</td>\n",
       "      <td>40.023580</td>\n",
       "      <td>-72.647829</td>\n",
       "      <td>1.649986</td>\n",
       "      <td>15.040607</td>\n",
       "      <td>2.830233</td>\n",
       "      <td>341089</td>\n",
       "    </tr>\n",
       "  </tbody>\n",
       "</table>\n",
       "</div>"
      ],
      "text/plain": [
       "    taxi_date     extra  fare_amount   mta_tax  passenger_count  \\\n",
       "0  2016-01-01  0.270617    12.795289  0.498092         1.795093   \n",
       "1  2016-01-02  0.198105    12.392116  0.498403         1.777977   \n",
       "2  2016-01-03  0.200098    12.997669  0.498177         1.739239   \n",
       "3  2016-01-04  0.374877    12.159065  0.498728         1.649450   \n",
       "4  2016-01-05  0.356747    11.954732  0.498906         1.635951   \n",
       "\n",
       "   pickup_latitude  pickup_longitude  tip_amount  total_amount  trip_distance  \\\n",
       "0        40.177206        -72.933026    1.441512     15.569496       3.292646   \n",
       "1        40.093708        -72.781330    1.459314     15.139841       3.082059   \n",
       "2        40.135610        -72.855615    1.650988     16.022176       3.425719   \n",
       "3        40.075239        -72.740969    1.634711     15.314045       3.031284   \n",
       "4        40.023580        -72.647829    1.649986     15.040607       2.830233   \n",
       "\n",
       "   taxi_trip_count  \n",
       "0           342467  \n",
       "1           310850  \n",
       "2           300678  \n",
       "3           314058  \n",
       "4           341089  "
      ]
     },
     "execution_count": 14,
     "metadata": {},
     "output_type": "execute_result"
    }
   ],
   "source": [
    "tlc_df_by_day = tlc_df_stat_agg.merge(tlc_df_day_count, on='taxi_date')\n",
    "tlc_df_by_day.head()"
   ]
  },
  {
   "cell_type": "code",
   "execution_count": 15,
   "metadata": {
    "collapsed": false
   },
   "outputs": [
    {
     "name": "stderr",
     "output_type": "stream",
     "text": [
      "/Users/geoffperrin/anaconda2/lib/python2.7/site-packages/pandas/core/indexing.py:141: SettingWithCopyWarning: \n",
      "A value is trying to be set on a copy of a slice from a DataFrame\n",
      "\n",
      "See the caveats in the documentation: http://pandas.pydata.org/pandas-docs/stable/indexing.html#indexing-view-versus-copy\n",
      "  self._setitem_with_indexer(indexer, value)\n"
     ]
    }
   ],
   "source": [
    "tlc_df_by_day['weekday'] = 0\n",
    "for i in range(len(tlc_df_by_day)):\n",
    "    tlc_df_by_day['weekday'].iloc[i] = tlc_df_by_day.taxi_date.iloc[i].weekday()"
   ]
  },
  {
   "cell_type": "code",
   "execution_count": 16,
   "metadata": {
    "collapsed": false
   },
   "outputs": [
    {
     "data": {
      "text/plain": [
       "<matplotlib.axes._subplots.AxesSubplot at 0x18cab7710>"
      ]
     },
     "execution_count": 16,
     "metadata": {},
     "output_type": "execute_result"
    },
    {
     "data": {
      "image/png": "[encoded data removed]",
      "text/plain": [
       "<matplotlib.figure.Figure at 0x104fab6d0>"
      ]
     },
     "metadata": {},
     "output_type": "display_data"
    }
   ],
   "source": [
    "tlc_df_by_day[['taxi_date', 'taxi_trip_count']].plot()"
   ]
  },
  {
   "cell_type": "code",
   "execution_count": 17,
   "metadata": {
    "collapsed": false
   },
   "outputs": [
    {
     "data": {
      "text/plain": [
       "<matplotlib.axes._subplots.AxesSubplot at 0x19123d090>"
      ]
     },
     "execution_count": 17,
     "metadata": {},
     "output_type": "execute_result"
    },
    {
     "data": {
      "image/png": "[encoded data removed]",
      "text/plain": [
       "<matplotlib.figure.Figure at 0x196df2d10>"
      ]
     },
     "metadata": {},
     "output_type": "display_data"
    }
   ],
   "source": [
    "tlc_df_by_day_agg = tlc_df_by_day.groupby(['weekday'], as_index=False).sum()\n",
    "tlc_df_by_day_agg[['taxi_trip_count']].plot()"
   ]
  },
  {
   "cell_type": "code",
   "execution_count": 18,
   "metadata": {
    "collapsed": false
   },
   "outputs": [
    {
     "data": {
      "text/plain": [
       "<matplotlib.axes._subplots.AxesSubplot at 0x12ae6ad50>"
      ]
     },
     "execution_count": 18,
     "metadata": {},
     "output_type": "execute_result"
    },
    {
     "data": {
      "image/png": "[encoded data removed]",
      "text/plain": [
       "<matplotlib.figure.Figure at 0x12e5602d0>"
      ]
     },
     "metadata": {},
     "output_type": "display_data"
    }
   ],
   "source": [
    "tlc_df_by_day[['taxi_date', 'passenger_count']].plot()"
   ]
  },
  {
   "cell_type": "code",
   "execution_count": 19,
   "metadata": {
    "collapsed": false
   },
   "outputs": [
    {
     "data": {
      "text/plain": [
       "<matplotlib.axes._subplots.AxesSubplot at 0x15803b8d0>"
      ]
     },
     "execution_count": 19,
     "metadata": {},
     "output_type": "execute_result"
    },
    {
     "data": {
      "image/png": "[encoded data removed]",
      "text/plain": [
       "<matplotlib.figure.Figure at 0x1595df590>"
      ]
     },
     "metadata": {},
     "output_type": "display_data"
    }
   ],
   "source": [
    "tlc_df_by_day[['taxi_date', 'trip_distance']].plot()"
   ]
  },
  {
   "cell_type": "code",
   "execution_count": 20,
   "metadata": {
    "collapsed": false
   },
   "outputs": [
    {
     "data": {
      "text/plain": [
       "<matplotlib.axes._subplots.AxesSubplot at 0x15e284650>"
      ]
     },
     "execution_count": 20,
     "metadata": {},
     "output_type": "execute_result"
    },
    {
     "data": {
      "image/png": "[encoded data removed]",
      "text/plain": [
       "<matplotlib.figure.Figure at 0x16add34d0>"
      ]
     },
     "metadata": {},
     "output_type": "display_data"
    }
   ],
   "source": [
    "tlc_df_by_day[['taxi_date', 'total_amount']].plot()"
   ]
  },
  {
   "cell_type": "code",
   "execution_count": 21,
   "metadata": {
    "collapsed": false
   },
   "outputs": [
    {
     "data": {
      "text/html": [
       "<div>\n",
       "<table border=\"1\" class=\"dataframe\">\n",
       "  <thead>\n",
       "    <tr style=\"text-align: right;\">\n",
       "      <th></th>\n",
       "      <th>passenger_count</th>\n",
       "      <th>trip_distance</th>\n",
       "      <th>total_amount</th>\n",
       "      <th>taxi_trip_count</th>\n",
       "    </tr>\n",
       "  </thead>\n",
       "  <tbody>\n",
       "    <tr>\n",
       "      <th>0</th>\n",
       "      <td>1.795093</td>\n",
       "      <td>3.292646</td>\n",
       "      <td>15.569496</td>\n",
       "      <td>342467</td>\n",
       "    </tr>\n",
       "    <tr>\n",
       "      <th>1</th>\n",
       "      <td>1.777977</td>\n",
       "      <td>3.082059</td>\n",
       "      <td>15.139841</td>\n",
       "      <td>310850</td>\n",
       "    </tr>\n",
       "  </tbody>\n",
       "</table>\n",
       "</div>"
      ],
      "text/plain": [
       "   passenger_count  trip_distance  total_amount  taxi_trip_count\n",
       "0         1.795093       3.292646     15.569496           342467\n",
       "1         1.777977       3.082059     15.139841           310850"
      ]
     },
     "execution_count": 21,
     "metadata": {},
     "output_type": "execute_result"
    }
   ],
   "source": [
    "X = tlc_df_by_day[['passenger_count', 'trip_distance' ,'total_amount', 'taxi_trip_count']]\n",
    "X.head(2)"
   ]
  },
  {
   "cell_type": "markdown",
   "metadata": {},
   "source": [
    "## Clustering Anomaly Detection"
   ]
  },
  {
   "cell_type": "markdown",
   "metadata": {},
   "source": [
    "### Gaussian Mixture Model Anomaly Detection"
   ]
  },
  {
   "cell_type": "code",
   "execution_count": 22,
   "metadata": {
    "collapsed": false
   },
   "outputs": [
    {
     "name": "stdout",
     "output_type": "stream",
     "text": [
      "For n_clusters =2, the average silhouette_score is :0.544207992527\n",
      "For n_clusters =3, the average silhouette_score is :0.550538266279\n",
      "For n_clusters =4, the average silhouette_score is :0.543537511976\n",
      "For n_clusters =5, the average silhouette_score is :0.558885807843\n",
      "For n_clusters =6, the average silhouette_score is :0.560226490581\n",
      "For n_clusters =7, the average silhouette_score is :0.550931472344\n",
      "For n_clusters =8, the average silhouette_score is :0.545324387618\n"
     ]
    }
   ],
   "source": [
    "range_n_clusters = [2, 3, 4, 5, 6, 7, 8]\n",
    "for n_clusters in range_n_clusters:\n",
    "    km = KMeans(n_clusters=n_clusters, random_state=324)\n",
    "    cluster_labels = km.fit_predict(X)\n",
    "    silhouette_avg = silhouette_score(X, cluster_labels)\n",
    "    print(\"For n_clusters ={},\".format(n_clusters)+\" the average silhouette_score is :{}\".format(silhouette_avg))"
   ]
  },
  {
   "cell_type": "code",
   "execution_count": 23,
   "metadata": {
    "collapsed": false
   },
   "outputs": [
    {
     "data": {
      "text/plain": [
       "GaussianMixture(covariance_type='full', init_params='kmeans', max_iter=100,\n",
       "        means_init=None, n_components=2, n_init=1, precisions_init=None,\n",
       "        random_state=324, reg_covar=1e-06, tol=0.001, verbose=0,\n",
       "        verbose_interval=10, warm_start=False, weights_init=None)"
      ]
     },
     "execution_count": 23,
     "metadata": {},
     "output_type": "execute_result"
    }
   ],
   "source": [
    "GM=GaussianMixture(n_components=2, random_state=324)\n",
    "GM.fit(X)"
   ]
  },
  {
   "cell_type": "code",
   "execution_count": 24,
   "metadata": {
    "collapsed": false
   },
   "outputs": [
    {
     "data": {
      "image/png": "[encoded data removed]",
      "text/plain": [
       "<matplotlib.figure.Figure at 0x1595df710>"
      ]
     },
     "metadata": {},
     "output_type": "display_data"
    }
   ],
   "source": [
    "%matplotlib inline\n",
    "import matplotlib.pylab as plt\n",
    "plt.figure(figsize=(20,4))\n",
    "plt.scatter(range(len(X)),GM.score_samples(X))\n",
    "plt.plot(GM.score_samples(X),\"r--\")\n",
    "plt.show()"
   ]
  },
  {
   "cell_type": "markdown",
   "metadata": {},
   "source": [
    "## Isolation Anomaly Detection"
   ]
  },
  {
   "cell_type": "markdown",
   "metadata": {},
   "source": [
    "### Isolation Forest Anomaly Detection"
   ]
  },
  {
   "cell_type": "code",
   "execution_count": 25,
   "metadata": {
    "collapsed": false
   },
   "outputs": [],
   "source": [
    "train,test=train_test_split(X, random_state=999, test_size=0.3)\n",
    "# fit the model\n",
    "clf = IsolationForest(max_samples=100, random_state=999)\n",
    "clf.fit(train)\n",
    "y_pred = clf.predict(X)"
   ]
  },
  {
   "cell_type": "code",
   "execution_count": 26,
   "metadata": {
    "collapsed": true
   },
   "outputs": [],
   "source": [
    "tlc_df_by_day['decision_function'] = clf.decision_function(X)"
   ]
  },
  {
   "cell_type": "code",
   "execution_count": 27,
   "metadata": {
    "collapsed": false
   },
   "outputs": [
    {
     "data": {
      "text/html": [
       "<div>\n",
       "<table border=\"1\" class=\"dataframe\">\n",
       "  <thead>\n",
       "    <tr style=\"text-align: right;\">\n",
       "      <th></th>\n",
       "      <th>taxi_date</th>\n",
       "      <th>extra</th>\n",
       "      <th>fare_amount</th>\n",
       "      <th>mta_tax</th>\n",
       "      <th>passenger_count</th>\n",
       "      <th>pickup_latitude</th>\n",
       "      <th>pickup_longitude</th>\n",
       "      <th>tip_amount</th>\n",
       "      <th>total_amount</th>\n",
       "      <th>trip_distance</th>\n",
       "      <th>taxi_trip_count</th>\n",
       "      <th>weekday</th>\n",
       "      <th>decision_function</th>\n",
       "    </tr>\n",
       "  </thead>\n",
       "  <tbody>\n",
       "    <tr>\n",
       "      <th>22</th>\n",
       "      <td>2016-01-23</td>\n",
       "      <td>0.362535</td>\n",
       "      <td>11.875412</td>\n",
       "      <td>0.498546</td>\n",
       "      <td>1.691393</td>\n",
       "      <td>40.156820</td>\n",
       "      <td>-72.907324</td>\n",
       "      <td>1.680846</td>\n",
       "      <td>14.821589</td>\n",
       "      <td>2.797509</td>\n",
       "      <td>77354</td>\n",
       "      <td>5</td>\n",
       "      <td>-0.150264</td>\n",
       "    </tr>\n",
       "    <tr>\n",
       "      <th>150</th>\n",
       "      <td>2016-05-30</td>\n",
       "      <td>0.183829</td>\n",
       "      <td>13.517057</td>\n",
       "      <td>0.498000</td>\n",
       "      <td>1.717996</td>\n",
       "      <td>40.297975</td>\n",
       "      <td>-73.150372</td>\n",
       "      <td>1.731856</td>\n",
       "      <td>16.675892</td>\n",
       "      <td>3.657138</td>\n",
       "      <td>259248</td>\n",
       "      <td>0</td>\n",
       "      <td>-0.110895</td>\n",
       "    </tr>\n",
       "    <tr>\n",
       "      <th>23</th>\n",
       "      <td>2016-01-24</td>\n",
       "      <td>0.149384</td>\n",
       "      <td>12.179742</td>\n",
       "      <td>0.498538</td>\n",
       "      <td>1.751895</td>\n",
       "      <td>40.245866</td>\n",
       "      <td>-73.052736</td>\n",
       "      <td>1.624971</td>\n",
       "      <td>15.007358</td>\n",
       "      <td>2.951654</td>\n",
       "      <td>158675</td>\n",
       "      <td>6</td>\n",
       "      <td>-0.102197</td>\n",
       "    </tr>\n",
       "    <tr>\n",
       "      <th>2</th>\n",
       "      <td>2016-01-03</td>\n",
       "      <td>0.200098</td>\n",
       "      <td>12.997669</td>\n",
       "      <td>0.498177</td>\n",
       "      <td>1.739239</td>\n",
       "      <td>40.135610</td>\n",
       "      <td>-72.855615</td>\n",
       "      <td>1.650988</td>\n",
       "      <td>16.022176</td>\n",
       "      <td>3.425719</td>\n",
       "      <td>300678</td>\n",
       "      <td>6</td>\n",
       "      <td>-0.071914</td>\n",
       "    </tr>\n",
       "    <tr>\n",
       "      <th>177</th>\n",
       "      <td>2016-06-26</td>\n",
       "      <td>0.216860</td>\n",
       "      <td>14.059917</td>\n",
       "      <td>0.497735</td>\n",
       "      <td>1.718709</td>\n",
       "      <td>40.297044</td>\n",
       "      <td>-73.152547</td>\n",
       "      <td>1.821446</td>\n",
       "      <td>17.297069</td>\n",
       "      <td>3.486542</td>\n",
       "      <td>329107</td>\n",
       "      <td>6</td>\n",
       "      <td>-0.067998</td>\n",
       "    </tr>\n",
       "    <tr>\n",
       "      <th>24</th>\n",
       "      <td>2016-01-25</td>\n",
       "      <td>0.379404</td>\n",
       "      <td>14.854335</td>\n",
       "      <td>0.498136</td>\n",
       "      <td>1.647179</td>\n",
       "      <td>40.242313</td>\n",
       "      <td>-73.045338</td>\n",
       "      <td>2.086684</td>\n",
       "      <td>18.534021</td>\n",
       "      <td>3.319237</td>\n",
       "      <td>279805</td>\n",
       "      <td>0</td>\n",
       "      <td>-0.065968</td>\n",
       "    </tr>\n",
       "    <tr>\n",
       "      <th>43</th>\n",
       "      <td>2016-02-13</td>\n",
       "      <td>0.198109</td>\n",
       "      <td>11.556715</td>\n",
       "      <td>0.498945</td>\n",
       "      <td>1.723480</td>\n",
       "      <td>39.963539</td>\n",
       "      <td>-72.549819</td>\n",
       "      <td>1.513157</td>\n",
       "      <td>14.238487</td>\n",
       "      <td>2.618400</td>\n",
       "      <td>445761</td>\n",
       "      <td>5</td>\n",
       "      <td>-0.061721</td>\n",
       "    </tr>\n",
       "    <tr>\n",
       "      <th>1</th>\n",
       "      <td>2016-01-02</td>\n",
       "      <td>0.198105</td>\n",
       "      <td>12.392116</td>\n",
       "      <td>0.498403</td>\n",
       "      <td>1.777977</td>\n",
       "      <td>40.093708</td>\n",
       "      <td>-72.781330</td>\n",
       "      <td>1.459314</td>\n",
       "      <td>15.139841</td>\n",
       "      <td>3.082059</td>\n",
       "      <td>310850</td>\n",
       "      <td>5</td>\n",
       "      <td>-0.059943</td>\n",
       "    </tr>\n",
       "    <tr>\n",
       "      <th>149</th>\n",
       "      <td>2016-05-29</td>\n",
       "      <td>0.200798</td>\n",
       "      <td>12.751599</td>\n",
       "      <td>0.498280</td>\n",
       "      <td>1.749360</td>\n",
       "      <td>40.297822</td>\n",
       "      <td>-73.156586</td>\n",
       "      <td>1.467189</td>\n",
       "      <td>15.495870</td>\n",
       "      <td>3.213553</td>\n",
       "      <td>296246</td>\n",
       "      <td>6</td>\n",
       "      <td>-0.049930</td>\n",
       "    </tr>\n",
       "    <tr>\n",
       "      <th>0</th>\n",
       "      <td>2016-01-01</td>\n",
       "      <td>0.270617</td>\n",
       "      <td>12.795289</td>\n",
       "      <td>0.498092</td>\n",
       "      <td>1.795093</td>\n",
       "      <td>40.177206</td>\n",
       "      <td>-72.933026</td>\n",
       "      <td>1.441512</td>\n",
       "      <td>15.569496</td>\n",
       "      <td>3.292646</td>\n",
       "      <td>342467</td>\n",
       "      <td>4</td>\n",
       "      <td>-0.048510</td>\n",
       "    </tr>\n",
       "  </tbody>\n",
       "</table>\n",
       "</div>"
      ],
      "text/plain": [
       "      taxi_date     extra  fare_amount   mta_tax  passenger_count  \\\n",
       "22   2016-01-23  0.362535    11.875412  0.498546         1.691393   \n",
       "150  2016-05-30  0.183829    13.517057  0.498000         1.717996   \n",
       "23   2016-01-24  0.149384    12.179742  0.498538         1.751895   \n",
       "2    2016-01-03  0.200098    12.997669  0.498177         1.739239   \n",
       "177  2016-06-26  0.216860    14.059917  0.497735         1.718709   \n",
       "24   2016-01-25  0.379404    14.854335  0.498136         1.647179   \n",
       "43   2016-02-13  0.198109    11.556715  0.498945         1.723480   \n",
       "1    2016-01-02  0.198105    12.392116  0.498403         1.777977   \n",
       "149  2016-05-29  0.200798    12.751599  0.498280         1.749360   \n",
       "0    2016-01-01  0.270617    12.795289  0.498092         1.795093   \n",
       "\n",
       "     pickup_latitude  pickup_longitude  tip_amount  total_amount  \\\n",
       "22         40.156820        -72.907324    1.680846     14.821589   \n",
       "150        40.297975        -73.150372    1.731856     16.675892   \n",
       "23         40.245866        -73.052736    1.624971     15.007358   \n",
       "2          40.135610        -72.855615    1.650988     16.022176   \n",
       "177        40.297044        -73.152547    1.821446     17.297069   \n",
       "24         40.242313        -73.045338    2.086684     18.534021   \n",
       "43         39.963539        -72.549819    1.513157     14.238487   \n",
       "1          40.093708        -72.781330    1.459314     15.139841   \n",
       "149        40.297822        -73.156586    1.467189     15.495870   \n",
       "0          40.177206        -72.933026    1.441512     15.569496   \n",
       "\n",
       "     trip_distance  taxi_trip_count  weekday  decision_function  \n",
       "22        2.797509            77354        5          -0.150264  \n",
       "150       3.657138           259248        0          -0.110895  \n",
       "23        2.951654           158675        6          -0.102197  \n",
       "2         3.425719           300678        6          -0.071914  \n",
       "177       3.486542           329107        6          -0.067998  \n",
       "24        3.319237           279805        0          -0.065968  \n",
       "43        2.618400           445761        5          -0.061721  \n",
       "1         3.082059           310850        5          -0.059943  \n",
       "149       3.213553           296246        6          -0.049930  \n",
       "0         3.292646           342467        4          -0.048510  "
      ]
     },
     "execution_count": 27,
     "metadata": {},
     "output_type": "execute_result"
    }
   ],
   "source": [
    "tlc_df_by_day.sort_values(by='decision_function').head(10)"
   ]
  },
  {
   "cell_type": "markdown",
   "metadata": {},
   "source": [
    "## Look at specific areas and see what times / dates around there are anomalies\n",
    "### Madison Square Gardens (40.750556, -73.993611)"
   ]
  },
  {
   "cell_type": "code",
   "execution_count": 28,
   "metadata": {
    "collapsed": false
   },
   "outputs": [],
   "source": [
    "latlon_list = [40.750556, -73.993611]\n",
    "#only keep trips within a reasonable pickup lat / lon (without converting geometries)\n",
    "tlc_df_total_subset = tlc_df_total[(tlc_df_total.pickup_latitude > (latlon_list[0] - 0.005)) & (tlc_df_total.pickup_latitude < (latlon_list[0] + 0.005))]\n",
    "tlc_df_total_subset = tlc_df_total_subset[(tlc_df_total_subset.pickup_longitude > (latlon_list[1] - 0.005)) & (tlc_df_total_subset.pickup_longitude < (latlon_list[1] + 0.005))]"
   ]
  },
  {
   "cell_type": "code",
   "execution_count": 29,
   "metadata": {
    "collapsed": false
   },
   "outputs": [],
   "source": [
    "# convert to geopandas df\n",
    "geometry = [Point(xy) for xy in zip(tlc_df_total_subset.pickup_longitude, tlc_df_total_subset.pickup_latitude)]"
   ]
  },
  {
   "cell_type": "code",
   "execution_count": 30,
   "metadata": {
    "collapsed": true
   },
   "outputs": [],
   "source": [
    "crs = {'init': 'epsg:4326'}\n",
    "tlc_df_total_gp = GeoDataFrame(tlc_df_total_subset, crs=crs, geometry=geometry)"
   ]
  },
  {
   "cell_type": "code",
   "execution_count": 31,
   "metadata": {
    "collapsed": false
   },
   "outputs": [],
   "source": [
    "# create MSG buffer \n",
    "d = {'latitude': latlon_list[0], 'longitude': latlon_list[1]}\n",
    "MSG = pd.DataFrame(data=d, index=[0])\n",
    "geometry_MSG = [Point(xy) for xy in zip(MSG.longitude, MSG.latitude)]\n",
    "crs = {'init': 'epsg:4326'}\n",
    "MSG_gp = GeoDataFrame(crs=crs, geometry=geometry_MSG)"
   ]
  },
  {
   "cell_type": "code",
   "execution_count": 32,
   "metadata": {
    "collapsed": false
   },
   "outputs": [
    {
     "data": {
      "text/html": [
       "<div>\n",
       "<table border=\"1\" class=\"dataframe\">\n",
       "  <thead>\n",
       "    <tr style=\"text-align: right;\">\n",
       "      <th></th>\n",
       "      <th>geometry</th>\n",
       "    </tr>\n",
       "  </thead>\n",
       "  <tbody>\n",
       "    <tr>\n",
       "      <th>0</th>\n",
       "      <td>POLYGON ((-73.98861100000001 40.750556, -73.98...</td>\n",
       "    </tr>\n",
       "  </tbody>\n",
       "</table>\n",
       "</div>"
      ],
      "text/plain": [
       "                                            geometry\n",
       "0  POLYGON ((-73.98861100000001 40.750556, -73.98..."
      ]
     },
     "execution_count": 32,
     "metadata": {},
     "output_type": "execute_result"
    }
   ],
   "source": [
    "#create buffer\n",
    "MSG_gp['geometry'] = MSG_gp.geometry.buffer(.005)\n",
    "MSG_gp.head()"
   ]
  },
  {
   "cell_type": "code",
   "execution_count": 33,
   "metadata": {
    "collapsed": false
   },
   "outputs": [],
   "source": [
    "# only keep points within MSG buffer\n",
    "tlc_df_total_gp_subset = tlc_df_total_gp[tlc_df_total_gp.geometry.intersects(MSG_gp.geometry[0])]"
   ]
  },
  {
   "cell_type": "code",
   "execution_count": 34,
   "metadata": {
    "collapsed": false
   },
   "outputs": [
    {
     "data": {
      "text/html": [
       "<div>\n",
       "<table border=\"1\" class=\"dataframe\">\n",
       "  <thead>\n",
       "    <tr style=\"text-align: right;\">\n",
       "      <th></th>\n",
       "      <th>extra</th>\n",
       "      <th>fare_amount</th>\n",
       "      <th>mta_tax</th>\n",
       "      <th>passenger_count</th>\n",
       "      <th>pickup_latitude</th>\n",
       "      <th>pickup_longitude</th>\n",
       "      <th>tip_amount</th>\n",
       "      <th>total_amount</th>\n",
       "      <th>tpep_dropoff_datetime</th>\n",
       "      <th>tpep_pickup_datetime</th>\n",
       "      <th>trip_distance</th>\n",
       "      <th>taxi_date</th>\n",
       "      <th>geometry</th>\n",
       "    </tr>\n",
       "  </thead>\n",
       "  <tbody>\n",
       "    <tr>\n",
       "      <th>22</th>\n",
       "      <td>0.5</td>\n",
       "      <td>5.0</td>\n",
       "      <td>0.5</td>\n",
       "      <td>1.0</td>\n",
       "      <td>40.747219</td>\n",
       "      <td>-73.997139</td>\n",
       "      <td>0.00</td>\n",
       "      <td>6.30</td>\n",
       "      <td>2016-01-01 00:04:37</td>\n",
       "      <td>2016-01-01 00:00:08</td>\n",
       "      <td>0.72</td>\n",
       "      <td>2016-01-01</td>\n",
       "      <td>POINT (-73.99713897705078 40.74721908569336)</td>\n",
       "    </tr>\n",
       "    <tr>\n",
       "      <th>28</th>\n",
       "      <td>0.5</td>\n",
       "      <td>3.0</td>\n",
       "      <td>0.5</td>\n",
       "      <td>1.0</td>\n",
       "      <td>40.754559</td>\n",
       "      <td>-73.991653</td>\n",
       "      <td>0.00</td>\n",
       "      <td>4.30</td>\n",
       "      <td>2016-01-01 00:01:17</td>\n",
       "      <td>2016-01-01 00:00:12</td>\n",
       "      <td>0.13</td>\n",
       "      <td>2016-01-01</td>\n",
       "      <td>POINT (-73.99165344238281 40.75455856323241)</td>\n",
       "    </tr>\n",
       "    <tr>\n",
       "      <th>57</th>\n",
       "      <td>0.5</td>\n",
       "      <td>7.0</td>\n",
       "      <td>0.5</td>\n",
       "      <td>6.0</td>\n",
       "      <td>40.751621</td>\n",
       "      <td>-73.993759</td>\n",
       "      <td>0.00</td>\n",
       "      <td>8.30</td>\n",
       "      <td>2016-01-01 00:09:37</td>\n",
       "      <td>2016-01-01 00:00:32</td>\n",
       "      <td>0.32</td>\n",
       "      <td>2016-01-01</td>\n",
       "      <td>POINT (-73.99375915527344 40.75162124633789)</td>\n",
       "    </tr>\n",
       "    <tr>\n",
       "      <th>108</th>\n",
       "      <td>0.0</td>\n",
       "      <td>140.0</td>\n",
       "      <td>0.0</td>\n",
       "      <td>1.0</td>\n",
       "      <td>40.749290</td>\n",
       "      <td>-73.992302</td>\n",
       "      <td>30.95</td>\n",
       "      <td>185.75</td>\n",
       "      <td>2016-01-01 00:38:19</td>\n",
       "      <td>2016-01-01 00:01:14</td>\n",
       "      <td>24.00</td>\n",
       "      <td>2016-01-01</td>\n",
       "      <td>POINT (-73.99230194091797 40.74929046630859)</td>\n",
       "    </tr>\n",
       "    <tr>\n",
       "      <th>192</th>\n",
       "      <td>0.0</td>\n",
       "      <td>7.5</td>\n",
       "      <td>0.5</td>\n",
       "      <td>1.0</td>\n",
       "      <td>40.749737</td>\n",
       "      <td>-73.991203</td>\n",
       "      <td>0.00</td>\n",
       "      <td>8.30</td>\n",
       "      <td>2016-01-29 09:28:43</td>\n",
       "      <td>2016-01-29 09:18:22</td>\n",
       "      <td>0.80</td>\n",
       "      <td>2016-01-29</td>\n",
       "      <td>POINT (-73.99120330810547 40.74973678588867)</td>\n",
       "    </tr>\n",
       "  </tbody>\n",
       "</table>\n",
       "</div>"
      ],
      "text/plain": [
       "     extra  fare_amount  mta_tax  passenger_count  pickup_latitude  \\\n",
       "22     0.5          5.0      0.5              1.0        40.747219   \n",
       "28     0.5          3.0      0.5              1.0        40.754559   \n",
       "57     0.5          7.0      0.5              6.0        40.751621   \n",
       "108    0.0        140.0      0.0              1.0        40.749290   \n",
       "192    0.0          7.5      0.5              1.0        40.749737   \n",
       "\n",
       "     pickup_longitude  tip_amount  total_amount tpep_dropoff_datetime  \\\n",
       "22         -73.997139        0.00          6.30   2016-01-01 00:04:37   \n",
       "28         -73.991653        0.00          4.30   2016-01-01 00:01:17   \n",
       "57         -73.993759        0.00          8.30   2016-01-01 00:09:37   \n",
       "108        -73.992302       30.95        185.75   2016-01-01 00:38:19   \n",
       "192        -73.991203        0.00          8.30   2016-01-29 09:28:43   \n",
       "\n",
       "    tpep_pickup_datetime  trip_distance   taxi_date  \\\n",
       "22   2016-01-01 00:00:08           0.72  2016-01-01   \n",
       "28   2016-01-01 00:00:12           0.13  2016-01-01   \n",
       "57   2016-01-01 00:00:32           0.32  2016-01-01   \n",
       "108  2016-01-01 00:01:14          24.00  2016-01-01   \n",
       "192  2016-01-29 09:18:22           0.80  2016-01-29   \n",
       "\n",
       "                                         geometry  \n",
       "22   POINT (-73.99713897705078 40.74721908569336)  \n",
       "28   POINT (-73.99165344238281 40.75455856323241)  \n",
       "57   POINT (-73.99375915527344 40.75162124633789)  \n",
       "108  POINT (-73.99230194091797 40.74929046630859)  \n",
       "192  POINT (-73.99120330810547 40.74973678588867)  "
      ]
     },
     "execution_count": 34,
     "metadata": {},
     "output_type": "execute_result"
    }
   ],
   "source": [
    "tlc_df_total_gp_subset.head()"
   ]
  },
  {
   "cell_type": "code",
   "execution_count": 35,
   "metadata": {
    "collapsed": false
   },
   "outputs": [
    {
     "name": "stderr",
     "output_type": "stream",
     "text": [
      "/Users/geoffperrin/anaconda2/lib/python2.7/site-packages/ipykernel/__main__.py:1: SettingWithCopyWarning: \n",
      "A value is trying to be set on a copy of a slice from a DataFrame.\n",
      "Try using .loc[row_indexer,col_indexer] = value instead\n",
      "\n",
      "See the caveats in the documentation: http://pandas.pydata.org/pandas-docs/stable/indexing.html#indexing-view-versus-copy\n",
      "  if __name__ == '__main__':\n"
     ]
    }
   ],
   "source": [
    "tlc_df_total_gp_subset['hour'] = tlc_df_total_gp_subset.tpep_pickup_datetime.apply(lambda x: x.hour)"
   ]
  },
  {
   "cell_type": "code",
   "execution_count": 36,
   "metadata": {
    "collapsed": true
   },
   "outputs": [],
   "source": [
    "#subset to 3pm - midnight hours (to only capture relevant hours)\n",
    "tlc_df_total_gp_subset = tlc_df_total_gp_subset[(tlc_df_total_gp_subset.hour >= 15) & (tlc_df_total_gp_subset.hour <= 23)]"
   ]
  },
  {
   "cell_type": "code",
   "execution_count": 37,
   "metadata": {
    "collapsed": false
   },
   "outputs": [
    {
     "data": {
      "text/html": [
       "<div>\n",
       "<table border=\"1\" class=\"dataframe\">\n",
       "  <thead>\n",
       "    <tr style=\"text-align: right;\">\n",
       "      <th></th>\n",
       "      <th>taxi_date</th>\n",
       "      <th>hour</th>\n",
       "      <th>taxi_trip_count</th>\n",
       "    </tr>\n",
       "  </thead>\n",
       "  <tbody>\n",
       "    <tr>\n",
       "      <th>0</th>\n",
       "      <td>2016-01-01</td>\n",
       "      <td>15</td>\n",
       "      <td>632</td>\n",
       "    </tr>\n",
       "    <tr>\n",
       "      <th>1</th>\n",
       "      <td>2016-01-01</td>\n",
       "      <td>16</td>\n",
       "      <td>658</td>\n",
       "    </tr>\n",
       "    <tr>\n",
       "      <th>2</th>\n",
       "      <td>2016-01-01</td>\n",
       "      <td>17</td>\n",
       "      <td>700</td>\n",
       "    </tr>\n",
       "    <tr>\n",
       "      <th>3</th>\n",
       "      <td>2016-01-01</td>\n",
       "      <td>18</td>\n",
       "      <td>778</td>\n",
       "    </tr>\n",
       "    <tr>\n",
       "      <th>4</th>\n",
       "      <td>2016-01-01</td>\n",
       "      <td>19</td>\n",
       "      <td>654</td>\n",
       "    </tr>\n",
       "  </tbody>\n",
       "</table>\n",
       "</div>"
      ],
      "text/plain": [
       "    taxi_date  hour  taxi_trip_count\n",
       "0  2016-01-01    15              632\n",
       "1  2016-01-01    16              658\n",
       "2  2016-01-01    17              700\n",
       "3  2016-01-01    18              778\n",
       "4  2016-01-01    19              654"
      ]
     },
     "execution_count": 37,
     "metadata": {},
     "output_type": "execute_result"
    }
   ],
   "source": [
    "#take the mean of the taxi stats each day / hour\n",
    "tlc_df_MSG_count = tlc_df_total_gp_subset.groupby(['taxi_date', 'hour'], as_index=False)['extra'].count()\n",
    "tlc_df_MSG_count.columns = ['taxi_date', 'hour', 'taxi_trip_count']\n",
    "tlc_df_MSG_count.head()"
   ]
  },
  {
   "cell_type": "code",
   "execution_count": 38,
   "metadata": {
    "collapsed": false
   },
   "outputs": [
    {
     "data": {
      "text/html": [
       "<div>\n",
       "<table border=\"1\" class=\"dataframe\">\n",
       "  <thead>\n",
       "    <tr style=\"text-align: right;\">\n",
       "      <th></th>\n",
       "      <th>taxi_date</th>\n",
       "      <th>hour</th>\n",
       "      <th>extra</th>\n",
       "      <th>fare_amount</th>\n",
       "      <th>mta_tax</th>\n",
       "      <th>passenger_count</th>\n",
       "      <th>pickup_latitude</th>\n",
       "      <th>pickup_longitude</th>\n",
       "      <th>tip_amount</th>\n",
       "      <th>total_amount</th>\n",
       "      <th>trip_distance</th>\n",
       "    </tr>\n",
       "  </thead>\n",
       "  <tbody>\n",
       "    <tr>\n",
       "      <th>0</th>\n",
       "      <td>2016-01-01</td>\n",
       "      <td>15</td>\n",
       "      <td>0.006329</td>\n",
       "      <td>11.197785</td>\n",
       "      <td>0.497627</td>\n",
       "      <td>1.677215</td>\n",
       "      <td>40.750490</td>\n",
       "      <td>-73.992650</td>\n",
       "      <td>0.996899</td>\n",
       "      <td>13.291551</td>\n",
       "      <td>2.691519</td>\n",
       "    </tr>\n",
       "    <tr>\n",
       "      <th>1</th>\n",
       "      <td>2016-01-01</td>\n",
       "      <td>16</td>\n",
       "      <td>0.083587</td>\n",
       "      <td>10.381459</td>\n",
       "      <td>0.498480</td>\n",
       "      <td>1.791793</td>\n",
       "      <td>40.750509</td>\n",
       "      <td>-73.992717</td>\n",
       "      <td>1.049195</td>\n",
       "      <td>12.501292</td>\n",
       "      <td>2.378754</td>\n",
       "    </tr>\n",
       "    <tr>\n",
       "      <th>2</th>\n",
       "      <td>2016-01-01</td>\n",
       "      <td>17</td>\n",
       "      <td>0.097143</td>\n",
       "      <td>10.455714</td>\n",
       "      <td>0.498571</td>\n",
       "      <td>1.712857</td>\n",
       "      <td>40.750433</td>\n",
       "      <td>-73.992623</td>\n",
       "      <td>1.172400</td>\n",
       "      <td>12.681371</td>\n",
       "      <td>2.351357</td>\n",
       "    </tr>\n",
       "    <tr>\n",
       "      <th>3</th>\n",
       "      <td>2016-01-01</td>\n",
       "      <td>18</td>\n",
       "      <td>0.094473</td>\n",
       "      <td>10.737789</td>\n",
       "      <td>0.498715</td>\n",
       "      <td>1.780206</td>\n",
       "      <td>40.750437</td>\n",
       "      <td>-73.992632</td>\n",
       "      <td>1.108458</td>\n",
       "      <td>12.844216</td>\n",
       "      <td>2.321941</td>\n",
       "    </tr>\n",
       "    <tr>\n",
       "      <th>4</th>\n",
       "      <td>2016-01-01</td>\n",
       "      <td>19</td>\n",
       "      <td>0.120031</td>\n",
       "      <td>11.607798</td>\n",
       "      <td>0.500000</td>\n",
       "      <td>1.782875</td>\n",
       "      <td>40.750327</td>\n",
       "      <td>-73.992521</td>\n",
       "      <td>1.246407</td>\n",
       "      <td>13.943654</td>\n",
       "      <td>2.517890</td>\n",
       "    </tr>\n",
       "  </tbody>\n",
       "</table>\n",
       "</div>"
      ],
      "text/plain": [
       "    taxi_date  hour     extra  fare_amount   mta_tax  passenger_count  \\\n",
       "0  2016-01-01    15  0.006329    11.197785  0.497627         1.677215   \n",
       "1  2016-01-01    16  0.083587    10.381459  0.498480         1.791793   \n",
       "2  2016-01-01    17  0.097143    10.455714  0.498571         1.712857   \n",
       "3  2016-01-01    18  0.094473    10.737789  0.498715         1.780206   \n",
       "4  2016-01-01    19  0.120031    11.607798  0.500000         1.782875   \n",
       "\n",
       "   pickup_latitude  pickup_longitude  tip_amount  total_amount  trip_distance  \n",
       "0        40.750490        -73.992650    0.996899     13.291551       2.691519  \n",
       "1        40.750509        -73.992717    1.049195     12.501292       2.378754  \n",
       "2        40.750433        -73.992623    1.172400     12.681371       2.351357  \n",
       "3        40.750437        -73.992632    1.108458     12.844216       2.321941  \n",
       "4        40.750327        -73.992521    1.246407     13.943654       2.517890  "
      ]
     },
     "execution_count": 38,
     "metadata": {},
     "output_type": "execute_result"
    }
   ],
   "source": [
    "#take the mean of the taxi stats each day / hour\n",
    "tlc_df_MSG_mean = tlc_df_total_gp_subset.groupby(['taxi_date', 'hour'], as_index=False).mean()\n",
    "tlc_df_MSG_mean.head()"
   ]
  },
  {
   "cell_type": "code",
   "execution_count": 39,
   "metadata": {
    "collapsed": false
   },
   "outputs": [
    {
     "data": {
      "text/html": [
       "<div>\n",
       "<table border=\"1\" class=\"dataframe\">\n",
       "  <thead>\n",
       "    <tr style=\"text-align: right;\">\n",
       "      <th></th>\n",
       "      <th>taxi_date</th>\n",
       "      <th>hour</th>\n",
       "      <th>taxi_trip_count</th>\n",
       "      <th>extra</th>\n",
       "      <th>fare_amount</th>\n",
       "      <th>mta_tax</th>\n",
       "      <th>passenger_count</th>\n",
       "      <th>pickup_latitude</th>\n",
       "      <th>pickup_longitude</th>\n",
       "      <th>tip_amount</th>\n",
       "      <th>total_amount</th>\n",
       "      <th>trip_distance</th>\n",
       "    </tr>\n",
       "  </thead>\n",
       "  <tbody>\n",
       "    <tr>\n",
       "      <th>0</th>\n",
       "      <td>2016-01-01</td>\n",
       "      <td>15</td>\n",
       "      <td>632</td>\n",
       "      <td>0.006329</td>\n",
       "      <td>11.197785</td>\n",
       "      <td>0.497627</td>\n",
       "      <td>1.677215</td>\n",
       "      <td>40.750490</td>\n",
       "      <td>-73.992650</td>\n",
       "      <td>0.996899</td>\n",
       "      <td>13.291551</td>\n",
       "      <td>2.691519</td>\n",
       "    </tr>\n",
       "    <tr>\n",
       "      <th>1</th>\n",
       "      <td>2016-01-01</td>\n",
       "      <td>16</td>\n",
       "      <td>658</td>\n",
       "      <td>0.083587</td>\n",
       "      <td>10.381459</td>\n",
       "      <td>0.498480</td>\n",
       "      <td>1.791793</td>\n",
       "      <td>40.750509</td>\n",
       "      <td>-73.992717</td>\n",
       "      <td>1.049195</td>\n",
       "      <td>12.501292</td>\n",
       "      <td>2.378754</td>\n",
       "    </tr>\n",
       "    <tr>\n",
       "      <th>2</th>\n",
       "      <td>2016-01-01</td>\n",
       "      <td>17</td>\n",
       "      <td>700</td>\n",
       "      <td>0.097143</td>\n",
       "      <td>10.455714</td>\n",
       "      <td>0.498571</td>\n",
       "      <td>1.712857</td>\n",
       "      <td>40.750433</td>\n",
       "      <td>-73.992623</td>\n",
       "      <td>1.172400</td>\n",
       "      <td>12.681371</td>\n",
       "      <td>2.351357</td>\n",
       "    </tr>\n",
       "    <tr>\n",
       "      <th>3</th>\n",
       "      <td>2016-01-01</td>\n",
       "      <td>18</td>\n",
       "      <td>778</td>\n",
       "      <td>0.094473</td>\n",
       "      <td>10.737789</td>\n",
       "      <td>0.498715</td>\n",
       "      <td>1.780206</td>\n",
       "      <td>40.750437</td>\n",
       "      <td>-73.992632</td>\n",
       "      <td>1.108458</td>\n",
       "      <td>12.844216</td>\n",
       "      <td>2.321941</td>\n",
       "    </tr>\n",
       "    <tr>\n",
       "      <th>4</th>\n",
       "      <td>2016-01-01</td>\n",
       "      <td>19</td>\n",
       "      <td>654</td>\n",
       "      <td>0.120031</td>\n",
       "      <td>11.607798</td>\n",
       "      <td>0.500000</td>\n",
       "      <td>1.782875</td>\n",
       "      <td>40.750327</td>\n",
       "      <td>-73.992521</td>\n",
       "      <td>1.246407</td>\n",
       "      <td>13.943654</td>\n",
       "      <td>2.517890</td>\n",
       "    </tr>\n",
       "  </tbody>\n",
       "</table>\n",
       "</div>"
      ],
      "text/plain": [
       "    taxi_date  hour  taxi_trip_count     extra  fare_amount   mta_tax  \\\n",
       "0  2016-01-01    15              632  0.006329    11.197785  0.497627   \n",
       "1  2016-01-01    16              658  0.083587    10.381459  0.498480   \n",
       "2  2016-01-01    17              700  0.097143    10.455714  0.498571   \n",
       "3  2016-01-01    18              778  0.094473    10.737789  0.498715   \n",
       "4  2016-01-01    19              654  0.120031    11.607798  0.500000   \n",
       "\n",
       "   passenger_count  pickup_latitude  pickup_longitude  tip_amount  \\\n",
       "0         1.677215        40.750490        -73.992650    0.996899   \n",
       "1         1.791793        40.750509        -73.992717    1.049195   \n",
       "2         1.712857        40.750433        -73.992623    1.172400   \n",
       "3         1.780206        40.750437        -73.992632    1.108458   \n",
       "4         1.782875        40.750327        -73.992521    1.246407   \n",
       "\n",
       "   total_amount  trip_distance  \n",
       "0     13.291551       2.691519  \n",
       "1     12.501292       2.378754  \n",
       "2     12.681371       2.351357  \n",
       "3     12.844216       2.321941  \n",
       "4     13.943654       2.517890  "
      ]
     },
     "execution_count": 39,
     "metadata": {},
     "output_type": "execute_result"
    }
   ],
   "source": [
    "tlc_df_MSG_by_day_hour = tlc_df_MSG_count.merge(tlc_df_MSG_mean, on=['taxi_date', 'hour'])\n",
    "tlc_df_MSG_by_day_hour.head()"
   ]
  },
  {
   "cell_type": "code",
   "execution_count": 40,
   "metadata": {
    "collapsed": false
   },
   "outputs": [
    {
     "data": {
      "text/plain": [
       "<matplotlib.axes._subplots.AxesSubplot at 0x1b7cf9a10>"
      ]
     },
     "execution_count": 40,
     "metadata": {},
     "output_type": "execute_result"
    },
    {
     "data": {
      "image/png": "[encoded data removed]",
      "text/plain": [
       "<matplotlib.figure.Figure at 0x19c142e10>"
      ]
     },
     "metadata": {},
     "output_type": "display_data"
    }
   ],
   "source": [
    "tlc_df_MSG_by_day_hour[['taxi_date', 'taxi_trip_count']].plot()"
   ]
  },
  {
   "cell_type": "code",
   "execution_count": 41,
   "metadata": {
    "collapsed": false
   },
   "outputs": [
    {
     "data": {
      "text/plain": [
       "<matplotlib.axes._subplots.AxesSubplot at 0x13839ba10>"
      ]
     },
     "execution_count": 41,
     "metadata": {},
     "output_type": "execute_result"
    },
    {
     "data": {
      "image/png": "[encoded data removed]",
      "text/plain": [
       "<matplotlib.figure.Figure at 0x1c8d90750>"
      ]
     },
     "metadata": {},
     "output_type": "display_data"
    }
   ],
   "source": [
    "tlc_agg = tlc_df_MSG_by_day_hour.groupby(['hour'], as_index=False).sum()\n",
    "tlc_agg[['taxi_trip_count']].plot()"
   ]
  },
  {
   "cell_type": "code",
   "execution_count": 42,
   "metadata": {
    "collapsed": false
   },
   "outputs": [],
   "source": [
    "# read in NYC street shapefile\n",
    "'''\n",
    "shapefile taken from https://geo.nyu.edu/catalog/nyu_2451_34565\n",
    "\n",
    "'''\n",
    "ny_streets_raw = gp.read_file(proj_folder + '/data/nyu_2451_34565/nyu_2451_34565.shp')\n",
    "ny_streets_raw = ny_streets_raw.to_crs(epsg=4326)\n",
    "# only keep points within MSG buffer\n",
    "ny_streets = ny_streets_raw[ny_streets_raw.geometry.intersects(MSG_gp.geometry[0])]"
   ]
  },
  {
   "cell_type": "code",
   "execution_count": 43,
   "metadata": {
    "collapsed": false
   },
   "outputs": [],
   "source": [
    "tlc_df_total_gp_subset['total_mean'] = tlc_df_total_gp_subset.total_amount.mean()\n",
    "tlc_df_total_gp_subset['total_std'] = tlc_df_total_gp_subset.total_amount.std()\n",
    "\n",
    "def set_color(Data1):\n",
    "    if (Data1.total_amount > (Data1.total_mean + 2*Data1.total_std)):\n",
    "        return \"green\"\n",
    "    elif (Data1.total_amount < (Data1.total_mean - 2*Data1.total_std)):\n",
    "        return \"red\"\n",
    "    else:\n",
    "        return \"white\"\n",
    "\n",
    "    \n",
    "tlc_df_total_gp_subset = tlc_df_total_gp_subset.assign(color=tlc_df_total_gp_subset.apply(set_color, axis=1))\n",
    "tlc_df_total_gp_subset = tlc_df_total_gp_subset.drop(['total_mean', 'total_std'], axis=1)"
   ]
  },
  {
   "cell_type": "code",
   "execution_count": 44,
   "metadata": {
    "collapsed": false
   },
   "outputs": [
    {
     "data": {
      "text/plain": [
       "<matplotlib.text.Text at 0x40adaf9d0>"
      ]
     },
     "execution_count": 44,
     "metadata": {},
     "output_type": "execute_result"
    },
    {
     "data": {
      "image/png": "[encoded data removed]",
      "text/plain": [
       "<matplotlib.figure.Figure at 0x40b0c59d0>"
      ]
     },
     "metadata": {},
     "output_type": "display_data"
    }
   ],
   "source": [
    "# is there a way to easily plot each color differently? I have this color column highlighting outliers!\n",
    "\n",
    "MSG_sample = tlc_df_total_gp_subset.sample(n=1000)\n",
    "#MSG_sample.lon = MSG_sample.geometry.x\n",
    "#MSG_sample.lat = MSG_sample.geometry.y\n",
    "f, (ax1) = plt.subplots(figsize=(12,8))\n",
    "MSG_sample.plot(alpha=0.5, ax=ax1, color = 'red')\n",
    "ny_streets['geometry'].plot(alpha=1, linewidth=0.25, ax=ax1, color = '0')\n",
    "ax1.set_title(\"Plot of Taxi Pickups, Around MSG\", fontsize=20)\n",
    "plt.xlabel(\"longitude\")\n",
    "plt.ylabel(\"latitude\")"
   ]
  },
  {
   "cell_type": "markdown",
   "metadata": {},
   "source": [
    "## MSG anomaly analysis (isolation forest)"
   ]
  },
  {
   "cell_type": "code",
   "execution_count": 45,
   "metadata": {
    "collapsed": false
   },
   "outputs": [
    {
     "data": {
      "text/html": [
       "<div>\n",
       "<table border=\"1\" class=\"dataframe\">\n",
       "  <thead>\n",
       "    <tr style=\"text-align: right;\">\n",
       "      <th></th>\n",
       "      <th>passenger_count</th>\n",
       "      <th>trip_distance</th>\n",
       "      <th>total_amount</th>\n",
       "      <th>taxi_trip_count</th>\n",
       "    </tr>\n",
       "  </thead>\n",
       "  <tbody>\n",
       "    <tr>\n",
       "      <th>0</th>\n",
       "      <td>1.677215</td>\n",
       "      <td>2.691519</td>\n",
       "      <td>13.291551</td>\n",
       "      <td>632</td>\n",
       "    </tr>\n",
       "    <tr>\n",
       "      <th>1</th>\n",
       "      <td>1.791793</td>\n",
       "      <td>2.378754</td>\n",
       "      <td>12.501292</td>\n",
       "      <td>658</td>\n",
       "    </tr>\n",
       "  </tbody>\n",
       "</table>\n",
       "</div>"
      ],
      "text/plain": [
       "   passenger_count  trip_distance  total_amount  taxi_trip_count\n",
       "0         1.677215       2.691519     13.291551              632\n",
       "1         1.791793       2.378754     12.501292              658"
      ]
     },
     "execution_count": 45,
     "metadata": {},
     "output_type": "execute_result"
    }
   ],
   "source": [
    "X = tlc_df_MSG_by_day_hour[['passenger_count', 'trip_distance' ,'total_amount', 'taxi_trip_count']]\n",
    "X.head(2)"
   ]
  },
  {
   "cell_type": "code",
   "execution_count": 46,
   "metadata": {
    "collapsed": false
   },
   "outputs": [
    {
     "name": "stderr",
     "output_type": "stream",
     "text": [
      "/Users/geoffperrin/anaconda2/lib/python2.7/site-packages/ipykernel/__main__.py:3: SettingWithCopyWarning: \n",
      "A value is trying to be set on a copy of a slice from a DataFrame.\n",
      "Try using .loc[row_indexer,col_indexer] = value instead\n",
      "\n",
      "See the caveats in the documentation: http://pandas.pydata.org/pandas-docs/stable/indexing.html#indexing-view-versus-copy\n",
      "  app.launch_new_instance()\n"
     ]
    }
   ],
   "source": [
    "#normalize columns\n",
    "for i in X.columns:\n",
    "    X[i] = (X[i] - X[i].mean()) / X[i].std()"
   ]
  },
  {
   "cell_type": "code",
   "execution_count": 47,
   "metadata": {
    "collapsed": true
   },
   "outputs": [],
   "source": [
    "train,test=train_test_split(X, random_state=999, test_size=0.3)\n",
    "# fit the model\n",
    "clf = IsolationForest(max_samples=100, random_state=999)\n",
    "clf.fit(train)\n",
    "y_pred = clf.predict(X)"
   ]
  },
  {
   "cell_type": "code",
   "execution_count": 48,
   "metadata": {
    "collapsed": true
   },
   "outputs": [],
   "source": [
    "tlc_df_MSG_by_day_hour['decision_function'] = clf.decision_function(X)"
   ]
  },
  {
   "cell_type": "code",
   "execution_count": 49,
   "metadata": {
    "collapsed": false,
    "scrolled": true
   },
   "outputs": [
    {
     "data": {
      "text/html": [
       "<div>\n",
       "<table border=\"1\" class=\"dataframe\">\n",
       "  <thead>\n",
       "    <tr style=\"text-align: right;\">\n",
       "      <th></th>\n",
       "      <th>taxi_date</th>\n",
       "      <th>hour</th>\n",
       "      <th>taxi_trip_count</th>\n",
       "      <th>extra</th>\n",
       "      <th>fare_amount</th>\n",
       "      <th>mta_tax</th>\n",
       "      <th>passenger_count</th>\n",
       "      <th>pickup_latitude</th>\n",
       "      <th>pickup_longitude</th>\n",
       "      <th>tip_amount</th>\n",
       "      <th>total_amount</th>\n",
       "      <th>trip_distance</th>\n",
       "      <th>decision_function</th>\n",
       "    </tr>\n",
       "  </thead>\n",
       "  <tbody>\n",
       "    <tr>\n",
       "      <th>200</th>\n",
       "      <td>2016-01-23</td>\n",
       "      <td>17</td>\n",
       "      <td>1</td>\n",
       "      <td>0.000000</td>\n",
       "      <td>76.500000</td>\n",
       "      <td>0.500000</td>\n",
       "      <td>1.000000</td>\n",
       "      <td>40.750286</td>\n",
       "      <td>-73.992531</td>\n",
       "      <td>0.000000</td>\n",
       "      <td>82.840000</td>\n",
       "      <td>21.500000</td>\n",
       "      <td>-0.191391</td>\n",
       "    </tr>\n",
       "    <tr>\n",
       "      <th>1238</th>\n",
       "      <td>2016-05-18</td>\n",
       "      <td>16</td>\n",
       "      <td>408</td>\n",
       "      <td>1.127451</td>\n",
       "      <td>19.803922</td>\n",
       "      <td>0.490196</td>\n",
       "      <td>1.551471</td>\n",
       "      <td>40.750321</td>\n",
       "      <td>-73.993102</td>\n",
       "      <td>2.637353</td>\n",
       "      <td>25.165196</td>\n",
       "      <td>3.430760</td>\n",
       "      <td>-0.137369</td>\n",
       "    </tr>\n",
       "    <tr>\n",
       "      <th>210</th>\n",
       "      <td>2016-01-24</td>\n",
       "      <td>23</td>\n",
       "      <td>177</td>\n",
       "      <td>0.494350</td>\n",
       "      <td>12.932203</td>\n",
       "      <td>0.497175</td>\n",
       "      <td>1.898305</td>\n",
       "      <td>40.750102</td>\n",
       "      <td>-73.993395</td>\n",
       "      <td>1.665028</td>\n",
       "      <td>16.147175</td>\n",
       "      <td>3.272373</td>\n",
       "      <td>-0.137026</td>\n",
       "    </tr>\n",
       "    <tr>\n",
       "      <th>1590</th>\n",
       "      <td>2016-06-26</td>\n",
       "      <td>17</td>\n",
       "      <td>496</td>\n",
       "      <td>0.040323</td>\n",
       "      <td>21.219758</td>\n",
       "      <td>0.493952</td>\n",
       "      <td>1.750000</td>\n",
       "      <td>40.750680</td>\n",
       "      <td>-73.992823</td>\n",
       "      <td>2.443952</td>\n",
       "      <td>24.966915</td>\n",
       "      <td>3.380645</td>\n",
       "      <td>-0.135195</td>\n",
       "    </tr>\n",
       "    <tr>\n",
       "      <th>1589</th>\n",
       "      <td>2016-06-26</td>\n",
       "      <td>16</td>\n",
       "      <td>568</td>\n",
       "      <td>0.022887</td>\n",
       "      <td>18.330106</td>\n",
       "      <td>0.494718</td>\n",
       "      <td>1.732394</td>\n",
       "      <td>40.750471</td>\n",
       "      <td>-73.992944</td>\n",
       "      <td>2.218732</td>\n",
       "      <td>21.947623</td>\n",
       "      <td>3.330599</td>\n",
       "      <td>-0.126717</td>\n",
       "    </tr>\n",
       "    <tr>\n",
       "      <th>480</th>\n",
       "      <td>2016-02-23</td>\n",
       "      <td>23</td>\n",
       "      <td>393</td>\n",
       "      <td>0.498728</td>\n",
       "      <td>13.279898</td>\n",
       "      <td>0.498728</td>\n",
       "      <td>1.440204</td>\n",
       "      <td>40.750317</td>\n",
       "      <td>-73.993007</td>\n",
       "      <td>1.903461</td>\n",
       "      <td>16.632774</td>\n",
       "      <td>3.393359</td>\n",
       "      <td>-0.113576</td>\n",
       "    </tr>\n",
       "    <tr>\n",
       "      <th>201</th>\n",
       "      <td>2016-01-23</td>\n",
       "      <td>18</td>\n",
       "      <td>1</td>\n",
       "      <td>0.000000</td>\n",
       "      <td>10.500000</td>\n",
       "      <td>0.500000</td>\n",
       "      <td>1.000000</td>\n",
       "      <td>40.747868</td>\n",
       "      <td>-73.996651</td>\n",
       "      <td>2.250000</td>\n",
       "      <td>13.550000</td>\n",
       "      <td>2.100000</td>\n",
       "      <td>-0.105518</td>\n",
       "    </tr>\n",
       "    <tr>\n",
       "      <th>198</th>\n",
       "      <td>2016-01-23</td>\n",
       "      <td>15</td>\n",
       "      <td>15</td>\n",
       "      <td>0.000000</td>\n",
       "      <td>10.133333</td>\n",
       "      <td>0.500000</td>\n",
       "      <td>1.200000</td>\n",
       "      <td>40.750917</td>\n",
       "      <td>-73.992586</td>\n",
       "      <td>1.584000</td>\n",
       "      <td>12.517333</td>\n",
       "      <td>2.375333</td>\n",
       "      <td>-0.104815</td>\n",
       "    </tr>\n",
       "    <tr>\n",
       "      <th>1427</th>\n",
       "      <td>2016-06-08</td>\n",
       "      <td>16</td>\n",
       "      <td>425</td>\n",
       "      <td>1.045882</td>\n",
       "      <td>17.232941</td>\n",
       "      <td>0.498824</td>\n",
       "      <td>1.571765</td>\n",
       "      <td>40.750544</td>\n",
       "      <td>-73.993197</td>\n",
       "      <td>2.237788</td>\n",
       "      <td>21.646329</td>\n",
       "      <td>2.569482</td>\n",
       "      <td>-0.100603</td>\n",
       "    </tr>\n",
       "    <tr>\n",
       "      <th>1591</th>\n",
       "      <td>2016-06-26</td>\n",
       "      <td>18</td>\n",
       "      <td>477</td>\n",
       "      <td>0.031447</td>\n",
       "      <td>19.361635</td>\n",
       "      <td>0.498952</td>\n",
       "      <td>1.721174</td>\n",
       "      <td>40.750531</td>\n",
       "      <td>-73.993133</td>\n",
       "      <td>2.152390</td>\n",
       "      <td>22.690776</td>\n",
       "      <td>2.945199</td>\n",
       "      <td>-0.096394</td>\n",
       "    </tr>\n",
       "  </tbody>\n",
       "</table>\n",
       "</div>"
      ],
      "text/plain": [
       "       taxi_date  hour  taxi_trip_count     extra  fare_amount   mta_tax  \\\n",
       "200   2016-01-23    17                1  0.000000    76.500000  0.500000   \n",
       "1238  2016-05-18    16              408  1.127451    19.803922  0.490196   \n",
       "210   2016-01-24    23              177  0.494350    12.932203  0.497175   \n",
       "1590  2016-06-26    17              496  0.040323    21.219758  0.493952   \n",
       "1589  2016-06-26    16              568  0.022887    18.330106  0.494718   \n",
       "480   2016-02-23    23              393  0.498728    13.279898  0.498728   \n",
       "201   2016-01-23    18                1  0.000000    10.500000  0.500000   \n",
       "198   2016-01-23    15               15  0.000000    10.133333  0.500000   \n",
       "1427  2016-06-08    16              425  1.045882    17.232941  0.498824   \n",
       "1591  2016-06-26    18              477  0.031447    19.361635  0.498952   \n",
       "\n",
       "      passenger_count  pickup_latitude  pickup_longitude  tip_amount  \\\n",
       "200          1.000000        40.750286        -73.992531    0.000000   \n",
       "1238         1.551471        40.750321        -73.993102    2.637353   \n",
       "210          1.898305        40.750102        -73.993395    1.665028   \n",
       "1590         1.750000        40.750680        -73.992823    2.443952   \n",
       "1589         1.732394        40.750471        -73.992944    2.218732   \n",
       "480          1.440204        40.750317        -73.993007    1.903461   \n",
       "201          1.000000        40.747868        -73.996651    2.250000   \n",
       "198          1.200000        40.750917        -73.992586    1.584000   \n",
       "1427         1.571765        40.750544        -73.993197    2.237788   \n",
       "1591         1.721174        40.750531        -73.993133    2.152390   \n",
       "\n",
       "      total_amount  trip_distance  decision_function  \n",
       "200      82.840000      21.500000          -0.191391  \n",
       "1238     25.165196       3.430760          -0.137369  \n",
       "210      16.147175       3.272373          -0.137026  \n",
       "1590     24.966915       3.380645          -0.135195  \n",
       "1589     21.947623       3.330599          -0.126717  \n",
       "480      16.632774       3.393359          -0.113576  \n",
       "201      13.550000       2.100000          -0.105518  \n",
       "198      12.517333       2.375333          -0.104815  \n",
       "1427     21.646329       2.569482          -0.100603  \n",
       "1591     22.690776       2.945199          -0.096394  "
      ]
     },
     "execution_count": 49,
     "metadata": {},
     "output_type": "execute_result"
    }
   ],
   "source": [
    "tlc_df_MSG_by_day_hour.sort_values(by='decision_function').head(10)"
   ]
  },
  {
   "cell_type": "markdown",
   "metadata": {},
   "source": [
    "## Look at specific areas and see what times / dates around there are anomalies\n",
    "### staten island ferry terminal (Whitehall between state & FDR) (40.702095, -74.012782)"
   ]
  },
  {
   "cell_type": "code",
   "execution_count": 50,
   "metadata": {
    "collapsed": false
   },
   "outputs": [],
   "source": [
    "latlon_list = [40.702095, -74.012782]\n",
    "#only keep trips within a reasonable pickup lat / lon (without converting geometries)\n",
    "tlc_df_total_subset = tlc_df_total[(tlc_df_total.pickup_latitude > (latlon_list[0] - 0.005)) & (tlc_df_total.pickup_latitude < (latlon_list[0] + 0.005))]\n",
    "tlc_df_total_subset = tlc_df_total_subset[(tlc_df_total_subset.pickup_longitude > (latlon_list[1] - 0.005)) & (tlc_df_total_subset.pickup_longitude < (latlon_list[1] + 0.005))]"
   ]
  },
  {
   "cell_type": "code",
   "execution_count": 51,
   "metadata": {
    "collapsed": false
   },
   "outputs": [
    {
     "data": {
      "text/plain": [
       "558160"
      ]
     },
     "execution_count": 51,
     "metadata": {},
     "output_type": "execute_result"
    }
   ],
   "source": [
    "len(tlc_df_total_subset)"
   ]
  },
  {
   "cell_type": "code",
   "execution_count": 52,
   "metadata": {
    "collapsed": false
   },
   "outputs": [],
   "source": [
    "# convert to geopandas df\n",
    "geometry = [Point(xy) for xy in zip(tlc_df_total_subset.pickup_longitude, tlc_df_total_subset.pickup_latitude)]\n",
    "tlc_df_total_subset = tlc_df_total_subset.drop(['pickup_latitude', 'pickup_longitude'], axis=1)"
   ]
  },
  {
   "cell_type": "code",
   "execution_count": 53,
   "metadata": {
    "collapsed": true
   },
   "outputs": [],
   "source": [
    "crs = {'init': 'epsg:4326'}\n",
    "tlc_df_total_gp = GeoDataFrame(tlc_df_total_subset, crs=crs, geometry=geometry)"
   ]
  },
  {
   "cell_type": "code",
   "execution_count": 54,
   "metadata": {
    "collapsed": false
   },
   "outputs": [],
   "source": [
    "# create MSG buffer \n",
    "d = {'latitude': latlon_list[0], 'longitude': latlon_list[1]}\n",
    "MSG = pd.DataFrame(data=d, index=[0])\n",
    "geometry_MSG = [Point(xy) for xy in zip(MSG.longitude, MSG.latitude)]\n",
    "crs = {'init': 'epsg:4326'}\n",
    "MSG_gp = GeoDataFrame(crs=crs, geometry=geometry_MSG)"
   ]
  },
  {
   "cell_type": "code",
   "execution_count": 55,
   "metadata": {
    "collapsed": false
   },
   "outputs": [
    {
     "data": {
      "text/html": [
       "<div>\n",
       "<table border=\"1\" class=\"dataframe\">\n",
       "  <thead>\n",
       "    <tr style=\"text-align: right;\">\n",
       "      <th></th>\n",
       "      <th>geometry</th>\n",
       "    </tr>\n",
       "  </thead>\n",
       "  <tbody>\n",
       "    <tr>\n",
       "      <th>0</th>\n",
       "      <td>POLYGON ((-74.00778200000001 40.702095, -74.00...</td>\n",
       "    </tr>\n",
       "  </tbody>\n",
       "</table>\n",
       "</div>"
      ],
      "text/plain": [
       "                                            geometry\n",
       "0  POLYGON ((-74.00778200000001 40.702095, -74.00..."
      ]
     },
     "execution_count": 55,
     "metadata": {},
     "output_type": "execute_result"
    }
   ],
   "source": [
    "#create buffer\n",
    "MSG_gp['geometry'] = MSG_gp.geometry.buffer(.005)\n",
    "MSG_gp.head()"
   ]
  },
  {
   "cell_type": "code",
   "execution_count": 56,
   "metadata": {
    "collapsed": false
   },
   "outputs": [],
   "source": [
    "# only keep points within MSG buffer\n",
    "tlc_df_total_gp_subset = tlc_df_total_gp[tlc_df_total_gp.geometry.intersects(MSG_gp.geometry[0])]"
   ]
  },
  {
   "cell_type": "code",
   "execution_count": 57,
   "metadata": {
    "collapsed": false
   },
   "outputs": [
    {
     "name": "stderr",
     "output_type": "stream",
     "text": [
      "/Users/geoffperrin/anaconda2/lib/python2.7/site-packages/ipykernel/__main__.py:1: SettingWithCopyWarning: \n",
      "A value is trying to be set on a copy of a slice from a DataFrame.\n",
      "Try using .loc[row_indexer,col_indexer] = value instead\n",
      "\n",
      "See the caveats in the documentation: http://pandas.pydata.org/pandas-docs/stable/indexing.html#indexing-view-versus-copy\n",
      "  if __name__ == '__main__':\n"
     ]
    }
   ],
   "source": [
    "tlc_df_total_gp_subset['hour'] = tlc_df_total_gp_subset.tpep_pickup_datetime.apply(lambda x: x.hour)"
   ]
  },
  {
   "cell_type": "code",
   "execution_count": 58,
   "metadata": {
    "collapsed": true
   },
   "outputs": [],
   "source": [
    "#subset to 6am or greater hours (to only capture relevant hours)\n",
    "tlc_df_total_gp_subset = tlc_df_total_gp_subset[(tlc_df_total_gp_subset.hour >= 6)]"
   ]
  },
  {
   "cell_type": "code",
   "execution_count": 59,
   "metadata": {
    "collapsed": false
   },
   "outputs": [
    {
     "data": {
      "text/html": [
       "<div>\n",
       "<table border=\"1\" class=\"dataframe\">\n",
       "  <thead>\n",
       "    <tr style=\"text-align: right;\">\n",
       "      <th></th>\n",
       "      <th>taxi_date</th>\n",
       "      <th>hour</th>\n",
       "      <th>taxi_trip_count</th>\n",
       "    </tr>\n",
       "  </thead>\n",
       "  <tbody>\n",
       "    <tr>\n",
       "      <th>0</th>\n",
       "      <td>2016-01-01</td>\n",
       "      <td>6</td>\n",
       "      <td>14</td>\n",
       "    </tr>\n",
       "    <tr>\n",
       "      <th>1</th>\n",
       "      <td>2016-01-01</td>\n",
       "      <td>7</td>\n",
       "      <td>15</td>\n",
       "    </tr>\n",
       "    <tr>\n",
       "      <th>2</th>\n",
       "      <td>2016-01-01</td>\n",
       "      <td>8</td>\n",
       "      <td>27</td>\n",
       "    </tr>\n",
       "    <tr>\n",
       "      <th>3</th>\n",
       "      <td>2016-01-01</td>\n",
       "      <td>9</td>\n",
       "      <td>37</td>\n",
       "    </tr>\n",
       "    <tr>\n",
       "      <th>4</th>\n",
       "      <td>2016-01-01</td>\n",
       "      <td>10</td>\n",
       "      <td>53</td>\n",
       "    </tr>\n",
       "  </tbody>\n",
       "</table>\n",
       "</div>"
      ],
      "text/plain": [
       "    taxi_date  hour  taxi_trip_count\n",
       "0  2016-01-01     6               14\n",
       "1  2016-01-01     7               15\n",
       "2  2016-01-01     8               27\n",
       "3  2016-01-01     9               37\n",
       "4  2016-01-01    10               53"
      ]
     },
     "execution_count": 59,
     "metadata": {},
     "output_type": "execute_result"
    }
   ],
   "source": [
    "#take the mean of the taxi stats each day / hour\n",
    "tlc_df_MSG_count = tlc_df_total_gp_subset.groupby(['taxi_date', 'hour'], as_index=False)['extra'].count()\n",
    "tlc_df_MSG_count.columns = ['taxi_date', 'hour', 'taxi_trip_count']\n",
    "tlc_df_MSG_count.head()"
   ]
  },
  {
   "cell_type": "code",
   "execution_count": 60,
   "metadata": {
    "collapsed": false
   },
   "outputs": [
    {
     "data": {
      "text/html": [
       "<div>\n",
       "<table border=\"1\" class=\"dataframe\">\n",
       "  <thead>\n",
       "    <tr style=\"text-align: right;\">\n",
       "      <th></th>\n",
       "      <th>taxi_date</th>\n",
       "      <th>hour</th>\n",
       "      <th>extra</th>\n",
       "      <th>fare_amount</th>\n",
       "      <th>mta_tax</th>\n",
       "      <th>passenger_count</th>\n",
       "      <th>tip_amount</th>\n",
       "      <th>total_amount</th>\n",
       "      <th>trip_distance</th>\n",
       "    </tr>\n",
       "  </thead>\n",
       "  <tbody>\n",
       "    <tr>\n",
       "      <th>0</th>\n",
       "      <td>2016-01-01</td>\n",
       "      <td>6</td>\n",
       "      <td>0.0</td>\n",
       "      <td>22.821429</td>\n",
       "      <td>0.464286</td>\n",
       "      <td>2.285714</td>\n",
       "      <td>2.372143</td>\n",
       "      <td>27.200714</td>\n",
       "      <td>6.947143</td>\n",
       "    </tr>\n",
       "    <tr>\n",
       "      <th>1</th>\n",
       "      <td>2016-01-01</td>\n",
       "      <td>7</td>\n",
       "      <td>0.0</td>\n",
       "      <td>20.500000</td>\n",
       "      <td>0.500000</td>\n",
       "      <td>1.266667</td>\n",
       "      <td>1.640667</td>\n",
       "      <td>22.940667</td>\n",
       "      <td>6.773333</td>\n",
       "    </tr>\n",
       "    <tr>\n",
       "      <th>2</th>\n",
       "      <td>2016-01-01</td>\n",
       "      <td>8</td>\n",
       "      <td>0.0</td>\n",
       "      <td>19.666667</td>\n",
       "      <td>0.481481</td>\n",
       "      <td>1.925926</td>\n",
       "      <td>1.843333</td>\n",
       "      <td>22.701852</td>\n",
       "      <td>5.560370</td>\n",
       "    </tr>\n",
       "    <tr>\n",
       "      <th>3</th>\n",
       "      <td>2016-01-01</td>\n",
       "      <td>9</td>\n",
       "      <td>0.0</td>\n",
       "      <td>13.864865</td>\n",
       "      <td>0.500000</td>\n",
       "      <td>1.945946</td>\n",
       "      <td>0.904324</td>\n",
       "      <td>15.569189</td>\n",
       "      <td>4.062973</td>\n",
       "    </tr>\n",
       "    <tr>\n",
       "      <th>4</th>\n",
       "      <td>2016-01-01</td>\n",
       "      <td>10</td>\n",
       "      <td>0.0</td>\n",
       "      <td>16.216981</td>\n",
       "      <td>0.490566</td>\n",
       "      <td>1.698113</td>\n",
       "      <td>1.374906</td>\n",
       "      <td>18.580566</td>\n",
       "      <td>4.759245</td>\n",
       "    </tr>\n",
       "  </tbody>\n",
       "</table>\n",
       "</div>"
      ],
      "text/plain": [
       "    taxi_date  hour  extra  fare_amount   mta_tax  passenger_count  \\\n",
       "0  2016-01-01     6    0.0    22.821429  0.464286         2.285714   \n",
       "1  2016-01-01     7    0.0    20.500000  0.500000         1.266667   \n",
       "2  2016-01-01     8    0.0    19.666667  0.481481         1.925926   \n",
       "3  2016-01-01     9    0.0    13.864865  0.500000         1.945946   \n",
       "4  2016-01-01    10    0.0    16.216981  0.490566         1.698113   \n",
       "\n",
       "   tip_amount  total_amount  trip_distance  \n",
       "0    2.372143     27.200714       6.947143  \n",
       "1    1.640667     22.940667       6.773333  \n",
       "2    1.843333     22.701852       5.560370  \n",
       "3    0.904324     15.569189       4.062973  \n",
       "4    1.374906     18.580566       4.759245  "
      ]
     },
     "execution_count": 60,
     "metadata": {},
     "output_type": "execute_result"
    }
   ],
   "source": [
    "#take the mean of the taxi stats each day / hour\n",
    "tlc_df_MSG_mean = tlc_df_total_gp_subset.groupby(['taxi_date', 'hour'], as_index=False).mean()\n",
    "tlc_df_MSG_mean.head()"
   ]
  },
  {
   "cell_type": "code",
   "execution_count": 61,
   "metadata": {
    "collapsed": false
   },
   "outputs": [
    {
     "data": {
      "text/html": [
       "<div>\n",
       "<table border=\"1\" class=\"dataframe\">\n",
       "  <thead>\n",
       "    <tr style=\"text-align: right;\">\n",
       "      <th></th>\n",
       "      <th>taxi_date</th>\n",
       "      <th>hour</th>\n",
       "      <th>taxi_trip_count</th>\n",
       "      <th>extra</th>\n",
       "      <th>fare_amount</th>\n",
       "      <th>mta_tax</th>\n",
       "      <th>passenger_count</th>\n",
       "      <th>tip_amount</th>\n",
       "      <th>total_amount</th>\n",
       "      <th>trip_distance</th>\n",
       "    </tr>\n",
       "  </thead>\n",
       "  <tbody>\n",
       "    <tr>\n",
       "      <th>0</th>\n",
       "      <td>2016-01-01</td>\n",
       "      <td>6</td>\n",
       "      <td>14</td>\n",
       "      <td>0.0</td>\n",
       "      <td>22.821429</td>\n",
       "      <td>0.464286</td>\n",
       "      <td>2.285714</td>\n",
       "      <td>2.372143</td>\n",
       "      <td>27.200714</td>\n",
       "      <td>6.947143</td>\n",
       "    </tr>\n",
       "    <tr>\n",
       "      <th>1</th>\n",
       "      <td>2016-01-01</td>\n",
       "      <td>7</td>\n",
       "      <td>15</td>\n",
       "      <td>0.0</td>\n",
       "      <td>20.500000</td>\n",
       "      <td>0.500000</td>\n",
       "      <td>1.266667</td>\n",
       "      <td>1.640667</td>\n",
       "      <td>22.940667</td>\n",
       "      <td>6.773333</td>\n",
       "    </tr>\n",
       "    <tr>\n",
       "      <th>2</th>\n",
       "      <td>2016-01-01</td>\n",
       "      <td>8</td>\n",
       "      <td>27</td>\n",
       "      <td>0.0</td>\n",
       "      <td>19.666667</td>\n",
       "      <td>0.481481</td>\n",
       "      <td>1.925926</td>\n",
       "      <td>1.843333</td>\n",
       "      <td>22.701852</td>\n",
       "      <td>5.560370</td>\n",
       "    </tr>\n",
       "    <tr>\n",
       "      <th>3</th>\n",
       "      <td>2016-01-01</td>\n",
       "      <td>9</td>\n",
       "      <td>37</td>\n",
       "      <td>0.0</td>\n",
       "      <td>13.864865</td>\n",
       "      <td>0.500000</td>\n",
       "      <td>1.945946</td>\n",
       "      <td>0.904324</td>\n",
       "      <td>15.569189</td>\n",
       "      <td>4.062973</td>\n",
       "    </tr>\n",
       "    <tr>\n",
       "      <th>4</th>\n",
       "      <td>2016-01-01</td>\n",
       "      <td>10</td>\n",
       "      <td>53</td>\n",
       "      <td>0.0</td>\n",
       "      <td>16.216981</td>\n",
       "      <td>0.490566</td>\n",
       "      <td>1.698113</td>\n",
       "      <td>1.374906</td>\n",
       "      <td>18.580566</td>\n",
       "      <td>4.759245</td>\n",
       "    </tr>\n",
       "  </tbody>\n",
       "</table>\n",
       "</div>"
      ],
      "text/plain": [
       "    taxi_date  hour  taxi_trip_count  extra  fare_amount   mta_tax  \\\n",
       "0  2016-01-01     6               14    0.0    22.821429  0.464286   \n",
       "1  2016-01-01     7               15    0.0    20.500000  0.500000   \n",
       "2  2016-01-01     8               27    0.0    19.666667  0.481481   \n",
       "3  2016-01-01     9               37    0.0    13.864865  0.500000   \n",
       "4  2016-01-01    10               53    0.0    16.216981  0.490566   \n",
       "\n",
       "   passenger_count  tip_amount  total_amount  trip_distance  \n",
       "0         2.285714    2.372143     27.200714       6.947143  \n",
       "1         1.266667    1.640667     22.940667       6.773333  \n",
       "2         1.925926    1.843333     22.701852       5.560370  \n",
       "3         1.945946    0.904324     15.569189       4.062973  \n",
       "4         1.698113    1.374906     18.580566       4.759245  "
      ]
     },
     "execution_count": 61,
     "metadata": {},
     "output_type": "execute_result"
    }
   ],
   "source": [
    "tlc_df_MSG_by_day_hour = tlc_df_MSG_count.merge(tlc_df_MSG_mean, on=['taxi_date', 'hour'])\n",
    "tlc_df_MSG_by_day_hour.head()"
   ]
  },
  {
   "cell_type": "code",
   "execution_count": 62,
   "metadata": {
    "collapsed": false
   },
   "outputs": [
    {
     "data": {
      "text/plain": [
       "<matplotlib.axes._subplots.AxesSubplot at 0x1b7cab3d0>"
      ]
     },
     "execution_count": 62,
     "metadata": {},
     "output_type": "execute_result"
    },
    {
     "data": {
      "image/png": "[encoded data removed]",
      "text/plain": [
       "<matplotlib.figure.Figure at 0x1b7c9a750>"
      ]
     },
     "metadata": {},
     "output_type": "display_data"
    }
   ],
   "source": [
    "tlc_df_MSG_by_day_hour[['taxi_date', 'taxi_trip_count']].plot()"
   ]
  },
  {
   "cell_type": "code",
   "execution_count": 63,
   "metadata": {
    "collapsed": false
   },
   "outputs": [
    {
     "data": {
      "text/plain": [
       "<matplotlib.axes._subplots.AxesSubplot at 0x1b7833590>"
      ]
     },
     "execution_count": 63,
     "metadata": {},
     "output_type": "execute_result"
    },
    {
     "data": {
      "image/png": "[encoded data removed]",
      "text/plain": [
       "<matplotlib.figure.Figure at 0x1b76e47d0>"
      ]
     },
     "metadata": {},
     "output_type": "display_data"
    }
   ],
   "source": [
    "tlc_agg = tlc_df_MSG_by_day_hour.groupby(['hour'], as_index=False).sum()\n",
    "tlc_agg[['taxi_trip_count']].plot()"
   ]
  },
  {
   "cell_type": "code",
   "execution_count": 64,
   "metadata": {
    "collapsed": false
   },
   "outputs": [],
   "source": [
    "\n",
    "# only keep points within buffer\n",
    "ny_streets = ny_streets_raw[ny_streets_raw.geometry.intersects(MSG_gp.geometry[0])]"
   ]
  },
  {
   "cell_type": "code",
   "execution_count": 65,
   "metadata": {
    "collapsed": false
   },
   "outputs": [],
   "source": [
    "tlc_df_total_gp_subset['total_mean'] = tlc_df_total_gp_subset.total_amount.mean()\n",
    "tlc_df_total_gp_subset['total_std'] = tlc_df_total_gp_subset.total_amount.std()\n",
    "\n",
    "def set_color(Data1):\n",
    "    if (Data1.total_amount > (Data1.total_mean + 2*Data1.total_std)):\n",
    "        return \"green\"\n",
    "    elif (Data1.total_amount < (Data1.total_mean - 2*Data1.total_std)):\n",
    "        return \"red\"\n",
    "    else:\n",
    "        return \"white\"\n",
    "\n",
    "    \n",
    "tlc_df_total_gp_subset = tlc_df_total_gp_subset.assign(color=tlc_df_total_gp_subset.apply(set_color, axis=1))\n",
    "tlc_df_total_gp_subset = tlc_df_total_gp_subset.drop(['total_mean', 'total_std'], axis=1)"
   ]
  },
  {
   "cell_type": "code",
   "execution_count": 66,
   "metadata": {
    "collapsed": false
   },
   "outputs": [
    {
     "data": {
      "text/plain": [
       "<matplotlib.text.Text at 0x1b714fd90>"
      ]
     },
     "execution_count": 66,
     "metadata": {},
     "output_type": "execute_result"
    },
    {
     "data": {
      "image/png": "[encoded data removed]",
      "text/plain": [
       "<matplotlib.figure.Figure at 0x1b75096d0>"
      ]
     },
     "metadata": {},
     "output_type": "display_data"
    }
   ],
   "source": [
    "# is there a way to easily plot each color differently? I have this color column highlighting outliers!\n",
    "\n",
    "MSG_sample = tlc_df_total_gp_subset.sample(n=1000)\n",
    "#MSG_sample.lon = MSG_sample.geometry.x\n",
    "#MSG_sample.lat = MSG_sample.geometry.y\n",
    "f, (ax1) = plt.subplots(figsize=(12,8))\n",
    "MSG_sample.plot(alpha=0.5, ax=ax1, color = 'red')\n",
    "ny_streets['geometry'].plot(alpha=1, linewidth=0.25, ax=ax1, color = '0')\n",
    "ax1.set_title(\"Plot of Taxi Pickups, Around Ferry Terminal\", fontsize=20)\n",
    "plt.xlabel(\"longitude\")\n",
    "plt.ylabel(\"latitude\")"
   ]
  },
  {
   "cell_type": "markdown",
   "metadata": {},
   "source": [
    "## Ferry Terminal anomaly analysis (isolation forest)"
   ]
  },
  {
   "cell_type": "code",
   "execution_count": 67,
   "metadata": {
    "collapsed": false
   },
   "outputs": [
    {
     "data": {
      "text/html": [
       "<div>\n",
       "<table border=\"1\" class=\"dataframe\">\n",
       "  <thead>\n",
       "    <tr style=\"text-align: right;\">\n",
       "      <th></th>\n",
       "      <th>passenger_count</th>\n",
       "      <th>trip_distance</th>\n",
       "      <th>total_amount</th>\n",
       "      <th>taxi_trip_count</th>\n",
       "    </tr>\n",
       "  </thead>\n",
       "  <tbody>\n",
       "    <tr>\n",
       "      <th>0</th>\n",
       "      <td>2.285714</td>\n",
       "      <td>6.947143</td>\n",
       "      <td>27.200714</td>\n",
       "      <td>14</td>\n",
       "    </tr>\n",
       "    <tr>\n",
       "      <th>1</th>\n",
       "      <td>1.266667</td>\n",
       "      <td>6.773333</td>\n",
       "      <td>22.940667</td>\n",
       "      <td>15</td>\n",
       "    </tr>\n",
       "  </tbody>\n",
       "</table>\n",
       "</div>"
      ],
      "text/plain": [
       "   passenger_count  trip_distance  total_amount  taxi_trip_count\n",
       "0         2.285714       6.947143     27.200714               14\n",
       "1         1.266667       6.773333     22.940667               15"
      ]
     },
     "execution_count": 67,
     "metadata": {},
     "output_type": "execute_result"
    }
   ],
   "source": [
    "X = tlc_df_MSG_by_day_hour[['passenger_count', 'trip_distance' ,'total_amount', 'taxi_trip_count']]\n",
    "X.head(2)"
   ]
  },
  {
   "cell_type": "code",
   "execution_count": 68,
   "metadata": {
    "collapsed": false
   },
   "outputs": [
    {
     "name": "stderr",
     "output_type": "stream",
     "text": [
      "/Users/geoffperrin/anaconda2/lib/python2.7/site-packages/ipykernel/__main__.py:3: SettingWithCopyWarning: \n",
      "A value is trying to be set on a copy of a slice from a DataFrame.\n",
      "Try using .loc[row_indexer,col_indexer] = value instead\n",
      "\n",
      "See the caveats in the documentation: http://pandas.pydata.org/pandas-docs/stable/indexing.html#indexing-view-versus-copy\n",
      "  app.launch_new_instance()\n"
     ]
    }
   ],
   "source": [
    "#normalize columns\n",
    "for i in X.columns:\n",
    "    X[i] = (X[i] - X[i].mean()) / X[i].std()"
   ]
  },
  {
   "cell_type": "code",
   "execution_count": 69,
   "metadata": {
    "collapsed": false
   },
   "outputs": [],
   "source": [
    "train,test=train_test_split(X, random_state=999, test_size=0.3)\n",
    "# fit the model\n",
    "clf = IsolationForest(max_samples=100, random_state=999)\n",
    "clf.fit(train)\n",
    "y_pred = clf.predict(X)"
   ]
  },
  {
   "cell_type": "code",
   "execution_count": 70,
   "metadata": {
    "collapsed": true
   },
   "outputs": [],
   "source": [
    "tlc_df_MSG_by_day_hour['decision_function'] = clf.decision_function(X)"
   ]
  },
  {
   "cell_type": "code",
   "execution_count": 72,
   "metadata": {
    "collapsed": false,
    "scrolled": true
   },
   "outputs": [
    {
     "data": {
      "text/html": [
       "<div>\n",
       "<table border=\"1\" class=\"dataframe\">\n",
       "  <thead>\n",
       "    <tr style=\"text-align: right;\">\n",
       "      <th></th>\n",
       "      <th>taxi_date</th>\n",
       "      <th>hour</th>\n",
       "      <th>taxi_trip_count</th>\n",
       "      <th>extra</th>\n",
       "      <th>fare_amount</th>\n",
       "      <th>mta_tax</th>\n",
       "      <th>passenger_count</th>\n",
       "      <th>tip_amount</th>\n",
       "      <th>total_amount</th>\n",
       "      <th>trip_distance</th>\n",
       "      <th>decision_function</th>\n",
       "    </tr>\n",
       "  </thead>\n",
       "  <tbody>\n",
       "    <tr>\n",
       "      <th>397</th>\n",
       "      <td>2016-01-23</td>\n",
       "      <td>7</td>\n",
       "      <td>4</td>\n",
       "      <td>0.00000</td>\n",
       "      <td>10.625000</td>\n",
       "      <td>0.500000</td>\n",
       "      <td>1.000000</td>\n",
       "      <td>0.987500</td>\n",
       "      <td>12.412500</td>\n",
       "      <td>2.340000</td>\n",
       "      <td>-0.139265</td>\n",
       "    </tr>\n",
       "    <tr>\n",
       "      <th>402</th>\n",
       "      <td>2016-01-23</td>\n",
       "      <td>12</td>\n",
       "      <td>1</td>\n",
       "      <td>0.00000</td>\n",
       "      <td>3.000000</td>\n",
       "      <td>0.500000</td>\n",
       "      <td>1.000000</td>\n",
       "      <td>0.000000</td>\n",
       "      <td>3.800000</td>\n",
       "      <td>0.100000</td>\n",
       "      <td>-0.139265</td>\n",
       "    </tr>\n",
       "    <tr>\n",
       "      <th>306</th>\n",
       "      <td>2016-01-18</td>\n",
       "      <td>6</td>\n",
       "      <td>17</td>\n",
       "      <td>0.00000</td>\n",
       "      <td>22.235294</td>\n",
       "      <td>0.470588</td>\n",
       "      <td>1.235294</td>\n",
       "      <td>3.623529</td>\n",
       "      <td>27.364706</td>\n",
       "      <td>7.004118</td>\n",
       "      <td>-0.138438</td>\n",
       "    </tr>\n",
       "    <tr>\n",
       "      <th>0</th>\n",
       "      <td>2016-01-01</td>\n",
       "      <td>6</td>\n",
       "      <td>14</td>\n",
       "      <td>0.00000</td>\n",
       "      <td>22.821429</td>\n",
       "      <td>0.464286</td>\n",
       "      <td>2.285714</td>\n",
       "      <td>2.372143</td>\n",
       "      <td>27.200714</td>\n",
       "      <td>6.947143</td>\n",
       "      <td>-0.136899</td>\n",
       "    </tr>\n",
       "    <tr>\n",
       "      <th>2797</th>\n",
       "      <td>2016-06-05</td>\n",
       "      <td>6</td>\n",
       "      <td>16</td>\n",
       "      <td>0.00000</td>\n",
       "      <td>26.312500</td>\n",
       "      <td>0.500000</td>\n",
       "      <td>1.500000</td>\n",
       "      <td>2.459375</td>\n",
       "      <td>30.228125</td>\n",
       "      <td>8.670000</td>\n",
       "      <td>-0.131270</td>\n",
       "    </tr>\n",
       "    <tr>\n",
       "      <th>405</th>\n",
       "      <td>2016-01-24</td>\n",
       "      <td>8</td>\n",
       "      <td>4</td>\n",
       "      <td>0.00000</td>\n",
       "      <td>7.625000</td>\n",
       "      <td>0.500000</td>\n",
       "      <td>2.250000</td>\n",
       "      <td>1.505000</td>\n",
       "      <td>9.930000</td>\n",
       "      <td>1.660000</td>\n",
       "      <td>-0.129970</td>\n",
       "    </tr>\n",
       "    <tr>\n",
       "      <th>2689</th>\n",
       "      <td>2016-05-30</td>\n",
       "      <td>6</td>\n",
       "      <td>9</td>\n",
       "      <td>0.00000</td>\n",
       "      <td>26.277778</td>\n",
       "      <td>0.444444</td>\n",
       "      <td>1.777778</td>\n",
       "      <td>3.015556</td>\n",
       "      <td>32.042222</td>\n",
       "      <td>8.303333</td>\n",
       "      <td>-0.127216</td>\n",
       "    </tr>\n",
       "    <tr>\n",
       "      <th>3049</th>\n",
       "      <td>2016-06-19</td>\n",
       "      <td>6</td>\n",
       "      <td>10</td>\n",
       "      <td>0.00000</td>\n",
       "      <td>24.950000</td>\n",
       "      <td>0.500000</td>\n",
       "      <td>1.800000</td>\n",
       "      <td>4.242000</td>\n",
       "      <td>30.546000</td>\n",
       "      <td>8.764000</td>\n",
       "      <td>-0.124242</td>\n",
       "    </tr>\n",
       "    <tr>\n",
       "      <th>2923</th>\n",
       "      <td>2016-06-12</td>\n",
       "      <td>6</td>\n",
       "      <td>21</td>\n",
       "      <td>0.02381</td>\n",
       "      <td>24.214286</td>\n",
       "      <td>0.476190</td>\n",
       "      <td>1.857143</td>\n",
       "      <td>2.515714</td>\n",
       "      <td>29.059524</td>\n",
       "      <td>7.971905</td>\n",
       "      <td>-0.119196</td>\n",
       "    </tr>\n",
       "    <tr>\n",
       "      <th>1</th>\n",
       "      <td>2016-01-01</td>\n",
       "      <td>7</td>\n",
       "      <td>15</td>\n",
       "      <td>0.00000</td>\n",
       "      <td>20.500000</td>\n",
       "      <td>0.500000</td>\n",
       "      <td>1.266667</td>\n",
       "      <td>1.640667</td>\n",
       "      <td>22.940667</td>\n",
       "      <td>6.773333</td>\n",
       "      <td>-0.116386</td>\n",
       "    </tr>\n",
       "  </tbody>\n",
       "</table>\n",
       "</div>"
      ],
      "text/plain": [
       "       taxi_date  hour  taxi_trip_count    extra  fare_amount   mta_tax  \\\n",
       "397   2016-01-23     7                4  0.00000    10.625000  0.500000   \n",
       "402   2016-01-23    12                1  0.00000     3.000000  0.500000   \n",
       "306   2016-01-18     6               17  0.00000    22.235294  0.470588   \n",
       "0     2016-01-01     6               14  0.00000    22.821429  0.464286   \n",
       "2797  2016-06-05     6               16  0.00000    26.312500  0.500000   \n",
       "405   2016-01-24     8                4  0.00000     7.625000  0.500000   \n",
       "2689  2016-05-30     6                9  0.00000    26.277778  0.444444   \n",
       "3049  2016-06-19     6               10  0.00000    24.950000  0.500000   \n",
       "2923  2016-06-12     6               21  0.02381    24.214286  0.476190   \n",
       "1     2016-01-01     7               15  0.00000    20.500000  0.500000   \n",
       "\n",
       "      passenger_count  tip_amount  total_amount  trip_distance  \\\n",
       "397          1.000000    0.987500     12.412500       2.340000   \n",
       "402          1.000000    0.000000      3.800000       0.100000   \n",
       "306          1.235294    3.623529     27.364706       7.004118   \n",
       "0            2.285714    2.372143     27.200714       6.947143   \n",
       "2797         1.500000    2.459375     30.228125       8.670000   \n",
       "405          2.250000    1.505000      9.930000       1.660000   \n",
       "2689         1.777778    3.015556     32.042222       8.303333   \n",
       "3049         1.800000    4.242000     30.546000       8.764000   \n",
       "2923         1.857143    2.515714     29.059524       7.971905   \n",
       "1            1.266667    1.640667     22.940667       6.773333   \n",
       "\n",
       "      decision_function  \n",
       "397           -0.139265  \n",
       "402           -0.139265  \n",
       "306           -0.138438  \n",
       "0             -0.136899  \n",
       "2797          -0.131270  \n",
       "405           -0.129970  \n",
       "2689          -0.127216  \n",
       "3049          -0.124242  \n",
       "2923          -0.119196  \n",
       "1             -0.116386  "
      ]
     },
     "execution_count": 72,
     "metadata": {},
     "output_type": "execute_result"
    }
   ],
   "source": [
    "tlc_df_MSG_by_day_hour.sort_values(by='decision_function').head(10)"
   ]
  },
  {
   "cell_type": "code",
   "execution_count": null,
   "metadata": {
    "collapsed": true
   },
   "outputs": [],
   "source": []
  }
 ],
 "metadata": {
  "anaconda-cloud": {},
  "kernelspec": {
   "display_name": "Python [Root]",
   "language": "python",
   "name": "Python [Root]"
  },
  "language_info": {
   "codemirror_mode": {
    "name": "ipython",
    "version": 2
   },
   "file_extension": ".py",
   "mimetype": "text/x-python",
   "name": "python",
   "nbconvert_exporter": "python",
   "pygments_lexer": "ipython2",
   "version": "2.7.12"
  }
 },
 "nbformat": 4,
 "nbformat_minor": 2
}
