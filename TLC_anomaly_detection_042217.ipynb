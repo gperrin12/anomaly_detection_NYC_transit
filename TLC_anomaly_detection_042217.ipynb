{
 "cells": [
  {
   "cell_type": "markdown",
   "metadata": {},
   "source": [
    "## Anomaly Detection for NYC Taxi & Limousine Data"
   ]
  },
  {
   "cell_type": "code",
   "execution_count": 68,
   "metadata": {
    "collapsed": false
   },
   "outputs": [
    {
     "name": "stdout",
     "output_type": "stream",
     "text": [
      "Populating the interactive namespace from numpy and matplotlib\n"
     ]
    },
    {
     "name": "stderr",
     "output_type": "stream",
     "text": [
      "WARNING: pylab import has clobbered these variables: ['compress', 'datetime', 'test']\n",
      "`%matplotlib` prevents importing * from pylab and numpy\n"
     ]
    }
   ],
   "source": [
    "import numpy as np\n",
    "import pandas as pd\n",
    "import os\n",
    "import subprocess\n",
    "from shapely.geometry import Point\n",
    "from datetime import datetime\n",
    "import matplotlib\n",
    "matplotlib.use('TkAgg')\n",
    "import matplotlib.pyplot as plt\n",
    "from datetime import datetime\n",
    "import matplotlib.pyplot as plt\n",
    "import sklearn\n",
    "from sklearn import datasets\n",
    "from sklearn.decomposition import PCA\n",
    "from sklearn.linear_model import LogisticRegression\n",
    "from sklearn.ensemble import RandomForestClassifier as RFC\n",
    "from sklearn.ensemble import RandomForestRegressor as RFR\n",
    "from sklearn.model_selection import GridSearchCV\n",
    "from sklearn.metrics import roc_auc_score as rs\n",
    "from sklearn import svm, datasets\n",
    "from sklearn import metrics\n",
    "from sklearn.metrics import roc_curve\n",
    "from sklearn.metrics import auc\n",
    "from sklearn.metrics import silhouette_samples, silhouette_score\n",
    "from sklearn.cluster import KMeans\n",
    "from sklearn.mixture import GaussianMixture\n",
    "from sklearn.cross_validation import train_test_split\n",
    "from sklearn.ensemble import IsolationForest\n",
    "\n",
    "from itertools import compress\n",
    "\n",
    "np.random.seed(222)\n",
    "\n",
    "%matplotlib inline\n",
    "%pylab inline\n",
    "pd.options.display.max_columns = 120\n",
    "pd.options.display.max_rows = 120"
   ]
  },
  {
   "cell_type": "code",
   "execution_count": 4,
   "metadata": {
    "collapsed": false
   },
   "outputs": [],
   "source": [
    "proj_folder = os.getcwd()"
   ]
  },
  {
   "cell_type": "markdown",
   "metadata": {},
   "source": [
    "## TLC anomaly detection"
   ]
  },
  {
   "cell_type": "markdown",
   "metadata": {},
   "source": [
    "## Notes 4-22-17\n",
    "Next steps:\n",
    "1. would love to look at different areas of the city and see where the anomalies relative to those places\n",
    "i.e. taxi trips to/from coney island would be interesting / or around MSG - \"concert superstorm?\""
   ]
  },
  {
   "cell_type": "code",
   "execution_count": 5,
   "metadata": {
    "collapsed": false
   },
   "outputs": [],
   "source": [
    "### read in data for 2016\n",
    "columns = ['passenger_count', 'trip_distance', 'fare_amount', \\\n",
    "                     'extra', 'mta_tax', 'tip_amount', 'total_amount', \\\n",
    "                     'tpep_pickup_datetime', 'tpep_dropoff_datetime']\n",
    "tlc_df_raw_total = pd.DataFrame(columns = columns)\n",
    "for i in range(1,4):\n",
    "    tlc_df_raw = pd.read_csv(proj_folder + '/data/tlc_yellow_2016_' + str(i) + '.csv', usecols=['passenger_count', \\\n",
    "                    'trip_distance', 'fare_amount', 'extra', 'mta_tax', 'tip_amount', 'total_amount', \\\n",
    "                     'tpep_pickup_datetime', 'tpep_dropoff_datetime'])\n",
    "    tlc_df_raw_total = tlc_df_raw_total.append(tlc_df_raw, ignore_index=True)"
   ]
  },
  {
   "cell_type": "code",
   "execution_count": 6,
   "metadata": {
    "collapsed": false
   },
   "outputs": [
    {
     "data": {
      "text/plain": [
       "34499859"
      ]
     },
     "execution_count": 6,
     "metadata": {},
     "output_type": "execute_result"
    }
   ],
   "source": [
    "len(tlc_df_raw_total)"
   ]
  },
  {
   "cell_type": "code",
   "execution_count": 7,
   "metadata": {
    "collapsed": false
   },
   "outputs": [
    {
     "data": {
      "text/html": [
       "<div>\n",
       "<table border=\"1\" class=\"dataframe\">\n",
       "  <thead>\n",
       "    <tr style=\"text-align: right;\">\n",
       "      <th></th>\n",
       "      <th>extra</th>\n",
       "      <th>fare_amount</th>\n",
       "      <th>mta_tax</th>\n",
       "      <th>passenger_count</th>\n",
       "      <th>tip_amount</th>\n",
       "      <th>total_amount</th>\n",
       "      <th>tpep_dropoff_datetime</th>\n",
       "      <th>tpep_pickup_datetime</th>\n",
       "      <th>trip_distance</th>\n",
       "    </tr>\n",
       "  </thead>\n",
       "  <tbody>\n",
       "    <tr>\n",
       "      <th>0</th>\n",
       "      <td>0.5</td>\n",
       "      <td>7.5</td>\n",
       "      <td>0.5</td>\n",
       "      <td>2.0</td>\n",
       "      <td>0.0</td>\n",
       "      <td>8.8</td>\n",
       "      <td>2016-01-01</td>\n",
       "      <td>2016-01-01</td>\n",
       "      <td>1.10</td>\n",
       "    </tr>\n",
       "    <tr>\n",
       "      <th>1</th>\n",
       "      <td>0.5</td>\n",
       "      <td>18.0</td>\n",
       "      <td>0.5</td>\n",
       "      <td>5.0</td>\n",
       "      <td>0.0</td>\n",
       "      <td>19.3</td>\n",
       "      <td>2016-01-01</td>\n",
       "      <td>2016-01-01</td>\n",
       "      <td>4.90</td>\n",
       "    </tr>\n",
       "    <tr>\n",
       "      <th>2</th>\n",
       "      <td>0.5</td>\n",
       "      <td>33.0</td>\n",
       "      <td>0.5</td>\n",
       "      <td>1.0</td>\n",
       "      <td>0.0</td>\n",
       "      <td>34.3</td>\n",
       "      <td>2016-01-01</td>\n",
       "      <td>2016-01-01</td>\n",
       "      <td>10.54</td>\n",
       "    </tr>\n",
       "    <tr>\n",
       "      <th>3</th>\n",
       "      <td>0.0</td>\n",
       "      <td>16.5</td>\n",
       "      <td>0.5</td>\n",
       "      <td>1.0</td>\n",
       "      <td>0.0</td>\n",
       "      <td>17.3</td>\n",
       "      <td>2016-01-01</td>\n",
       "      <td>2016-01-01</td>\n",
       "      <td>4.75</td>\n",
       "    </tr>\n",
       "    <tr>\n",
       "      <th>4</th>\n",
       "      <td>0.0</td>\n",
       "      <td>8.0</td>\n",
       "      <td>0.5</td>\n",
       "      <td>3.0</td>\n",
       "      <td>0.0</td>\n",
       "      <td>8.8</td>\n",
       "      <td>2016-01-01</td>\n",
       "      <td>2016-01-01</td>\n",
       "      <td>1.76</td>\n",
       "    </tr>\n",
       "  </tbody>\n",
       "</table>\n",
       "</div>"
      ],
      "text/plain": [
       "   extra  fare_amount  mta_tax  passenger_count  tip_amount  total_amount  \\\n",
       "0    0.5          7.5      0.5              2.0         0.0           8.8   \n",
       "1    0.5         18.0      0.5              5.0         0.0          19.3   \n",
       "2    0.5         33.0      0.5              1.0         0.0          34.3   \n",
       "3    0.0         16.5      0.5              1.0         0.0          17.3   \n",
       "4    0.0          8.0      0.5              3.0         0.0           8.8   \n",
       "\n",
       "  tpep_dropoff_datetime tpep_pickup_datetime  trip_distance  \n",
       "0            2016-01-01           2016-01-01           1.10  \n",
       "1            2016-01-01           2016-01-01           4.90  \n",
       "2            2016-01-01           2016-01-01          10.54  \n",
       "3            2016-01-01           2016-01-01           4.75  \n",
       "4            2016-01-01           2016-01-01           1.76  "
      ]
     },
     "execution_count": 7,
     "metadata": {},
     "output_type": "execute_result"
    }
   ],
   "source": [
    "tlc_df_raw_total['tpep_pickup_datetime'] = pd.to_datetime(tlc_df_raw_total['tpep_pickup_datetime'])\n",
    "tlc_df_raw_total['tpep_dropoff_datetime'] = pd.to_datetime(tlc_df_raw_total['tpep_dropoff_datetime'])\n",
    "tlc_df_raw_total.head()"
   ]
  },
  {
   "cell_type": "code",
   "execution_count": 8,
   "metadata": {
    "collapsed": false
   },
   "outputs": [],
   "source": [
    "#CANNOT GET THIS TRIP DURATION TO WORK - MOVING ON FOR NOW\n",
    "#tlc_df['trip_duration'] = pd.Timedelta(tlc_df['tpep_dropoff_datetime_2'] - tlc_df['tpep_pickup_datetime']).seconds / 3600.0\n",
    "#tlc_df['trip_speed'] = tlc_df.trip_distance / tlc_df.trip_duration"
   ]
  },
  {
   "cell_type": "markdown",
   "metadata": {},
   "source": [
    "## Clean the data - \n",
    "drop all the unreasonable trip entries, such as those that have trip distance in the millions of miles"
   ]
  },
  {
   "cell_type": "code",
   "execution_count": 38,
   "metadata": {
    "collapsed": false,
    "scrolled": true
   },
   "outputs": [
    {
     "name": "stderr",
     "output_type": "stream",
     "text": [
      "/Users/geoffperrin/anaconda2/lib/python2.7/site-packages/ipykernel/__main__.py:1: FutureWarning: sort(columns=....) is deprecated, use sort_values(by=.....)\n",
      "  if __name__ == '__main__':\n"
     ]
    },
    {
     "data": {
      "text/html": [
       "<div>\n",
       "<table border=\"1\" class=\"dataframe\">\n",
       "  <thead>\n",
       "    <tr style=\"text-align: right;\">\n",
       "      <th></th>\n",
       "      <th>extra</th>\n",
       "      <th>fare_amount</th>\n",
       "      <th>mta_tax</th>\n",
       "      <th>passenger_count</th>\n",
       "      <th>tip_amount</th>\n",
       "      <th>total_amount</th>\n",
       "      <th>tpep_dropoff_datetime</th>\n",
       "      <th>tpep_pickup_datetime</th>\n",
       "      <th>trip_distance</th>\n",
       "      <th>taxi_date</th>\n",
       "    </tr>\n",
       "  </thead>\n",
       "  <tbody>\n",
       "    <tr>\n",
       "      <th>30629016</th>\n",
       "      <td>1.0</td>\n",
       "      <td>2.5</td>\n",
       "      <td>0.5</td>\n",
       "      <td>1.0</td>\n",
       "      <td>0.0</td>\n",
       "      <td>4.3</td>\n",
       "      <td>2016-03-07 20:16:21</td>\n",
       "      <td>2016-03-07 19:57:50</td>\n",
       "      <td>19072628.8</td>\n",
       "      <td>2016-03-07</td>\n",
       "    </tr>\n",
       "    <tr>\n",
       "      <th>14870695</th>\n",
       "      <td>0.0</td>\n",
       "      <td>2.5</td>\n",
       "      <td>0.5</td>\n",
       "      <td>3.0</td>\n",
       "      <td>0.0</td>\n",
       "      <td>3.3</td>\n",
       "      <td>2016-02-13 09:22:00</td>\n",
       "      <td>2016-02-13 09:20:43</td>\n",
       "      <td>11658534.3</td>\n",
       "      <td>2016-02-13</td>\n",
       "    </tr>\n",
       "    <tr>\n",
       "      <th>32502724</th>\n",
       "      <td>0.0</td>\n",
       "      <td>9.0</td>\n",
       "      <td>0.5</td>\n",
       "      <td>2.0</td>\n",
       "      <td>0.0</td>\n",
       "      <td>9.8</td>\n",
       "      <td>2016-03-26 17:33:23</td>\n",
       "      <td>2016-03-26 17:24:14</td>\n",
       "      <td>8330083.2</td>\n",
       "      <td>2016-03-26</td>\n",
       "    </tr>\n",
       "    <tr>\n",
       "      <th>1027151</th>\n",
       "      <td>0.0</td>\n",
       "      <td>27.5</td>\n",
       "      <td>0.5</td>\n",
       "      <td>1.0</td>\n",
       "      <td>0.0</td>\n",
       "      <td>28.3</td>\n",
       "      <td>2016-01-04 15:27:47</td>\n",
       "      <td>2016-01-04 14:56:45</td>\n",
       "      <td>8000010.0</td>\n",
       "      <td>2016-01-04</td>\n",
       "    </tr>\n",
       "    <tr>\n",
       "      <th>15365256</th>\n",
       "      <td>0.0</td>\n",
       "      <td>0.0</td>\n",
       "      <td>0.0</td>\n",
       "      <td>1.0</td>\n",
       "      <td>0.0</td>\n",
       "      <td>0.3</td>\n",
       "      <td>2016-02-13 15:00:58</td>\n",
       "      <td>2016-02-13 13:25:43</td>\n",
       "      <td>5361519.7</td>\n",
       "      <td>2016-02-13</td>\n",
       "    </tr>\n",
       "  </tbody>\n",
       "</table>\n",
       "</div>"
      ],
      "text/plain": [
       "          extra  fare_amount  mta_tax  passenger_count  tip_amount  \\\n",
       "30629016    1.0          2.5      0.5              1.0         0.0   \n",
       "14870695    0.0          2.5      0.5              3.0         0.0   \n",
       "32502724    0.0          9.0      0.5              2.0         0.0   \n",
       "1027151     0.0         27.5      0.5              1.0         0.0   \n",
       "15365256    0.0          0.0      0.0              1.0         0.0   \n",
       "\n",
       "          total_amount tpep_dropoff_datetime tpep_pickup_datetime  \\\n",
       "30629016           4.3   2016-03-07 20:16:21  2016-03-07 19:57:50   \n",
       "14870695           3.3   2016-02-13 09:22:00  2016-02-13 09:20:43   \n",
       "32502724           9.8   2016-03-26 17:33:23  2016-03-26 17:24:14   \n",
       "1027151           28.3   2016-01-04 15:27:47  2016-01-04 14:56:45   \n",
       "15365256           0.3   2016-02-13 15:00:58  2016-02-13 13:25:43   \n",
       "\n",
       "          trip_distance   taxi_date  \n",
       "30629016     19072628.8  2016-03-07  \n",
       "14870695     11658534.3  2016-02-13  \n",
       "32502724      8330083.2  2016-03-26  \n",
       "1027151       8000010.0  2016-01-04  \n",
       "15365256      5361519.7  2016-02-13  "
      ]
     },
     "execution_count": 38,
     "metadata": {},
     "output_type": "execute_result"
    }
   ],
   "source": [
    "tlc_df_raw_total.sort(['trip_distance'], ascending=False).head()"
   ]
  },
  {
   "cell_type": "code",
   "execution_count": 39,
   "metadata": {
    "collapsed": false
   },
   "outputs": [
    {
     "name": "stderr",
     "output_type": "stream",
     "text": [
      "/Users/geoffperrin/anaconda2/lib/python2.7/site-packages/ipykernel/__main__.py:1: FutureWarning: sort(columns=....) is deprecated, use sort_values(by=.....)\n",
      "  if __name__ == '__main__':\n"
     ]
    },
    {
     "data": {
      "text/html": [
       "<div>\n",
       "<table border=\"1\" class=\"dataframe\">\n",
       "  <thead>\n",
       "    <tr style=\"text-align: right;\">\n",
       "      <th></th>\n",
       "      <th>extra</th>\n",
       "      <th>fare_amount</th>\n",
       "      <th>mta_tax</th>\n",
       "      <th>passenger_count</th>\n",
       "      <th>tip_amount</th>\n",
       "      <th>total_amount</th>\n",
       "      <th>tpep_dropoff_datetime</th>\n",
       "      <th>tpep_pickup_datetime</th>\n",
       "      <th>trip_distance</th>\n",
       "      <th>taxi_date</th>\n",
       "    </tr>\n",
       "  </thead>\n",
       "  <tbody>\n",
       "    <tr>\n",
       "      <th>31216497</th>\n",
       "      <td>65.53</td>\n",
       "      <td>429496.72</td>\n",
       "      <td>0.00</td>\n",
       "      <td>1.0</td>\n",
       "      <td>0.0</td>\n",
       "      <td>429562.25</td>\n",
       "      <td>2016-03-11 00:18:58</td>\n",
       "      <td>2016-03-10 22:59:51</td>\n",
       "      <td>0.0</td>\n",
       "      <td>2016-03-10</td>\n",
       "    </tr>\n",
       "    <tr>\n",
       "      <th>18747027</th>\n",
       "      <td>20.55</td>\n",
       "      <td>154810.43</td>\n",
       "      <td>1.16</td>\n",
       "      <td>1.0</td>\n",
       "      <td>0.0</td>\n",
       "      <td>154832.14</td>\n",
       "      <td>2016-02-23 15:03:09</td>\n",
       "      <td>2016-02-23 14:26:33</td>\n",
       "      <td>298914.2</td>\n",
       "      <td>2016-02-23</td>\n",
       "    </tr>\n",
       "    <tr>\n",
       "      <th>15958592</th>\n",
       "      <td>63.99</td>\n",
       "      <td>153231.93</td>\n",
       "      <td>0.00</td>\n",
       "      <td>1.0</td>\n",
       "      <td>0.0</td>\n",
       "      <td>153296.22</td>\n",
       "      <td>2016-02-16 18:36:33</td>\n",
       "      <td>2016-02-16 18:20:33</td>\n",
       "      <td>151694.0</td>\n",
       "      <td>2016-02-16</td>\n",
       "    </tr>\n",
       "    <tr>\n",
       "      <th>29029949</th>\n",
       "      <td>65.53</td>\n",
       "      <td>133065.37</td>\n",
       "      <td>0.00</td>\n",
       "      <td>3.0</td>\n",
       "      <td>0.0</td>\n",
       "      <td>133131.20</td>\n",
       "      <td>2016-03-20 23:03:04</td>\n",
       "      <td>2016-03-20 22:58:18</td>\n",
       "      <td>166331.6</td>\n",
       "      <td>2016-03-20</td>\n",
       "    </tr>\n",
       "    <tr>\n",
       "      <th>28810417</th>\n",
       "      <td>16.38</td>\n",
       "      <td>126348.88</td>\n",
       "      <td>1.32</td>\n",
       "      <td>2.0</td>\n",
       "      <td>0.0</td>\n",
       "      <td>126366.58</td>\n",
       "      <td>2016-03-20 12:03:29</td>\n",
       "      <td>2016-03-20 11:44:34</td>\n",
       "      <td>131091.4</td>\n",
       "      <td>2016-03-20</td>\n",
       "    </tr>\n",
       "  </tbody>\n",
       "</table>\n",
       "</div>"
      ],
      "text/plain": [
       "          extra  fare_amount  mta_tax  passenger_count  tip_amount  \\\n",
       "31216497  65.53    429496.72     0.00              1.0         0.0   \n",
       "18747027  20.55    154810.43     1.16              1.0         0.0   \n",
       "15958592  63.99    153231.93     0.00              1.0         0.0   \n",
       "29029949  65.53    133065.37     0.00              3.0         0.0   \n",
       "28810417  16.38    126348.88     1.32              2.0         0.0   \n",
       "\n",
       "          total_amount tpep_dropoff_datetime tpep_pickup_datetime  \\\n",
       "31216497     429562.25   2016-03-11 00:18:58  2016-03-10 22:59:51   \n",
       "18747027     154832.14   2016-02-23 15:03:09  2016-02-23 14:26:33   \n",
       "15958592     153296.22   2016-02-16 18:36:33  2016-02-16 18:20:33   \n",
       "29029949     133131.20   2016-03-20 23:03:04  2016-03-20 22:58:18   \n",
       "28810417     126366.58   2016-03-20 12:03:29  2016-03-20 11:44:34   \n",
       "\n",
       "          trip_distance   taxi_date  \n",
       "31216497            0.0  2016-03-10  \n",
       "18747027       298914.2  2016-02-23  \n",
       "15958592       151694.0  2016-02-16  \n",
       "29029949       166331.6  2016-03-20  \n",
       "28810417       131091.4  2016-03-20  "
      ]
     },
     "execution_count": 39,
     "metadata": {},
     "output_type": "execute_result"
    }
   ],
   "source": [
    "tlc_df_raw_total.sort(['total_amount'], ascending=False).head()"
   ]
  },
  {
   "cell_type": "code",
   "execution_count": 37,
   "metadata": {
    "collapsed": false
   },
   "outputs": [
    {
     "name": "stderr",
     "output_type": "stream",
     "text": [
      "/Users/geoffperrin/anaconda2/lib/python2.7/site-packages/ipykernel/__main__.py:1: FutureWarning: sort(columns=....) is deprecated, use sort_values(by=.....)\n",
      "  if __name__ == '__main__':\n"
     ]
    },
    {
     "data": {
      "text/html": [
       "<div>\n",
       "<table border=\"1\" class=\"dataframe\">\n",
       "  <thead>\n",
       "    <tr style=\"text-align: right;\">\n",
       "      <th></th>\n",
       "      <th>extra</th>\n",
       "      <th>fare_amount</th>\n",
       "      <th>mta_tax</th>\n",
       "      <th>passenger_count</th>\n",
       "      <th>tip_amount</th>\n",
       "      <th>total_amount</th>\n",
       "      <th>tpep_dropoff_datetime</th>\n",
       "      <th>tpep_pickup_datetime</th>\n",
       "      <th>trip_distance</th>\n",
       "      <th>taxi_date</th>\n",
       "    </tr>\n",
       "  </thead>\n",
       "  <tbody>\n",
       "    <tr>\n",
       "      <th>67897</th>\n",
       "      <td>0.5</td>\n",
       "      <td>5.5</td>\n",
       "      <td>0.5</td>\n",
       "      <td>2.0</td>\n",
       "      <td>998.14</td>\n",
       "      <td>1004.94</td>\n",
       "      <td>2016-01-01 01:05:54</td>\n",
       "      <td>2016-01-01 01:01:22</td>\n",
       "      <td>1.0</td>\n",
       "      <td>2016-01-01</td>\n",
       "    </tr>\n",
       "    <tr>\n",
       "      <th>1617570</th>\n",
       "      <td>0.0</td>\n",
       "      <td>52.0</td>\n",
       "      <td>0.5</td>\n",
       "      <td>1.0</td>\n",
       "      <td>900.00</td>\n",
       "      <td>952.80</td>\n",
       "      <td>2016-01-08 06:46:51</td>\n",
       "      <td>2016-01-08 06:46:33</td>\n",
       "      <td>0.0</td>\n",
       "      <td>2016-01-08</td>\n",
       "    </tr>\n",
       "    <tr>\n",
       "      <th>23571215</th>\n",
       "      <td>0.0</td>\n",
       "      <td>52.0</td>\n",
       "      <td>0.5</td>\n",
       "      <td>1.0</td>\n",
       "      <td>850.00</td>\n",
       "      <td>902.80</td>\n",
       "      <td>2016-03-03 22:15:52</td>\n",
       "      <td>2016-03-03 22:11:00</td>\n",
       "      <td>0.7</td>\n",
       "      <td>2016-03-03</td>\n",
       "    </tr>\n",
       "    <tr>\n",
       "      <th>5274108</th>\n",
       "      <td>0.0</td>\n",
       "      <td>52.0</td>\n",
       "      <td>0.5</td>\n",
       "      <td>1.0</td>\n",
       "      <td>800.00</td>\n",
       "      <td>852.80</td>\n",
       "      <td>2016-01-15 06:30:39</td>\n",
       "      <td>2016-01-15 06:30:31</td>\n",
       "      <td>0.0</td>\n",
       "      <td>2016-01-15</td>\n",
       "    </tr>\n",
       "    <tr>\n",
       "      <th>180698</th>\n",
       "      <td>0.0</td>\n",
       "      <td>52.0</td>\n",
       "      <td>0.5</td>\n",
       "      <td>1.0</td>\n",
       "      <td>800.00</td>\n",
       "      <td>852.80</td>\n",
       "      <td>2016-01-01 06:40:16</td>\n",
       "      <td>2016-01-01 06:39:44</td>\n",
       "      <td>0.0</td>\n",
       "      <td>2016-01-01</td>\n",
       "    </tr>\n",
       "  </tbody>\n",
       "</table>\n",
       "</div>"
      ],
      "text/plain": [
       "          extra  fare_amount  mta_tax  passenger_count  tip_amount  \\\n",
       "67897       0.5          5.5      0.5              2.0      998.14   \n",
       "1617570     0.0         52.0      0.5              1.0      900.00   \n",
       "23571215    0.0         52.0      0.5              1.0      850.00   \n",
       "5274108     0.0         52.0      0.5              1.0      800.00   \n",
       "180698      0.0         52.0      0.5              1.0      800.00   \n",
       "\n",
       "          total_amount tpep_dropoff_datetime tpep_pickup_datetime  \\\n",
       "67897          1004.94   2016-01-01 01:05:54  2016-01-01 01:01:22   \n",
       "1617570         952.80   2016-01-08 06:46:51  2016-01-08 06:46:33   \n",
       "23571215        902.80   2016-03-03 22:15:52  2016-03-03 22:11:00   \n",
       "5274108         852.80   2016-01-15 06:30:39  2016-01-15 06:30:31   \n",
       "180698          852.80   2016-01-01 06:40:16  2016-01-01 06:39:44   \n",
       "\n",
       "          trip_distance   taxi_date  \n",
       "67897               1.0  2016-01-01  \n",
       "1617570             0.0  2016-01-08  \n",
       "23571215            0.7  2016-03-03  \n",
       "5274108             0.0  2016-01-15  \n",
       "180698              0.0  2016-01-01  "
      ]
     },
     "execution_count": 37,
     "metadata": {},
     "output_type": "execute_result"
    }
   ],
   "source": [
    "tlc_df_raw_total.sort(['tip_amount'], ascending=False).head()"
   ]
  },
  {
   "cell_type": "code",
   "execution_count": 41,
   "metadata": {
    "collapsed": false
   },
   "outputs": [],
   "source": [
    "#only keep trips that have a positive distance less than 100 miles\n",
    "tlc_df_total = tlc_df_raw_total[(tlc_df_raw_total.trip_distance > 0) & (tlc_df_raw_total.trip_distance < 100)]\n",
    "\n",
    "#only keep trips that have a positive fare amount less than $500\n",
    "tlc_df_total = tlc_df_total[(tlc_df_total.fare_amount > 0) & (tlc_df_total.fare_amount < 500)]"
   ]
  },
  {
   "cell_type": "code",
   "execution_count": 43,
   "metadata": {
    "collapsed": false
   },
   "outputs": [
    {
     "data": {
      "text/plain": [
       "0.9936390464668275"
      ]
     },
     "execution_count": 43,
     "metadata": {},
     "output_type": "execute_result"
    }
   ],
   "source": [
    "len(tlc_df_total) * 1.0 / len(tlc_df_raw_total)"
   ]
  },
  {
   "cell_type": "code",
   "execution_count": 44,
   "metadata": {
    "collapsed": false
   },
   "outputs": [],
   "source": [
    "#count the number of taxi trips each day\n",
    "tlc_df_total['taxi_date'] = tlc_df_total['tpep_pickup_datetime'].dt.date\n",
    "tlc_df_day_count = tlc_df_total.groupby(['taxi_date'], as_index=False)['extra'].count()\n",
    "tlc_df_day_count.columns = ['taxi_date', 'taxi_trip_count']"
   ]
  },
  {
   "cell_type": "code",
   "execution_count": 53,
   "metadata": {
    "collapsed": false
   },
   "outputs": [
    {
     "data": {
      "text/html": [
       "<div>\n",
       "<table border=\"1\" class=\"dataframe\">\n",
       "  <thead>\n",
       "    <tr style=\"text-align: right;\">\n",
       "      <th></th>\n",
       "      <th>taxi_date</th>\n",
       "      <th>extra</th>\n",
       "      <th>fare_amount</th>\n",
       "      <th>mta_tax</th>\n",
       "      <th>passenger_count</th>\n",
       "      <th>tip_amount</th>\n",
       "      <th>total_amount</th>\n",
       "      <th>trip_distance</th>\n",
       "    </tr>\n",
       "  </thead>\n",
       "  <tbody>\n",
       "    <tr>\n",
       "      <th>0</th>\n",
       "      <td>2016-01-01</td>\n",
       "      <td>0.270617</td>\n",
       "      <td>12.795289</td>\n",
       "      <td>0.498092</td>\n",
       "      <td>1.795093</td>\n",
       "      <td>1.441512</td>\n",
       "      <td>15.569496</td>\n",
       "      <td>3.292646</td>\n",
       "    </tr>\n",
       "    <tr>\n",
       "      <th>1</th>\n",
       "      <td>2016-01-02</td>\n",
       "      <td>0.198105</td>\n",
       "      <td>12.392116</td>\n",
       "      <td>0.498403</td>\n",
       "      <td>1.777977</td>\n",
       "      <td>1.459314</td>\n",
       "      <td>15.139841</td>\n",
       "      <td>3.082059</td>\n",
       "    </tr>\n",
       "    <tr>\n",
       "      <th>2</th>\n",
       "      <td>2016-01-03</td>\n",
       "      <td>0.200098</td>\n",
       "      <td>12.997669</td>\n",
       "      <td>0.498177</td>\n",
       "      <td>1.739239</td>\n",
       "      <td>1.650988</td>\n",
       "      <td>16.022176</td>\n",
       "      <td>3.425719</td>\n",
       "    </tr>\n",
       "    <tr>\n",
       "      <th>3</th>\n",
       "      <td>2016-01-04</td>\n",
       "      <td>0.374877</td>\n",
       "      <td>12.159065</td>\n",
       "      <td>0.498728</td>\n",
       "      <td>1.649450</td>\n",
       "      <td>1.634711</td>\n",
       "      <td>15.314045</td>\n",
       "      <td>3.031284</td>\n",
       "    </tr>\n",
       "    <tr>\n",
       "      <th>4</th>\n",
       "      <td>2016-01-05</td>\n",
       "      <td>0.356747</td>\n",
       "      <td>11.954732</td>\n",
       "      <td>0.498906</td>\n",
       "      <td>1.635951</td>\n",
       "      <td>1.649986</td>\n",
       "      <td>15.040607</td>\n",
       "      <td>2.830233</td>\n",
       "    </tr>\n",
       "  </tbody>\n",
       "</table>\n",
       "</div>"
      ],
      "text/plain": [
       "    taxi_date     extra  fare_amount   mta_tax  passenger_count  tip_amount  \\\n",
       "0  2016-01-01  0.270617    12.795289  0.498092         1.795093    1.441512   \n",
       "1  2016-01-02  0.198105    12.392116  0.498403         1.777977    1.459314   \n",
       "2  2016-01-03  0.200098    12.997669  0.498177         1.739239    1.650988   \n",
       "3  2016-01-04  0.374877    12.159065  0.498728         1.649450    1.634711   \n",
       "4  2016-01-05  0.356747    11.954732  0.498906         1.635951    1.649986   \n",
       "\n",
       "   total_amount  trip_distance  \n",
       "0     15.569496       3.292646  \n",
       "1     15.139841       3.082059  \n",
       "2     16.022176       3.425719  \n",
       "3     15.314045       3.031284  \n",
       "4     15.040607       2.830233  "
      ]
     },
     "execution_count": 53,
     "metadata": {},
     "output_type": "execute_result"
    }
   ],
   "source": [
    "#take the mean of the taxi stats each day\n",
    "tlc_df_stat_agg = tlc_df_total.groupby(['taxi_date'], as_index=False).mean()\n",
    "tlc_df_stat_agg.head()"
   ]
  },
  {
   "cell_type": "code",
   "execution_count": 54,
   "metadata": {
    "collapsed": false
   },
   "outputs": [
    {
     "data": {
      "text/html": [
       "<div>\n",
       "<table border=\"1\" class=\"dataframe\">\n",
       "  <thead>\n",
       "    <tr style=\"text-align: right;\">\n",
       "      <th></th>\n",
       "      <th>taxi_date</th>\n",
       "      <th>extra</th>\n",
       "      <th>fare_amount</th>\n",
       "      <th>mta_tax</th>\n",
       "      <th>passenger_count</th>\n",
       "      <th>tip_amount</th>\n",
       "      <th>total_amount</th>\n",
       "      <th>trip_distance</th>\n",
       "      <th>taxi_trip_count</th>\n",
       "    </tr>\n",
       "  </thead>\n",
       "  <tbody>\n",
       "    <tr>\n",
       "      <th>0</th>\n",
       "      <td>2016-01-01</td>\n",
       "      <td>0.270617</td>\n",
       "      <td>12.795289</td>\n",
       "      <td>0.498092</td>\n",
       "      <td>1.795093</td>\n",
       "      <td>1.441512</td>\n",
       "      <td>15.569496</td>\n",
       "      <td>3.292646</td>\n",
       "      <td>342467</td>\n",
       "    </tr>\n",
       "    <tr>\n",
       "      <th>1</th>\n",
       "      <td>2016-01-02</td>\n",
       "      <td>0.198105</td>\n",
       "      <td>12.392116</td>\n",
       "      <td>0.498403</td>\n",
       "      <td>1.777977</td>\n",
       "      <td>1.459314</td>\n",
       "      <td>15.139841</td>\n",
       "      <td>3.082059</td>\n",
       "      <td>310850</td>\n",
       "    </tr>\n",
       "    <tr>\n",
       "      <th>2</th>\n",
       "      <td>2016-01-03</td>\n",
       "      <td>0.200098</td>\n",
       "      <td>12.997669</td>\n",
       "      <td>0.498177</td>\n",
       "      <td>1.739239</td>\n",
       "      <td>1.650988</td>\n",
       "      <td>16.022176</td>\n",
       "      <td>3.425719</td>\n",
       "      <td>300678</td>\n",
       "    </tr>\n",
       "    <tr>\n",
       "      <th>3</th>\n",
       "      <td>2016-01-04</td>\n",
       "      <td>0.374877</td>\n",
       "      <td>12.159065</td>\n",
       "      <td>0.498728</td>\n",
       "      <td>1.649450</td>\n",
       "      <td>1.634711</td>\n",
       "      <td>15.314045</td>\n",
       "      <td>3.031284</td>\n",
       "      <td>314058</td>\n",
       "    </tr>\n",
       "    <tr>\n",
       "      <th>4</th>\n",
       "      <td>2016-01-05</td>\n",
       "      <td>0.356747</td>\n",
       "      <td>11.954732</td>\n",
       "      <td>0.498906</td>\n",
       "      <td>1.635951</td>\n",
       "      <td>1.649986</td>\n",
       "      <td>15.040607</td>\n",
       "      <td>2.830233</td>\n",
       "      <td>341089</td>\n",
       "    </tr>\n",
       "  </tbody>\n",
       "</table>\n",
       "</div>"
      ],
      "text/plain": [
       "    taxi_date     extra  fare_amount   mta_tax  passenger_count  tip_amount  \\\n",
       "0  2016-01-01  0.270617    12.795289  0.498092         1.795093    1.441512   \n",
       "1  2016-01-02  0.198105    12.392116  0.498403         1.777977    1.459314   \n",
       "2  2016-01-03  0.200098    12.997669  0.498177         1.739239    1.650988   \n",
       "3  2016-01-04  0.374877    12.159065  0.498728         1.649450    1.634711   \n",
       "4  2016-01-05  0.356747    11.954732  0.498906         1.635951    1.649986   \n",
       "\n",
       "   total_amount  trip_distance  taxi_trip_count  \n",
       "0     15.569496       3.292646           342467  \n",
       "1     15.139841       3.082059           310850  \n",
       "2     16.022176       3.425719           300678  \n",
       "3     15.314045       3.031284           314058  \n",
       "4     15.040607       2.830233           341089  "
      ]
     },
     "execution_count": 54,
     "metadata": {},
     "output_type": "execute_result"
    }
   ],
   "source": [
    "tlc_df_by_day = tlc_df_stat_agg.merge(tlc_df_day_count, on='taxi_date')\n",
    "tlc_df_by_day.head()"
   ]
  },
  {
   "cell_type": "code",
   "execution_count": 55,
   "metadata": {
    "collapsed": false
   },
   "outputs": [],
   "source": [
    "tlc_df_by_day['weekday'] = 0\n",
    "for i in range(len(tlc_df_by_day)):\n",
    "    tlc_df_by_day['weekday'].iloc[i] = tlc_df_by_day.taxi_date.iloc[i].weekday()"
   ]
  },
  {
   "cell_type": "code",
   "execution_count": 56,
   "metadata": {
    "collapsed": false
   },
   "outputs": [
    {
     "data": {
      "text/plain": [
       "<matplotlib.axes._subplots.AxesSubplot at 0x12c32a890>"
      ]
     },
     "execution_count": 56,
     "metadata": {},
     "output_type": "execute_result"
    },
    {
     "data": {
      "image/png": "[encoded data removed]",
      "text/plain": [
       "<matplotlib.figure.Figure at 0x1c82475d0>"
      ]
     },
     "metadata": {},
     "output_type": "display_data"
    }
   ],
   "source": [
    "tlc_df_by_day[['taxi_date', 'taxi_trip_count']].plot()"
   ]
  },
  {
   "cell_type": "code",
   "execution_count": 57,
   "metadata": {
    "collapsed": false
   },
   "outputs": [
    {
     "data": {
      "text/plain": [
       "<matplotlib.axes._subplots.AxesSubplot at 0x1ca61ba50>"
      ]
     },
     "execution_count": 57,
     "metadata": {},
     "output_type": "execute_result"
    },
    {
     "data": {
      "image/png": "[encoded data removed]",
      "text/plain": [
       "<matplotlib.figure.Figure at 0x1c6f49310>"
      ]
     },
     "metadata": {},
     "output_type": "display_data"
    }
   ],
   "source": [
    "tlc_df_by_day_agg = tlc_df_by_day.groupby(['weekday'], as_index=False).sum()\n",
    "tlc_df_by_day_agg[['taxi_trip_count']].plot()"
   ]
  },
  {
   "cell_type": "code",
   "execution_count": 58,
   "metadata": {
    "collapsed": false
   },
   "outputs": [
    {
     "data": {
      "text/plain": [
       "<matplotlib.axes._subplots.AxesSubplot at 0x1c536b850>"
      ]
     },
     "execution_count": 58,
     "metadata": {},
     "output_type": "execute_result"
    },
    {
     "data": {
      "image/png": "[encoded data removed]",
      "text/plain": [
       "<matplotlib.figure.Figure at 0x1c3c25210>"
      ]
     },
     "metadata": {},
     "output_type": "display_data"
    }
   ],
   "source": [
    "tlc_df_by_day[['taxi_date', 'passenger_count']].plot()"
   ]
  },
  {
   "cell_type": "code",
   "execution_count": 59,
   "metadata": {
    "collapsed": false
   },
   "outputs": [
    {
     "data": {
      "text/plain": [
       "<matplotlib.axes._subplots.AxesSubplot at 0x1c2b48250>"
      ]
     },
     "execution_count": 59,
     "metadata": {},
     "output_type": "execute_result"
    },
    {
     "data": {
      "image/png": "[encoded data removed]",
      "text/plain": [
       "<matplotlib.figure.Figure at 0x1c3c5c390>"
      ]
     },
     "metadata": {},
     "output_type": "display_data"
    }
   ],
   "source": [
    "tlc_df_by_day[['taxi_date', 'trip_distance']].plot()"
   ]
  },
  {
   "cell_type": "code",
   "execution_count": 60,
   "metadata": {
    "collapsed": false
   },
   "outputs": [
    {
     "data": {
      "text/plain": [
       "<matplotlib.axes._subplots.AxesSubplot at 0x1bee91910>"
      ]
     },
     "execution_count": 60,
     "metadata": {},
     "output_type": "execute_result"
    },
    {
     "data": {
      "image/png": "[encoded data removed]",
      "text/plain": [
       "<matplotlib.figure.Figure at 0x15f675150>"
      ]
     },
     "metadata": {},
     "output_type": "display_data"
    }
   ],
   "source": [
    "tlc_df_by_day[['taxi_date', 'total_amount']].plot()"
   ]
  },
  {
   "cell_type": "code",
   "execution_count": 61,
   "metadata": {
    "collapsed": false
   },
   "outputs": [
    {
     "data": {
      "text/html": [
       "<div>\n",
       "<table border=\"1\" class=\"dataframe\">\n",
       "  <thead>\n",
       "    <tr style=\"text-align: right;\">\n",
       "      <th></th>\n",
       "      <th>passenger_count</th>\n",
       "      <th>trip_distance</th>\n",
       "      <th>total_amount</th>\n",
       "      <th>taxi_trip_count</th>\n",
       "    </tr>\n",
       "  </thead>\n",
       "  <tbody>\n",
       "    <tr>\n",
       "      <th>0</th>\n",
       "      <td>1.795093</td>\n",
       "      <td>3.292646</td>\n",
       "      <td>15.569496</td>\n",
       "      <td>342467</td>\n",
       "    </tr>\n",
       "    <tr>\n",
       "      <th>1</th>\n",
       "      <td>1.777977</td>\n",
       "      <td>3.082059</td>\n",
       "      <td>15.139841</td>\n",
       "      <td>310850</td>\n",
       "    </tr>\n",
       "  </tbody>\n",
       "</table>\n",
       "</div>"
      ],
      "text/plain": [
       "   passenger_count  trip_distance  total_amount  taxi_trip_count\n",
       "0         1.795093       3.292646     15.569496           342467\n",
       "1         1.777977       3.082059     15.139841           310850"
      ]
     },
     "execution_count": 61,
     "metadata": {},
     "output_type": "execute_result"
    }
   ],
   "source": [
    "X = tlc_df_by_day[['passenger_count', 'trip_distance' ,'total_amount', 'taxi_trip_count']]\n",
    "X.head(2)"
   ]
  },
  {
   "cell_type": "markdown",
   "metadata": {},
   "source": [
    "## Clustering Anomaly Detection"
   ]
  },
  {
   "cell_type": "markdown",
   "metadata": {},
   "source": [
    "### Gaussian Mixture Model Anomaly Detection"
   ]
  },
  {
   "cell_type": "code",
   "execution_count": 62,
   "metadata": {
    "collapsed": false
   },
   "outputs": [
    {
     "name": "stdout",
     "output_type": "stream",
     "text": [
      "For n_clusters =2, the average silhouette_score is :0.839684098278\n",
      "For n_clusters =3, the average silhouette_score is :0.568602876405\n",
      "For n_clusters =4, the average silhouette_score is :0.544348877186\n",
      "For n_clusters =5, the average silhouette_score is :0.587465319958\n",
      "For n_clusters =6, the average silhouette_score is :0.605560433797\n",
      "For n_clusters =7, the average silhouette_score is :0.593835521857\n",
      "For n_clusters =8, the average silhouette_score is :0.595763037962\n"
     ]
    }
   ],
   "source": [
    "range_n_clusters = [2, 3, 4, 5, 6, 7, 8]\n",
    "for n_clusters in range_n_clusters:\n",
    "    km = KMeans(n_clusters=n_clusters, random_state=324)\n",
    "    cluster_labels = km.fit_predict(X)\n",
    "    silhouette_avg = silhouette_score(X, cluster_labels)\n",
    "    print(\"For n_clusters ={},\".format(n_clusters)+\" the average silhouette_score is :{}\".format(silhouette_avg))"
   ]
  },
  {
   "cell_type": "code",
   "execution_count": 63,
   "metadata": {
    "collapsed": false
   },
   "outputs": [
    {
     "data": {
      "text/plain": [
       "GaussianMixture(covariance_type='full', init_params='kmeans', max_iter=100,\n",
       "        means_init=None, n_components=2, n_init=1, precisions_init=None,\n",
       "        random_state=324, reg_covar=1e-06, tol=0.001, verbose=0,\n",
       "        verbose_interval=10, warm_start=False, weights_init=None)"
      ]
     },
     "execution_count": 63,
     "metadata": {},
     "output_type": "execute_result"
    }
   ],
   "source": [
    "GM=GaussianMixture(n_components=2, random_state=324)\n",
    "GM.fit(X)"
   ]
  },
  {
   "cell_type": "code",
   "execution_count": 64,
   "metadata": {
    "collapsed": false
   },
   "outputs": [
    {
     "data": {
      "image/png": "[encoded data removed]",
      "text/plain": [
       "<matplotlib.figure.Figure at 0x1c1651e10>"
      ]
     },
     "metadata": {},
     "output_type": "display_data"
    }
   ],
   "source": [
    "%matplotlib inline\n",
    "import matplotlib.pylab as plt\n",
    "plt.figure(figsize=(20,4))\n",
    "plt.scatter(range(len(X)),GM.score_samples(X))\n",
    "plt.plot(GM.score_samples(X),\"r--\")\n",
    "plt.show()"
   ]
  },
  {
   "cell_type": "markdown",
   "metadata": {},
   "source": [
    "## Isolation Anomaly Detection"
   ]
  },
  {
   "cell_type": "markdown",
   "metadata": {},
   "source": [
    "### Isolation Forest Anomaly Detection"
   ]
  },
  {
   "cell_type": "code",
   "execution_count": 69,
   "metadata": {
    "collapsed": false
   },
   "outputs": [
    {
     "name": "stderr",
     "output_type": "stream",
     "text": [
      "/Users/geoffperrin/anaconda2/lib/python2.7/site-packages/sklearn/ensemble/iforest.py:184: UserWarning: max_samples (100) is greater than the total number of samples (63). max_samples will be set to n_samples for estimation.\n",
      "  % (self.max_samples, n_samples))\n"
     ]
    }
   ],
   "source": [
    "train,test=train_test_split(X, random_state=999, test_size=0.3)\n",
    "# fit the model\n",
    "clf = IsolationForest(max_samples=100, random_state=999)\n",
    "clf.fit(train)\n",
    "y_pred = clf.predict(X)"
   ]
  },
  {
   "cell_type": "code",
   "execution_count": 70,
   "metadata": {
    "collapsed": true
   },
   "outputs": [],
   "source": [
    "tlc_df_by_day['decision_function'] = clf.decision_function(X)"
   ]
  },
  {
   "cell_type": "code",
   "execution_count": 72,
   "metadata": {
    "collapsed": false
   },
   "outputs": [
    {
     "data": {
      "text/html": [
       "<div>\n",
       "<table border=\"1\" class=\"dataframe\">\n",
       "  <thead>\n",
       "    <tr style=\"text-align: right;\">\n",
       "      <th></th>\n",
       "      <th>taxi_date</th>\n",
       "      <th>extra</th>\n",
       "      <th>fare_amount</th>\n",
       "      <th>mta_tax</th>\n",
       "      <th>passenger_count</th>\n",
       "      <th>tip_amount</th>\n",
       "      <th>total_amount</th>\n",
       "      <th>trip_distance</th>\n",
       "      <th>taxi_trip_count</th>\n",
       "      <th>weekday</th>\n",
       "      <th>decision_function</th>\n",
       "    </tr>\n",
       "  </thead>\n",
       "  <tbody>\n",
       "    <tr>\n",
       "      <th>24</th>\n",
       "      <td>2016-01-25</td>\n",
       "      <td>0.379404</td>\n",
       "      <td>14.854335</td>\n",
       "      <td>0.498136</td>\n",
       "      <td>1.647179</td>\n",
       "      <td>2.086684</td>\n",
       "      <td>18.534021</td>\n",
       "      <td>3.319237</td>\n",
       "      <td>279805</td>\n",
       "      <td>0</td>\n",
       "      <td>-0.136040</td>\n",
       "    </tr>\n",
       "    <tr>\n",
       "      <th>22</th>\n",
       "      <td>2016-01-23</td>\n",
       "      <td>0.362535</td>\n",
       "      <td>11.875412</td>\n",
       "      <td>0.498546</td>\n",
       "      <td>1.691393</td>\n",
       "      <td>1.680846</td>\n",
       "      <td>14.821589</td>\n",
       "      <td>2.797509</td>\n",
       "      <td>77354</td>\n",
       "      <td>5</td>\n",
       "      <td>-0.124463</td>\n",
       "    </tr>\n",
       "    <tr>\n",
       "      <th>23</th>\n",
       "      <td>2016-01-24</td>\n",
       "      <td>0.149384</td>\n",
       "      <td>12.179742</td>\n",
       "      <td>0.498538</td>\n",
       "      <td>1.751895</td>\n",
       "      <td>1.624971</td>\n",
       "      <td>15.007358</td>\n",
       "      <td>2.951654</td>\n",
       "      <td>158675</td>\n",
       "      <td>6</td>\n",
       "      <td>-0.063665</td>\n",
       "    </tr>\n",
       "    <tr>\n",
       "      <th>2</th>\n",
       "      <td>2016-01-03</td>\n",
       "      <td>0.200098</td>\n",
       "      <td>12.997669</td>\n",
       "      <td>0.498177</td>\n",
       "      <td>1.739239</td>\n",
       "      <td>1.650988</td>\n",
       "      <td>16.022176</td>\n",
       "      <td>3.425719</td>\n",
       "      <td>300678</td>\n",
       "      <td>6</td>\n",
       "      <td>-0.061439</td>\n",
       "    </tr>\n",
       "    <tr>\n",
       "      <th>0</th>\n",
       "      <td>2016-01-01</td>\n",
       "      <td>0.270617</td>\n",
       "      <td>12.795289</td>\n",
       "      <td>0.498092</td>\n",
       "      <td>1.795093</td>\n",
       "      <td>1.441512</td>\n",
       "      <td>15.569496</td>\n",
       "      <td>3.292646</td>\n",
       "      <td>342467</td>\n",
       "      <td>4</td>\n",
       "      <td>-0.055074</td>\n",
       "    </tr>\n",
       "    <tr>\n",
       "      <th>43</th>\n",
       "      <td>2016-02-13</td>\n",
       "      <td>0.198109</td>\n",
       "      <td>11.556715</td>\n",
       "      <td>0.498945</td>\n",
       "      <td>1.723480</td>\n",
       "      <td>1.513157</td>\n",
       "      <td>14.238487</td>\n",
       "      <td>2.618400</td>\n",
       "      <td>445761</td>\n",
       "      <td>5</td>\n",
       "      <td>-0.039224</td>\n",
       "    </tr>\n",
       "    <tr>\n",
       "      <th>1</th>\n",
       "      <td>2016-01-02</td>\n",
       "      <td>0.198105</td>\n",
       "      <td>12.392116</td>\n",
       "      <td>0.498403</td>\n",
       "      <td>1.777977</td>\n",
       "      <td>1.459314</td>\n",
       "      <td>15.139841</td>\n",
       "      <td>3.082059</td>\n",
       "      <td>310850</td>\n",
       "      <td>5</td>\n",
       "      <td>-0.033962</td>\n",
       "    </tr>\n",
       "    <tr>\n",
       "      <th>25</th>\n",
       "      <td>2016-01-26</td>\n",
       "      <td>0.368764</td>\n",
       "      <td>14.366871</td>\n",
       "      <td>0.498617</td>\n",
       "      <td>1.639194</td>\n",
       "      <td>2.084838</td>\n",
       "      <td>17.982999</td>\n",
       "      <td>3.057893</td>\n",
       "      <td>325441</td>\n",
       "      <td>1</td>\n",
       "      <td>-0.030700</td>\n",
       "    </tr>\n",
       "    <tr>\n",
       "      <th>86</th>\n",
       "      <td>2016-03-27</td>\n",
       "      <td>0.202972</td>\n",
       "      <td>12.879512</td>\n",
       "      <td>0.498490</td>\n",
       "      <td>1.731464</td>\n",
       "      <td>1.633937</td>\n",
       "      <td>15.849132</td>\n",
       "      <td>3.310940</td>\n",
       "      <td>343351</td>\n",
       "      <td>6</td>\n",
       "      <td>-0.019898</td>\n",
       "    </tr>\n",
       "    <tr>\n",
       "      <th>36</th>\n",
       "      <td>2016-02-06</td>\n",
       "      <td>0.214063</td>\n",
       "      <td>11.658167</td>\n",
       "      <td>0.499023</td>\n",
       "      <td>1.713525</td>\n",
       "      <td>1.557601</td>\n",
       "      <td>14.399616</td>\n",
       "      <td>2.704059</td>\n",
       "      <td>425768</td>\n",
       "      <td>5</td>\n",
       "      <td>0.014031</td>\n",
       "    </tr>\n",
       "  </tbody>\n",
       "</table>\n",
       "</div>"
      ],
      "text/plain": [
       "     taxi_date     extra  fare_amount   mta_tax  passenger_count  tip_amount  \\\n",
       "24  2016-01-25  0.379404    14.854335  0.498136         1.647179    2.086684   \n",
       "22  2016-01-23  0.362535    11.875412  0.498546         1.691393    1.680846   \n",
       "23  2016-01-24  0.149384    12.179742  0.498538         1.751895    1.624971   \n",
       "2   2016-01-03  0.200098    12.997669  0.498177         1.739239    1.650988   \n",
       "0   2016-01-01  0.270617    12.795289  0.498092         1.795093    1.441512   \n",
       "43  2016-02-13  0.198109    11.556715  0.498945         1.723480    1.513157   \n",
       "1   2016-01-02  0.198105    12.392116  0.498403         1.777977    1.459314   \n",
       "25  2016-01-26  0.368764    14.366871  0.498617         1.639194    2.084838   \n",
       "86  2016-03-27  0.202972    12.879512  0.498490         1.731464    1.633937   \n",
       "36  2016-02-06  0.214063    11.658167  0.499023         1.713525    1.557601   \n",
       "\n",
       "    total_amount  trip_distance  taxi_trip_count  weekday  decision_function  \n",
       "24     18.534021       3.319237           279805        0          -0.136040  \n",
       "22     14.821589       2.797509            77354        5          -0.124463  \n",
       "23     15.007358       2.951654           158675        6          -0.063665  \n",
       "2      16.022176       3.425719           300678        6          -0.061439  \n",
       "0      15.569496       3.292646           342467        4          -0.055074  \n",
       "43     14.238487       2.618400           445761        5          -0.039224  \n",
       "1      15.139841       3.082059           310850        5          -0.033962  \n",
       "25     17.982999       3.057893           325441        1          -0.030700  \n",
       "86     15.849132       3.310940           343351        6          -0.019898  \n",
       "36     14.399616       2.704059           425768        5           0.014031  "
      ]
     },
     "execution_count": 72,
     "metadata": {},
     "output_type": "execute_result"
    }
   ],
   "source": [
    "tlc_df_by_day.sort_values(by='decision_function').head(10)"
   ]
  },
  {
   "cell_type": "code",
   "execution_count": null,
   "metadata": {
    "collapsed": true
   },
   "outputs": [],
   "source": []
  }
 ],
 "metadata": {
  "anaconda-cloud": {},
  "kernelspec": {
   "display_name": "Python [Root]",
   "language": "python",
   "name": "Python [Root]"
  },
  "language_info": {
   "codemirror_mode": {
    "name": "ipython",
    "version": 2
   },
   "file_extension": ".py",
   "mimetype": "text/x-python",
   "name": "python",
   "nbconvert_exporter": "python",
   "pygments_lexer": "ipython2",
   "version": "2.7.12"
  }
 },
 "nbformat": 4,
 "nbformat_minor": 2
}
