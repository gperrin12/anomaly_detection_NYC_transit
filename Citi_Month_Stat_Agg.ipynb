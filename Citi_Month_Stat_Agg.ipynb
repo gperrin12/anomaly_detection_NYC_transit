{
 "cells": [
  {
   "cell_type": "markdown",
   "metadata": {},
   "source": [
    "ML Final Project\n",
    "\n",
    "Spring 2017 - NYU CUSP\n",
    "\n",
    "Notebook reads in datetime converted CitiBike Data by month (e.g. Jan_citi.csv) from 2016 and converts gets the counts and means per month\n",
    "\n",
    "Written in Python 2.7 (Anaconda)"
   ]
  },
  {
   "cell_type": "code",
   "execution_count": 2,
   "metadata": {
    "collapsed": false
   },
   "outputs": [
    {
     "name": "stdout",
     "output_type": "stream",
     "text": [
      "Populating the interactive namespace from numpy and matplotlib\n"
     ]
    },
    {
     "name": "stderr",
     "output_type": "stream",
     "text": [
      "/Users/geoffperrin/anaconda2/lib/python2.7/site-packages/sklearn/cross_validation.py:44: DeprecationWarning: This module was deprecated in version 0.18 in favor of the model_selection module into which all the refactored classes and functions are moved. Also note that the interface of the new CV iterators are different from that of this module. This module will be removed in 0.20.\n",
      "  \"This module will be removed in 0.20.\", DeprecationWarning)\n",
      "WARNING: pylab import has clobbered these variables: ['compress', 'datetime']\n",
      "`%matplotlib` prevents importing * from pylab and numpy\n"
     ]
    }
   ],
   "source": [
    "import numpy as np\n",
    "import pandas as pd\n",
    "import geopandas as gp\n",
    "from geopandas import GeoDataFrame\n",
    "import os\n",
    "import io\n",
    "import subprocess\n",
    "from shapely.geometry import Point\n",
    "from datetime import datetime\n",
    "import matplotlib\n",
    "matplotlib.use('TkAgg')\n",
    "import matplotlib.pyplot as plt\n",
    "from datetime import datetime\n",
    "import matplotlib.pyplot as plt\n",
    "import sklearn\n",
    "from sklearn import datasets\n",
    "from sklearn.decomposition import PCA\n",
    "from sklearn.linear_model import LogisticRegression\n",
    "from sklearn.ensemble import RandomForestClassifier as RFC\n",
    "from sklearn.ensemble import RandomForestRegressor as RFR\n",
    "from sklearn.model_selection import GridSearchCV\n",
    "from sklearn.metrics import roc_auc_score as rs\n",
    "from sklearn import svm, datasets\n",
    "from sklearn import metrics\n",
    "from sklearn.metrics import roc_curve\n",
    "from sklearn.metrics import auc\n",
    "from sklearn.metrics import silhouette_samples, silhouette_score\n",
    "from sklearn.cluster import KMeans\n",
    "from sklearn.mixture import GaussianMixture\n",
    "from sklearn.cross_validation import train_test_split\n",
    "from sklearn.ensemble import IsolationForest\n",
    "from pandas.tseries.holiday import USFederalHolidayCalendar\n",
    "from mpl_toolkits.mplot3d import Axes3D\n",
    "\n",
    "from itertools import compress\n",
    "\n",
    "np.random.seed(222)\n",
    "\n",
    "%matplotlib inline\n",
    "%pylab inline\n",
    "pd.options.display.max_columns = 120\n",
    "pd.options.display.max_rows = 120"
   ]
  },
  {
   "cell_type": "code",
   "execution_count": 3,
   "metadata": {
    "collapsed": true
   },
   "outputs": [],
   "source": [
    "proj_folder = os.getcwd()"
   ]
  },
  {
   "cell_type": "markdown",
   "metadata": {},
   "source": [
    "Check for spurious entires"
   ]
  },
  {
   "cell_type": "markdown",
   "metadata": {},
   "source": [
    "## Remove spurious trip length rationale\n",
    "\n",
    "From website: A $101 security deposit hold will be placed on your card when you purchase a pass. If you incur usage\n",
    "\n",
    "fees, your card will be charged. The fee for a lost or stolen bike is $1200 (+ tax).\n",
    "\n",
    "\n",
    "## Total Loss: \n",
    "\n",
    "Annual pass = 163/year + 101 Security fee + ($ 2.50 * min) = 5616 minutes\n",
    " \n",
    "3 day Pass = 24 + 101 Security fee + ($ 2.50 * 15min) = 4031.25\n",
    "\n",
    "Day Pass = 12 + 101 Security fee + ($4 * 15min) = 4076.25\n",
    "\n",
    "Ride = 4 + 101 Security fee + ($4 * 15min) = 4106.25 \n",
    "\n",
    "So remove anything longer than 5616 minutes, the maximum time before Total Loss and keep trip long than 1 minute"
   ]
  },
  {
   "cell_type": "code",
   "execution_count": 27,
   "metadata": {
    "collapsed": true
   },
   "outputs": [],
   "source": [
    "\n",
    "def citi_agg_stat_day(label):\n",
    "    '''This function is supposed to: Further clean citi bike data, Group by day, \n",
    "    get daily count and mean and then export the files to prepare for a large merge'''\n",
    "    #Import the csv\n",
    "    getfile = \"data/\" + label + \".csv\"\n",
    "    citi_agg = pd.read_csv(getfile)\n",
    "    #Drop column\n",
    "    #citi_agg.drop('Unnamed: 0', axis=1, inplace=True)\n",
    "    #change seconds to minutes\n",
    "    citi_agg['tripduration'] = citi_agg['tripduration'].apply(lambda x: x / 60)\n",
    "    #Remove spurious trips\n",
    "    citi_agg = citi_agg[(citi_agg.tripduration > 1) & (citi_agg.tripduration < 5616)]\n",
    "    #DatTime again??\n",
    "    citi_agg['starttime'] = pd.to_datetime(citi_agg['starttime'])\n",
    "    citi_agg['stoptime'] = pd.to_datetime(citi_agg['stoptime'])\n",
    "    #Count Trips per day \n",
    "    citi_agg['bike_date'] = citi_agg['starttime'].dt.date\n",
    "    citi_day_count = citi_agg.groupby(['bike_date'], as_index=False)['tripduration'].count()\n",
    "    citi_day_count.columns = ['bike_date', 'bike_trip_count']\n",
    "    \n",
    "    #take the mean of the taxi stats each day\n",
    "    citi_stat_agg = citi_agg.groupby(['bike_date'], as_index=False).mean()\n",
    "    \n",
    "    #Merge the seperate DataFrames \n",
    "    citi_df_by_day = citi_stat_agg.merge(citi_day_count, on='bike_date')\n",
    "    \n",
    "    #Get the weekday\n",
    "    citi_df_by_day['weekday'] = 0\n",
    "    for i in range(len(citi_df_by_day)):\n",
    "        citi_df_by_day['weekday'].iloc[i] = citi_df_by_day.bike_date.iloc[i].weekday()\n",
    "        \n",
    "    #Export to csv\n",
    "    output = \"data/\" + label + \"_df_by_day.csv\"\n",
    "    citi_df_by_day.to_csv(output)\n",
    "    #citi_df_byday_all\n",
    "    return citi_df_by_day "
   ]
  },
  {
   "cell_type": "code",
   "execution_count": 57,
   "metadata": {
    "collapsed": false
   },
   "outputs": [],
   "source": [
    "def citi_daystation_count(label):\n",
    "    '''This function is supposed to: Further clean citi bike data, do some grouping\n",
    "    and calculations and then export the files to prepare for a large merge'''\n",
    "    #Import the csv\n",
    "    getfile1 = \"data/\" + label + \".csv\"\n",
    "    citi_agg1 = pd.read_csv(getfile1)\n",
    "    #Drop column\n",
    "    #citi_agg1.drop('Unnamed: 0', axis=1, inplace=True)\n",
    "    #change seconds to minutes\n",
    "    citi_agg1['tripduration'] = citi_agg1['tripduration'].apply(lambda x: x / 60)\n",
    "    #Remove spurious trips\n",
    "    citi_agg1 = citi_agg1[(citi_agg1.tripduration > 1) & (citi_agg1.tripduration < 5616)]\n",
    "    #DatTime again??\n",
    "    citi_agg1['starttime'] = pd.to_datetime(citi_agg1['starttime'])\n",
    "    citi_agg1['stoptime'] = pd.to_datetime(citi_agg1['stoptime'])\n",
    "    #citi_agg['day_number'] = label.starttime.apply(lambda x: x.hour)\n",
    "    citi_agg1['bike_date'] = citi_agg1['starttime'].dt.date\n",
    "    \n",
    "    \n",
    "    #Count Trips per day \n",
    "    citi_agg1['bike_date'] = citi_agg1['starttime'].dt.date\n",
    "    citi_day_count1 = citi_agg1.groupby(['bike_date', \"start station id\"], as_index=False)['tripduration'].count()\n",
    "    citi_day_count1.columns = ['bike_date', \"start station id\",'bike_trip_count']\n",
    "    return citi_day_count1 "
   ]
  },
  {
   "cell_type": "markdown",
   "metadata": {},
   "source": [
    "## Aggregate by day and Export"
   ]
  },
  {
   "cell_type": "code",
   "execution_count": 46,
   "metadata": {
    "collapsed": false
   },
   "outputs": [],
   "source": [
    "columns =['bike_date', 'tripduration', 'start station id', 'start station latitude', 'start station longitude', \\\n",
    "          'end station id', 'end station latitude','end station longitude', 'bikeid', 'birth year', \\\n",
    "          'gender', 'start_hour', 'end_hour','bike_trip_count', 'weekday']"
   ]
  },
  {
   "cell_type": "code",
   "execution_count": 47,
   "metadata": {
    "collapsed": true
   },
   "outputs": [],
   "source": [
    "months = [\"Jan_citi\", \"Feb_citi\", \"Mar_citi\", \"Apr_citi\", \"May_citi\", \"Jun_citi\", \"Jul_citi\", \"Aug_citi\", \\\n",
    "          \"Sep_citi\", \"Oct_citi\", \"Nov_citi\", \"Dec_citi\"]"
   ]
  },
  {
   "cell_type": "code",
   "execution_count": 48,
   "metadata": {
    "collapsed": true
   },
   "outputs": [],
   "source": [
    "months2 = [\"citibike_201501\", \"citibike_201502\", \"citibike_201503\", \"citibike_201504\", \"citibike_201505\", \\\n",
    "          \"citibike_201506\", \"citibike_201507\", \"citibike_201508\", \"citibike_201509\", \"citibike_201510\", \\\n",
    "          \"citibike_201511\", \"citibike_201512\"]"
   ]
  },
  {
   "cell_type": "code",
   "execution_count": 49,
   "metadata": {
    "collapsed": false
   },
   "outputs": [],
   "source": [
    "#Create Empty dataframe\n",
    "#citi_df_all_day = pd.read_csv(io.StringIO(None), names=columns, dtype=dict(zip(columns,[object, float, float, float, float, float, float, float, float, float, float, float, float, int, int])))"
   ]
  },
  {
   "cell_type": "code",
   "execution_count": 50,
   "metadata": {
    "collapsed": false
   },
   "outputs": [],
   "source": [
    "# Create the files in bulk\n",
    "# By day with count and mean\n",
    "for i in (months2):\n",
    "    #x = citi_agg_stat_day(str(i))\n",
    "    #citi_df_all_day = citi_df_all_day.append(x, ignore_index = True)\n",
    "        "
   ]
  },
  {
   "cell_type": "code",
   "execution_count": 51,
   "metadata": {
    "collapsed": false
   },
   "outputs": [],
   "source": [
    "#citi_df_all_day.to_csv('data/citi_df_all_day.csv')"
   ]
  },
  {
   "cell_type": "code",
   "execution_count": 1,
   "metadata": {
    "collapsed": false
   },
   "outputs": [
    {
     "ename": "NameError",
     "evalue": "name 'citi_df_all_day' is not defined",
     "output_type": "error",
     "traceback": [
      "\u001b[0;31m---------------------------------------------------------------------------\u001b[0m",
      "\u001b[0;31mNameError\u001b[0m                                 Traceback (most recent call last)",
      "\u001b[0;32m<ipython-input-1-681884cff550>\u001b[0m in \u001b[0;36m<module>\u001b[0;34m()\u001b[0m\n\u001b[0;32m----> 1\u001b[0;31m \u001b[0mciti_df_all_day\u001b[0m\u001b[0;34m.\u001b[0m\u001b[0mhead\u001b[0m\u001b[0;34m(\u001b[0m\u001b[0;34m)\u001b[0m\u001b[0;34m\u001b[0m\u001b[0m\n\u001b[0m",
      "\u001b[0;31mNameError\u001b[0m: name 'citi_df_all_day' is not defined"
     ]
    }
   ],
   "source": [
    "#citi_df_all_day.head()"
   ]
  },
  {
   "cell_type": "code",
   "execution_count": 4,
   "metadata": {
    "collapsed": true
   },
   "outputs": [],
   "source": [
    "citi_df_all_day = pd.read_csv('data/citi_df_all_day.csv')"
   ]
  },
  {
   "cell_type": "markdown",
   "metadata": {},
   "source": [
    "## Grouping by station and time of day"
   ]
  },
  {
   "cell_type": "code",
   "execution_count": 53,
   "metadata": {
    "collapsed": true
   },
   "outputs": [],
   "source": [
    "months = [\"Jan_citi\", \"Feb_citi\", \"Mar_citi\", \"Apr_citi\", \"May_citi\", \"Jun_citi\", \"Jul_citi\", \"Aug_citi\", \\\n",
    "          \"Sep_citi\", \"Oct_citi\", \"Nov_citi\", \"Dec_citi\"]"
   ]
  },
  {
   "cell_type": "code",
   "execution_count": 54,
   "metadata": {
    "collapsed": true
   },
   "outputs": [],
   "source": [
    "columns2 =['bike_date', 'start station id', 'bike_trip_count', 'birth year', \\\n",
    "          'gender', 'start_hour', 'end_hour', 'weekday']"
   ]
  },
  {
   "cell_type": "code",
   "execution_count": 55,
   "metadata": {
    "collapsed": true
   },
   "outputs": [],
   "source": [
    "#citi_day_by_station = pd.read_csv(io.StringIO(None), names=columns2, dtype=dict(zip(columns,[object, int, int])))"
   ]
  },
  {
   "cell_type": "code",
   "execution_count": 58,
   "metadata": {
    "collapsed": false
   },
   "outputs": [],
   "source": [
    "#Get Station count grouped by day\n",
    "for i in (months2):\n",
    "    #y = citi_daystation_count(str(i))\n",
    "    #citi_day_by_station = citi_day_by_station.append(y, ignore_index = True)"
   ]
  },
  {
   "cell_type": "code",
   "execution_count": 59,
   "metadata": {
    "collapsed": true
   },
   "outputs": [],
   "source": [
    "#citi_day_by_station.to_csv('data/citi_day_by_station.csv')"
   ]
  },
  {
   "cell_type": "markdown",
   "metadata": {},
   "source": [
    "### Add holiday / day of week / weekend features"
   ]
  },
  {
   "cell_type": "code",
   "execution_count": 10,
   "metadata": {
    "collapsed": false
   },
   "outputs": [
    {
     "data": {
      "text/plain": [
       "2012-01-02                 New Years Day\n",
       "2012-01-16    Dr. Martin Luther King Jr.\n",
       "2012-02-20                Presidents Day\n",
       "2012-05-28                   MemorialDay\n",
       "2012-07-04                      July 4th\n",
       "Name: name, dtype: object"
      ]
     },
     "execution_count": 10,
     "metadata": {},
     "output_type": "execute_result"
    }
   ],
   "source": [
    "cal = USFederalHolidayCalendar()\n",
    "holidays = cal.holidays('2012', '2016', return_name=True)\n",
    "holidays.name = 'name'\n",
    "holidays.head()"
   ]
  },
  {
   "cell_type": "code",
   "execution_count": 11,
   "metadata": {
    "collapsed": true
   },
   "outputs": [],
   "source": [
    "holidays_all = pd.concat([holidays,\n",
    "                         \"Day Before \" + holidays.shift(-1, 'D'),\n",
    "                         \"Day After \" + holidays.shift(1, 'D')])\n",
    "holidays_all = holidays_all.sort_index()"
   ]
  },
  {
   "cell_type": "code",
   "execution_count": 12,
   "metadata": {
    "collapsed": true
   },
   "outputs": [],
   "source": [
    "citi_df_all_day['bike_date'] = pd.to_datetime(citi_df_all_day['bike_date'])"
   ]
  },
  {
   "cell_type": "code",
   "execution_count": 13,
   "metadata": {
    "collapsed": false
   },
   "outputs": [
    {
     "name": "stderr",
     "output_type": "stream",
     "text": [
      "/Users/geoffperrin/anaconda2/lib/python2.7/site-packages/ipykernel/__main__.py:3: SettingWithCopyWarning: \n",
      "A value is trying to be set on a copy of a slice from a DataFrame\n",
      "\n",
      "See the caveats in the documentation: http://pandas.pydata.org/pandas-docs/stable/indexing.html#indexing-view-versus-copy\n",
      "  app.launch_new_instance()\n"
     ]
    }
   ],
   "source": [
    "#add holiday dummy variable\n",
    "citi_df_all_day['holiday'] = 0\n",
    "citi_df_all_day['holiday'][citi_df_all_day['bike_date'].isin(holidays_all.index.date)] = 1"
   ]
  },
  {
   "cell_type": "code",
   "execution_count": 14,
   "metadata": {
    "collapsed": false
   },
   "outputs": [
    {
     "data": {
      "text/html": [
       "<div>\n",
       "<table border=\"1\" class=\"dataframe\">\n",
       "  <thead>\n",
       "    <tr style=\"text-align: right;\">\n",
       "      <th></th>\n",
       "      <th>Unnamed: 0</th>\n",
       "      <th>bike_date</th>\n",
       "      <th>bike_trip_count</th>\n",
       "      <th>bikeid</th>\n",
       "      <th>birth year</th>\n",
       "      <th>end station id</th>\n",
       "      <th>end station latitude</th>\n",
       "      <th>end station longitude</th>\n",
       "      <th>end_hour</th>\n",
       "      <th>gender</th>\n",
       "      <th>start station id</th>\n",
       "      <th>start station latitude</th>\n",
       "      <th>start station longitude</th>\n",
       "      <th>start_hour</th>\n",
       "      <th>tripduration</th>\n",
       "      <th>weekday</th>\n",
       "      <th>holiday</th>\n",
       "    </tr>\n",
       "  </thead>\n",
       "  <tbody>\n",
       "    <tr>\n",
       "      <th>0</th>\n",
       "      <td>0</td>\n",
       "      <td>2015-01-01</td>\n",
       "      <td>5232</td>\n",
       "      <td>18228.704320</td>\n",
       "      <td>1975.853424</td>\n",
       "      <td>436.648318</td>\n",
       "      <td>40.731650</td>\n",
       "      <td>-73.990431</td>\n",
       "      <td>NaN</td>\n",
       "      <td>1.074924</td>\n",
       "      <td>444.357989</td>\n",
       "      <td>40.731981</td>\n",
       "      <td>-73.990203</td>\n",
       "      <td>NaN</td>\n",
       "      <td>13.061735</td>\n",
       "      <td>3</td>\n",
       "      <td>1</td>\n",
       "    </tr>\n",
       "    <tr>\n",
       "      <th>1</th>\n",
       "      <td>1</td>\n",
       "      <td>2015-01-02</td>\n",
       "      <td>11183</td>\n",
       "      <td>18115.172494</td>\n",
       "      <td>1974.899753</td>\n",
       "      <td>448.722346</td>\n",
       "      <td>40.735134</td>\n",
       "      <td>-73.990541</td>\n",
       "      <td>NaN</td>\n",
       "      <td>1.135116</td>\n",
       "      <td>457.012698</td>\n",
       "      <td>40.735489</td>\n",
       "      <td>-73.990242</td>\n",
       "      <td>NaN</td>\n",
       "      <td>11.813467</td>\n",
       "      <td>4</td>\n",
       "      <td>1</td>\n",
       "    </tr>\n",
       "    <tr>\n",
       "      <th>2</th>\n",
       "      <td>2</td>\n",
       "      <td>2015-01-03</td>\n",
       "      <td>4419</td>\n",
       "      <td>18138.598099</td>\n",
       "      <td>1975.253756</td>\n",
       "      <td>437.654673</td>\n",
       "      <td>40.732972</td>\n",
       "      <td>-73.991073</td>\n",
       "      <td>NaN</td>\n",
       "      <td>1.181036</td>\n",
       "      <td>440.649468</td>\n",
       "      <td>40.732796</td>\n",
       "      <td>-73.990320</td>\n",
       "      <td>NaN</td>\n",
       "      <td>10.559855</td>\n",
       "      <td>5</td>\n",
       "      <td>0</td>\n",
       "    </tr>\n",
       "    <tr>\n",
       "      <th>3</th>\n",
       "      <td>3</td>\n",
       "      <td>2015-01-04</td>\n",
       "      <td>7767</td>\n",
       "      <td>18143.683662</td>\n",
       "      <td>1976.204934</td>\n",
       "      <td>433.743788</td>\n",
       "      <td>40.732547</td>\n",
       "      <td>-73.991111</td>\n",
       "      <td>NaN</td>\n",
       "      <td>1.169821</td>\n",
       "      <td>441.868933</td>\n",
       "      <td>40.732899</td>\n",
       "      <td>-73.991071</td>\n",
       "      <td>NaN</td>\n",
       "      <td>10.936526</td>\n",
       "      <td>6</td>\n",
       "      <td>0</td>\n",
       "    </tr>\n",
       "    <tr>\n",
       "      <th>4</th>\n",
       "      <td>4</td>\n",
       "      <td>2015-01-05</td>\n",
       "      <td>14332</td>\n",
       "      <td>18162.715392</td>\n",
       "      <td>1974.299468</td>\n",
       "      <td>444.383338</td>\n",
       "      <td>40.736732</td>\n",
       "      <td>-73.990462</td>\n",
       "      <td>NaN</td>\n",
       "      <td>1.153921</td>\n",
       "      <td>443.429249</td>\n",
       "      <td>40.736996</td>\n",
       "      <td>-73.990238</td>\n",
       "      <td>NaN</td>\n",
       "      <td>10.245255</td>\n",
       "      <td>0</td>\n",
       "      <td>0</td>\n",
       "    </tr>\n",
       "  </tbody>\n",
       "</table>\n",
       "</div>"
      ],
      "text/plain": [
       "   Unnamed: 0  bike_date  bike_trip_count        bikeid   birth year  \\\n",
       "0           0 2015-01-01             5232  18228.704320  1975.853424   \n",
       "1           1 2015-01-02            11183  18115.172494  1974.899753   \n",
       "2           2 2015-01-03             4419  18138.598099  1975.253756   \n",
       "3           3 2015-01-04             7767  18143.683662  1976.204934   \n",
       "4           4 2015-01-05            14332  18162.715392  1974.299468   \n",
       "\n",
       "   end station id  end station latitude  end station longitude  end_hour  \\\n",
       "0      436.648318             40.731650             -73.990431       NaN   \n",
       "1      448.722346             40.735134             -73.990541       NaN   \n",
       "2      437.654673             40.732972             -73.991073       NaN   \n",
       "3      433.743788             40.732547             -73.991111       NaN   \n",
       "4      444.383338             40.736732             -73.990462       NaN   \n",
       "\n",
       "     gender  start station id  start station latitude  \\\n",
       "0  1.074924        444.357989               40.731981   \n",
       "1  1.135116        457.012698               40.735489   \n",
       "2  1.181036        440.649468               40.732796   \n",
       "3  1.169821        441.868933               40.732899   \n",
       "4  1.153921        443.429249               40.736996   \n",
       "\n",
       "   start station longitude  start_hour  tripduration  weekday  holiday  \n",
       "0               -73.990203         NaN     13.061735        3        1  \n",
       "1               -73.990242         NaN     11.813467        4        1  \n",
       "2               -73.990320         NaN     10.559855        5        0  \n",
       "3               -73.991071         NaN     10.936526        6        0  \n",
       "4               -73.990238         NaN     10.245255        0        0  "
      ]
     },
     "execution_count": 14,
     "metadata": {},
     "output_type": "execute_result"
    }
   ],
   "source": [
    "citi_df_all_day.head()"
   ]
  },
  {
   "cell_type": "code",
   "execution_count": 15,
   "metadata": {
    "collapsed": false
   },
   "outputs": [],
   "source": [
    "citi_df_all_day['day_of_week'] = citi_df_all_day.bike_date.apply(lambda x: x.weekday())"
   ]
  },
  {
   "cell_type": "code",
   "execution_count": 17,
   "metadata": {
    "collapsed": false
   },
   "outputs": [
    {
     "name": "stderr",
     "output_type": "stream",
     "text": [
      "/Users/geoffperrin/anaconda2/lib/python2.7/site-packages/ipykernel/__main__.py:3: SettingWithCopyWarning: \n",
      "A value is trying to be set on a copy of a slice from a DataFrame\n",
      "\n",
      "See the caveats in the documentation: http://pandas.pydata.org/pandas-docs/stable/indexing.html#indexing-view-versus-copy\n",
      "  app.launch_new_instance()\n"
     ]
    }
   ],
   "source": [
    "#control for Friday / Saturday nights\n",
    "citi_df_all_day['weekend'] = 0\n",
    "citi_df_all_day['weekend'][(citi_df_all_day['day_of_week'] == 4) | (citi_df_all_day['day_of_week'] == 5)] = 1"
   ]
  },
  {
   "cell_type": "code",
   "execution_count": null,
   "metadata": {
    "collapsed": true
   },
   "outputs": [],
   "source": []
  },
  {
   "cell_type": "markdown",
   "metadata": {},
   "source": [
    "## Clustering Anomaly Detection"
   ]
  },
  {
   "cell_type": "markdown",
   "metadata": {},
   "source": [
    "### K-means Anomaly Detection"
   ]
  },
  {
   "cell_type": "code",
   "execution_count": 35,
   "metadata": {
    "collapsed": true
   },
   "outputs": [],
   "source": [
    "cluster_features = ['bike_trip_count', 'tripduration', 'holiday', 'weekend']"
   ]
  },
  {
   "cell_type": "code",
   "execution_count": 36,
   "metadata": {
    "collapsed": false
   },
   "outputs": [
    {
     "data": {
      "text/html": [
       "<div>\n",
       "<table border=\"1\" class=\"dataframe\">\n",
       "  <thead>\n",
       "    <tr style=\"text-align: right;\">\n",
       "      <th></th>\n",
       "      <th>bike_trip_count</th>\n",
       "      <th>tripduration</th>\n",
       "      <th>holiday</th>\n",
       "      <th>weekend</th>\n",
       "    </tr>\n",
       "  </thead>\n",
       "  <tbody>\n",
       "    <tr>\n",
       "      <th>1</th>\n",
       "      <td>11183</td>\n",
       "      <td>11.813467</td>\n",
       "      <td>1</td>\n",
       "      <td>1</td>\n",
       "    </tr>\n",
       "    <tr>\n",
       "      <th>285</th>\n",
       "      <td>48581</td>\n",
       "      <td>15.807908</td>\n",
       "      <td>1</td>\n",
       "      <td>0</td>\n",
       "    </tr>\n",
       "  </tbody>\n",
       "</table>\n",
       "</div>"
      ],
      "text/plain": [
       "     bike_trip_count  tripduration  holiday  weekend\n",
       "1              11183     11.813467        1        1\n",
       "285            48581     15.807908        1        0"
      ]
     },
     "execution_count": 36,
     "metadata": {},
     "output_type": "execute_result"
    }
   ],
   "source": [
    "X = citi_df_all_day[cluster_features]\n",
    "X.head(2)"
   ]
  },
  {
   "cell_type": "code",
   "execution_count": 37,
   "metadata": {
    "collapsed": false
   },
   "outputs": [
    {
     "name": "stderr",
     "output_type": "stream",
     "text": [
      "/Users/geoffperrin/anaconda2/lib/python2.7/site-packages/ipykernel/__main__.py:3: SettingWithCopyWarning: \n",
      "A value is trying to be set on a copy of a slice from a DataFrame.\n",
      "Try using .loc[row_indexer,col_indexer] = value instead\n",
      "\n",
      "See the caveats in the documentation: http://pandas.pydata.org/pandas-docs/stable/indexing.html#indexing-view-versus-copy\n",
      "  app.launch_new_instance()\n"
     ]
    },
    {
     "data": {
      "text/html": [
       "<div>\n",
       "<table border=\"1\" class=\"dataframe\">\n",
       "  <thead>\n",
       "    <tr style=\"text-align: right;\">\n",
       "      <th></th>\n",
       "      <th>bike_trip_count</th>\n",
       "      <th>tripduration</th>\n",
       "      <th>holiday</th>\n",
       "      <th>weekend</th>\n",
       "    </tr>\n",
       "  </thead>\n",
       "  <tbody>\n",
       "    <tr>\n",
       "      <th>1</th>\n",
       "      <td>-1.180955</td>\n",
       "      <td>-0.867642</td>\n",
       "      <td>3.337076</td>\n",
       "      <td>1.582005</td>\n",
       "    </tr>\n",
       "    <tr>\n",
       "      <th>285</th>\n",
       "      <td>1.620120</td>\n",
       "      <td>0.433675</td>\n",
       "      <td>3.337076</td>\n",
       "      <td>-0.630377</td>\n",
       "    </tr>\n",
       "    <tr>\n",
       "      <th>358</th>\n",
       "      <td>-1.105681</td>\n",
       "      <td>5.161421</td>\n",
       "      <td>3.337076</td>\n",
       "      <td>1.582005</td>\n",
       "    </tr>\n",
       "    <tr>\n",
       "      <th>359</th>\n",
       "      <td>-0.991760</td>\n",
       "      <td>1.795414</td>\n",
       "      <td>3.337076</td>\n",
       "      <td>1.582005</td>\n",
       "    </tr>\n",
       "    <tr>\n",
       "      <th>183</th>\n",
       "      <td>-0.022341</td>\n",
       "      <td>1.190405</td>\n",
       "      <td>3.337076</td>\n",
       "      <td>1.582005</td>\n",
       "    </tr>\n",
       "  </tbody>\n",
       "</table>\n",
       "</div>"
      ],
      "text/plain": [
       "     bike_trip_count  tripduration   holiday   weekend\n",
       "1          -1.180955     -0.867642  3.337076  1.582005\n",
       "285         1.620120      0.433675  3.337076 -0.630377\n",
       "358        -1.105681      5.161421  3.337076  1.582005\n",
       "359        -0.991760      1.795414  3.337076  1.582005\n",
       "183        -0.022341      1.190405  3.337076  1.582005"
      ]
     },
     "execution_count": 37,
     "metadata": {},
     "output_type": "execute_result"
    }
   ],
   "source": [
    "#normalize columns\n",
    "for i in X.columns:\n",
    "    X[i] = (X[i] - X[i].mean()) / X[i].std()\n",
    "    \n",
    "X.head()"
   ]
  },
  {
   "cell_type": "code",
   "execution_count": 38,
   "metadata": {
    "collapsed": false
   },
   "outputs": [
    {
     "name": "stdout",
     "output_type": "stream",
     "text": [
      "For n_clusters =2, the average silhouette_score is :0.333670988682\n",
      "For n_clusters =3, the average silhouette_score is :0.391073718408\n",
      "For n_clusters =4, the average silhouette_score is :0.475596725822\n",
      "For n_clusters =5, the average silhouette_score is :0.512486044108\n",
      "For n_clusters =6, the average silhouette_score is :0.525734360304\n",
      "For n_clusters =7, the average silhouette_score is :0.530082652181\n",
      "For n_clusters =8, the average silhouette_score is :0.536153797532\n"
     ]
    }
   ],
   "source": [
    "range_n_clusters = [2, 3, 4, 5, 6, 7, 8]\n",
    "for n_clusters in range_n_clusters:\n",
    "    km = KMeans(n_clusters=n_clusters, random_state=324)\n",
    "    cluster_labels = km.fit_predict(X)\n",
    "    silhouette_avg = silhouette_score(X, cluster_labels)\n",
    "    print(\"For n_clusters ={},\".format(n_clusters)+\" the average silhouette_score is :{}\".format(silhouette_avg))"
   ]
  },
  {
   "cell_type": "code",
   "execution_count": 39,
   "metadata": {
    "collapsed": true
   },
   "outputs": [],
   "source": [
    "n=5\n",
    "KM=KMeans(n_clusters=n,random_state=999)\n",
    "scor=KM.fit_predict(X)\n",
    "\n",
    "res=pd.DataFrame(KM.transform(X))\n",
    "res=pd.concat((res,pd.DataFrame(KM.fit_predict(X))),axis=1)\n",
    "res.columns=list(range(n))+[\"cluster\"]\n",
    "res.loc[:,\"score\"]=res.apply(lambda x: x[int(x[\"cluster\"])],axis=1)"
   ]
  },
  {
   "cell_type": "code",
   "execution_count": 40,
   "metadata": {
    "collapsed": true
   },
   "outputs": [],
   "source": [
    "citi_df_all_day['cluster'] = res.cluster\n",
    "citi_df_all_day['km_score'] = res.score\n",
    "citi_df_all_day['outlier'] = 0\n",
    "citi_df_all_day.sort_values(\"km_score\",ascending=False, inplace=True)"
   ]
  },
  {
   "cell_type": "code",
   "execution_count": 41,
   "metadata": {
    "collapsed": false
   },
   "outputs": [
    {
     "data": {
      "text/html": [
       "<div>\n",
       "<table border=\"1\" class=\"dataframe\">\n",
       "  <thead>\n",
       "    <tr style=\"text-align: right;\">\n",
       "      <th></th>\n",
       "      <th>Unnamed: 0</th>\n",
       "      <th>bike_date</th>\n",
       "      <th>bike_trip_count</th>\n",
       "      <th>bikeid</th>\n",
       "      <th>birth year</th>\n",
       "      <th>end station id</th>\n",
       "      <th>end station latitude</th>\n",
       "      <th>end station longitude</th>\n",
       "      <th>end_hour</th>\n",
       "      <th>gender</th>\n",
       "      <th>start station id</th>\n",
       "      <th>start station latitude</th>\n",
       "      <th>start station longitude</th>\n",
       "      <th>start_hour</th>\n",
       "      <th>tripduration</th>\n",
       "      <th>weekday</th>\n",
       "      <th>holiday</th>\n",
       "      <th>day_of_week</th>\n",
       "      <th>weekend</th>\n",
       "      <th>cluster</th>\n",
       "      <th>km_score</th>\n",
       "      <th>outlier</th>\n",
       "      <th>color</th>\n",
       "      <th>decision_function</th>\n",
       "    </tr>\n",
       "  </thead>\n",
       "  <tbody>\n",
       "    <tr>\n",
       "      <th>2</th>\n",
       "      <td>2</td>\n",
       "      <td>2015-01-03</td>\n",
       "      <td>4419</td>\n",
       "      <td>18138.598099</td>\n",
       "      <td>1975.253756</td>\n",
       "      <td>437.654673</td>\n",
       "      <td>40.732972</td>\n",
       "      <td>-73.991073</td>\n",
       "      <td>NaN</td>\n",
       "      <td>1.181036</td>\n",
       "      <td>440.649468</td>\n",
       "      <td>40.732796</td>\n",
       "      <td>-73.990320</td>\n",
       "      <td>NaN</td>\n",
       "      <td>10.559855</td>\n",
       "      <td>5</td>\n",
       "      <td>0</td>\n",
       "      <td>5</td>\n",
       "      <td>1</td>\n",
       "      <td>3</td>\n",
       "      <td>5.019717</td>\n",
       "      <td>0</td>\n",
       "      <td>green</td>\n",
       "      <td>0.067000</td>\n",
       "    </tr>\n",
       "    <tr>\n",
       "      <th>9</th>\n",
       "      <td>9</td>\n",
       "      <td>2015-01-10</td>\n",
       "      <td>6026</td>\n",
       "      <td>18104.419349</td>\n",
       "      <td>1975.956814</td>\n",
       "      <td>422.244109</td>\n",
       "      <td>40.733555</td>\n",
       "      <td>-73.990882</td>\n",
       "      <td>NaN</td>\n",
       "      <td>1.196316</td>\n",
       "      <td>428.766014</td>\n",
       "      <td>40.733777</td>\n",
       "      <td>-73.990681</td>\n",
       "      <td>NaN</td>\n",
       "      <td>9.551112</td>\n",
       "      <td>5</td>\n",
       "      <td>0</td>\n",
       "      <td>5</td>\n",
       "      <td>1</td>\n",
       "      <td>3</td>\n",
       "      <td>2.784692</td>\n",
       "      <td>0</td>\n",
       "      <td>green</td>\n",
       "      <td>0.086787</td>\n",
       "    </tr>\n",
       "    <tr>\n",
       "      <th>11</th>\n",
       "      <td>11</td>\n",
       "      <td>2015-01-12</td>\n",
       "      <td>8534</td>\n",
       "      <td>18084.089290</td>\n",
       "      <td>1975.292605</td>\n",
       "      <td>435.241739</td>\n",
       "      <td>40.735561</td>\n",
       "      <td>-73.990228</td>\n",
       "      <td>NaN</td>\n",
       "      <td>1.159948</td>\n",
       "      <td>443.319897</td>\n",
       "      <td>40.735901</td>\n",
       "      <td>-73.990038</td>\n",
       "      <td>NaN</td>\n",
       "      <td>10.017225</td>\n",
       "      <td>0</td>\n",
       "      <td>0</td>\n",
       "      <td>0</td>\n",
       "      <td>0</td>\n",
       "      <td>3</td>\n",
       "      <td>2.606726</td>\n",
       "      <td>0</td>\n",
       "      <td>blue</td>\n",
       "      <td>0.071691</td>\n",
       "    </tr>\n",
       "  </tbody>\n",
       "</table>\n",
       "</div>"
      ],
      "text/plain": [
       "    Unnamed: 0  bike_date  bike_trip_count        bikeid   birth year  \\\n",
       "2            2 2015-01-03             4419  18138.598099  1975.253756   \n",
       "9            9 2015-01-10             6026  18104.419349  1975.956814   \n",
       "11          11 2015-01-12             8534  18084.089290  1975.292605   \n",
       "\n",
       "    end station id  end station latitude  end station longitude  end_hour  \\\n",
       "2       437.654673             40.732972             -73.991073       NaN   \n",
       "9       422.244109             40.733555             -73.990882       NaN   \n",
       "11      435.241739             40.735561             -73.990228       NaN   \n",
       "\n",
       "      gender  start station id  start station latitude  \\\n",
       "2   1.181036        440.649468               40.732796   \n",
       "9   1.196316        428.766014               40.733777   \n",
       "11  1.159948        443.319897               40.735901   \n",
       "\n",
       "    start station longitude  start_hour  tripduration  weekday  holiday  \\\n",
       "2                -73.990320         NaN     10.559855        5        0   \n",
       "9                -73.990681         NaN      9.551112        5        0   \n",
       "11               -73.990038         NaN     10.017225        0        0   \n",
       "\n",
       "    day_of_week  weekend  cluster  km_score  outlier  color  decision_function  \n",
       "2             5        1        3  5.019717        0  green           0.067000  \n",
       "9             5        1        3  2.784692        0  green           0.086787  \n",
       "11            0        0        3  2.606726        0   blue           0.071691  "
      ]
     },
     "execution_count": 41,
     "metadata": {},
     "output_type": "execute_result"
    }
   ],
   "source": [
    "citi_df_all_day.head(3)"
   ]
  },
  {
   "cell_type": "code",
   "execution_count": 42,
   "metadata": {
    "collapsed": false
   },
   "outputs": [
    {
     "name": "stderr",
     "output_type": "stream",
     "text": [
      "/Users/geoffperrin/anaconda2/lib/python2.7/site-packages/ipykernel/__main__.py:1: SettingWithCopyWarning: \n",
      "A value is trying to be set on a copy of a slice from a DataFrame\n",
      "\n",
      "See the caveats in the documentation: http://pandas.pydata.org/pandas-docs/stable/indexing.html#indexing-view-versus-copy\n",
      "  if __name__ == '__main__':\n"
     ]
    }
   ],
   "source": [
    "citi_df_all_day['outlier'][:10] = 1 "
   ]
  },
  {
   "cell_type": "code",
   "execution_count": 43,
   "metadata": {
    "collapsed": true
   },
   "outputs": [],
   "source": [
    "def set_color(Data1):\n",
    "    if (Data1.outlier == 1):\n",
    "        return \"red\"\n",
    "    elif (Data1.cluster == 0):\n",
    "        return \"blue\"\n",
    "    elif (Data1.cluster == 1):\n",
    "        return \"cyan\"\n",
    "    else:\n",
    "        return \"green\"\n",
    "\n",
    "citi_df_all_day = citi_df_all_day.assign(color=citi_df_all_day.apply(set_color, axis=1))"
   ]
  },
  {
   "cell_type": "code",
   "execution_count": 44,
   "metadata": {
    "collapsed": false
   },
   "outputs": [
    {
     "data": {
      "image/png": "[encoded data removed]",
      "text/plain": [
       "<matplotlib.figure.Figure at 0x11c68e710>"
      ]
     },
     "metadata": {},
     "output_type": "display_data"
    }
   ],
   "source": [
    "fig = plt.figure(figsize=(12,10))\n",
    "ax = Axes3D(fig)\n",
    "\n",
    "ax.scatter(X.bike_trip_count, X.tripduration, X.weekend, c=citi_df_all_day.color)\n",
    "ax.set_xlabel('Bike Trip Count')\n",
    "ax.set_ylabel('average total amount $')\n",
    "ax.set_zlabel('weekend y / n')\n",
    "# set x ticks and labels\n",
    "ax.set_xticks(range(-5, 5, 1))\n",
    "# change fontsize\n",
    "for t in ax.zaxis.get_major_ticks(): t.label.set_fontsize(10)\n",
    "plt.show()"
   ]
  },
  {
   "cell_type": "markdown",
   "metadata": {},
   "source": [
    "## Isolation Anomaly Detection"
   ]
  },
  {
   "cell_type": "markdown",
   "metadata": {},
   "source": [
    "### Isolation Forest Anomaly Detection"
   ]
  },
  {
   "cell_type": "code",
   "execution_count": 45,
   "metadata": {
    "collapsed": true
   },
   "outputs": [],
   "source": [
    "train,test=train_test_split(X, random_state=999, test_size=0.3)\n",
    "# fit the model\n",
    "clf = IsolationForest(max_samples=100, random_state=999)\n",
    "clf.fit(train)\n",
    "y_pred = clf.predict(X)"
   ]
  },
  {
   "cell_type": "code",
   "execution_count": 46,
   "metadata": {
    "collapsed": true
   },
   "outputs": [],
   "source": [
    "citi_df_all_day['decision_function'] = clf.decision_function(X)"
   ]
  },
  {
   "cell_type": "code",
   "execution_count": 47,
   "metadata": {
    "collapsed": false
   },
   "outputs": [
    {
     "data": {
      "text/html": [
       "<div>\n",
       "<table border=\"1\" class=\"dataframe\">\n",
       "  <thead>\n",
       "    <tr style=\"text-align: right;\">\n",
       "      <th></th>\n",
       "      <th>Unnamed: 0</th>\n",
       "      <th>bike_date</th>\n",
       "      <th>bike_trip_count</th>\n",
       "      <th>bikeid</th>\n",
       "      <th>birth year</th>\n",
       "      <th>end station id</th>\n",
       "      <th>end station latitude</th>\n",
       "      <th>end station longitude</th>\n",
       "      <th>end_hour</th>\n",
       "      <th>gender</th>\n",
       "      <th>start station id</th>\n",
       "      <th>start station latitude</th>\n",
       "      <th>start station longitude</th>\n",
       "      <th>start_hour</th>\n",
       "      <th>tripduration</th>\n",
       "      <th>weekday</th>\n",
       "      <th>holiday</th>\n",
       "      <th>day_of_week</th>\n",
       "      <th>weekend</th>\n",
       "      <th>cluster</th>\n",
       "      <th>km_score</th>\n",
       "      <th>outlier</th>\n",
       "      <th>color</th>\n",
       "      <th>decision_function</th>\n",
       "    </tr>\n",
       "  </thead>\n",
       "  <tbody>\n",
       "    <tr>\n",
       "      <th>11</th>\n",
       "      <td>11</td>\n",
       "      <td>2015-01-12</td>\n",
       "      <td>8534</td>\n",
       "      <td>18084.089290</td>\n",
       "      <td>1975.292605</td>\n",
       "      <td>435.241739</td>\n",
       "      <td>40.735561</td>\n",
       "      <td>-73.990228</td>\n",
       "      <td>NaN</td>\n",
       "      <td>1.159948</td>\n",
       "      <td>443.319897</td>\n",
       "      <td>40.735901</td>\n",
       "      <td>-73.990038</td>\n",
       "      <td>NaN</td>\n",
       "      <td>10.017225</td>\n",
       "      <td>0</td>\n",
       "      <td>0</td>\n",
       "      <td>0</td>\n",
       "      <td>0</td>\n",
       "      <td>3</td>\n",
       "      <td>2.606726</td>\n",
       "      <td>1</td>\n",
       "      <td>red</td>\n",
       "      <td>-0.185941</td>\n",
       "    </tr>\n",
       "    <tr>\n",
       "      <th>183</th>\n",
       "      <td>183</td>\n",
       "      <td>2015-07-03</td>\n",
       "      <td>26652</td>\n",
       "      <td>18381.847028</td>\n",
       "      <td>1976.409121</td>\n",
       "      <td>465.809770</td>\n",
       "      <td>40.732302</td>\n",
       "      <td>-73.992157</td>\n",
       "      <td>NaN</td>\n",
       "      <td>0.870029</td>\n",
       "      <td>465.728426</td>\n",
       "      <td>40.732530</td>\n",
       "      <td>-73.991990</td>\n",
       "      <td>NaN</td>\n",
       "      <td>18.130722</td>\n",
       "      <td>4</td>\n",
       "      <td>1</td>\n",
       "      <td>4</td>\n",
       "      <td>1</td>\n",
       "      <td>2</td>\n",
       "      <td>2.504057</td>\n",
       "      <td>1</td>\n",
       "      <td>red</td>\n",
       "      <td>-0.152207</td>\n",
       "    </tr>\n",
       "    <tr>\n",
       "      <th>14</th>\n",
       "      <td>14</td>\n",
       "      <td>2015-01-15</td>\n",
       "      <td>13903</td>\n",
       "      <td>18072.336115</td>\n",
       "      <td>1974.326896</td>\n",
       "      <td>444.412932</td>\n",
       "      <td>40.736339</td>\n",
       "      <td>-73.990184</td>\n",
       "      <td>NaN</td>\n",
       "      <td>1.164281</td>\n",
       "      <td>448.503704</td>\n",
       "      <td>40.736555</td>\n",
       "      <td>-73.989942</td>\n",
       "      <td>NaN</td>\n",
       "      <td>10.174423</td>\n",
       "      <td>3</td>\n",
       "      <td>0</td>\n",
       "      <td>3</td>\n",
       "      <td>0</td>\n",
       "      <td>3</td>\n",
       "      <td>2.394888</td>\n",
       "      <td>1</td>\n",
       "      <td>red</td>\n",
       "      <td>-0.150545</td>\n",
       "    </tr>\n",
       "    <tr>\n",
       "      <th>40</th>\n",
       "      <td>40</td>\n",
       "      <td>2015-02-10</td>\n",
       "      <td>10246</td>\n",
       "      <td>18198.999707</td>\n",
       "      <td>1975.065879</td>\n",
       "      <td>438.123658</td>\n",
       "      <td>40.736200</td>\n",
       "      <td>-73.990191</td>\n",
       "      <td>NaN</td>\n",
       "      <td>1.156842</td>\n",
       "      <td>439.447785</td>\n",
       "      <td>40.736450</td>\n",
       "      <td>-73.989907</td>\n",
       "      <td>NaN</td>\n",
       "      <td>10.221745</td>\n",
       "      <td>1</td>\n",
       "      <td>0</td>\n",
       "      <td>1</td>\n",
       "      <td>0</td>\n",
       "      <td>2</td>\n",
       "      <td>1.435390</td>\n",
       "      <td>0</td>\n",
       "      <td>green</td>\n",
       "      <td>-0.141207</td>\n",
       "    </tr>\n",
       "    <tr>\n",
       "      <th>2</th>\n",
       "      <td>2</td>\n",
       "      <td>2015-01-03</td>\n",
       "      <td>4419</td>\n",
       "      <td>18138.598099</td>\n",
       "      <td>1975.253756</td>\n",
       "      <td>437.654673</td>\n",
       "      <td>40.732972</td>\n",
       "      <td>-73.991073</td>\n",
       "      <td>NaN</td>\n",
       "      <td>1.181036</td>\n",
       "      <td>440.649468</td>\n",
       "      <td>40.732796</td>\n",
       "      <td>-73.990320</td>\n",
       "      <td>NaN</td>\n",
       "      <td>10.559855</td>\n",
       "      <td>5</td>\n",
       "      <td>0</td>\n",
       "      <td>5</td>\n",
       "      <td>1</td>\n",
       "      <td>3</td>\n",
       "      <td>5.019717</td>\n",
       "      <td>1</td>\n",
       "      <td>red</td>\n",
       "      <td>-0.137148</td>\n",
       "    </tr>\n",
       "    <tr>\n",
       "      <th>3</th>\n",
       "      <td>3</td>\n",
       "      <td>2015-01-04</td>\n",
       "      <td>7767</td>\n",
       "      <td>18143.683662</td>\n",
       "      <td>1976.204934</td>\n",
       "      <td>433.743788</td>\n",
       "      <td>40.732547</td>\n",
       "      <td>-73.991111</td>\n",
       "      <td>NaN</td>\n",
       "      <td>1.169821</td>\n",
       "      <td>441.868933</td>\n",
       "      <td>40.732899</td>\n",
       "      <td>-73.991071</td>\n",
       "      <td>NaN</td>\n",
       "      <td>10.936526</td>\n",
       "      <td>6</td>\n",
       "      <td>0</td>\n",
       "      <td>6</td>\n",
       "      <td>0</td>\n",
       "      <td>3</td>\n",
       "      <td>2.283828</td>\n",
       "      <td>1</td>\n",
       "      <td>red</td>\n",
       "      <td>-0.127137</td>\n",
       "    </tr>\n",
       "    <tr>\n",
       "      <th>1</th>\n",
       "      <td>1</td>\n",
       "      <td>2015-01-02</td>\n",
       "      <td>11183</td>\n",
       "      <td>18115.172494</td>\n",
       "      <td>1974.899753</td>\n",
       "      <td>448.722346</td>\n",
       "      <td>40.735134</td>\n",
       "      <td>-73.990541</td>\n",
       "      <td>NaN</td>\n",
       "      <td>1.135116</td>\n",
       "      <td>457.012698</td>\n",
       "      <td>40.735489</td>\n",
       "      <td>-73.990242</td>\n",
       "      <td>NaN</td>\n",
       "      <td>11.813467</td>\n",
       "      <td>4</td>\n",
       "      <td>1</td>\n",
       "      <td>4</td>\n",
       "      <td>1</td>\n",
       "      <td>3</td>\n",
       "      <td>1.960020</td>\n",
       "      <td>0</td>\n",
       "      <td>green</td>\n",
       "      <td>-0.126954</td>\n",
       "    </tr>\n",
       "    <tr>\n",
       "      <th>5</th>\n",
       "      <td>5</td>\n",
       "      <td>2015-01-06</td>\n",
       "      <td>8651</td>\n",
       "      <td>18083.243787</td>\n",
       "      <td>1974.499768</td>\n",
       "      <td>442.282511</td>\n",
       "      <td>40.737229</td>\n",
       "      <td>-73.989899</td>\n",
       "      <td>NaN</td>\n",
       "      <td>1.154202</td>\n",
       "      <td>447.970292</td>\n",
       "      <td>40.737524</td>\n",
       "      <td>-73.989873</td>\n",
       "      <td>NaN</td>\n",
       "      <td>10.181020</td>\n",
       "      <td>1</td>\n",
       "      <td>0</td>\n",
       "      <td>1</td>\n",
       "      <td>0</td>\n",
       "      <td>3</td>\n",
       "      <td>2.374043</td>\n",
       "      <td>1</td>\n",
       "      <td>red</td>\n",
       "      <td>-0.124881</td>\n",
       "    </tr>\n",
       "    <tr>\n",
       "      <th>0</th>\n",
       "      <td>0</td>\n",
       "      <td>2015-01-01</td>\n",
       "      <td>5232</td>\n",
       "      <td>18228.704320</td>\n",
       "      <td>1975.853424</td>\n",
       "      <td>436.648318</td>\n",
       "      <td>40.731650</td>\n",
       "      <td>-73.990431</td>\n",
       "      <td>NaN</td>\n",
       "      <td>1.074924</td>\n",
       "      <td>444.357989</td>\n",
       "      <td>40.731981</td>\n",
       "      <td>-73.990203</td>\n",
       "      <td>NaN</td>\n",
       "      <td>13.061735</td>\n",
       "      <td>3</td>\n",
       "      <td>1</td>\n",
       "      <td>3</td>\n",
       "      <td>0</td>\n",
       "      <td>3</td>\n",
       "      <td>2.429584</td>\n",
       "      <td>1</td>\n",
       "      <td>red</td>\n",
       "      <td>-0.121398</td>\n",
       "    </tr>\n",
       "    <tr>\n",
       "      <th>185</th>\n",
       "      <td>185</td>\n",
       "      <td>2015-07-05</td>\n",
       "      <td>25657</td>\n",
       "      <td>18546.319445</td>\n",
       "      <td>1977.023377</td>\n",
       "      <td>479.901625</td>\n",
       "      <td>40.732642</td>\n",
       "      <td>-73.991865</td>\n",
       "      <td>NaN</td>\n",
       "      <td>0.806057</td>\n",
       "      <td>476.956425</td>\n",
       "      <td>40.732933</td>\n",
       "      <td>-73.991807</td>\n",
       "      <td>NaN</td>\n",
       "      <td>19.665199</td>\n",
       "      <td>6</td>\n",
       "      <td>0</td>\n",
       "      <td>6</td>\n",
       "      <td>0</td>\n",
       "      <td>2</td>\n",
       "      <td>0.830728</td>\n",
       "      <td>0</td>\n",
       "      <td>green</td>\n",
       "      <td>-0.117780</td>\n",
       "    </tr>\n",
       "  </tbody>\n",
       "</table>\n",
       "</div>"
      ],
      "text/plain": [
       "     Unnamed: 0  bike_date  bike_trip_count        bikeid   birth year  \\\n",
       "11           11 2015-01-12             8534  18084.089290  1975.292605   \n",
       "183         183 2015-07-03            26652  18381.847028  1976.409121   \n",
       "14           14 2015-01-15            13903  18072.336115  1974.326896   \n",
       "40           40 2015-02-10            10246  18198.999707  1975.065879   \n",
       "2             2 2015-01-03             4419  18138.598099  1975.253756   \n",
       "3             3 2015-01-04             7767  18143.683662  1976.204934   \n",
       "1             1 2015-01-02            11183  18115.172494  1974.899753   \n",
       "5             5 2015-01-06             8651  18083.243787  1974.499768   \n",
       "0             0 2015-01-01             5232  18228.704320  1975.853424   \n",
       "185         185 2015-07-05            25657  18546.319445  1977.023377   \n",
       "\n",
       "     end station id  end station latitude  end station longitude  end_hour  \\\n",
       "11       435.241739             40.735561             -73.990228       NaN   \n",
       "183      465.809770             40.732302             -73.992157       NaN   \n",
       "14       444.412932             40.736339             -73.990184       NaN   \n",
       "40       438.123658             40.736200             -73.990191       NaN   \n",
       "2        437.654673             40.732972             -73.991073       NaN   \n",
       "3        433.743788             40.732547             -73.991111       NaN   \n",
       "1        448.722346             40.735134             -73.990541       NaN   \n",
       "5        442.282511             40.737229             -73.989899       NaN   \n",
       "0        436.648318             40.731650             -73.990431       NaN   \n",
       "185      479.901625             40.732642             -73.991865       NaN   \n",
       "\n",
       "       gender  start station id  start station latitude  \\\n",
       "11   1.159948        443.319897               40.735901   \n",
       "183  0.870029        465.728426               40.732530   \n",
       "14   1.164281        448.503704               40.736555   \n",
       "40   1.156842        439.447785               40.736450   \n",
       "2    1.181036        440.649468               40.732796   \n",
       "3    1.169821        441.868933               40.732899   \n",
       "1    1.135116        457.012698               40.735489   \n",
       "5    1.154202        447.970292               40.737524   \n",
       "0    1.074924        444.357989               40.731981   \n",
       "185  0.806057        476.956425               40.732933   \n",
       "\n",
       "     start station longitude  start_hour  tripduration  weekday  holiday  \\\n",
       "11                -73.990038         NaN     10.017225        0        0   \n",
       "183               -73.991990         NaN     18.130722        4        1   \n",
       "14                -73.989942         NaN     10.174423        3        0   \n",
       "40                -73.989907         NaN     10.221745        1        0   \n",
       "2                 -73.990320         NaN     10.559855        5        0   \n",
       "3                 -73.991071         NaN     10.936526        6        0   \n",
       "1                 -73.990242         NaN     11.813467        4        1   \n",
       "5                 -73.989873         NaN     10.181020        1        0   \n",
       "0                 -73.990203         NaN     13.061735        3        1   \n",
       "185               -73.991807         NaN     19.665199        6        0   \n",
       "\n",
       "     day_of_week  weekend  cluster  km_score  outlier  color  \\\n",
       "11             0        0        3  2.606726        1    red   \n",
       "183            4        1        2  2.504057        1    red   \n",
       "14             3        0        3  2.394888        1    red   \n",
       "40             1        0        2  1.435390        0  green   \n",
       "2              5        1        3  5.019717        1    red   \n",
       "3              6        0        3  2.283828        1    red   \n",
       "1              4        1        3  1.960020        0  green   \n",
       "5              1        0        3  2.374043        1    red   \n",
       "0              3        0        3  2.429584        1    red   \n",
       "185            6        0        2  0.830728        0  green   \n",
       "\n",
       "     decision_function  \n",
       "11           -0.185941  \n",
       "183          -0.152207  \n",
       "14           -0.150545  \n",
       "40           -0.141207  \n",
       "2            -0.137148  \n",
       "3            -0.127137  \n",
       "1            -0.126954  \n",
       "5            -0.124881  \n",
       "0            -0.121398  \n",
       "185          -0.117780  "
      ]
     },
     "execution_count": 47,
     "metadata": {},
     "output_type": "execute_result"
    }
   ],
   "source": [
    "citi_df_all_day.sort_values(by='decision_function').head(10)"
   ]
  },
  {
   "cell_type": "markdown",
   "metadata": {},
   "source": [
    "## Look at specific areas and see what times / dates around there are anomalies\n",
    "### Madison Square Gardens (40.750556, -73.993611)"
   ]
  },
  {
   "cell_type": "code",
   "execution_count": null,
   "metadata": {
    "collapsed": true
   },
   "outputs": [],
   "source": [
    "latlon_list = [40.750556, -73.993611]\n",
    "#only keep trips within a reasonable pickup lat / lon (without converting geometries)\n",
    "citi_df_total_subset = citi_day_by_station[(citi_day_by_station.start_station_latitude > (latlon_list[0] - 0.005)) & (citi_day_by_station.start_station_latitude < (latlon_list[0] + 0.005))]\n",
    "citi_df_total_subset = citi_df_total_subset[(citi_df_total_subset.start_station_longitude > (latlon_list[1] - 0.005)) & (citi_df_total_subset.start_station_longitude < (latlon_list[1] + 0.005))]"
   ]
  },
  {
   "cell_type": "code",
   "execution_count": null,
   "metadata": {
    "collapsed": true
   },
   "outputs": [],
   "source": [
    "# convert to geopandas df\n",
    "geometry = [Point(xy) for xy in zip(citi_df_total_subset.start_station_longitude, citi_df_total_subset.start_station_latitude)]"
   ]
  },
  {
   "cell_type": "code",
   "execution_count": null,
   "metadata": {
    "collapsed": true
   },
   "outputs": [],
   "source": [
    "crs = {'init': 'epsg:4326'}\n",
    "citi_df_total_subset = GeoDataFrame(citi_df_total_subset, crs=crs, geometry=geometry)"
   ]
  },
  {
   "cell_type": "code",
   "execution_count": null,
   "metadata": {
    "collapsed": true
   },
   "outputs": [],
   "source": [
    "# create MSG buffer \n",
    "d = {'latitude': latlon_list[0], 'longitude': latlon_list[1]}\n",
    "MSG = pd.DataFrame(data=d, index=[0])\n",
    "geometry_MSG = [Point(xy) for xy in zip(MSG.longitude, MSG.latitude)]\n",
    "crs = {'init': 'epsg:4326'}\n",
    "MSG_gp = GeoDataFrame(crs=crs, geometry=geometry_MSG)"
   ]
  },
  {
   "cell_type": "code",
   "execution_count": null,
   "metadata": {
    "collapsed": true
   },
   "outputs": [],
   "source": [
    "#create buffer\n",
    "MSG_gp['geometry'] = MSG_gp.geometry.buffer(.005)\n",
    "MSG_gp.head()"
   ]
  },
  {
   "cell_type": "code",
   "execution_count": null,
   "metadata": {
    "collapsed": true
   },
   "outputs": [],
   "source": [
    "# only keep points within MSG buffer\n",
    "citi_df_total_subset = citi_df_total_subset[citi_df_total_subset.geometry.intersects(MSG_gp.geometry[0])]"
   ]
  },
  {
   "cell_type": "code",
   "execution_count": null,
   "metadata": {
    "collapsed": true
   },
   "outputs": [],
   "source": [
    "citi_df_total_subset['hour'] = citi_df_total_subset.tpep_pickup_datetime.apply(lambda x: x.hour)"
   ]
  },
  {
   "cell_type": "code",
   "execution_count": null,
   "metadata": {
    "collapsed": true
   },
   "outputs": [],
   "source": [
    "#subset to 3pm - midnight hours (to only capture relevant hours)\n",
    "#tlc_df_total_gp_subset = tlc_df_total_gp_subset[(tlc_df_total_gp_subset.hour >= 15) & (tlc_df_total_gp_subset.hour <= 23)]"
   ]
  },
  {
   "cell_type": "code",
   "execution_count": null,
   "metadata": {
    "collapsed": true
   },
   "outputs": [],
   "source": [
    "#take the mean of the taxi stats each day / hour\n",
    "citi_df_MSG_mean = citi_df_total_subset.groupby(['taxi_date'], as_index=False).mean()\n",
    "citi_df_MSG_mean.head()"
   ]
  },
  {
   "cell_type": "code",
   "execution_count": null,
   "metadata": {
    "collapsed": true
   },
   "outputs": [],
   "source": [
    "citi_df_MSG_mean['day_of_week'] = citi_df_MSG_mean.taxi_date.apply(lambda x: x.weekday())"
   ]
  },
  {
   "cell_type": "code",
   "execution_count": null,
   "metadata": {
    "collapsed": true
   },
   "outputs": [],
   "source": [
    "#control for Friday / Saturday nights\n",
    "citi_df_MSG_mean['weekend'] = 0\n",
    "citi_df_MSG_mean['weekend'][(citi_df_MSG_mean['day_of_week'] == 4) | (citi_df_MSG_mean['day_of_week'] == 5)] = 1"
   ]
  },
  {
   "cell_type": "code",
   "execution_count": null,
   "metadata": {
    "collapsed": true
   },
   "outputs": [],
   "source": [
    "#add holiday dummy variable\n",
    "citi_df_MSG_mean['holiday'] = 0\n",
    "citi_df_MSG_mean['holiday'][citi_df_MSG_mean['taxi_date'].isin(holidays_all.index.date)] = 1"
   ]
  },
  {
   "cell_type": "code",
   "execution_count": null,
   "metadata": {
    "collapsed": true
   },
   "outputs": [],
   "source": [
    "# read in NYC street shapefile\n",
    "'''\n",
    "shapefile taken from https://geo.nyu.edu/catalog/nyu_2451_34565\n",
    "\n",
    "'''\n",
    "ny_streets_raw = gp.read_file(proj_folder + '/data/nyu_2451_34565/nyu_2451_34565.shp')\n",
    "ny_streets_raw = ny_streets_raw.to_crs(epsg=4326)\n",
    "# only keep points within MSG buffer\n",
    "ny_streets = ny_streets_raw[ny_streets_raw.geometry.intersects(MSG_gp.geometry[0])]"
   ]
  },
  {
   "cell_type": "code",
   "execution_count": null,
   "metadata": {
    "collapsed": true
   },
   "outputs": [],
   "source": [
    "# is there a way to easily plot each color differently? I have this color column highlighting outliers!\n",
    "\n",
    "MSG_sample = citi_df_MSG_mean.sample(n=1000)\n",
    "#MSG_sample.lon = MSG_sample.geometry.x\n",
    "#MSG_sample.lat = MSG_sample.geometry.y\n",
    "f, (ax1) = plt.subplots(figsize=(12,8))\n",
    "MSG_sample.plot(alpha=0.5, ax=ax1, color = 'red')\n",
    "ny_streets['geometry'].plot(alpha=1, linewidth=0.25, ax=ax1, color = '0')\n",
    "ax1.set_title(\"Plot of Taxi Pickups, Around MSG\", fontsize=20)\n",
    "plt.xlabel(\"longitude\")\n",
    "plt.ylabel(\"latitude\")"
   ]
  },
  {
   "cell_type": "markdown",
   "metadata": {},
   "source": [
    "## MSG anomaly analysis (isolation forest)"
   ]
  },
  {
   "cell_type": "code",
   "execution_count": null,
   "metadata": {
    "collapsed": true
   },
   "outputs": [],
   "source": [
    "X = tlc_df_total_gp_subset[cluster_features]\n",
    "X.head(2)"
   ]
  },
  {
   "cell_type": "code",
   "execution_count": null,
   "metadata": {
    "collapsed": true
   },
   "outputs": [],
   "source": [
    "#normalize columns\n",
    "for i in X.columns:\n",
    "    X[i] = (X[i] - X[i].mean()) / X[i].std()"
   ]
  },
  {
   "cell_type": "code",
   "execution_count": null,
   "metadata": {
    "collapsed": true
   },
   "outputs": [],
   "source": [
    "train,test=train_test_split(X, random_state=999, test_size=0.3)\n",
    "# fit the model\n",
    "clf = IsolationForest(max_samples=100, random_state=999)\n",
    "clf.fit(train)\n",
    "y_pred = clf.predict(X)"
   ]
  },
  {
   "cell_type": "code",
   "execution_count": null,
   "metadata": {
    "collapsed": true
   },
   "outputs": [],
   "source": [
    "citi_df_total_subset['decision_function'] = clf.decision_function(X)"
   ]
  },
  {
   "cell_type": "code",
   "execution_count": null,
   "metadata": {
    "collapsed": true
   },
   "outputs": [],
   "source": [
    "citi_df_total_subset.sort_values(by='decision_function').head(10)"
   ]
  },
  {
   "cell_type": "markdown",
   "metadata": {},
   "source": [
    "### K-Means Cluster Model Anomaly Detection"
   ]
  },
  {
   "cell_type": "code",
   "execution_count": null,
   "metadata": {
    "collapsed": true
   },
   "outputs": [],
   "source": [
    "range_n_clusters = [2, 3, 4, 5, 6, 7, 8]\n",
    "for n_clusters in range_n_clusters:\n",
    "    km = KMeans(n_clusters=n_clusters, random_state=324)\n",
    "    cluster_labels = km.fit_predict(X)\n",
    "    silhouette_avg = silhouette_score(X, cluster_labels)\n",
    "    print(\"For n_clusters ={},\".format(n_clusters)+\" the average silhouette_score is :{}\".format(silhouette_avg))"
   ]
  },
  {
   "cell_type": "code",
   "execution_count": null,
   "metadata": {
    "collapsed": true
   },
   "outputs": [],
   "source": [
    "n=3\n",
    "KM=KMeans(n_clusters=n,random_state=999)\n",
    "scor=KM.fit_predict(X)\n",
    "\n",
    "res=pd.DataFrame(KM.transform(X))\n",
    "res=pd.concat((res,pd.DataFrame(KM.fit_predict(X))),axis=1)\n",
    "res.columns=list(range(n))+[\"cluster\"]\n",
    "res.loc[:,\"score\"]=res.apply(lambda x: x[int(x[\"cluster\"])],axis=1)"
   ]
  },
  {
   "cell_type": "code",
   "execution_count": null,
   "metadata": {
    "collapsed": true
   },
   "outputs": [],
   "source": [
    "citi_df_total_subset['cluster'] = res.cluster\n",
    "citi_df_total_subset['km_score'] = res.score\n",
    "citi_df_total_subset['outlier'] = 0\n",
    "citi_df_total_subset.sort_values(\"km_score\",ascending=False, inplace=True)"
   ]
  },
  {
   "cell_type": "code",
   "execution_count": null,
   "metadata": {
    "collapsed": true
   },
   "outputs": [],
   "source": [
    "citi_df_total_subset['outlier'][:10] = 1 "
   ]
  },
  {
   "cell_type": "code",
   "execution_count": null,
   "metadata": {
    "collapsed": true
   },
   "outputs": [],
   "source": [
    "def set_color(Data1):\n",
    "    if (Data1.outlier == 1):\n",
    "        return \"red\"\n",
    "    elif (Data1.cluster == 0):\n",
    "        return \"blue\"\n",
    "    elif (Data1.cluster == 1):\n",
    "        return \"cyan\"\n",
    "    else:\n",
    "        return \"green\"\n",
    "\n",
    "citi_df_total_subset = citi_df_total_subset.assign(color=citi_df_total_subset.apply(set_color, axis=1))"
   ]
  },
  {
   "cell_type": "code",
   "execution_count": null,
   "metadata": {
    "collapsed": true
   },
   "outputs": [],
   "source": [
    "fig = plt.figure(figsize=(12,10))\n",
    "ax = Axes3D(fig)\n",
    "\n",
    "ax.scatter(X.taxi_trip_count, X.total_amount, X.weekend, c=citi_df_total_subset.color)\n",
    "ax.set_xlabel('Taxi Trip Count')\n",
    "ax.set_ylabel('average total amount $')\n",
    "ax.set_zlabel('weekend y / n')\n",
    "# set x ticks and labels\n",
    "ax.set_xticks(range(-5, 5, 1))\n",
    "# change fontsize\n",
    "for t in ax.zaxis.get_major_ticks(): t.label.set_fontsize(10)\n",
    "plt.show()"
   ]
  },
  {
   "cell_type": "code",
   "execution_count": null,
   "metadata": {
    "collapsed": true
   },
   "outputs": [],
   "source": []
  }
 ],
 "metadata": {
  "anaconda-cloud": {},
  "kernelspec": {
   "display_name": "Python [Root]",
   "language": "python",
   "name": "Python [Root]"
  },
  "language_info": {
   "codemirror_mode": {
    "name": "ipython",
    "version": 2
   },
   "file_extension": ".py",
   "mimetype": "text/x-python",
   "name": "python",
   "nbconvert_exporter": "python",
   "pygments_lexer": "ipython2",
   "version": "2.7.12"
  }
 },
 "nbformat": 4,
 "nbformat_minor": 1
}
